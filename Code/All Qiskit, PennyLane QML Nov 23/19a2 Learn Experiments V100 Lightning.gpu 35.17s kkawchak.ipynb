{
  "cells": [
    {
      "cell_type": "code",
      "execution_count": 19,
      "metadata": {
        "id": "saZVT5NBpGsV",
        "colab": {
          "base_uri": "https://localhost:8080/",
          "height": 0
        },
        "outputId": "45472146-4257-4c48-c627-b86085093472"
      },
      "outputs": [
        {
          "output_type": "stream",
          "name": "stdout",
          "text": [
            "Time in seconds since beginning of run: 1700502944.3294218\n",
            "Mon Nov 20 17:55:44 2023\n"
          ]
        }
      ],
      "source": [
        "# This cell is added by sphinx-gallery\n",
        "# It can be customized to whatever you like\n",
        "%matplotlib inline\n",
        "# !pip install pennylane pennylane-lightning-gpu custatevec-cu11 --upgrade\n",
        "import time\n",
        "seconds = time.time()\n",
        "print(\"Time in seconds since beginning of run:\", seconds)\n",
        "local_time = time.ctime(seconds)\n",
        "print(local_time)"
      ]
    },
    {
      "cell_type": "markdown",
      "metadata": {
        "id": "IrRdSTiapGsX"
      },
      "source": [
        "Quantum advantage in learning from experiments\n",
        "==============================================\n",
        "\n",
        "::: {.meta}\n",
        ":property=\\\"og:description\\\": Learn how quantum memory can boost quantum\n",
        "machine learning algorithms :property=\\\"og:image\\\":\n",
        "<https://pennylane.ai/qml/_images/learning_from_exp_thumbnail.png>\n",
        ":::\n",
        "\n",
        "*Author: Joseph Bowles --- Posted: 18 April 2022. Last updated: 30 June\n",
        "2022.*\n",
        "\n",
        "This demo is based on the article [Quantum advantage in learning from\n",
        "experiments](https://arxiv.org/abs/2112.00778) [\\[1\\]](#ref1) by\n",
        "Hsin-Yuan Huang and co-authors. The article investigates the following\n",
        "question:\n",
        "\n",
        "*How useful is access to quantum memory for quantum machine learning?*\n",
        "\n",
        "They show that access to quantum memory can make a big difference, and\n",
        "prove that there exist learning problems for which algorithms with\n",
        "quantum memory require *exponentially less resources* than those\n",
        "without. We look at one learning task studied in [\\[1\\]](#ref1) for\n",
        "which this is the case.\n",
        "\n",
        "The learning task\n",
        "-----------------\n",
        "\n",
        "The learning task we focus on involves deciding if a unitary is\n",
        "time-reversal symmetric (we'll call them T-symmetric) or not.\n",
        "Mathematically, time-reversal symmetry in quantum mechanics involves\n",
        "reversing the sense of $i$ so that $i \\rightarrow -i$. Hence, a unitary\n",
        "$U$ is T-symmetric if\n",
        "\n",
        "$$U^*=U.$$\n",
        "\n",
        "Now for the learning task. Let's say we have a bunch of quantum circuits\n",
        "$U_1, \\cdots, U_n$, some of which are T-symmetric and some not, but we\n",
        "are not told which ones are which.\n"
      ]
    },
    {
      "cell_type": "markdown",
      "metadata": {
        "id": "LkLkc0PApGsY"
      },
      "source": [
        "![](../demonstrations/learning_from_experiments/fig1b.png){.align-center\n",
        "width=\"50.0%\"}\n"
      ]
    },
    {
      "cell_type": "markdown",
      "metadata": {
        "id": "5ExBGwcOpGsY"
      },
      "source": [
        "The task is to design an algorithm to determine which of the $U$'s are\n",
        "T-symmetric and which are not, given query access to the unitaries. Note\n",
        "that we do not have any labels here, so this is an unsupervised learning\n",
        "task. To make things concrete, let's consider unitaries acting on 8\n",
        "qubits. We will also limit the number of times we can use each unitary:\n"
      ]
    },
    {
      "cell_type": "code",
      "execution_count": 20,
      "metadata": {
        "id": "lLqfHqpCpGsY"
      },
      "outputs": [],
      "source": [
        "qubits = 8  # the number of qubits on which the unitaries act\n",
        "n_shots = 100  # the number of times we can use each unitary"
      ]
    },
    {
      "cell_type": "markdown",
      "metadata": {
        "id": "QqtOm_d4pGsY"
      },
      "source": [
        "Experiments with and without a quantum memory\n",
        "=============================================\n"
      ]
    },
    {
      "cell_type": "markdown",
      "metadata": {
        "id": "4lhh8844pGsZ"
      },
      "source": [
        "To tackle this task we consider experiments with and without quantum\n",
        "memory. We also assume that we have access to a single physical\n",
        "realization of each unitary; in other words, we do not have multiple\n",
        "copies of the devices that implement $U_i$.\n",
        "\n",
        "An experiment without quantum memory can therefore only make use of a\n",
        "single query to $U_i$ in each circuit, since querying $U_i$ again would\n",
        "require storing the state of the first query in memory and re-using the\n",
        "unitary. In the paper these experiments are called **conventional\n",
        "experiments**.\n",
        "\n",
        "Experiments with quantum memory do not have the limitations of\n",
        "conventional experiments. This means that multiple queries can be made\n",
        "to $U_i$ in a single circuit, which can be realized in practice by using\n",
        "a quantum memory. These experiments are called **quantum-enhanced\n",
        "experiments**.\n",
        "\n",
        "Note that we are not comparing classical and quantum algorithms here,\n",
        "but rather two classes of quantum algorithms.\n"
      ]
    },
    {
      "cell_type": "markdown",
      "metadata": {
        "id": "NQUrpuZmpGsZ"
      },
      "source": [
        "![](../demonstrations/learning_from_experiments/experiments.png){.align-center\n",
        "width=\"60.0%\"}\n"
      ]
    },
    {
      "cell_type": "markdown",
      "metadata": {
        "id": "gVDTZPuLpGsZ"
      },
      "source": [
        "The conventional way\n",
        "====================\n"
      ]
    },
    {
      "cell_type": "markdown",
      "metadata": {
        "id": "H4NZdjTMpGsZ"
      },
      "source": [
        "First, we will try to solve the task with a conventional experiment. Our\n",
        "strategy will be as follows:\n",
        "\n",
        "-   For each $U_i$, we prepare `n_shots` copies of the state\n",
        "    $U_i\\vert0\\rangle$ and measure each state to generate classical\n",
        "    measurement data.\n",
        "-   Use an unsupervised classical machine learning algorithm (kernel\n",
        "    PCA), to try and separate the data into two clusters corresponding\n",
        "    to T-symmetric unitaries vs. the rest.\n",
        "\n",
        "If we succeed in clustering the data then we have successfully managed\n",
        "to discriminate the two classes!\n"
      ]
    },
    {
      "cell_type": "markdown",
      "metadata": {
        "id": "3cBEdL1QpGsa"
      },
      "source": [
        "![](../demonstrations/learning_from_experiments/fig2b.png){.align-center\n",
        "width=\"70.0%\"}\n"
      ]
    },
    {
      "cell_type": "markdown",
      "metadata": {
        "id": "VEg1RDR4pGsa"
      },
      "source": [
        "To generate the measurement data, we will measure the states\n",
        "$U_i\\vert0\\rangle$ in the $y$ basis. The local expectation values take\n",
        "the form\n",
        "\n",
        "$$E_i  = \\langle 0\\vert U^{\\dagger}\\sigma_y^{(i)} U \\vert 0 \\rangle.$$\n",
        "\n",
        "where $\\sigma_y^{(i)}$ acts on the $i^{\\text{th}}$ qubit.\n",
        "\n",
        "Using the fact that $\\sigma_y^*=-\\sigma_y$ and the property $U^*=U$ for\n",
        "T-symmetric unitaries, one finds\n",
        "\n",
        "$$E_i^*=\\langle 0\\vert (U^{\\dagger})^*(\\sigma_y^{(i)})^* (U)^* \\vert 0 \\rangle = - \\langle 0\\vert U^{\\dagger}\\sigma_y^{(i)} U \\vert 0 \\rangle = - E_i.$$\n",
        "\n",
        "Since $E_i$ is a real number, the only solution to this is $E_i=0$,\n",
        "which implies that all local expectations values are 0 for this class.\n",
        "\n",
        "For general unitaries it is not the case that $E_i=0$, and so it seems\n",
        "as though this will allow us to discriminate the two classes of circuits\n",
        "easily. However, for general random unitaries the local expectation\n",
        "values approach zero exponentially with the number of qubits: from\n",
        "finite measurement data it can still be very hard to see any difference!\n",
        "In fact, in the article [exponential separations between learning with\n",
        "and without quantum memory](https://arxiv.org/abs/2111.05881)\n",
        "[\\[2\\]](#ref2) it is proven that using conventional experiments, any\n",
        "successful algorithm *must* use the unitaries an exponential number of\n",
        "times.\n"
      ]
    },
    {
      "cell_type": "markdown",
      "metadata": {
        "id": "VeMMzIc7pGsa"
      },
      "source": [
        "Let's see how this looks in practice. First we define a function to\n",
        "generate random unitaries, making use of Pennylane's\n",
        "[RandomLayers](https://pennylane.readthedocs.io/en/stable/code/api/pennylane.RandomLayers.html)\n",
        "template. For the time-symmetric case we will only allow for Y\n",
        "rotations, since these unitaries contain only real numbers, and\n",
        "therefore result in T-symmetric unitaries. For the other unitaries, we\n",
        "will allow rotations about X,Y, and Z.\n"
      ]
    },
    {
      "cell_type": "code",
      "execution_count": 21,
      "metadata": {
        "id": "IIqOveLhpGsa"
      },
      "outputs": [],
      "source": [
        "import pennylane as qml\n",
        "from pennylane.templates.layers import RandomLayers\n",
        "from pennylane import numpy as np\n",
        "\n",
        "np.random.seed(234087)\n",
        "\n",
        "layers, gates = 10, 10  # the number of layers and gates used in RandomLayers\n",
        "\n",
        "\n",
        "def generate_circuit(shots):\n",
        "    \"\"\"\n",
        "    generate a random circuit that returns a number of measuement samples\n",
        "    given by shots\n",
        "    \"\"\"\n",
        "    dev = qml.device(\"lightning.gpu\", wires=qubits, shots=shots)\n",
        "\n",
        "    @qml.qnode(dev)\n",
        "    def circuit(ts=False):\n",
        "\n",
        "        if ts == True:\n",
        "            ops = [qml.RY]  # time-symmetric unitaries\n",
        "        else:\n",
        "            ops = [qml.RX, qml.RY, qml.RZ]  # general unitaries\n",
        "\n",
        "        weights = np.random.rand(layers, gates) * np.pi\n",
        "        RandomLayers(weights, wires=range(qubits), ratio_imprim=0.0001, rotations=ops, seed=np.random.randint(0, 10000))\n",
        "\n",
        "        return [qml.sample(op=qml.PauliY(q)) for q in range(qubits)]\n",
        "\n",
        "    return circuit"
      ]
    },
    {
      "cell_type": "markdown",
      "metadata": {
        "id": "hjafWs6opGsa"
      },
      "source": [
        "let's check if that worked:\n"
      ]
    },
    {
      "cell_type": "code",
      "execution_count": 22,
      "metadata": {
        "colab": {
          "base_uri": "https://localhost:8080/",
          "height": 0
        },
        "id": "PDxmRpoDpGsa",
        "outputId": "04cf423b-ba91-4beb-b0bb-112972def1b4"
      },
      "outputs": [
        {
          "output_type": "stream",
          "name": "stdout",
          "text": [
            "[[ 1  1  1]\n",
            " [ 1  1  1]\n",
            " [ 1  1  1]\n",
            " [ 1  1  1]\n",
            " [ 1 -1 -1]\n",
            " [ 1 -1 -1]\n",
            " [ 1 -1 -1]\n",
            " [-1  1  1]]\n",
            "\n",
            "\n",
            "[[ 1  1  1]\n",
            " [ 1  1  1]\n",
            " [ 1  1  1]\n",
            " [ 1  1  1]\n",
            " [ 1  1  1]\n",
            " [ 1  1  1]\n",
            " [ 1 -1  1]\n",
            " [ 1 -1 -1]]\n"
          ]
        }
      ],
      "source": [
        "# the measurement outcomes for the first 3 shots\n",
        "circuit = generate_circuit(n_shots)\n",
        "print(np.array(circuit(ts=True))[:, 0:3])\n",
        "print(\"\\n\")\n",
        "print(np.array(circuit(ts=False))[:, 0:3])"
      ]
    },
    {
      "cell_type": "markdown",
      "metadata": {
        "id": "fqoyiIk3pGsb"
      },
      "source": [
        "Now we can generate some data. The first 30 circuits in the data set are\n",
        "T-symmetric and the second 30 circuits are not. Since we are in an\n",
        "unsupervised setting, the algorithm will not know this information.\n"
      ]
    },
    {
      "cell_type": "code",
      "execution_count": 23,
      "metadata": {
        "id": "m8naW3HRpGsb"
      },
      "outputs": [],
      "source": [
        "circuits = 30  # the number of circuits in each data set\n",
        "\n",
        "raw_data = []\n",
        "\n",
        "for ts in [True, False]:\n",
        "    for __ in range(circuits):\n",
        "        circuit = generate_circuit(n_shots)\n",
        "        raw_data.append(circuit(ts=ts))"
      ]
    },
    {
      "cell_type": "markdown",
      "metadata": {
        "id": "XJIyrRYMpGsb"
      },
      "source": [
        "Before feeding the data to a clustering algorithm, we will process it a\n",
        "little. For each circuit, we calculate the mean and the variance of each\n",
        "output bit and store this in a vector of size `2*qubits`. These vectors\n",
        "make up our classical data set.\n"
      ]
    },
    {
      "cell_type": "code",
      "execution_count": 24,
      "metadata": {
        "id": "_tpgsRE_pGsb"
      },
      "outputs": [],
      "source": [
        "def process_data(raw_data):\n",
        "    \"convert raw data to vectors of means and variances of each qubit\"\n",
        "\n",
        "    raw_data = np.array(raw_data)\n",
        "    nc = len(raw_data)  # the number of circuits used to generate the data\n",
        "    nq = len(raw_data[0])  # the number of qubits in each circuit\n",
        "    new_data = np.zeros([nc, 2 * nq])\n",
        "\n",
        "    for k, outcomes in enumerate(raw_data):\n",
        "        means = [np.mean(outcomes[q, :]) for q in range(nq)]\n",
        "        variances = [np.var(outcomes[q, :]) for q in range(nq)]\n",
        "        new_data[k] = np.array(means + variances)\n",
        "\n",
        "    return new_data\n",
        "\n",
        "\n",
        "data = process_data(raw_data)"
      ]
    },
    {
      "cell_type": "markdown",
      "metadata": {
        "id": "GWRIxXZcpGsb"
      },
      "source": [
        "Now we use scikit-learn's [kernel\n",
        "PCA](https://en.wikipedia.org/wiki/Kernel_principal_component_analysis)\n",
        "package to try and cluster the data. This performs principal component\n",
        "analysis in a high dimensional feature space defined by a kernel (below\n",
        "we use the radial basis function kernel).\n"
      ]
    },
    {
      "cell_type": "code",
      "execution_count": 25,
      "metadata": {
        "id": "3r7XYPtspGsb"
      },
      "outputs": [],
      "source": [
        "from sklearn.decomposition import KernelPCA\n",
        "from sklearn import preprocessing\n",
        "\n",
        "kernel_pca = KernelPCA(\n",
        "    n_components=None, kernel=\"rbf\", gamma=None, fit_inverse_transform=True, alpha=0.1\n",
        ")\n",
        "\n",
        "# rescale the data so it has unit standard deviation and zero mean.\n",
        "scaler = preprocessing.StandardScaler().fit(data)\n",
        "data = scaler.transform(data)\n",
        "# try to cluster the data\n",
        "fit = kernel_pca.fit(data).transform(data)"
      ]
    },
    {
      "cell_type": "markdown",
      "metadata": {
        "id": "Ebvo16Y5pGsb"
      },
      "source": [
        "Let's plot the result. Here we look at the first two principal\n",
        "components.\n"
      ]
    },
    {
      "cell_type": "code",
      "execution_count": 26,
      "metadata": {
        "colab": {
          "base_uri": "https://localhost:8080/",
          "height": 430
        },
        "id": "MVbFwU-LpGsc",
        "outputId": "60e4f0e0-34d6-46e5-bf60-6867d7de593b"
      },
      "outputs": [
        {
          "output_type": "display_data",
          "data": {
            "text/plain": [
              "<Figure size 640x480 with 1 Axes>"
            ],
            "image/png": "[encoded data removed]"
          },
          "metadata": {}
        }
      ],
      "source": [
        "import matplotlib.pyplot as plt\n",
        "\n",
        "# make a colour map for the points\n",
        "c = np.array([0 for __ in range(circuits)] + [1 for __ in range(circuits)])\n",
        "\n",
        "plt.scatter(fit[:, 0], fit[:, 1], c=c)\n",
        "plt.show()"
      ]
    },
    {
      "cell_type": "markdown",
      "metadata": {
        "id": "SlrsWm7ZpGsc"
      },
      "source": [
        "Looks like the algorithm failed to cluster the data. We can try to get a\n",
        "separation by increasing the number of shots. Let's increase the number\n",
        "of shots by 100 and see what happens.\n"
      ]
    },
    {
      "cell_type": "code",
      "execution_count": 27,
      "metadata": {
        "colab": {
          "base_uri": "https://localhost:8080/",
          "height": 430
        },
        "id": "tfVK7J8OpGsc",
        "outputId": "87c7dc8f-0a62-46a7-8a6a-54b8b47ec20f"
      },
      "outputs": [
        {
          "output_type": "display_data",
          "data": {
            "text/plain": [
              "<Figure size 640x480 with 1 Axes>"
            ],
            "image/png": "[encoded data removed]"
          },
          "metadata": {}
        }
      ],
      "source": [
        "n_shots = 10000  # 100 x more shots\n",
        "\n",
        "raw_data = []\n",
        "\n",
        "for ts in [True, False]:\n",
        "    for __ in range(circuits):\n",
        "        circuit = generate_circuit(n_shots)\n",
        "        raw_data.append(circuit(ts=ts))\n",
        "\n",
        "data = process_data(raw_data)\n",
        "scaler = preprocessing.StandardScaler().fit(data)\n",
        "data = scaler.transform(data)\n",
        "\n",
        "fit = kernel_pca.fit(data).transform(data)\n",
        "\n",
        "plt.scatter(fit[:, 0], fit[:, 1], c=c)\n",
        "plt.show()"
      ]
    },
    {
      "cell_type": "markdown",
      "metadata": {
        "id": "n2F2k_CRpGsc"
      },
      "source": [
        "Now we have a separation, however we required a lot of shots from the\n",
        "quantum circuit. As we increase the number of qubits, the number of\n",
        "shots we need will scale exponentially (as shown in [\\[2\\]](#ref2)), and\n",
        "so conventional strategies cannot learn to separate the data\n",
        "efficiently.\n"
      ]
    },
    {
      "cell_type": "markdown",
      "metadata": {
        "id": "aLJp5ud_pGsc"
      },
      "source": [
        "The quantum-enhanced way\n",
        "========================\n",
        "\n",
        "Now let's see what difference having a quantum memory can make. Instead\n",
        "of using a single unitary to generate measurement data, we will make use\n",
        "of twice the number of qubits, and apply the unitary twice:\n"
      ]
    },
    {
      "cell_type": "markdown",
      "metadata": {
        "id": "jSO6utq0pGsc"
      },
      "source": [
        "![](../demonstrations/learning_from_experiments/fig3b.png){.align-center\n",
        "width=\"70.0%\"}\n"
      ]
    },
    {
      "cell_type": "markdown",
      "metadata": {
        "id": "UNE5n_sGpGsc"
      },
      "source": [
        "In practice, this could be done by storing the output state from the\n",
        "first unitary in quantum memory and preparing the same state by using\n",
        "the unitary again. Let's define a function `enhanced_circuit()` to\n",
        "implement that. Note that since we now have twice as many qubits, we use\n",
        "half the number of shots as before so that the total number of uses of\n",
        "the unitary is unchanged.\n"
      ]
    },
    {
      "cell_type": "code",
      "execution_count": 28,
      "metadata": {
        "id": "jpZYLZkzpGsc"
      },
      "outputs": [],
      "source": [
        "n_shots = 50\n",
        "qubits = 8\n",
        "\n",
        "dev = qml.device(\"lightning.gpu\", wires=qubits * 2, shots=n_shots)\n",
        "\n",
        "\n",
        "@qml.qnode(dev)\n",
        "def enhanced_circuit(ts=False):\n",
        "    \"implement the enhanced circuit, using a random unitary\"\n",
        "\n",
        "    if ts == True:\n",
        "        ops = [qml.RY]\n",
        "    else:\n",
        "        ops = [qml.RX, qml.RY, qml.RZ]\n",
        "\n",
        "    weights = np.random.rand(layers, n_shots) * np.pi\n",
        "    seed = np.random.randint(0, 10000)\n",
        "\n",
        "    for q in range(qubits):\n",
        "        qml.Hadamard(wires=q)\n",
        "\n",
        "    qml.broadcast(\n",
        "        qml.CNOT, pattern=[[q, qubits + q] for q in range(qubits)], wires=range(qubits * 2)\n",
        "    )\n",
        "    RandomLayers(weights, wires=range(0, qubits), ratio_imprim=0.0001, rotations=ops, seed=seed)\n",
        "    RandomLayers(weights, wires=range(qubits, 2 * qubits), ratio_imprim=0.0001, rotations=ops, seed=seed)\n",
        "    qml.broadcast(\n",
        "        qml.CNOT, pattern=[[q, qubits + q] for q in range(qubits)], wires=range(qubits * 2)\n",
        "    )\n",
        "\n",
        "    for q in range(qubits):\n",
        "        qml.Hadamard(wires=q)\n",
        "\n",
        "    return [qml.sample(op=qml.PauliZ(q)) for q in range(2 * qubits)]"
      ]
    },
    {
      "cell_type": "markdown",
      "metadata": {
        "id": "EgGQFWO6pGsc"
      },
      "source": [
        "Now we generate some raw measurement data, and calculate the mean and\n",
        "variance of each qubit as before. Our data vectors are now twice as long\n",
        "since we have twice the number of qubits.\n"
      ]
    },
    {
      "cell_type": "code",
      "execution_count": 29,
      "metadata": {
        "id": "PeJwszSvpGsd"
      },
      "outputs": [],
      "source": [
        "raw_data = []\n",
        "\n",
        "for ts in [True, False]:\n",
        "    for __ in range(circuits):\n",
        "        raw_data.append(enhanced_circuit(ts))\n",
        "\n",
        "data = process_data(raw_data)"
      ]
    },
    {
      "cell_type": "markdown",
      "metadata": {
        "id": "6BhOJM0XpGsd"
      },
      "source": [
        "Let's throw that into Kernel PCA again and plot the result.\n"
      ]
    },
    {
      "cell_type": "code",
      "execution_count": 30,
      "metadata": {
        "colab": {
          "base_uri": "https://localhost:8080/",
          "height": 430
        },
        "id": "PoL0WA_ypGsd",
        "outputId": "eab8b7d6-d973-4af8-8cfa-59263a53f331"
      },
      "outputs": [
        {
          "output_type": "display_data",
          "data": {
            "text/plain": [
              "<Figure size 640x480 with 1 Axes>"
            ],
            "image/png": "[encoded data removed]"
          },
          "metadata": {}
        }
      ],
      "source": [
        "kernel_pca = KernelPCA(\n",
        "    n_components=None, kernel=\"rbf\", gamma=None, fit_inverse_transform=True, alpha=0.1\n",
        ")\n",
        "\n",
        "scaler = preprocessing.StandardScaler().fit(data)\n",
        "data = scaler.transform(data)\n",
        "\n",
        "fit = kernel_pca.fit(data).transform(data)\n",
        "\n",
        "c = np.array([0 for __ in range(circuits)] + [1 for __ in range(circuits)])\n",
        "plt.scatter(fit[:, 0], fit[:, 1], c=c)\n",
        "plt.show()"
      ]
    },
    {
      "cell_type": "markdown",
      "metadata": {
        "id": "Ylz4xQPupGsd"
      },
      "source": [
        "Kernel PCA has perfectly separated the two classes! In fact, all the\n",
        "T-symmetric unitaries have been mapped to the same point. This is\n",
        "because the circuit is actually equivalent to performing\n",
        "$U^TU\\otimes \\mathbb{I}\\vert 0 \\rangle$, which for T-symmetric unitaries\n",
        "is just the identity operation.\n",
        "\n",
        "To see this, note that the Hadamard and CNOT gates before\n",
        "$U_i\\otimes U_i$ map the $\\vert0\\rangle$ state to the maximally entanged\n",
        "state\n",
        "$\\vert \\Phi^+\\rangle = \\frac{1}{\\sqrt{2}}(\\vert 00...0\\rangle+ \\vert11...1\\rangle$,\n",
        "and the gates after $U_i\\otimes U_i$ are just the inverse\n",
        "transformation. The probability that all measurement outcomes give the\n",
        "result $+1$ is therefore.\n",
        "\n",
        "$$p(11\\cdots 1) = \\langle \\Phi^+ \\vert U_i \\otimes U_i \\vert\\Phi^+ \\rangle.$$\n",
        "\n",
        "A well known fact about the maximally entanged state is that\n",
        "$U\\otimes \\mathbb{I}\\vert\\Phi^+\\rangle= \\mathbb{I}\\otimes U^T\\vert\\Phi^+\\rangle$.\n",
        "The probabilty is therefore\n",
        "\n",
        "$$p(11\\cdots 1) = \\langle \\Phi^+ \\vert U_i^T U_i \\otimes \\mathbb{I} \\vert\\Phi^+ \\rangle.$$\n",
        "\n",
        "For T-symmetric unitaries $U_i^T=U_i^\\dagger$, so this probability is\n",
        "equal to one: the $11\\cdots 1$ outcome is always obtained.\n",
        "\n",
        "If we look at the raw measurement data for the T-symmetric unitaries:\n"
      ]
    },
    {
      "cell_type": "code",
      "execution_count": 31,
      "metadata": {
        "colab": {
          "base_uri": "https://localhost:8080/",
          "height": 0
        },
        "id": "tJPkMr8XpGsd",
        "outputId": "12b29b76-e6a9-4e83-c8b8-286845d6dc6a"
      },
      "outputs": [
        {
          "output_type": "execute_result",
          "data": {
            "text/plain": [
              "tensor([[1, 1, 1, 1, 1],\n",
              "        [1, 1, 1, 1, 1],\n",
              "        [1, 1, 1, 1, 1],\n",
              "        [1, 1, 1, 1, 1],\n",
              "        [1, 1, 1, 1, 1],\n",
              "        [1, 1, 1, 1, 1],\n",
              "        [1, 1, 1, 1, 1],\n",
              "        [1, 1, 1, 1, 1],\n",
              "        [1, 1, 1, 1, 1],\n",
              "        [1, 1, 1, 1, 1],\n",
              "        [1, 1, 1, 1, 1],\n",
              "        [1, 1, 1, 1, 1],\n",
              "        [1, 1, 1, 1, 1],\n",
              "        [1, 1, 1, 1, 1],\n",
              "        [1, 1, 1, 1, 1],\n",
              "        [1, 1, 1, 1, 1]], requires_grad=True)"
            ]
          },
          "metadata": {},
          "execution_count": 31
        }
      ],
      "source": [
        "np.array(raw_data[0])[:, 0:5]  # outcomes of first 5 shots of the first T-symmetric circuit"
      ]
    },
    {
      "cell_type": "markdown",
      "metadata": {
        "id": "RCbeEgB9pGsd"
      },
      "source": [
        "We see that indeed this is the only measurement outcome.\n",
        "\n",
        "To make things a bit more interesting, let's add some noise to the\n",
        "circuit. We will define a function `noise_layer(epsilon)` that adds some\n",
        "random single qubit rotations, where the maximum rotation angle is\n",
        "`epsilon`.\n"
      ]
    },
    {
      "cell_type": "code",
      "execution_count": 32,
      "metadata": {
        "id": "oj_9u5_ipGsd"
      },
      "outputs": [],
      "source": [
        "def noise_layer(epsilon):\n",
        "    \"apply a random rotation to each qubit\"\n",
        "    for q in range(2 * qubits):\n",
        "        angles = (2 * np.random.rand(3) - 1) * epsilon\n",
        "        qml.Rot(angles[0], angles[1], angles[2], wires=q)"
      ]
    },
    {
      "cell_type": "markdown",
      "metadata": {
        "id": "R1FYa3ltpGse"
      },
      "source": [
        "We redefine our `enhanced_circuit()` function with a noise layer applied\n",
        "after the unitaries\n"
      ]
    },
    {
      "cell_type": "code",
      "execution_count": 33,
      "metadata": {
        "id": "dFNylIKDpGse"
      },
      "outputs": [],
      "source": [
        "@qml.qnode(dev)\n",
        "def enhanced_circuit(ts=False):\n",
        "    \"implement the enhanced circuit, using a random unitary with a noise layer\"\n",
        "\n",
        "    if ts == True:\n",
        "        ops = [qml.RY]\n",
        "    else:\n",
        "        ops = [qml.RX, qml.RY, qml.RZ]\n",
        "\n",
        "    weights = np.random.rand(layers, n_shots) * np.pi\n",
        "    seed = np.random.randint(0, 10000)\n",
        "\n",
        "    for q in range(qubits):\n",
        "        qml.Hadamard(wires=q)\n",
        "\n",
        "    qml.broadcast(\n",
        "        qml.CNOT, pattern=[[q, qubits + q] for q in range(qubits)], wires=range(qubits * 2)\n",
        "    )\n",
        "    RandomLayers(weights, wires=range(0, qubits), ratio_imprim=0.0001, rotations=ops, seed=seed)\n",
        "    RandomLayers(weights, wires=range(qubits, 2 * qubits), ratio_imprim=0.0001, rotations=ops, seed=seed)\n",
        "    noise_layer(np.pi / 4)  # added noise layer\n",
        "    qml.broadcast(\n",
        "        qml.CNOT, pattern=[[qubits + q, q] for q in range(qubits)], wires=range(qubits * 2)\n",
        "    )\n",
        "\n",
        "    for q in range(qubits):\n",
        "        qml.Hadamard(wires=qubits + q)\n",
        "\n",
        "    return [qml.sample(op=qml.PauliZ(q)) for q in range(2 * qubits)]"
      ]
    },
    {
      "cell_type": "markdown",
      "metadata": {
        "id": "oke1LvWDpGse"
      },
      "source": [
        "Now we generate the data and feed it to kernel PCA again.\n"
      ]
    },
    {
      "cell_type": "code",
      "execution_count": 34,
      "metadata": {
        "colab": {
          "base_uri": "https://localhost:8080/",
          "height": 430
        },
        "id": "NnBgZF7TpGse",
        "outputId": "5c7b82ce-4053-497c-c3bb-40b8a12a1ee1"
      },
      "outputs": [
        {
          "output_type": "display_data",
          "data": {
            "text/plain": [
              "<Figure size 640x480 with 1 Axes>"
            ],
            "image/png": "[encoded data removed]"
          },
          "metadata": {}
        }
      ],
      "source": [
        "raw_data = []\n",
        "\n",
        "for ts in [True, False]:\n",
        "    for __ in range(circuits):\n",
        "        raw_data.append(enhanced_circuit(ts))\n",
        "\n",
        "data = process_data(raw_data)\n",
        "\n",
        "kernel_pca = KernelPCA(\n",
        "    n_components=None, kernel=\"rbf\", gamma=None, fit_inverse_transform=True, alpha=0.1\n",
        ")\n",
        "scaler = preprocessing.StandardScaler().fit(data)\n",
        "data = scaler.transform(data)\n",
        "fit = kernel_pca.fit(data).transform(data)\n",
        "\n",
        "c = np.array([0 for __ in range(circuits)] + [1 for __ in range(circuits)])\n",
        "plt.scatter(fit[:, 0], fit[:, 1], c=c)\n",
        "plt.show()"
      ]
    },
    {
      "cell_type": "markdown",
      "metadata": {
        "id": "dQHy4Y0ZpGse"
      },
      "source": [
        "Nice! Even in the presence of noise we still have a clean separation of\n",
        "the two classes. This shows that using entanglement can make a big\n",
        "difference to learning.\n"
      ]
    },
    {
      "cell_type": "code",
      "source": [
        "seconds = time.time()\n",
        "print(\"Time in seconds since end of run:\", seconds)\n",
        "local_time = time.ctime(seconds)\n",
        "print(local_time)"
      ],
      "metadata": {
        "colab": {
          "base_uri": "https://localhost:8080/",
          "height": 0
        },
        "id": "znxK-ted5Yae",
        "outputId": "3edf565a-425e-44d9-a441-ec1df50fc6c0"
      },
      "execution_count": 35,
      "outputs": [
        {
          "output_type": "stream",
          "name": "stdout",
          "text": [
            "Time in seconds since end of run: 1700502979.498518\n",
            "Mon Nov 20 17:56:19 2023\n"
          ]
        }
      ]
    },
    {
      "cell_type": "markdown",
      "metadata": {
        "id": "QNYu0GLrpGse"
      },
      "source": [
        "References\n",
        "==========\n",
        "\n",
        "\\[1\\] *Quantum advantage in learning from experiments*, Hsin-Yuan Huang\n",
        "et. al., [arxiv:2112.00778](https://arxiv.org/pdf/2112.00778.pdf) (2021)\n",
        "\n",
        "\\[2\\] *Exponential separations between learning with and without quantum\n",
        "memory*, Sitan Chen, Jordan Cotler, Hsin-Yuan Huang, Jerry Li,\n",
        "[arxiv:2111.05881](https://arxiv.org/abs/2111.05881) (2021)\n",
        "\n",
        "About the author\n",
        "================\n"
      ]
    }
  ],
  "metadata": {
    "kernelspec": {
      "display_name": "Python 3",
      "name": "python3"
    },
    "language_info": {
      "codemirror_mode": {
        "name": "ipython",
        "version": 3
      },
      "file_extension": ".py",
      "mimetype": "text/x-python",
      "name": "python",
      "nbconvert_exporter": "python",
      "pygments_lexer": "ipython3",
      "version": "3.9.17"
    },
    "colab": {
      "provenance": [],
      "gpuType": "V100"
    },
    "accelerator": "GPU"
  },
  "nbformat": 4,
  "nbformat_minor": 0
}