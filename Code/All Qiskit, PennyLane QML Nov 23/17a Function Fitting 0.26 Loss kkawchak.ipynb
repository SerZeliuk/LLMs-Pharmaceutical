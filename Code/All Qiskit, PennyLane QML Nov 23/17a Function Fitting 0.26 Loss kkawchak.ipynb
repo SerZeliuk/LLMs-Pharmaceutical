{
  "cells": [
    {
      "cell_type": "code",
      "execution_count": 24,
      "metadata": {
        "id": "2CJGEgyVcBoj",
        "colab": {
          "base_uri": "https://localhost:8080/",
          "height": 0
        },
        "outputId": "83aed071-0f43-4a44-cbe9-a7b1700e5afa"
      },
      "outputs": [
        {
          "output_type": "stream",
          "name": "stdout",
          "text": [
            "Time in seconds since beginning of run: 1700459465.6806204\n",
            "Mon Nov 20 05:51:05 2023\n"
          ]
        }
      ],
      "source": [
        "# This cell is added by sphinx-gallery\n",
        "# It can be customized to whatever you like\n",
        "%matplotlib inline\n",
        "# !pip install pennylane\n",
        "import time\n",
        "seconds = time.time()\n",
        "print(\"Time in seconds since beginning of run:\", seconds)\n",
        "local_time = time.ctime(seconds)\n",
        "print(local_time)"
      ]
    },
    {
      "cell_type": "markdown",
      "metadata": {
        "id": "FSW44zn1cBok"
      },
      "source": [
        "Function Fitting using Quantum Signal Processing\n",
        "================================================\n",
        "\n",
        "::: {.meta}\n",
        ":property=\\\"og:description\\\": Learn how to create polynomial\n",
        "approximations to functions using Quantum Signal Processing (QSP).\n",
        ":property=\\\"og:image\\\":\n",
        "<https://pennylane.ai/qml/demonstrations/function_fitting_qsp/cover.png>\n",
        ":::\n",
        "\n",
        "*Author: Jay Soni --- Posted: 24 May 2022. Last updated: 17 April 2023.*\n",
        "\n",
        "Introduction\n",
        "------------\n",
        "\n",
        "This demo is inspired by the paper ['A Grand Unification of Quantum\n",
        "Algorithms'](https://arxiv.org/abs/2105.02859). This paper is centered\n",
        "around the Quantum Singular Value Transform (QSVT) protocol and how it\n",
        "provides a single framework to generalize some of the most famous\n",
        "quantum algorithms like Shor's factoring algorithm, Grover search, and\n",
        "more.\n",
        "\n",
        "The QSVT is a method to apply polynomial transformations to the singular\n",
        "values of *any matrix*. This is powerful because from polynomial\n",
        "transformations we can generate arbitrary function transformations using\n",
        "Taylor approximations. The QSVT protocol is an extension of the more\n",
        "constrained Quantum Signal Processing (QSP) protocol which presents a\n",
        "method for polynomial transformation of matrix entries in a single-qubit\n",
        "unitary operator. The QSVT protocol is sophisticated, but the idea at\n",
        "its core is quite simple. By studying QSP, we get a relatively simpler\n",
        "path to explore this idea at the foundation of QSVT.\n",
        "\n",
        "In this demo, we explore the QSP protocol and how it can be used for\n",
        "curve fitting. We show how you can fit polynomials, as illustrated in\n",
        "the animation below.\n",
        "\n",
        "![](../demonstrations/function_fitting_qsp/trained_poly.gif){.align-center\n",
        "width=\"50.0%\"}\n",
        "\n",
        "This is a powerful tool that will ultimately allow us to approximate any\n",
        "function on the interval $[-1, 1]$ that satisfies certain constraints.\n",
        "Before we can dive into function fitting, let's develop some intuition.\n",
        "Consider the following single-qubit operator parameterized by\n",
        "$a \\in [-1, 1]$:\n",
        "\n",
        "$$\\begin{aligned}\n",
        "\\hat{W}(a) = \\begin{bmatrix} a & i\\sqrt{1 - a^{2}} \\\\ i\\sqrt{1 - a^{2}} & a \\end{bmatrix}.\n",
        "\\end{aligned}$$\n",
        "\n",
        "$\\hat{W}(a)$ is called the *signal rotation operator* (SRO). Using this\n",
        "operator, we can construct another operator which we call *signal\n",
        "processing operator* (SPO),\n",
        "\n",
        "$$\\hat{U}_{sp} = \\hat{R}_{z}(\\phi_{0}) \\prod_{k=1}^{d} \\hat{W}(a) \\hat{R}_{z}(\\phi_{k}).$$\n",
        "\n",
        "The SPO is parameterized by a vector $\\vec{\\phi} \\in \\mathbb{R}^{d+1}$,\n",
        "where $d$ is a free parameter which represents the number of repeated\n",
        "applications of $\\hat{W}(a)$.\n",
        "\n",
        "The SPO $\\hat{U}_{sp}$ alternates between applying the SRO $\\hat{W}(a)$\n",
        "and parameterized rotations around the z-axis. Let's see what happens\n",
        "when we try to compute the expectation value\n",
        "$\\langle 0|\\hat{U}_{sp}|0\\rangle$ for the particular case where $d = 2$\n",
        "and $\\vec{\\phi} = (0, 0, 0)$ :\n",
        "\n",
        "$$\\begin{aligned}\n",
        "\\begin{align*}\n",
        "\\langle 0 |\\hat{U}_{sp}|0\\rangle &= \\langle 0 | \\ \\hat{R}_{z}(0) \\prod_{k=1}^{2} \\hat{W}(a) \\hat{R}_{z}(0) \\ |0\\rangle \\\\\n",
        "\\langle 0 |\\hat{U}_{sp}|0\\rangle &= \\langle 0 | \\hat{W}(a)^{2} |0\\rangle \\\\\n",
        "\\end{align*}\n",
        "\\end{aligned}$$\n",
        "\n",
        "$$\\begin{aligned}\n",
        "\\langle 0 |\\hat{U}_{sp}|0\\rangle = \\langle 0 | \\begin{bmatrix} a & i\\sqrt{1 - a^{2}} \\\\ i\\sqrt{1 - a^{2}} & a \\end{bmatrix} \\ \\circ \\ \\begin{bmatrix} a & i\\sqrt{1 - a^{2}} \\\\ i\\sqrt{1 - a^{2}} & a \\end{bmatrix} |0\\rangle\n",
        "\\end{aligned}$$\n",
        "\n",
        "$$\\begin{aligned}\n",
        "\\langle 0|\\hat{U}_{sp}|0\\rangle = \\langle 0| \\begin{bmatrix} 2a^{2} - 1 & 2ai\\sqrt{1 - a^{2}} \\\\ 2ai\\sqrt{1 - a^{2}} & 2a^{2} - 1 \\end{bmatrix} |0\\rangle\n",
        "\\end{aligned}$$\n",
        "\n",
        "$$\\langle 0|\\hat{U}_{sp}|0\\rangle = 2a^{2} - 1$$\n",
        "\n",
        "Notice that this quantity is a polynomial in $a$. Equivalently, suppose\n",
        "we wanted to create a map $S: a \\to 2a^2 - 1$. This expectation value\n",
        "would give us the means to perform such a mapping. This may seem oddly\n",
        "specific at first, but it turns out that this process can be generalized\n",
        "for generating a mapping $S: a \\to \\text{poly}(a)$. The following\n",
        "theorem shows us how:\n",
        "\n",
        "### Theorem: Quantum Signal Processing\n",
        "\n",
        "Given a vector $\\vec{\\phi} \\in \\mathbb{R}^{d+1}$, there exist complex\n",
        "polynomials $P(a)$ and $Q(a)$ such that the SPO, $\\hat{U}_{sp}$, can be\n",
        "expressed in matrix form as:\n",
        "\n",
        "$$\\hat{U}_{sp} = \\hat{R}_{z}(\\phi_{0}) \\prod_{k=1}^{d} \\hat{W}(a) \\hat{R}_{z}(\\phi_{k}),$$\n",
        "\n",
        "$$\\begin{aligned}\n",
        "\\hat{U}_{sp} = \\begin{bmatrix} P(a) & iQ(a)\\sqrt{1 - a^{2}} \\\\ iQ^{*}(a)\\sqrt{1 - a^{2}} & P^{*}(a) \\end{bmatrix},\n",
        "\\end{aligned}$$\n",
        "\n",
        "where $a \\in [-1, 1]$ and the polynomials $P(a)$, $Q(a)$ satisfy the\n",
        "following constraints:\n",
        "\n",
        "-   $deg(P) \\leq d \\ $ and $deg(Q) \\leq d - 1$,\n",
        "-   $P$ has parity $d$ mod 2 and $Q$ has parity, $d - 1$ mod 2\n",
        "-   $|P|^{2} + (1 - a^{2})|Q|^{2} = 1$.\n",
        "\n",
        "The third condition is actually quite restrictive because if we\n",
        "substitute $a = \\pm 1$, we get the result $|P^{2}(\\pm 1)| = 1$. Thus it\n",
        "restricts the polynomial to be pinned to $\\pm 1$ at the end points of\n",
        "the domain, $a = \\pm 1$. This condition can be relaxed to\n",
        "$|P^{2}(a)| \\leq 1$ by expressing the signal processing operator in the\n",
        "Hadamard basis, i.e., $\\langle + |\\hat{U}_{sp}(\\vec{\\phi};a)|+\\rangle$).\n",
        "This is equivalent to redefining $P(a)$ such that:\n",
        "\n",
        "$$P^{'}(a) = \\text{Re}(P(a)) + i\\text{Re}(Q(a))\\sqrt{1 - a^{2}}$$\n",
        "\n",
        "*This is the convention we follow in this demo.*\n"
      ]
    },
    {
      "cell_type": "markdown",
      "metadata": {
        "id": "Ts0T3hdDcBol"
      },
      "source": [
        "Let\\'s Plot some Polynomials\n",
        "============================\n",
        "\n",
        "Now we put this theorem to the test! In this section we construct the\n",
        "SRO $\\hat{W}(a)$, and then use PennyLane to define the SPO. To test the\n",
        "theorem we will randomly generate parameters $\\vec{\\phi}$ and plot the\n",
        "expectation value $\\langle + |\\hat{U}_{sp}(\\vec{\\phi};a)|+\\rangle$ for\n",
        "$a \\in [-1, 1]$.\n"
      ]
    },
    {
      "cell_type": "markdown",
      "metadata": {
        "id": "BeuyFNE2cBom"
      },
      "source": [
        "Next, we introduce a function called `rotation_mat(a)`, which will\n",
        "construct the SRO matrix. We can also make a helper function\n",
        "(`generate_many_sro(a_vals)`) which, given an array of possible values\n",
        "for '$a$', will generate an array of $\\hat{W}(a)$ associated with each\n",
        "element. We use Pytorch to construct this array as it will later be used\n",
        "as input when training our function fitting model.\n"
      ]
    },
    {
      "cell_type": "code",
      "execution_count": 25,
      "metadata": {
        "id": "vOAKUWFUcBom"
      },
      "outputs": [],
      "source": [
        "import torch\n",
        "\n",
        "\n",
        "def rotation_mat(a):\n",
        "    \"\"\"Given a fixed value 'a', compute the signal rotation matrix W(a).\n",
        "    (requires -1 <= 'a' <= 1)\n",
        "    \"\"\"\n",
        "    diag = a\n",
        "    off_diag = (1 - a**2) ** (1 / 2) * 1j\n",
        "    W = [[diag, off_diag], [off_diag, diag]]\n",
        "\n",
        "    return W\n",
        "\n",
        "\n",
        "def generate_many_sro(a_vals):\n",
        "    \"\"\"Given a tensor of possible 'a' vals, return a tensor of W(a)\"\"\"\n",
        "    w_array = []\n",
        "    for a in a_vals:\n",
        "        w = rotation_mat(a)\n",
        "        w_array.append(w)\n",
        "\n",
        "    return torch.tensor(w_array, dtype=torch.complex64, requires_grad=False)"
      ]
    },
    {
      "cell_type": "markdown",
      "metadata": {
        "id": "L2EBaj75cBom"
      },
      "source": [
        "Now having access to the matrix elements of the SRO, we can leverage\n",
        "PennyLane to define a quantum function that will compute the SPO. Recall\n",
        "we are measuring in the Hadamard basis to relax the third condition of\n",
        "the theorem. We accomplish this by sandwiching the SPO between two\n",
        "Hadamard gates to account for this change of basis.\n"
      ]
    },
    {
      "cell_type": "code",
      "execution_count": 26,
      "metadata": {
        "id": "aNby7jlFcBom"
      },
      "outputs": [],
      "source": [
        "import pennylane as qml\n",
        "\n",
        "def QSP_circ(phi, W):\n",
        "    \"\"\"This circuit applies the SPO. The components in the matrix\n",
        "    representation of the final unitary are polynomials!\n",
        "    \"\"\"\n",
        "    qml.Hadamard(wires=0)  # set initial state |+>\n",
        "    for angle in phi[:-1]:\n",
        "        qml.RZ(angle+0.2, wires=0)\n",
        "        qml.QubitUnitary(W, wires=0)\n",
        "\n",
        "    qml.RZ(phi[-1], wires=0)  # final rotation\n",
        "    qml.Hadamard(wires=0)  # change of basis |+> , |->\n",
        "    return"
      ]
    },
    {
      "cell_type": "markdown",
      "metadata": {
        "id": "ZC9gzKXOcBon"
      },
      "source": [
        "Finally, we randomly generate the vector $\\vec{\\phi}$ and plot the\n",
        "expectation value $\\langle +|\\hat{U}_{sp}|+\\rangle$ as a function of\n",
        "$a$. In this case we choose $d = 5$. We expect to observe the following:\n",
        "\n",
        "-   Since $d$ is odd, we expect all of the polynomials we plot to have\n",
        "    odd symmetry\n",
        "-   Since $d = 5$, we expect none of the polynomials will have terms \\~\n",
        "    $O(a^6)$ or higher\n",
        "-   All of the polynomials are bounded by $\\pm1$\n"
      ]
    },
    {
      "cell_type": "code",
      "execution_count": 27,
      "metadata": {
        "colab": {
          "base_uri": "https://localhost:8080/",
          "height": 430
        },
        "id": "dIFHdGdvcBon",
        "outputId": "3d385e9e-096b-4dc0-fcff-c832e0e49466"
      },
      "outputs": [
        {
          "output_type": "display_data",
          "data": {
            "text/plain": [
              "<Figure size 640x480 with 1 Axes>"
            ],
            "image/png": "[encoded data removed]"
          },
          "metadata": {}
        }
      ],
      "source": [
        "import math\n",
        "import matplotlib.pyplot as plt\n",
        "\n",
        "d = 5\n",
        "a_vals = torch.linspace(-1, 1, 50)\n",
        "w_mats = generate_many_sro(a_vals)\n",
        "\n",
        "gen = torch.Generator()\n",
        "gen.manual_seed(444422)  # set random seed for reproducibility\n",
        "\n",
        "for i in range(5):\n",
        "    phi = torch.rand(d + 1, generator=gen) * 2 * torch.tensor([math.pi], requires_grad=False)\n",
        "    matrix_func = qml.matrix(QSP_circ)\n",
        "    y_vals = [matrix_func(phi, w)[0, 0].real for w in w_mats]\n",
        "\n",
        "    plt.plot(a_vals, y_vals, label=f\"poly #{i}\")\n",
        "\n",
        "plt.vlines(0.0, -1.0, 1.0, color=\"black\")\n",
        "plt.hlines(0.0, -1.0, 1.0, color=\"black\")\n",
        "plt.legend(loc=1)\n",
        "plt.show()"
      ]
    },
    {
      "cell_type": "markdown",
      "metadata": {
        "id": "ZZ_MLQ2EcBon"
      },
      "source": [
        "![](../demonstrations/function_fitting_qsp/random_poly.png){.align-center\n",
        "width=\"50.0%\"}\n"
      ]
    },
    {
      "cell_type": "markdown",
      "metadata": {
        "id": "kHiHHvzIcBon"
      },
      "source": [
        "Exactly as predicted, all of these conditions are met!\n",
        "\n",
        "-   All curves have odd symmetry\n",
        "-   Qualitatively, the plots look similar to polynomials of low degree\n",
        "-   Each plot does not exceed $\\pm1$ !\n",
        "\n",
        "Function Fitting with Quantum Signal Processing\n",
        "===============================================\n",
        "\n",
        "Another observation we can make about this theorem is the fact that it\n",
        "holds true in both directions: If we have two polynomials $P(a)$ and\n",
        "$Q(a)$ that satisfy the conditions of the theorem, then there exists a\n",
        "$\\vec{\\phi}$ for which we can construct a signal processing operator\n",
        "which maps $a \\to P(a)$.\n",
        "\n",
        "In this section we try to answer the question:\n",
        "\n",
        "**Can we learn the parameter values of** $\\vec{\\phi}$ **to transform our\n",
        "signal processing operator polynomial to fit a given function?**\n",
        "\n",
        "In order to answer this question, we leverage the power of machine\n",
        "learning. In this demo we assume you are familiar with some concepts\n",
        "from quantum machine learning, for a refresher checkout this [blog post\n",
        "on\n",
        "QML](https://pennylane.ai/blog/2021/10/how-to-start-learning-quantum-machine-learning/).\n",
        "We begin by building a machine learning model using Pytorch. The\n",
        "`__init__()` method handles the random initialization of our parameter\n",
        "vector $\\vec{\\phi}$. The `forward()` method takes an array of signal\n",
        "rotation matrices $\\hat{W}(a)$ for varying $a$, and produces the\n",
        "predicted $y$ values.\n",
        "\n",
        "Next we leverage the PennyLane function\n",
        "[qml.matrix()](https://pennylane.readthedocs.io/en/stable/code/api/pennylane.matrix.html?highlight=qml%20matrix#pennylane.matrix),\n",
        "which accepts our quantum function (it can also accept quantum tapes and\n",
        "QNodes) and returns its unitary matrix representation. We are interested\n",
        "in the real value of the top left entry, this corresponds to $P(a)$.\n"
      ]
    },
    {
      "cell_type": "code",
      "execution_count": 28,
      "metadata": {
        "id": "waKHRXcqcBon"
      },
      "outputs": [],
      "source": [
        "torch_pi = torch.Tensor([math.pi])\n",
        "\n",
        "\n",
        "class QSP_Func_Fit(torch.nn.Module):\n",
        "    def __init__(self, degree, num_vals, random_seed=None):\n",
        "        \"\"\"Given the degree and number of samples, this method randomly\n",
        "        initializes the parameter vector (randomness can be set by random_seed)\n",
        "        \"\"\"\n",
        "        super().__init__()\n",
        "        if random_seed is None:\n",
        "            self.phi = torch_pi * torch.rand(degree + 1, requires_grad=True)\n",
        "\n",
        "        else:\n",
        "            gen = torch.Generator()\n",
        "            gen.manual_seed(random_seed)\n",
        "            self.phi = torch_pi * torch.rand(degree + 1, requires_grad=True, generator=gen)\n",
        "\n",
        "        self.phi = torch.nn.Parameter(self.phi)\n",
        "        self.num_phi = degree + 1\n",
        "        self.num_vals = num_vals\n",
        "\n",
        "    def forward(self, omega_mats):\n",
        "        \"\"\"PennyLane forward implementation\"\"\"\n",
        "        y_pred = []\n",
        "        generate_qsp_mat = qml.matrix(QSP_circ)\n",
        "\n",
        "        for w in omega_mats:\n",
        "            u_qsp = generate_qsp_mat(self.phi, w)\n",
        "            P_a = u_qsp[0, 0]  # Taking the (0,0) entry of the matrix corresponds to <0|U|0>\n",
        "            y_pred.append(P_a.real)\n",
        "\n",
        "        return torch.stack(y_pred, 0)"
      ]
    },
    {
      "cell_type": "markdown",
      "metadata": {
        "id": "OJRrAm7ucBoo"
      },
      "source": [
        "Next we create a `Model_Runner` class to handle running the\n",
        "optimization, storing the results, and providing plotting functionality:\n"
      ]
    },
    {
      "cell_type": "code",
      "execution_count": 29,
      "metadata": {
        "id": "8olPljw6cBoo"
      },
      "outputs": [],
      "source": [
        "class Model_Runner:\n",
        "    def __init__(self, model, degree, num_samples, x_vals, process_x_vals, y_true):\n",
        "        \"\"\"Given a model and a series of model specific arguments, store everything in\n",
        "        internal attributes.\n",
        "        \"\"\"\n",
        "        self.model = model\n",
        "        self.degree = degree\n",
        "        self.num_samples = num_samples\n",
        "\n",
        "        self.x_vals = x_vals\n",
        "        self.inp = process_x_vals(x_vals)\n",
        "        self.y_true = y_true\n",
        "\n",
        "    def execute(\n",
        "        self, random_seed=13_02_1967, max_shots=25000, verbose=True\n",
        "    ):  # easter egg: oddly specific seed?\n",
        "        \"\"\"Run the optimization protocol on the model using Mean Square Error as a loss\n",
        "        function and using stochastic gradient descent as the optimizer.\n",
        "        \"\"\"\n",
        "        model = self.model(degree=self.degree, num_vals=self.num_samples, random_seed=random_seed)\n",
        "\n",
        "        criterion = torch.nn.MSELoss(reduction=\"sum\")\n",
        "        optimizer = torch.optim.SGD(model.parameters(), lr=1e-5)\n",
        "\n",
        "        t = 0\n",
        "        loss_val = 1.0\n",
        "\n",
        "        while (t <= max_shots) and (loss_val > 0.25):\n",
        "\n",
        "            self.y_pred = model(self.inp)\n",
        "\n",
        "            if t == 1:\n",
        "                self.init_y_pred = self.y_pred\n",
        "\n",
        "            # Compute and print loss\n",
        "            loss = criterion(self.y_pred, self.y_true)\n",
        "            loss_val = loss.item()\n",
        "\n",
        "            if (t % 1000 == 0) and verbose:\n",
        "                print(f\"---- iter: {t}, loss: {round(loss_val, 4)} -----\")\n",
        "\n",
        "            # Perform a backward pass and update weights.\n",
        "            optimizer.zero_grad()\n",
        "            loss.backward()\n",
        "            optimizer.step()\n",
        "\n",
        "            t += 1\n",
        "\n",
        "        self.model_params = model.phi\n",
        "\n",
        "    def plot_result(self, show=True):\n",
        "        \"\"\"Plot the results\"\"\"\n",
        "        plt.plot(self.x_vals, self.y_true.tolist(), \"--b\", label=\"target func\")\n",
        "        plt.plot(self.x_vals, self.y_pred.tolist(), \".g\", label=\"optim params\")\n",
        "        plt.plot(self.x_vals, self.init_y_pred.tolist(), \".r\", label=\"init params\")\n",
        "        plt.legend(loc=1)\n",
        "\n",
        "        if show:\n",
        "            plt.show()"
      ]
    },
    {
      "cell_type": "markdown",
      "metadata": {
        "id": "Ubl_AjJqcBoo"
      },
      "source": [
        "Now that we have a model, lets first attempt to fit a polynomial. We\n",
        "expect this to perform well when the target polynomial also obeys the\n",
        "symmetry and degree constraints that our quantum signal processing\n",
        "polynomial does. To do this, we defined a function `custom_poly(x)`\n",
        "which implements the target polynomial. In this case, we (arbitrarily)\n",
        "choose the target polynomial:\n",
        "\n",
        "$$y = 4x^{5} - 5x^{3} + x$$\n",
        "\n",
        "Lets see how well we can fit this polynomial!\n",
        "\n",
        "> ::: {.note}\n",
        "> ::: {.title}\n",
        "> Note\n",
        "> :::\n",
        ">\n",
        "> Depending on the initial parameters, training can take anywhere from\n",
        "> 10 - 30 mins\n",
        "> :::\n"
      ]
    },
    {
      "cell_type": "code",
      "execution_count": 30,
      "metadata": {
        "colab": {
          "base_uri": "https://localhost:8080/",
          "height": 726
        },
        "id": "n4R-bELScBoo",
        "outputId": "4c0f5359-85aa-48cf-9d57-f7a1f8730e3b"
      },
      "outputs": [
        {
          "output_type": "stream",
          "name": "stdout",
          "text": [
            "---- iter: 0, loss: 10.1121 -----\n",
            "---- iter: 1000, loss: 8.4185 -----\n",
            "---- iter: 2000, loss: 6.6658 -----\n",
            "---- iter: 3000, loss: 5.008 -----\n",
            "---- iter: 4000, loss: 3.643 -----\n",
            "---- iter: 5000, loss: 2.6466 -----\n",
            "---- iter: 6000, loss: 1.9656 -----\n",
            "---- iter: 7000, loss: 1.5028 -----\n",
            "---- iter: 8000, loss: 1.1774 -----\n",
            "---- iter: 9000, loss: 0.9372 -----\n",
            "---- iter: 10000, loss: 0.7527 -----\n",
            "---- iter: 11000, loss: 0.6069 -----\n",
            "---- iter: 12000, loss: 0.4902 -----\n",
            "---- iter: 13000, loss: 0.3963 -----\n",
            "---- iter: 14000, loss: 0.3205 -----\n",
            "---- iter: 15000, loss: 0.2595 -----\n"
          ]
        },
        {
          "output_type": "display_data",
          "data": {
            "text/plain": [
              "<Figure size 640x480 with 1 Axes>"
            ],
            "image/png": "[encoded data removed]"
          },
          "metadata": {}
        }
      ],
      "source": [
        "import numpy as np\n",
        "\n",
        "d = 9  # dim(phi) = d + 1,\n",
        "num_samples = 50\n",
        "\n",
        "\n",
        "def custom_poly(x):\n",
        "    \"\"\"A custom polynomial of degree <= d and parity d % 2\"\"\"\n",
        "    return torch.tensor(4 * x**5 - 5 * x**3 + x, requires_grad=False, dtype=torch.float)\n",
        "\n",
        "\n",
        "a_vals = np.linspace(-1, 1, num_samples)\n",
        "y_true = custom_poly(a_vals)\n",
        "\n",
        "qsp_model_runner = Model_Runner(QSP_Func_Fit, d, num_samples, a_vals, generate_many_sro, y_true)\n",
        "\n",
        "qsp_model_runner.execute()\n",
        "qsp_model_runner.plot_result()"
      ]
    },
    {
      "cell_type": "markdown",
      "metadata": {
        "id": "5Q2gTY65cBoo"
      },
      "source": [
        "::: {.rst-class}\n",
        "sphx-glr-script-out\n",
        "\n",
        "Out:\n",
        "\n",
        "``` {.none}\n",
        "---- iter: 0, loss: 13.5938 -----\n",
        "---- iter: 1000, loss: 11.8809 -----\n",
        "---- iter: 2000, loss: 10.229 -----\n",
        "---- iter: 3000, loss: 8.6693 -----\n",
        "---- iter: 4000, loss: 7.2557 -----\n",
        "---- iter: 5000, loss: 6.0084 -----\n",
        "---- iter: 6000, loss: 4.9197 -----\n",
        "---- iter: 7000, loss: 3.9801 -----\n",
        "---- iter: 8000, loss: 3.1857 -----\n",
        "---- iter: 9000, loss: 2.5312 -----\n",
        "---- iter: 10000, loss: 2.0045 -----\n",
        "---- iter: 11000, loss: 1.5873 -----\n",
        "---- iter: 12000, loss: 1.2594 -----\n",
        "---- iter: 13000, loss: 1.0021 -----\n",
        "---- iter: 14000, loss: 0.7997 -----\n",
        "---- iter: 15000, loss: 0.6397 -----\n",
        "---- iter: 16000, loss: 0.5127 -----\n",
        "```\n",
        "\n",
        "![](../demonstrations/function_fitting_qsp/trained_poly.png){.align-center\n",
        "width=\"50.0%\"}\n",
        ":::\n"
      ]
    },
    {
      "cell_type": "markdown",
      "metadata": {
        "id": "OLd8Gl3YcBoo"
      },
      "source": [
        "We were able to fit that polynomial quite well! Lets try something more\n",
        "challenging: fitting a non-polynomial function. One thing to keep in\n",
        "mind is the symmetry and bounds constraints on our polynomials. If our\n",
        "target function does not satisfy them as well, then we cannot hope to\n",
        "generate a good polynomial fit, regardless of how long we train for.\n",
        "\n",
        "A good non-polynomial candidate to fit to, that obeys our constraints,\n",
        "is the step function. Let's try it!\n"
      ]
    },
    {
      "cell_type": "code",
      "execution_count": 31,
      "metadata": {
        "colab": {
          "base_uri": "https://localhost:8080/",
          "height": 424
        },
        "id": "sbrwU-7bcBop",
        "outputId": "c2c6f26b-8aa4-4aed-9b99-b65da3a6809f"
      },
      "outputs": [
        {
          "output_type": "stream",
          "name": "stdout",
          "text": [
            "---- iter: 0, loss: 37.4139 -----\n"
          ]
        },
        {
          "output_type": "error",
          "ename": "KeyboardInterrupt",
          "evalue": "ignored",
          "traceback": [
            "\u001b[0;31m---------------------------------------------------------------------------\u001b[0m",
            "\u001b[0;31mKeyboardInterrupt\u001b[0m                         Traceback (most recent call last)",
            "\u001b[0;32m<ipython-input-31-37a295e42cf4>\u001b[0m in \u001b[0;36m<cell line: 18>\u001b[0;34m()\u001b[0m\n\u001b[1;32m     16\u001b[0m \u001b[0mqsp_model_runner\u001b[0m \u001b[0;34m=\u001b[0m \u001b[0mModel_Runner\u001b[0m\u001b[0;34m(\u001b[0m\u001b[0mQSP_Func_Fit\u001b[0m\u001b[0;34m,\u001b[0m \u001b[0md\u001b[0m\u001b[0;34m,\u001b[0m \u001b[0mnum_samples\u001b[0m\u001b[0;34m,\u001b[0m \u001b[0ma_vals\u001b[0m\u001b[0;34m,\u001b[0m \u001b[0mgenerate_many_sro\u001b[0m\u001b[0;34m,\u001b[0m \u001b[0my_true\u001b[0m\u001b[0;34m)\u001b[0m\u001b[0;34m\u001b[0m\u001b[0;34m\u001b[0m\u001b[0m\n\u001b[1;32m     17\u001b[0m \u001b[0;34m\u001b[0m\u001b[0m\n\u001b[0;32m---> 18\u001b[0;31m \u001b[0mqsp_model_runner\u001b[0m\u001b[0;34m.\u001b[0m\u001b[0mexecute\u001b[0m\u001b[0;34m(\u001b[0m\u001b[0;34m)\u001b[0m\u001b[0;34m\u001b[0m\u001b[0;34m\u001b[0m\u001b[0m\n\u001b[0m\u001b[1;32m     19\u001b[0m \u001b[0mqsp_model_runner\u001b[0m\u001b[0;34m.\u001b[0m\u001b[0mplot_result\u001b[0m\u001b[0;34m(\u001b[0m\u001b[0;34m)\u001b[0m\u001b[0;34m\u001b[0m\u001b[0;34m\u001b[0m\u001b[0m\n",
            "\u001b[0;32m<ipython-input-29-5bcae6f81244>\u001b[0m in \u001b[0;36mexecute\u001b[0;34m(self, random_seed, max_shots, verbose)\u001b[0m\n\u001b[1;32m     42\u001b[0m             \u001b[0;31m# Perform a backward pass and update weights.\u001b[0m\u001b[0;34m\u001b[0m\u001b[0;34m\u001b[0m\u001b[0m\n\u001b[1;32m     43\u001b[0m             \u001b[0moptimizer\u001b[0m\u001b[0;34m.\u001b[0m\u001b[0mzero_grad\u001b[0m\u001b[0;34m(\u001b[0m\u001b[0;34m)\u001b[0m\u001b[0;34m\u001b[0m\u001b[0;34m\u001b[0m\u001b[0m\n\u001b[0;32m---> 44\u001b[0;31m             \u001b[0mloss\u001b[0m\u001b[0;34m.\u001b[0m\u001b[0mbackward\u001b[0m\u001b[0;34m(\u001b[0m\u001b[0;34m)\u001b[0m\u001b[0;34m\u001b[0m\u001b[0;34m\u001b[0m\u001b[0m\n\u001b[0m\u001b[1;32m     45\u001b[0m             \u001b[0moptimizer\u001b[0m\u001b[0;34m.\u001b[0m\u001b[0mstep\u001b[0m\u001b[0;34m(\u001b[0m\u001b[0;34m)\u001b[0m\u001b[0;34m\u001b[0m\u001b[0;34m\u001b[0m\u001b[0m\n\u001b[1;32m     46\u001b[0m \u001b[0;34m\u001b[0m\u001b[0m\n",
            "\u001b[0;32m/usr/local/lib/python3.10/dist-packages/torch/_tensor.py\u001b[0m in \u001b[0;36mbackward\u001b[0;34m(self, gradient, retain_graph, create_graph, inputs)\u001b[0m\n\u001b[1;32m    490\u001b[0m                 \u001b[0minputs\u001b[0m\u001b[0;34m=\u001b[0m\u001b[0minputs\u001b[0m\u001b[0;34m,\u001b[0m\u001b[0;34m\u001b[0m\u001b[0;34m\u001b[0m\u001b[0m\n\u001b[1;32m    491\u001b[0m             )\n\u001b[0;32m--> 492\u001b[0;31m         torch.autograd.backward(\n\u001b[0m\u001b[1;32m    493\u001b[0m             \u001b[0mself\u001b[0m\u001b[0;34m,\u001b[0m \u001b[0mgradient\u001b[0m\u001b[0;34m,\u001b[0m \u001b[0mretain_graph\u001b[0m\u001b[0;34m,\u001b[0m \u001b[0mcreate_graph\u001b[0m\u001b[0;34m,\u001b[0m \u001b[0minputs\u001b[0m\u001b[0;34m=\u001b[0m\u001b[0minputs\u001b[0m\u001b[0;34m\u001b[0m\u001b[0;34m\u001b[0m\u001b[0m\n\u001b[1;32m    494\u001b[0m         )\n",
            "\u001b[0;32m/usr/local/lib/python3.10/dist-packages/torch/autograd/__init__.py\u001b[0m in \u001b[0;36mbackward\u001b[0;34m(tensors, grad_tensors, retain_graph, create_graph, grad_variables, inputs)\u001b[0m\n\u001b[1;32m    249\u001b[0m     \u001b[0;31m# some Python versions print out the first line of a multi-line function\u001b[0m\u001b[0;34m\u001b[0m\u001b[0;34m\u001b[0m\u001b[0m\n\u001b[1;32m    250\u001b[0m     \u001b[0;31m# calls in the traceback and some print out the last line\u001b[0m\u001b[0;34m\u001b[0m\u001b[0;34m\u001b[0m\u001b[0m\n\u001b[0;32m--> 251\u001b[0;31m     Variable._execution_engine.run_backward(  # Calls into the C++ engine to run the backward pass\n\u001b[0m\u001b[1;32m    252\u001b[0m         \u001b[0mtensors\u001b[0m\u001b[0;34m,\u001b[0m\u001b[0;34m\u001b[0m\u001b[0;34m\u001b[0m\u001b[0m\n\u001b[1;32m    253\u001b[0m         \u001b[0mgrad_tensors_\u001b[0m\u001b[0;34m,\u001b[0m\u001b[0;34m\u001b[0m\u001b[0;34m\u001b[0m\u001b[0m\n",
            "\u001b[0;31mKeyboardInterrupt\u001b[0m: "
          ]
        }
      ],
      "source": [
        "d = 9  # dim(phi) = d + 1,\n",
        "num_samples = 50\n",
        "\n",
        "\n",
        "def step_func(x):\n",
        "    \"\"\"A step function (odd parity) which maps all values <= 0 to -1\n",
        "    and all values > 0 to +1.\n",
        "    \"\"\"\n",
        "    res = [-1.0 if x_i <= 0 else 1.0 for x_i in x]\n",
        "    return torch.tensor(res, requires_grad=False, dtype=torch.float)\n",
        "\n",
        "\n",
        "a_vals = np.linspace(-1, 1, num_samples)\n",
        "y_true = step_func(a_vals)\n",
        "\n",
        "qsp_model_runner = Model_Runner(QSP_Func_Fit, d, num_samples, a_vals, generate_many_sro, y_true)\n",
        "\n",
        "qsp_model_runner.execute()\n",
        "qsp_model_runner.plot_result()"
      ]
    },
    {
      "cell_type": "markdown",
      "metadata": {
        "id": "hrhFnaMicBop"
      },
      "source": [
        "::: {.rst-class}\n",
        "sphx-glr-script-out\n",
        "\n",
        "Out:\n",
        "\n",
        "``` {.none}\n",
        "---- iter: 0, loss: 33.8345 -----\n",
        "---- iter: 1000, loss: 19.0937 -----\n",
        "---- iter: 2000, loss: 11.6557 -----\n",
        "---- iter: 3000, loss: 8.2853 -----\n",
        "---- iter: 4000, loss: 6.6824 -----\n",
        "---- iter: 5000, loss: 5.8523 -----\n",
        "---- iter: 6000, loss: 5.3855 -----\n",
        "---- iter: 7000, loss: 5.1036 -----\n",
        "---- iter: 8000, loss: 4.9227 -----\n",
        "---- iter: 9000, loss: 4.8004 -----\n",
        "---- iter: 10000, loss: 4.7138 -----\n",
        "---- iter: 11000, loss: 4.6502 -----\n",
        "---- iter: 12000, loss: 4.6018 -----\n",
        "---- iter: 13000, loss: 4.5638 -----\n",
        "---- iter: 14000, loss: 4.5333 -----\n",
        "---- iter: 15000, loss: 4.5082 -----\n",
        "---- iter: 16000, loss: 4.4872 -----\n",
        "---- iter: 17000, loss: 4.4693 -----\n",
        "---- iter: 18000, loss: 4.4537 -----\n",
        "---- iter: 19000, loss: 4.4401 -----\n",
        "---- iter: 20000, loss: 4.4281 -----\n",
        "---- iter: 21000, loss: 4.4174 -----\n",
        "---- iter: 22000, loss: 4.4078 -----\n",
        "---- iter: 23000, loss: 4.3991 -----\n",
        "---- iter: 24000, loss: 4.3912 -----\n",
        "---- iter: 25000, loss: 4.3839 -----\n",
        "```\n",
        "\n",
        "![](../demonstrations/function_fitting_qsp/trained_step.png){.align-center\n",
        "width=\"50.0%\"}\n",
        ":::\n"
      ]
    },
    {
      "cell_type": "code",
      "source": [
        "seconds = time.time()\n",
        "print(\"Time in seconds since end of run:\", seconds)\n",
        "local_time = time.ctime(seconds)\n",
        "print(local_time)"
      ],
      "metadata": {
        "id": "-iqvB4zXku3B"
      },
      "execution_count": null,
      "outputs": []
    },
    {
      "cell_type": "markdown",
      "metadata": {
        "id": "QWCru-kdcBop"
      },
      "source": [
        "Conclusion\n",
        "==========\n",
        "\n",
        "In this demo, we explored the Quantum Signal Processing theorem, which\n",
        "is a method to perform polynomial transformations on the entries of the\n",
        "SRO $\\hat{W}(a)$. This polynomial transformation arises from the\n",
        "repeated application of $\\hat{W}(a)$ and the parameterized Z-axis\n",
        "rotations $e^{i \\phi \\hat{Z}}$. Note, the SRO is itself a\n",
        "transformation, in this case a rotation around the X-axis by\n",
        "$\\theta = -2 \\cos^{-1}(a)$, which rotates our basis. Thus the underlying\n",
        "principal of quantum signal processing is that we can generate\n",
        "polynomial transformations through parameterized rotations along a\n",
        "principal axis followed by change of basis transformations which\n",
        "re-orients this axis.\n",
        "\n",
        "This is the same principal at the heart of QSVT. In this case the\n",
        "subspace in which we apply our parameterized rotations is defined by the\n",
        "singular vectors, the change of basis transformation takes us between\n",
        "these subspaces and this allows us to apply polynomial transformations\n",
        "on the singular values of our matrix of interest.\n",
        "\n",
        "We also showed that one could use a simple gradient descent model to\n",
        "train a parameter vector $\\vec{\\phi}$ to generate reasonably good\n",
        "polynomial approximations of arbitrary functions (provided the function\n",
        "satisfied the same constraints). This isn\\'t the only way to compute the\n",
        "optimal values. It turns out there exist *efficient* algorithms for\n",
        "explicitly computing the optimal values for $\\vec{\\phi}$ known as\n",
        "\\\"Remez-type exchange algorithms\\\" for analytic function fitting. If you\n",
        "want to explore other approaches to function fitting, checkout this\n",
        "[demo](https://pennylane.ai/qml/demos/quantum_neural_net.html) where we\n",
        "use a photonic neural network for function fitting.\n"
      ]
    },
    {
      "cell_type": "markdown",
      "metadata": {
        "id": "Kg7gBQNScBop"
      },
      "source": [
        "![](../demonstrations/function_fitting_qsp/trained_step.gif){.align-center\n",
        "width=\"50.0%\"}\n"
      ]
    },
    {
      "cell_type": "markdown",
      "metadata": {
        "id": "3vu4e3m1cBop"
      },
      "source": [
        "References\n",
        "==========\n",
        "\n",
        "\\[1\\]: *John M. Martyn, Zane M. Rossi, Andrew K. Tan, Isaac L. Chuang.\n",
        "\"A Grand Unification of Quantum Algorithms\"* [PRX Quantum 2,\n",
        "040203](https://arxiv.org/abs/2105.02859)*, 2021.*\n",
        "\n",
        "About the author\n",
        "================\n"
      ]
    }
  ],
  "metadata": {
    "kernelspec": {
      "display_name": "Python 3",
      "language": "python",
      "name": "python3"
    },
    "language_info": {
      "codemirror_mode": {
        "name": "ipython",
        "version": 3
      },
      "file_extension": ".py",
      "mimetype": "text/x-python",
      "name": "python",
      "nbconvert_exporter": "python",
      "pygments_lexer": "ipython3",
      "version": "3.9.17"
    },
    "colab": {
      "provenance": []
    }
  },
  "nbformat": 4,
  "nbformat_minor": 0
}