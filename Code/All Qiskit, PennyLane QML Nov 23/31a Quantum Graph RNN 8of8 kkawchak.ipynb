{
  "cells": [
    {
      "cell_type": "code",
      "execution_count": 62,
      "metadata": {
        "id": "e-qZmPKaLbJ7"
      },
      "outputs": [],
      "source": [
        "# This cell is added by sphinx-gallery\n",
        "# It can be customized to whatever you like\n",
        "%matplotlib inline\n",
        "# !pip install pennylane"
      ]
    },
    {
      "cell_type": "markdown",
      "metadata": {
        "id": "ZPrrGxMTLbJ7"
      },
      "source": [
        "The Quantum Graph Recurrent Neural Network\n",
        "==========================================\n",
        "\n",
        "::: {.meta}\n",
        ":property=\\\"og:description\\\": Using a quantum graph recurrent neural\n",
        "network to learn quantum dynamics. :property=\\\"og:image\\\":\n",
        "<https://pennylane.ai/qml/_images/qgrnn_thumbnail.png>\n",
        ":::\n",
        "\n",
        "*Author: Jack Ceroni --- Posted: 27 July 2020. Last updated: 25 March\n",
        "2021.*\n"
      ]
    },
    {
      "cell_type": "markdown",
      "metadata": {
        "id": "CU3x_5JALbJ8"
      },
      "source": [
        "This demonstration investigates quantum graph recurrent neural networks\n",
        "(QGRNN), which are the quantum analogue of a classical graph recurrent\n",
        "neural network, and a subclass of the more general quantum graph neural\n",
        "network ansatz. Both the QGNN and QGRNN were introduced in [this paper\n",
        "(2019)](https://arxiv.org/abs/1909.12264).\n"
      ]
    },
    {
      "cell_type": "markdown",
      "metadata": {
        "id": "3M64CbeaLbJ8"
      },
      "source": [
        "The Idea\n",
        "========\n"
      ]
    },
    {
      "cell_type": "markdown",
      "metadata": {
        "id": "H3vGd3-BLbJ8"
      },
      "source": [
        "A graph is defined as a set of *nodes* along with a set of **edges**,\n",
        "which represent connections between nodes. Information can be encoded\n",
        "into graphs by assigning numbers to nodes and edges, which we call\n",
        "**weights**. It is usually convenient to think of a graph visually:\n",
        "\n",
        "![image](../demonstrations/qgrnn/graph.png){.align-center width=\"70.0%\"}\n",
        "\n",
        "In recent years, the concept of a [graph neural\n",
        "network](https://arxiv.org/abs/1812.08434) (GNN) has been receiving a\n",
        "lot of attention from the machine learning community. A GNN seeks to\n",
        "learn a representation (a mapping of data into a low-dimensional vector\n",
        "space) of a given graph with feature vectors assigned to nodes and\n",
        "edges. Each of the vectors in the learned representation preserves not\n",
        "only the features, but also the overall topology of the graph, i.e.,\n",
        "which nodes are connected by edges. The quantum graph neural network\n",
        "attempts to do something similar, but for features that are\n",
        "quantum-mechanical; for instance, a collection of quantum states.\n"
      ]
    },
    {
      "cell_type": "markdown",
      "metadata": {
        "id": "T3MTH5BWLbJ8"
      },
      "source": [
        "Consider the class of qubit Hamiltonians that are *quadratic*, meaning\n",
        "that the terms of the Hamiltonian represent either interactions between\n",
        "two qubits, or the energy of individual qubits. This class of\n",
        "Hamiltonians is naturally described by graphs, with second-order terms\n",
        "between qubits corresponding to weighted edges between nodes, and\n",
        "first-order terms corresponding to node weights.\n",
        "\n",
        "A well known example of a quadratic Hamiltonian is the transverse-field\n",
        "Ising model, which is defined as\n",
        "\n",
        "$$\\hat{H}_{\\text{Ising}}(\\boldsymbol\\theta) \\ = \\ \\displaystyle\\sum_{(i, j) \\in E}\n",
        "\\theta_{ij}^{(1)} Z_{i} Z_{j} \\ + \\ \\displaystyle\\sum_{i} \\theta_{i}^{(2)} Z_{i} \\ + \\\n",
        "\\displaystyle\\sum_{i} X_{i},$$\n",
        "\n",
        "where $\\boldsymbol\\theta \\ = \\ \\{\\theta^{(1)}, \\ \\theta^{(2)}\\}$. In\n",
        "this Hamiltonian, the set $E$ that determines which pairs of qubits have\n",
        "$ZZ$ interactions can be represented by the set of edges for some graph.\n",
        "With the qubits as nodes, this graph is called the *interaction graph*.\n",
        "The $\\theta^{(1)}$ parameters correspond to the edge weights and the\n",
        "$\\theta^{(2)}$ parameters correspond to weights on the nodes.\n"
      ]
    },
    {
      "cell_type": "markdown",
      "metadata": {
        "id": "4fIzrPwnLbJ9"
      },
      "source": [
        "This result implies that we can think about *quantum circuits* with\n",
        "graph-theoretic properties. Recall that the time-evolution operator with\n",
        "respect to some Hamiltonian $H$ is defined as:\n",
        "\n",
        "$$U \\ = \\ e^{-it H}.$$\n",
        "\n",
        "Thus, we have a clean way of taking quadratic Hamiltonians and turning\n",
        "them into unitaries (quantum circuits) that preserve the same\n",
        "correspondance to a graph. In the case of the Ising Hamiltonian, we\n",
        "have:\n",
        "\n",
        "$$U_{\\text{Ising}} \\ = \\ e^{-it \\hat{H}_{\\text{Ising}} (\\boldsymbol\\theta)} \\ = \\ \\exp \\Big[ -it\n",
        "\\Big( \\displaystyle\\sum_{(i, j) \\in E} \\theta_{ij}^{(1)} Z_{i} Z_{j} \\ + \\\n",
        "\\displaystyle\\sum_{i} \\theta_{i}^{(2)} Z_{i} \\ + \\ \\displaystyle\\sum_{i} X_{i} \\Big) \\Big]$$\n",
        "\n",
        "In general, this kind of unitary is very difficult to implement on a\n",
        "quantum computer. However, we can approximate it using the\n",
        "[Trotter-Suzuki\n",
        "decomposition](https://en.wikipedia.org/wiki/Time-evolving_block_decimation#The_Suzuki-Trotter_expansion):\n",
        "\n",
        "$$\\exp \\Big[ -it \\Big( \\displaystyle\\sum_{(i, j) \\in E} \\theta_{ij}^{(1)} Z_{i} Z_{j} \\ + \\\n",
        "\\displaystyle\\sum_{i} \\theta_{i}^{(2)} Z_{i} \\ + \\ \\displaystyle\\sum_{i} X_{i} \\Big) \\Big]\n",
        "\\ \\approx \\ \\displaystyle\\prod_{k \\ = \\ 1}^{t / \\Delta} \\Bigg[ \\displaystyle\\prod_{j \\ = \\\n",
        "1}^{Q} e^{-i \\Delta \\hat{H}_{\\text{Ising}}^{j}(\\boldsymbol\\theta)} \\Bigg]$$\n",
        "\n",
        "where $\\hat{H}_{\\text{Ising}}^{j}(\\boldsymbol\\theta)$ is the $j$-th term\n",
        "of the Ising Hamiltonian and $\\Delta$ is some small number.\n",
        "\n",
        "This circuit is a specific instance of the **Quantum Graph Recurrent\n",
        "Neural Network**, which in general is defined as a variational ansatz of\n",
        "the form\n",
        "\n",
        "$$U_{H}(\\boldsymbol\\mu, \\ \\boldsymbol\\gamma) \\ = \\ \\displaystyle\\prod_{i \\ = \\ 1}^{P} \\Bigg[\n",
        "\\displaystyle\\prod_{j \\ = \\ 1}^{Q} e^{-i \\gamma_j H^{j}(\\boldsymbol\\mu)} \\Bigg],$$\n",
        "\n",
        "for some parametrized quadratic Hamiltonian, $H(\\boldsymbol\\mu)$.\n"
      ]
    },
    {
      "cell_type": "markdown",
      "metadata": {
        "id": "uKXgaaF1LbJ9"
      },
      "source": [
        "Using the QGRNN\n",
        "===============\n"
      ]
    },
    {
      "cell_type": "markdown",
      "metadata": {
        "id": "GDA7lU2tLbJ9"
      },
      "source": [
        "Since the QGRNN ansatz is equivalent to the approximate time evolution\n",
        "of some quadratic Hamiltonian, we can use it to learn the dynamics of a\n",
        "quantum system.\n",
        "\n",
        "Continuing with the Ising model example, let\\'s imagine we have some\n",
        "system governed by $\\hat{H}_{\\text{Ising}}(\\boldsymbol\\alpha)$ for an\n",
        "unknown set of target parameters, $\\boldsymbol\\alpha$ and an unknown\n",
        "interaction graph $G$. Let\\'s also suppose we have access to copies of\n",
        "some low-energy, non-ground state of the target Hamiltonian,\n",
        "$|\\psi_0\\rangle$. In addition, we have access to a collection of\n",
        "time-evolved states,\n",
        "$\\{ |\\psi(t_1)\\rangle, \\ |\\psi(t_2)\\rangle, \\ ..., \\ |\\psi(t_N)\\rangle \\}$,\n",
        "defined by:\n",
        "\n",
        "$$|\\psi(t_k)\\rangle \\ = \\ e^{-i t_k \\hat{H}_{\\text{Ising}}(\\boldsymbol\\alpha)} |\\psi_0\\rangle.$$\n",
        "\n",
        "We call the low-energy states and the collection of time-evolved states\n",
        "*quantum data*. From here, we randomly pick a number of time-evolved\n",
        "states from our collection. For any state that we choose, which is\n",
        "evolved to some time $t_k$, we compare it to\n",
        "\n",
        "$$U_{\\hat{H}_{\\text{Ising}}}(\\boldsymbol\\mu, \\ \\Delta) |\\psi_0\\rangle \\ \\approx \\ e^{-i t_k\n",
        "\\hat{H}_{\\text{Ising}}(\\boldsymbol\\mu)} |\\psi_0\\rangle.$$\n",
        "\n",
        "This is done by feeding one of the copies of $|\\psi_0\\rangle$ into a\n",
        "quantum circuit with the QGRNN ansatz, with some guessed set of\n",
        "parameters $\\boldsymbol\\mu$ and a guessed interaction graph, $G'$. We\n",
        "then use a classical optimizer to maximize the average \\\"similarity\\\"\n",
        "between the time-evolved states and the states prepared with the QGRNN.\n",
        "\n",
        "As the QGRNN states becomes more similar to each time-evolved state for\n",
        "each sampled time, it follows that\n",
        "$\\boldsymbol\\mu \\ \\rightarrow \\ \\boldsymbol\\alpha$ and we are able to\n",
        "learn the unknown parameters of the Hamiltonian.\n",
        "\n",
        "![A visual representation of one execution of the QGRNN for one piece of\n",
        "quantum data.](../demonstrations/qgrnn/qgrnn3.png){.align-center\n",
        "width=\"90.0%\"}\n"
      ]
    },
    {
      "cell_type": "markdown",
      "metadata": {
        "id": "hYWy2SBeLbJ9"
      },
      "source": [
        "Learning an Ising Model with the QGRNN\n",
        "======================================\n"
      ]
    },
    {
      "cell_type": "markdown",
      "metadata": {
        "id": "HlWNWZZULbJ9"
      },
      "source": [
        "We now attempt to use the QGRNN to learn the parameters corresponding to\n",
        "an arbitrary transverse-field Ising model Hamiltonian.\n"
      ]
    },
    {
      "cell_type": "markdown",
      "metadata": {
        "id": "GpdeYnFwLbJ-"
      },
      "source": [
        "Getting Started\n",
        "===============\n"
      ]
    },
    {
      "cell_type": "markdown",
      "metadata": {
        "id": "-5FbshFpLbJ-"
      },
      "source": [
        "We begin by importing the necessary dependencies:\n"
      ]
    },
    {
      "cell_type": "code",
      "execution_count": 63,
      "metadata": {
        "id": "WoSjhgrvLbJ_"
      },
      "outputs": [],
      "source": [
        "import pennylane as qml\n",
        "from matplotlib import pyplot as plt\n",
        "from pennylane import numpy as np\n",
        "import scipy\n",
        "import networkx as nx\n",
        "import copy"
      ]
    },
    {
      "cell_type": "markdown",
      "metadata": {
        "id": "SgJGdX-wLbJ_"
      },
      "source": [
        "We also define some fixed values that are used throughout the\n",
        "simulation.\n"
      ]
    },
    {
      "cell_type": "code",
      "execution_count": 64,
      "metadata": {
        "id": "FCZr2sEhLbJ_"
      },
      "outputs": [],
      "source": [
        "qubit_number = 4\n",
        "qubits = range(qubit_number)"
      ]
    },
    {
      "cell_type": "markdown",
      "metadata": {
        "id": "LLRw3rbhLbJ_"
      },
      "source": [
        "In this simulation, we don\\'t have quantum data readily available to\n",
        "pass into the QGRNN, so we have to generate it ourselves. To do this, we\n",
        "must have knowledge of the target interaction graph and the target\n",
        "Hamiltonian.\n",
        "\n",
        "Let us use the following cyclic graph as the target interaction graph of\n",
        "the Ising Hamiltonian:\n"
      ]
    },
    {
      "cell_type": "code",
      "execution_count": 65,
      "metadata": {
        "colab": {
          "base_uri": "https://localhost:8080/",
          "height": 534
        },
        "id": "BBidusUTLbJ_",
        "outputId": "cd3690af-48c6-4b0d-96bf-1daeb63a530c"
      },
      "outputs": [
        {
          "output_type": "stream",
          "name": "stdout",
          "text": [
            "Edges: [(0, 1), (0, 3), (1, 2), (2, 3)]\n"
          ]
        },
        {
          "output_type": "display_data",
          "data": {
            "text/plain": [
              "<Figure size 640x480 with 1 Axes>"
            ],
            "image/png": "[encoded data removed]"
          },
          "metadata": {}
        }
      ],
      "source": [
        "ising_graph = nx.cycle_graph(qubit_number)\n",
        "\n",
        "print(f\"Edges: {ising_graph.edges}\")\n",
        "nx.draw(ising_graph)"
      ]
    },
    {
      "cell_type": "markdown",
      "metadata": {
        "id": "U1Dum11GLbJ_"
      },
      "source": [
        "We can then initialize the \"unknown\" target parameters that describe the\n",
        "target Hamiltonian,\n",
        "$\\boldsymbol\\alpha \\ = \\ \\{\\alpha^{(1)}, \\ \\alpha^{(2)}\\}$. Recall from\n",
        "the introduction that we have defined our parametrized Ising Hamiltonian\n",
        "to be of the form:\n",
        "\n",
        "$$\\hat{H}_{\\text{Ising}}(\\boldsymbol\\theta) \\ = \\ \\displaystyle\\sum_{(i, j) \\in E}\n",
        "\\theta_{ij}^{(1)} Z_{i} Z_{j} \\ + \\ \\displaystyle\\sum_{i} \\theta_{i}^{(2)} Z_{i} \\ + \\\n",
        "\\displaystyle\\sum_{i} X_{i},$$\n",
        "\n",
        "where $E$ is the set of edges in the interaction graph, and $X_i$ and\n",
        "$Z_i$ are the Pauli-X and Pauli-Z on the $i$-th qubit.\n",
        "\n",
        "For this tutorial, we choose the target parameters by sampling from a\n",
        "uniform probability distribution ranging from $-2$ to $2$, with\n",
        "two-decimal precision.\n"
      ]
    },
    {
      "cell_type": "code",
      "execution_count": 66,
      "metadata": {
        "id": "dguKYJmcLbJ_"
      },
      "outputs": [],
      "source": [
        "target_weights = [0.56, 1.24, 1.67, -0.79]\n",
        "target_bias = [-1.44, -1.43, 1.18, -0.93]"
      ]
    },
    {
      "cell_type": "markdown",
      "metadata": {
        "id": "AiyO6svHLbJ_"
      },
      "source": [
        "In theory, these parameters can be any value we want, provided they are\n",
        "reasonably small enough that the QGRNN can reach them in a tractable\n",
        "number of optimization steps. In `matrix_params`, the first list\n",
        "represents the $ZZ$ interaction parameters and the second list\n",
        "represents the single-qubit $Z$ parameters.\n",
        "\n",
        "Finally, we use this information to generate the matrix form of the\n",
        "Ising model Hamiltonian in the computational basis:\n"
      ]
    },
    {
      "cell_type": "code",
      "execution_count": 67,
      "metadata": {
        "colab": {
          "base_uri": "https://localhost:8080/",
          "height": 437
        },
        "id": "xDSq-w2_LbJ_",
        "outputId": "b44d353e-345e-4409-c18d-52763b0aa3b4"
      },
      "outputs": [
        {
          "output_type": "display_data",
          "data": {
            "text/plain": [
              "<Figure size 480x480 with 1 Axes>"
            ],
            "image/png": "[encoded data removed]"
          },
          "metadata": {}
        }
      ],
      "source": [
        "def create_hamiltonian_matrix(n_qubits, graph, weights, bias):\n",
        "\n",
        "    full_matrix = np.zeros((2 ** n_qubits, 2 ** n_qubits))\n",
        "\n",
        "    # Creates the interaction component of the Hamiltonian\n",
        "    for i, edge in enumerate(graph.edges):\n",
        "        interaction_term = 1\n",
        "        for qubit in range(0, n_qubits):\n",
        "            if qubit in edge:\n",
        "                interaction_term = np.kron(interaction_term, qml.matrix(qml.PauliZ)(0))\n",
        "            else:\n",
        "                interaction_term = np.kron(interaction_term, np.identity(2))\n",
        "        full_matrix += weights[i] * interaction_term\n",
        "\n",
        "    # Creates the bias components of the matrix\n",
        "    for i in range(0, n_qubits):\n",
        "        z_term = x_term = 1\n",
        "        for j in range(0, n_qubits):\n",
        "            if j == i:\n",
        "                z_term = np.kron(z_term, qml.matrix(qml.PauliZ)(0))\n",
        "                x_term = np.kron(x_term, qml.matrix(qml.PauliX)(0))\n",
        "            else:\n",
        "                z_term = np.kron(z_term, np.identity(2))\n",
        "                x_term = np.kron(x_term, np.identity(2))\n",
        "        full_matrix += bias[i] * z_term + x_term\n",
        "\n",
        "    return full_matrix\n",
        "\n",
        "\n",
        "# Prints a visual representation of the Hamiltonian matrix\n",
        "ham_matrix = create_hamiltonian_matrix(qubit_number, ising_graph, target_weights, target_bias)\n",
        "plt.matshow(ham_matrix, cmap=\"hot\")\n",
        "plt.show()"
      ]
    },
    {
      "cell_type": "markdown",
      "metadata": {
        "id": "EZSqkuz8LbJ_"
      },
      "source": [
        "Preparing Quantum Data\n",
        "======================\n"
      ]
    },
    {
      "cell_type": "markdown",
      "metadata": {
        "id": "PmSFvIn5LbJ_"
      },
      "source": [
        "The collection of quantum data needed to run the QGRNN has two\n",
        "components: (i) copies of a low-energy state, and (ii) a collection of\n",
        "time-evolved states, each of which are simply the low-energy state\n",
        "evolved to different times. The following is a low-energy state of the\n",
        "target Hamiltonian:\n"
      ]
    },
    {
      "cell_type": "code",
      "execution_count": 68,
      "metadata": {
        "id": "TvhFkhYOLbJ_"
      },
      "outputs": [],
      "source": [
        "low_energy_state = [\n",
        "    (-0.054661080280306085 + 0.016713907320174026j),\n",
        "    (0.12290003656489545 - 0.03758500591109822j),\n",
        "    (0.3649337966440005 - 0.11158863596657455j),\n",
        "    (-0.8205175732627094 + 0.25093231967092877j),\n",
        "    (0.010369790825776609 - 0.0031706387262686003j),\n",
        "    (-0.02331544978544721 + 0.007129899300113728j),\n",
        "    (-0.06923183949694546 + 0.0211684344103713j),\n",
        "    (0.15566094863283836 - 0.04760201916285508j),\n",
        "    (0.014520590919500158 - 0.004441887836078486j),\n",
        "    (-0.032648113364535575 + 0.009988590222879195j),\n",
        "    (-0.09694382811137187 + 0.02965579457620536j),\n",
        "    (0.21796861485652747 - 0.06668776658411019j),\n",
        "    (-0.0027547112135013247 + 0.0008426289322652901j),\n",
        "    (0.006193695872468649 - 0.0018948418969390599j),\n",
        "    (0.018391279795405405 - 0.005625722994009138j),\n",
        "    (-0.041350974715649635 + 0.012650711602265649j),\n",
        "]"
      ]
    },
    {
      "cell_type": "markdown",
      "metadata": {
        "id": "nZ5F5vM7LbJ_"
      },
      "source": [
        "This state can be obtained by using a decoupled version of the\n",
        "`Variational Quantum Eigensolver </demos/tutorial_vqe>`{.interpreted-text\n",
        "role=\"doc\"} algorithm (VQE). Essentially, we choose a VQE ansatz such\n",
        "that the circuit cannot learn the exact ground state, but it can get\n",
        "fairly close. Another way to arrive at the same result is to perform VQE\n",
        "with a reasonable ansatz, but to terminate the algorithm before it\n",
        "converges to the ground state. If we used the exact ground state\n",
        "$|\\psi_0\\rangle$, the time-dependence would be trivial and the data\n",
        "would not provide enough information about the Hamiltonian parameters.\n",
        "\n",
        "We can verify that this is a low-energy state by numerically finding the\n",
        "lowest eigenvalue of the Hamiltonian and comparing it to the energy\n",
        "expectation of this low-energy state:\n"
      ]
    },
    {
      "cell_type": "code",
      "execution_count": 69,
      "metadata": {
        "colab": {
          "base_uri": "https://localhost:8080/",
          "height": 0
        },
        "id": "ZBpXVqTtLbJ_",
        "outputId": "24e5e819-1d3e-4ae2-a4fb-05a400e4d001"
      },
      "outputs": [
        {
          "output_type": "stream",
          "name": "stdout",
          "text": [
            "Energy Expectation: -7.244508985189116\n",
            "Ground State Energy: -7.330689661291244\n"
          ]
        }
      ],
      "source": [
        "res = np.vdot(low_energy_state, (ham_matrix @ low_energy_state))\n",
        "energy_exp = np.real_if_close(res)\n",
        "print(f\"Energy Expectation: {energy_exp}\")\n",
        "\n",
        "\n",
        "ground_state_energy = np.real_if_close(min(np.linalg.eig(ham_matrix)[0]))\n",
        "print(f\"Ground State Energy: {ground_state_energy}\")"
      ]
    },
    {
      "cell_type": "markdown",
      "metadata": {
        "id": "dQRr5pFSLbKA"
      },
      "source": [
        "We have in fact found a low-energy, non-ground state, as the energy\n",
        "expectation is slightly greater than the energy of the true ground\n",
        "state. This, however, is only half of the information we need. We also\n",
        "require a collection of time-evolved, low-energy states. Evolving the\n",
        "low-energy state forward in time is fairly straightforward: all we have\n",
        "to do is multiply the initial state by a time-evolution unitary. This\n",
        "operation can be defined as a custom gate in PennyLane:\n"
      ]
    },
    {
      "cell_type": "code",
      "execution_count": 70,
      "metadata": {
        "id": "zxIkTaPiLbKA"
      },
      "outputs": [],
      "source": [
        "def state_evolve(hamiltonian, qubits, time):\n",
        "\n",
        "    U = scipy.linalg.expm(-1j * hamiltonian * time)\n",
        "    qml.QubitUnitary(U, wires=qubits)"
      ]
    },
    {
      "cell_type": "markdown",
      "metadata": {
        "id": "auVMu4Q4LbKA"
      },
      "source": [
        "We don\\'t actually generate time-evolved quantum data quite yet, but we\n",
        "now have all the pieces required for its preparation.\n"
      ]
    },
    {
      "cell_type": "markdown",
      "metadata": {
        "id": "XUMWybNQLbKA"
      },
      "source": [
        "Learning the Hamiltonian\n",
        "========================\n"
      ]
    },
    {
      "cell_type": "markdown",
      "metadata": {
        "id": "TrYpMK0NLbKA"
      },
      "source": [
        "With the quantum data defined, we are able to construct the QGRNN and\n",
        "learn the target Hamiltonian. Each of the exponentiated Hamiltonians in\n",
        "the QGRNN ansatz, $\\hat{H}^{j}_{\\text{Ising}}(\\boldsymbol\\mu)$, are the\n",
        "$ZZ$, $Z$, and $X$ terms from the Ising Hamiltonian. This gives:\n"
      ]
    },
    {
      "cell_type": "code",
      "execution_count": 71,
      "metadata": {
        "id": "RewvANn3LbKA"
      },
      "outputs": [],
      "source": [
        "def qgrnn_layer(weights, bias, qubits, graph, trotter_step):\n",
        "\n",
        "    # Applies a layer of RZZ gates (based on a graph)\n",
        "    for i, edge in enumerate(graph.edges):\n",
        "        qml.MultiRZ(2 * weights[i] * trotter_step, wires=(edge[0], edge[1]))\n",
        "\n",
        "    # Applies a layer of RZ gates\n",
        "    for i, qubit in enumerate(qubits):\n",
        "        qml.RZ(2 * bias[i] * trotter_step, wires=qubit)\n",
        "\n",
        "    # Applies a layer of RX gates\n",
        "    for qubit in qubits:\n",
        "        qml.RX(2 * trotter_step, wires=qubit)"
      ]
    },
    {
      "cell_type": "markdown",
      "metadata": {
        "id": "ZcYEXhauLbKA"
      },
      "source": [
        "As was mentioned in the first section, the QGRNN has two registers. In\n",
        "one register, some piece of quantum data $|\\psi(t)\\rangle$ is prepared\n",
        "and in the other we have\n",
        "$U_{H}(\\boldsymbol\\mu, \\ \\Delta) |\\psi_0\\rangle$. We need a way to\n",
        "measure the similarity between these states. This can be done by using\n",
        "the fidelity, which is simply the modulus squared of the inner product\n",
        "between the states,\n",
        "$| \\langle \\psi(t) | U_{H}(\\Delta, \\ \\boldsymbol\\mu) |\\psi_0\\rangle |^2$.\n",
        "To calculate this value, we use a [SWAP\n",
        "test](https://en.wikipedia.org/wiki/Swap_test) between the registers:\n"
      ]
    },
    {
      "cell_type": "code",
      "execution_count": 72,
      "metadata": {
        "id": "-5RqUqBKLbKA"
      },
      "outputs": [],
      "source": [
        "def swap_test(control, register1, register2):\n",
        "\n",
        "    qml.Hadamard(wires=control)\n",
        "    for reg1_qubit, reg2_qubit in zip(register1, register2):\n",
        "        qml.CSWAP(wires=(control, reg1_qubit, reg2_qubit))\n",
        "    qml.Hadamard(wires=control)"
      ]
    },
    {
      "cell_type": "markdown",
      "metadata": {
        "id": "To4GLL8VLbKA"
      },
      "source": [
        "After performing this procedure, the value returned from a measurement\n",
        "of the circuit is $\\langle Z \\rangle$, with respect to the `control`\n",
        "qubit. The probability of measuring the $|0\\rangle$ state in this\n",
        "control qubit is related to both the fidelity between registers and\n",
        "$\\langle Z \\rangle$. Thus, with a bit of algebra, we find that\n",
        "$\\langle Z \\rangle$ is equal to the fidelity.\n",
        "\n",
        "Before creating the full QGRNN and the cost function, we define a few\n",
        "more fixed values. Among these is a \\\"guessed\\\" interaction graph, which\n",
        "we set to be a [complete\n",
        "graph](https://en.wikipedia.org/wiki/Complete_graph). This choice is\n",
        "motivated by the fact that any target interaction graph will be a\n",
        "subgraph of this initial guess. Part of the idea behind the QGRNN is\n",
        "that we don't know the interaction graph, and it has to be learned. In\n",
        "this case, the graph is learned *automatically* as the target parameters\n",
        "are optimized. The $\\boldsymbol\\mu$ parameters that correspond to edges\n",
        "that don\\'t exist in the target graph will simply approach $0$.\n"
      ]
    },
    {
      "cell_type": "code",
      "execution_count": 73,
      "metadata": {
        "colab": {
          "base_uri": "https://localhost:8080/",
          "height": 534
        },
        "id": "C5JNAOMSLbKA",
        "outputId": "208b5841-e93b-42b0-a68c-308299c6a182"
      },
      "outputs": [
        {
          "output_type": "stream",
          "name": "stdout",
          "text": [
            "Edges: [(4, 5), (4, 6), (4, 7), (5, 6), (5, 7), (6, 7)]\n"
          ]
        },
        {
          "output_type": "display_data",
          "data": {
            "text/plain": [
              "<Figure size 640x480 with 1 Axes>"
            ],
            "image/png": "[encoded data removed]"
          },
          "metadata": {}
        }
      ],
      "source": [
        "# Defines some fixed values\n",
        "\n",
        "reg1 = tuple(range(qubit_number))  # First qubit register\n",
        "reg2 = tuple(range(qubit_number, 2 * qubit_number))  # Second qubit register\n",
        "\n",
        "control = 2 * qubit_number  # Index of control qubit\n",
        "trotter_step = 0.01  # Trotter step size\n",
        "\n",
        "# Defines the interaction graph for the new qubit system\n",
        "\n",
        "new_ising_graph = nx.complete_graph(reg2)\n",
        "\n",
        "print(f\"Edges: {new_ising_graph.edges}\")\n",
        "nx.draw(new_ising_graph)"
      ]
    },
    {
      "cell_type": "markdown",
      "metadata": {
        "id": "4fc6XyLdLbKA"
      },
      "source": [
        "With this done, we implement the QGRNN circuit for some given time\n",
        "value:\n"
      ]
    },
    {
      "cell_type": "code",
      "execution_count": 74,
      "metadata": {
        "id": "iu4hcd2oLbKA"
      },
      "outputs": [],
      "source": [
        "def qgrnn(weights, bias, time=None):\n",
        "\n",
        "    # Prepares the low energy state in the two registers\n",
        "    qml.QubitStateVector(np.kron(low_energy_state, low_energy_state), wires=reg1 + reg2)\n",
        "\n",
        "    # Evolves the first qubit register with the time-evolution circuit to\n",
        "    # prepare a piece of quantum data\n",
        "    state_evolve(ham_matrix, reg1, time)\n",
        "\n",
        "    # Applies the QGRNN layers to the second qubit register\n",
        "    depth = time / trotter_step  # P = t/Delta\n",
        "    for _ in range(0, int(depth)):\n",
        "        qgrnn_layer(weights, bias, reg2, new_ising_graph, trotter_step)\n",
        "\n",
        "    # Applies the SWAP test between the registers\n",
        "    swap_test(control, reg1, reg2)\n",
        "\n",
        "    # Returns the results of the SWAP test\n",
        "    return qml.expval(qml.PauliZ(control))"
      ]
    },
    {
      "cell_type": "markdown",
      "metadata": {
        "id": "zUGsNfnsLbKA"
      },
      "source": [
        "We have the full QGRNN circuit, but we still need to define a cost\n",
        "function. We know that\n",
        "$| \\langle \\psi(t) | U_{H}(\\boldsymbol\\mu, \\ \\Delta) |\\psi_0\\rangle |^2$\n",
        "approaches $1$ as the states become more similar and approaches $0$ as\n",
        "the states become orthogonal. Thus, we choose to minimize the quantity\n",
        "$-| \\langle \\psi(t) | U_{H}(\\boldsymbol\\mu, \\ \\Delta) |\\psi_0\\rangle |^2$.\n",
        "Since we are interested in calculating this value for many different\n",
        "pieces of quantum data, the final cost function is the average negative\n",
        "fidelity\\* between registers:\n",
        "\n",
        "$$\\mathcal{L}(\\boldsymbol\\mu, \\ \\Delta) \\ = \\ - \\frac{1}{N} \\displaystyle\\sum_{i \\ = \\ 1}^{N} |\n",
        "\\langle \\psi(t_i) | \\ U_{H}(\\boldsymbol\\mu, \\ \\Delta) \\ |\\psi_0\\rangle |^2,$$\n",
        "\n",
        "where we use $N$ pieces of quantum data.\n",
        "\n",
        "Before creating the cost function, we must define a few more fixed\n",
        "variables:\n"
      ]
    },
    {
      "cell_type": "code",
      "execution_count": 75,
      "metadata": {
        "id": "R7jK3kMqLbKB"
      },
      "outputs": [],
      "source": [
        "N = 15  # The number of pieces of quantum data that are used for each step\n",
        "max_time = 0.2  # The maximum value of time that can be used for quantum data"
      ]
    },
    {
      "cell_type": "markdown",
      "metadata": {
        "id": "X_e9a1jVLbKB"
      },
      "source": [
        "We then define the negative fidelity cost function:\n"
      ]
    },
    {
      "cell_type": "code",
      "execution_count": 76,
      "metadata": {
        "id": "qizc8MsqLbKB"
      },
      "outputs": [],
      "source": [
        "rng = np.random.default_rng(seed=42)\n",
        "\n",
        "def cost_function(weight_params, bias_params):\n",
        "\n",
        "    # Randomly samples times at which the QGRNN runs\n",
        "    times_sampled = rng.random(size=N) * max_time\n",
        "\n",
        "    # Cycles through each of the sampled times and calculates the cost\n",
        "    total_cost = 0\n",
        "    for dt in times_sampled:\n",
        "        result = qgrnn_qnode(weight_params, bias_params, time=dt)\n",
        "        total_cost += -1 * result\n",
        "\n",
        "    return total_cost / N"
      ]
    },
    {
      "cell_type": "markdown",
      "metadata": {
        "id": "m5WwkvDHLbKB"
      },
      "source": [
        "Next we set up for optimization.\n"
      ]
    },
    {
      "cell_type": "code",
      "execution_count": 77,
      "metadata": {
        "id": "3bzbEsNJLbKB"
      },
      "outputs": [],
      "source": [
        "# Defines the new device\n",
        "qgrnn_dev = qml.device(\"default.qubit\", wires=2 * qubit_number + 1)\n",
        "\n",
        "# Defines the new QNode\n",
        "qgrnn_qnode = qml.QNode(qgrnn, qgrnn_dev, interface=\"autograd\")\n",
        "\n",
        "steps = 300\n",
        "\n",
        "optimizer = qml.AdamOptimizer(stepsize=0.3)\n",
        "\n",
        "weights = rng.random(size=len(new_ising_graph.edges), requires_grad=True) - 0.5\n",
        "bias = rng.random(size=qubit_number, requires_grad=True) - 0.5\n",
        "\n",
        "initial_weights = copy.copy(weights)\n",
        "initial_bias = copy.copy(bias)"
      ]
    },
    {
      "cell_type": "markdown",
      "metadata": {
        "id": "Hik8L3erLbKB"
      },
      "source": [
        "All that remains is executing the optimization loop.\n"
      ]
    },
    {
      "cell_type": "code",
      "execution_count": 78,
      "metadata": {
        "colab": {
          "base_uri": "https://localhost:8080/",
          "height": 0
        },
        "id": "gPvXgB7MLbKB",
        "outputId": "5a6cae32-ba71-4c61-a7bd-7f8b4eae994e"
      },
      "outputs": [
        {
          "output_type": "stream",
          "name": "stdout",
          "text": [
            "Cost at Step 0: -0.9200037151976073\n",
            "Weights at Step 0: [-0.02604279  0.23887717  0.65859707  0.49736665 -0.10582356  0.17562328]\n",
            "Bias at Step 0: [-0.03885835 -0.01393335 -0.07188937  0.25038476]\n",
            "---------------------------------------------\n",
            "Cost at Step 5: -0.9876137799242335\n",
            "Weights at Step 5: [-0.81760068  1.07671595  1.07494562  1.60282598  0.31500454 -0.28622538]\n",
            "Bias at Step 5: [-0.67907189 -1.06371582  1.08870454  0.45516335]\n",
            "---------------------------------------------\n",
            "Cost at Step 10: -0.9939998594645669\n",
            "Weights at Step 10: [-0.43814796  0.80264963  0.57854353  1.85158146 -0.18336282  0.11078154]\n",
            "Bias at Step 10: [-0.12267109 -1.14443619  1.52017786 -0.1666818 ]\n",
            "---------------------------------------------\n",
            "Cost at Step 15: -0.9962208086076164\n",
            "Weights at Step 15: [-0.0458325   0.53694835  0.83652816  1.67543427 -0.04470958 -0.18638833]\n",
            "Bias at Step 15: [ 0.15793529 -0.84003603  1.48310022  0.06806457]\n",
            "---------------------------------------------\n",
            "Cost at Step 20: -0.9957637238497249\n",
            "Weights at Step 20: [-0.07603609  0.63861577  1.18121102  1.51006722  0.03769834 -0.36072003]\n",
            "Bias at Step 20: [-0.14566065 -0.67592464  1.28609151  0.19641753]\n",
            "---------------------------------------------\n",
            "Cost at Step 25: -0.9985000854660584\n",
            "Weights at Step 25: [-0.18753806  0.69333152  1.0960544   1.49819549 -0.28526971 -0.04521121]\n",
            "Bias at Step 25: [-0.41378647 -0.79473119  1.05817856 -0.20199664]\n",
            "---------------------------------------------\n",
            "Cost at Step 30: -0.9990738993626694\n",
            "Weights at Step 30: [-0.15888399  0.56544228  1.21966075  1.65606117 -0.18698724 -0.15012618]\n",
            "Bias at Step 30: [-0.38261198 -1.08390677  0.99514117 -0.19462826]\n",
            "---------------------------------------------\n",
            "Cost at Step 35: -0.9987693982588911\n",
            "Weights at Step 35: [ 0.0041808   0.40612704  1.31527388  1.73532362 -0.09044603 -0.30497354]\n",
            "Bias at Step 35: [-0.26884218 -1.17947084  1.02164299 -0.15211727]\n",
            "---------------------------------------------\n",
            "Cost at Step 40: -0.999251583470993\n",
            "Weights at Step 40: [ 0.08561847  0.44006962  1.26170355  1.71272203 -0.23442009 -0.25474802]\n",
            "Bias at Step 40: [-0.39159587 -1.08813802  1.07704208 -0.33745963]\n",
            "---------------------------------------------\n",
            "Cost at Step 45: -0.9994248986650188\n",
            "Weights at Step 45: [ 0.07116764  0.55172578  1.33103119  1.70750705 -0.21790431 -0.35000642]\n",
            "Bias at Step 45: [-0.62786818 -1.04579562  1.1153243  -0.37204428]\n",
            "---------------------------------------------\n",
            "Cost at Step 50: -0.9997718604833874\n",
            "Weights at Step 50: [ 0.1900666   0.42787454  1.31858733  1.69897373 -0.1718078  -0.43140288]\n",
            "Bias at Step 50: [-0.60423116 -1.07738709  1.04408277 -0.39652431]\n",
            "---------------------------------------------\n",
            "Cost at Step 55: -0.999669403963809\n",
            "Weights at Step 55: [ 0.2305871   0.35165699  1.2576529   1.73740749 -0.17028966 -0.442958  ]\n",
            "Bias at Step 55: [-0.63471799 -1.18549027  0.98129106 -0.48831366]\n",
            "---------------------------------------------\n",
            "Cost at Step 60: -0.9997005090875465\n",
            "Weights at Step 60: [ 0.20331843  0.38880673  1.27280954  1.76327852 -0.13054908 -0.50743354]\n",
            "Bias at Step 60: [-0.7910831  -1.24264842  0.96725342 -0.52888411]\n",
            "---------------------------------------------\n",
            "Cost at Step 65: -0.9998390095668767\n",
            "Weights at Step 65: [ 0.30186983  0.32982277  1.24436455  1.7115331  -0.13431685 -0.54688054]\n",
            "Bias at Step 65: [-0.82692488 -1.17879019  0.94225638 -0.58835058]\n",
            "---------------------------------------------\n",
            "Cost at Step 70: -0.9998463728006276\n",
            "Weights at Step 70: [ 0.33581306  0.31530544  1.2493993   1.73269036 -0.10367132 -0.60587018]\n",
            "Bias at Step 70: [-0.89656392 -1.20165109  0.97059225 -0.627371  ]\n",
            "---------------------------------------------\n",
            "Cost at Step 75: -0.9998905983157391\n",
            "Weights at Step 75: [ 0.35154619  0.29213052  1.23876733  1.761073   -0.09648422 -0.62632222]\n",
            "Bias at Step 75: [-0.96644772 -1.25589463  0.97507609 -0.69733436]\n",
            "---------------------------------------------\n",
            "Cost at Step 80: -0.9999350358165905\n",
            "Weights at Step 80: [ 0.3975706   0.24247701  1.25163179  1.74455824 -0.07453551 -0.66367459]\n",
            "Bias at Step 80: [-1.00917765 -1.2587604   0.94837798 -0.7332096 ]\n",
            "---------------------------------------------\n",
            "Cost at Step 85: -0.9999482967482567\n",
            "Weights at Step 85: [ 0.41868748  0.22580496  1.2624984   1.74189597 -0.06696401 -0.6861869 ]\n",
            "Bias at Step 85: [-1.07178528 -1.26425295  0.95234717 -0.77745452]\n",
            "---------------------------------------------\n",
            "Cost at Step 90: -0.9999499223797544\n",
            "Weights at Step 90: [ 0.44145933  0.20337243  1.26625822  1.75621405 -0.05869247 -0.70630086]\n",
            "Bias at Step 90: [-1.11358328 -1.28462283  0.97855525 -0.82000899]\n",
            "---------------------------------------------\n",
            "Cost at Step 95: -0.9999530455182971\n",
            "Weights at Step 95: [ 0.47019264  0.16924721  1.27286026  1.75455497 -0.04395194 -0.73007002]\n",
            "Bias at Step 95: [-1.14431545 -1.29386251  0.98742393 -0.84928015]\n",
            "---------------------------------------------\n",
            "Cost at Step 100: -0.9999570613439416\n",
            "Weights at Step 100: [ 0.47977166  0.1527456   1.2786519   1.74980484 -0.0376303  -0.74275152]\n",
            "Bias at Step 100: [-1.19436854 -1.30286407  0.99081851 -0.88267418]\n",
            "---------------------------------------------\n",
            "Cost at Step 105: -0.9999659889339071\n",
            "Weights at Step 105: [ 0.49797231  0.12660509  1.28150049  1.74863372 -0.02753168 -0.75842501]\n",
            "Bias at Step 105: [-1.22175318 -1.31296261  1.00050975 -0.90640742]\n",
            "---------------------------------------------\n",
            "Cost at Step 110: -0.9999614306765608\n",
            "Weights at Step 110: [ 0.51039217  0.108355    1.28185308  1.74980865 -0.01942516 -0.7717866 ]\n",
            "Bias at Step 110: [-1.24962622 -1.32278602  1.01768796 -0.92703101]\n",
            "---------------------------------------------\n",
            "Cost at Step 115: -0.9999645085259455\n",
            "Weights at Step 115: [ 0.51904442  0.0937446   1.28176882  1.74326512 -0.01427955 -0.78148372]\n",
            "Bias at Step 115: [-1.28134793 -1.32636187  1.02802729 -0.94518626]\n",
            "---------------------------------------------\n",
            "Cost at Step 120: -0.9999658547475359\n",
            "Weights at Step 120: [ 0.52937688  0.07449026  1.28280811  1.73964609 -0.00689253 -0.791763  ]\n",
            "Bias at Step 120: [-1.30153182 -1.33478832  1.03688605 -0.95706145]\n",
            "---------------------------------------------\n",
            "Cost at Step 125: -0.9999793528715321\n",
            "Weights at Step 125: [ 0.53401302  0.06310458  1.28238925  1.73934318 -0.0048274  -0.79646285]\n",
            "Bias at Step 125: [-1.32357896 -1.34453438  1.05006482 -0.970321  ]\n",
            "---------------------------------------------\n",
            "Cost at Step 130: -0.9999731145828665\n",
            "Weights at Step 130: [ 5.41717330e-01  5.04455290e-02  1.28195070e+00  1.73376924e+00\n",
            " -7.59893845e-04 -8.02921942e-01]\n",
            "Bias at Step 130: [-1.33898192 -1.34763312  1.06002129 -0.97591873]\n",
            "---------------------------------------------\n",
            "Cost at Step 135: -0.9999645116649636\n",
            "Weights at Step 135: [ 5.45131959e-01  4.15869725e-02  1.28088552e+00  1.72997634e+00\n",
            "  1.62744688e-03 -8.06309183e-01]\n",
            "Bias at Step 135: [-1.35449293 -1.3536153   1.06941714 -0.98066205]\n",
            "---------------------------------------------\n",
            "Cost at Step 140: -0.9999829047160226\n",
            "Weights at Step 140: [ 0.54851223  0.03324994  1.2806549   1.72782976  0.00237586 -0.8076513 ]\n",
            "Bias at Step 140: [-1.36559068 -1.3606077   1.07837369 -0.98460471]\n",
            "---------------------------------------------\n",
            "Cost at Step 145: -0.9999743662393943\n",
            "Weights at Step 145: [ 0.55235459  0.0260732   1.2815596   1.72423595  0.00309675 -0.80902489]\n",
            "Bias at Step 145: [-1.37442418 -1.36484585  1.08631493 -0.98585999]\n",
            "---------------------------------------------\n",
            "Cost at Step 150: -0.9999606848437312\n",
            "Weights at Step 150: [ 0.55462097  0.02104848  1.28302845  1.72185621  0.00271517 -0.80898188]\n",
            "Bias at Step 150: [-1.38263744 -1.36993282  1.09403396 -0.98705602]\n",
            "---------------------------------------------\n",
            "Cost at Step 155: -0.9999747378172825\n",
            "Weights at Step 155: [ 0.55765123  0.01560964  1.28466486  1.720109    0.00243074 -0.80895633]\n",
            "Bias at Step 155: [-1.38780256 -1.37503766  1.10026774 -0.98736767]\n",
            "---------------------------------------------\n",
            "Cost at Step 160: -0.9999700507088615\n",
            "Weights at Step 160: [ 5.59715925e-01  1.23133184e-02  1.28640194e+00  1.71845447e+00\n",
            "  1.15008368e-03 -8.08173611e-01]\n",
            "Bias at Step 160: [-1.39332194 -1.37895061  1.10516714 -0.98828012]\n",
            "---------------------------------------------\n",
            "Cost at Step 165: -0.9999651137969857\n",
            "Weights at Step 165: [ 5.62028643e-01  9.10515307e-03  1.28677042e+00  1.71699151e+00\n",
            "  9.99079774e-04 -8.08321718e-01]\n",
            "Bias at Step 165: [-1.39726695 -1.38258107  1.1092578  -0.98797408]\n",
            "---------------------------------------------\n",
            "Cost at Step 170: -0.9999661855526563\n",
            "Weights at Step 170: [ 5.62722835e-01  7.81477874e-03  1.28453351e+00  1.71510396e+00\n",
            "  1.69146530e-03 -8.08719332e-01]\n",
            "Bias at Step 170: [-1.40203213 -1.38561494  1.11288641 -0.98677472]\n",
            "---------------------------------------------\n",
            "Cost at Step 175: -0.99996407898796\n",
            "Weights at Step 175: [ 0.56337362  0.00643977  1.28023851  1.71193883  0.00268434 -0.80881327]\n",
            "Bias at Step 175: [-1.40567588 -1.38739124  1.11554171 -0.98479634]\n",
            "---------------------------------------------\n",
            "Cost at Step 180: -0.9999705772704096\n",
            "Weights at Step 180: [ 0.56440049  0.00498719  1.27961208  1.71017108  0.00200665 -0.80777554]\n",
            "Bias at Step 180: [-1.40805298 -1.38959252  1.11850884 -0.98414075]\n",
            "---------------------------------------------\n",
            "Cost at Step 185: -0.9999647185725978\n",
            "Weights at Step 185: [ 5.65697073e-01  3.41802737e-03  1.28381210e+00  1.71001790e+00\n",
            "  1.51458946e-03 -8.07541145e-01]\n",
            "Bias at Step 185: [-1.40919496 -1.39235911  1.12136856 -0.98324964]\n",
            "---------------------------------------------\n",
            "Cost at Step 190: -0.9999820714011165\n",
            "Weights at Step 190: [ 5.67656332e-01  1.65939568e-03  1.28905401e+00  1.71115773e+00\n",
            " -1.58943223e-03 -8.05499833e-01]\n",
            "Bias at Step 190: [-1.40938345 -1.39505231  1.12327923 -0.98576181]\n",
            "---------------------------------------------\n",
            "Cost at Step 195: -0.9999721725175995\n",
            "Weights at Step 195: [ 5.69078605e-01  3.19307125e-04  1.29022164e+00  1.71130035e+00\n",
            " -1.93048878e-03 -8.05618606e-01]\n",
            "Bias at Step 195: [-1.409569   -1.39672737  1.12401443 -0.98634514]\n",
            "---------------------------------------------\n",
            "Cost at Step 200: -0.9999716673699605\n",
            "Weights at Step 200: [ 5.68108650e-01  1.50034573e-03  1.28598793e+00  1.70934498e+00\n",
            "  1.79335677e-04 -8.07216423e-01]\n",
            "Bias at Step 200: [-1.41251555 -1.39653278  1.12414059 -0.98483861]\n",
            "---------------------------------------------\n",
            "Cost at Step 205: -0.999967337096922\n",
            "Weights at Step 205: [ 5.67962666e-01  1.65394273e-03  1.28137364e+00  1.70799044e+00\n",
            "  1.07180131e-03 -8.07624878e-01]\n",
            "Bias at Step 205: [-1.41371181 -1.39643454  1.12439429 -0.98454151]\n",
            "---------------------------------------------\n",
            "Cost at Step 210: -0.9999597249749356\n",
            "Weights at Step 210: [ 0.56679395  0.00215734  1.27660492  1.70559496  0.00340459 -0.80860628]\n",
            "Bias at Step 210: [-1.41510044 -1.39604973  1.12519955 -0.98170126]\n",
            "---------------------------------------------\n",
            "Cost at Step 215: -0.9999671554651333\n",
            "Weights at Step 215: [ 0.56580182  0.00258571  1.27674703  1.70435164  0.00342218 -0.80786668]\n",
            "Bias at Step 215: [-1.41599831 -1.39619867  1.12694426 -0.98017017]\n",
            "---------------------------------------------\n",
            "Cost at Step 220: -0.9999715338643669\n",
            "Weights at Step 220: [ 5.66588969e-01  1.02605629e-03  1.27935976e+00  1.70518290e+00\n",
            "  1.89260756e-03 -8.06276743e-01]\n",
            "Bias at Step 220: [-1.41413444 -1.39786349  1.1290968  -0.97998546]\n",
            "---------------------------------------------\n",
            "Cost at Step 225: -0.9999694513275535\n",
            "Weights at Step 225: [ 5.68001012e-01 -2.25324860e-04  1.28607362e+00  1.70655065e+00\n",
            " -1.84796869e-03 -8.03852243e-01]\n",
            "Bias at Step 225: [-1.41315297 -1.39882146  1.12925114 -0.9824492 ]\n",
            "---------------------------------------------\n",
            "Cost at Step 230: -0.9999712850331097\n",
            "Weights at Step 230: [ 5.67823711e-01 -5.75559436e-04  1.28513172e+00  1.70681191e+00\n",
            " -6.91515391e-04 -8.04711553e-01]\n",
            "Bias at Step 230: [-1.41271395 -1.39998171  1.1297646  -0.98119998]\n",
            "---------------------------------------------\n",
            "Cost at Step 235: -0.9999716632843586\n",
            "Weights at Step 235: [ 0.56559617  0.00182221  1.27857022  1.70406892  0.0018423  -0.80616132]\n",
            "Bias at Step 235: [-1.41567961 -1.39826585  1.12985088 -0.97868671]\n",
            "---------------------------------------------\n",
            "Cost at Step 240: -0.9999695425149614\n",
            "Weights at Step 240: [ 0.56460828  0.00205178  1.27380322  1.70235747  0.0031743  -0.80618508]\n",
            "Bias at Step 240: [-1.41588328 -1.39816865  1.13047453 -0.97683213]\n",
            "---------------------------------------------\n",
            "Cost at Step 245: -0.9999719017506331\n",
            "Weights at Step 245: [ 5.65379689e-01  1.44108182e-03  1.27631625e+00  1.70187293e+00\n",
            "  1.83225937e-03 -8.05104919e-01]\n",
            "Bias at Step 245: [-1.41519852 -1.39780059  1.13130158 -0.97657538]\n",
            "---------------------------------------------\n",
            "Cost at Step 250: -0.9999642093465221\n",
            "Weights at Step 250: [ 5.64927285e-01  8.05466285e-04  1.27861820e+00  1.70322069e+00\n",
            "  9.20435825e-04 -8.03766904e-01]\n",
            "Bias at Step 250: [-1.41425627 -1.40049156  1.13287755 -0.9762609 ]\n",
            "---------------------------------------------\n",
            "Cost at Step 255: -0.9999673002203916\n",
            "Weights at Step 255: [ 5.66149124e-01  3.74489949e-04  1.28303523e+00  1.70300340e+00\n",
            " -9.70218223e-04 -8.02854506e-01]\n",
            "Bias at Step 255: [-1.41382909 -1.39972652  1.13332627 -0.97682702]\n",
            "---------------------------------------------\n",
            "Cost at Step 260: -0.9999725764393814\n",
            "Weights at Step 260: [ 5.66744271e-01 -5.85227561e-04  1.28332621e+00  1.70473394e+00\n",
            " -9.66624175e-04 -8.03090881e-01]\n",
            "Bias at Step 260: [-1.41266324 -1.40189907  1.13314778 -0.97751041]\n",
            "---------------------------------------------\n",
            "Cost at Step 265: -0.99997700688611\n",
            "Weights at Step 265: [ 5.67955357e-01  2.49009781e-04  1.28566521e+00  1.70443852e+00\n",
            " -2.08620074e-03 -8.03711145e-01]\n",
            "Bias at Step 265: [-1.41437269 -1.3997801   1.13100823 -0.9795543 ]\n",
            "---------------------------------------------\n",
            "Cost at Step 270: -0.9999723168047122\n",
            "Weights at Step 270: [ 5.68822651e-01 -3.72727155e-04  1.28579703e+00  1.70726892e+00\n",
            " -9.35459262e-04 -8.05425130e-01]\n",
            "Bias at Step 270: [-1.41362172 -1.40198586  1.13000907 -0.98099361]\n",
            "---------------------------------------------\n",
            "Cost at Step 275: -0.9999759744633254\n",
            "Weights at Step 275: [ 5.68377559e-01  1.18935595e-03  1.28261418e+00  1.70588648e+00\n",
            "  8.41927708e-04 -8.07290065e-01]\n",
            "Bias at Step 275: [-1.41621484 -1.39944358  1.12753119 -0.9811974 ]\n",
            "---------------------------------------------\n",
            "Cost at Step 280: -0.999980268847315\n",
            "Weights at Step 280: [ 5.68202452e-01  1.26697841e-03  1.27938719e+00  1.70616137e+00\n",
            "  1.83906158e-03 -8.07718046e-01]\n",
            "Bias at Step 280: [-1.41621027 -1.39903808  1.12718675 -0.98181853]\n",
            "---------------------------------------------\n",
            "Cost at Step 285: -0.999972323321855\n",
            "Weights at Step 285: [ 5.67134077e-01  1.39995118e-03  1.27652308e+00  1.70439308e+00\n",
            "  2.69895484e-03 -8.07217640e-01]\n",
            "Bias at Step 285: [-1.41640681 -1.39773383  1.12741628 -0.9806237 ]\n",
            "---------------------------------------------\n",
            "Cost at Step 290: -0.9999763275488955\n",
            "Weights at Step 290: [ 5.66245659e-01  9.98465858e-04  1.27857178e+00  1.70372033e+00\n",
            "  2.10556959e-03 -8.05656845e-01]\n",
            "Bias at Step 290: [-1.41516483 -1.39775812  1.12993268 -0.97934084]\n",
            "---------------------------------------------\n",
            "Cost at Step 295: -0.9999754977222791\n",
            "Weights at Step 295: [ 5.67315312e-01 -5.81346798e-04  1.28555806e+00  1.70597285e+00\n",
            " -1.35596411e-03 -8.03269162e-01]\n",
            "Bias at Step 295: [-1.41261443 -1.39942783  1.13166477 -0.98126421]\n",
            "---------------------------------------------\n"
          ]
        }
      ],
      "source": [
        "for i in range(0, steps):\n",
        "    (weights, bias), cost = optimizer.step_and_cost(cost_function, weights, bias)\n",
        "\n",
        "    # Prints the value of the cost function\n",
        "    if i % 5 == 0:\n",
        "        print(f\"Cost at Step {i}: {cost}\")\n",
        "        print(f\"Weights at Step {i}: {weights}\")\n",
        "        print(f\"Bias at Step {i}: {bias}\")\n",
        "        print(\"---------------------------------------------\")"
      ]
    },
    {
      "cell_type": "markdown",
      "metadata": {
        "id": "TLYEfeyjLbKB"
      },
      "source": [
        "With the learned parameters, we construct a visual representation of the\n",
        "Hamiltonian to which they correspond and compare it to the target\n",
        "Hamiltonian, and the initial guessed Hamiltonian:\n"
      ]
    },
    {
      "cell_type": "code",
      "execution_count": 79,
      "metadata": {
        "colab": {
          "base_uri": "https://localhost:8080/",
          "height": 210
        },
        "id": "QnPHQC1PLbKB",
        "outputId": "0f35b639-e268-4c10-afc5-5d5b69f6c78e"
      },
      "outputs": [
        {
          "output_type": "display_data",
          "data": {
            "text/plain": [
              "<Figure size 600x600 with 3 Axes>"
            ],
            "image/png": "[encoded data removed]"
          },
          "metadata": {}
        }
      ],
      "source": [
        "new_ham_matrix = create_hamiltonian_matrix(\n",
        "    qubit_number, nx.complete_graph(qubit_number), weights, bias\n",
        ")\n",
        "\n",
        "init_ham = create_hamiltonian_matrix(\n",
        "    qubit_number, nx.complete_graph(qubit_number), initial_weights, initial_bias\n",
        ")\n",
        "\n",
        "fig, axes = plt.subplots(nrows=1, ncols=3, figsize=(6, 6))\n",
        "\n",
        "axes[0].matshow(ham_matrix, vmin=-7, vmax=7, cmap=\"hot\")\n",
        "axes[0].set_title(\"Target\", y=1.13)\n",
        "\n",
        "axes[1].matshow(init_ham, vmin=-7, vmax=7, cmap=\"hot\")\n",
        "axes[1].set_title(\"Initial\", y=1.13)\n",
        "\n",
        "axes[2].matshow(new_ham_matrix, vmin=-7, vmax=7, cmap=\"hot\")\n",
        "axes[2].set_title(\"Learned\", y=1.13)\n",
        "\n",
        "plt.subplots_adjust(wspace=0.3, hspace=0.3)\n",
        "plt.show()"
      ]
    },
    {
      "cell_type": "markdown",
      "metadata": {
        "id": "zspKar5SLbKB"
      },
      "source": [
        "These images look very similar, indicating that the QGRNN has done a\n",
        "good job learning the target Hamiltonian.\n",
        "\n",
        "We can also look at the exact values of the target and learned\n",
        "parameters. Recall how the target interaction graph has $4$ edges while\n",
        "the complete graph has $6$. Thus, as the QGRNN converges to the optimal\n",
        "solution, the weights corresponding to edges $(1, 3)$ and $(2, 0)$ in\n",
        "the complete graph should go to $0$, as this indicates that they have no\n",
        "effect, and effectively do not exist in the learned Hamiltonian.\n"
      ]
    },
    {
      "cell_type": "code",
      "execution_count": 80,
      "metadata": {
        "id": "-ql-50F_LbKB"
      },
      "outputs": [],
      "source": [
        "# We first pick out the weights of edges (1, 3) and (2, 0)\n",
        "# and then remove them from the list of target parameters\n",
        "\n",
        "weights_noedge = []\n",
        "weights_edge = []\n",
        "for ii, edge in enumerate(new_ising_graph.edges):\n",
        "    if (edge[0] - qubit_number, edge[1] - qubit_number) in ising_graph.edges:\n",
        "        weights_edge.append(weights[ii])\n",
        "    else:\n",
        "        weights_noedge.append(weights[ii])"
      ]
    },
    {
      "cell_type": "markdown",
      "metadata": {
        "id": "WL7HVML3LbKB"
      },
      "source": [
        "Then, we print all of the weights:\n"
      ]
    },
    {
      "cell_type": "code",
      "execution_count": 81,
      "metadata": {
        "colab": {
          "base_uri": "https://localhost:8080/",
          "height": 0
        },
        "id": "rlB_pAzGLbKB",
        "outputId": "c235e602-520b-478c-d776-6f572cf47e5f"
      },
      "outputs": [
        {
          "output_type": "stream",
          "name": "stdout",
          "text": [
            "Target parameters     Learned parameters\n",
            "Weights\n",
            "-----------------------------------------\n",
            "0.56                |  0.5672676805384127\n",
            "1.24                |  1.2857436286533876\n",
            "1.67                |  1.7058998728541068\n",
            "-0.79               | -0.8036274381843119\n",
            "\n",
            "Bias\n",
            "-----------------------------------------\n",
            "-1.44               | -1.4125211271033382\n",
            "-1.43               |  -1.399740283512748\n",
            "1.18                |  1.1309679803706985\n",
            "-0.93               |  -0.980899993652891\n",
            "\n",
            "Non-Existing Edge Parameters: [-0.0007816284360817366, -0.0013441949060740517]\n"
          ]
        }
      ],
      "source": [
        "print(\"Target parameters     Learned parameters\")\n",
        "print(\"Weights\")\n",
        "print(\"-\" * 41)\n",
        "for ii_target, ii_learned in zip(target_weights, weights_edge):\n",
        "    print(f\"{ii_target : <20}|{ii_learned : >20}\")\n",
        "\n",
        "print(\"\\nBias\")\n",
        "print(\"-\"*41)\n",
        "for ii_target, ii_learned in zip(target_bias, bias):\n",
        "    print(f\"{ii_target : <20}|{ii_learned : >20}\")\n",
        "\n",
        "print(f\"\\nNon-Existing Edge Parameters: {[val.unwrap() for val in weights_noedge]}\")"
      ]
    },
    {
      "cell_type": "markdown",
      "metadata": {
        "id": "K4jKWHsELbKB"
      },
      "source": [
        "The weights of edges $(1, 3)$ and $(2, 0)$ are very close to $0$,\n",
        "indicating we have learned the cycle graph from the complete graph. In\n",
        "addition, the remaining learned weights are fairly close to those of the\n",
        "target Hamiltonian. Thus, the QGRNN is functioning properly, and has\n",
        "learned the target Ising Hamiltonian to a high degree of accuracy!\n"
      ]
    },
    {
      "cell_type": "markdown",
      "metadata": {
        "id": "0BWaZBY7LbKB"
      },
      "source": [
        "References\n",
        "==========\n",
        "\n",
        "1.  Verdon, G., McCourt, T., Luzhnica, E., Singh, V., Leichenauer, S., &\n",
        "    Hidary, J. (2019). Quantum Graph Neural Networks. arXiv preprint\n",
        "    [arXiv:1909.12264](https://arxiv.org/abs/1909.12264).\n",
        "\n",
        "About the author\n",
        "================\n"
      ]
    }
  ],
  "metadata": {
    "kernelspec": {
      "display_name": "Python 3",
      "language": "python",
      "name": "python3"
    },
    "language_info": {
      "codemirror_mode": {
        "name": "ipython",
        "version": 3
      },
      "file_extension": ".py",
      "mimetype": "text/x-python",
      "name": "python",
      "nbconvert_exporter": "python",
      "pygments_lexer": "ipython3",
      "version": "3.9.17"
    },
    "colab": {
      "provenance": []
    }
  },
  "nbformat": 4,
  "nbformat_minor": 0
}
