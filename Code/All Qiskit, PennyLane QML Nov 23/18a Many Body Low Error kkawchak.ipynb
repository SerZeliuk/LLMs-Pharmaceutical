{
  "cells": [
    {
      "cell_type": "code",
      "execution_count": 6,
      "metadata": {
        "id": "in3VVDRqlMUE",
        "tags": [],
        "colab": {
          "base_uri": "https://localhost:8080/",
          "height": 0
        },
        "outputId": "8f73c075-886e-4568-a28f-f02419216938"
      },
      "outputs": [
        {
          "output_type": "stream",
          "name": "stdout",
          "text": [
            "Time in seconds since beginning of run: 1700501338.8948317\n",
            "Mon Nov 20 17:28:58 2023\n"
          ]
        }
      ],
      "source": [
        "# This cell is added by sphinx-gallery\n",
        "# It can be customized to whatever you like\n",
        "%matplotlib inline\n",
        "# !pip install pennylane\n",
        "# !pip install neural_tangents\n",
        "# !pip install networkx\n",
        "import time\n",
        "seconds = time.time()\n",
        "print(\"Time in seconds since beginning of run:\", seconds)\n",
        "local_time = time.ctime(seconds)\n",
        "print(local_time)"
      ]
    },
    {
      "cell_type": "markdown",
      "metadata": {
        "id": "cfjAkbwNlMUF"
      },
      "source": [
        "Machine learning for quantum many-body problems\n",
        "===============================================\n",
        "\n",
        "::: {.meta}\n",
        ":property=\\\"og:description\\\": Machine learning for many-body problems\n",
        ":property=\\\"og:image\\\":\n",
        "<https://pennylane.ai/qml/_images/ml_classical_shadow.png>\n",
        ":::\n",
        "\n",
        "::: {.related}\n",
        "tutorial\\_classical\\_shadows Classical Shadows\n",
        "tutorial\\_kernel\\_based\\_training Kernel-based training with\n",
        "scikit-learn tutorial\\_kernels\\_module Training and evaluating quantum\n",
        "kernels\n",
        ":::\n",
        "\n",
        "*Author: Utkarsh Azad --- Posted: 02 May 2022. Last Updated: 09 May\n",
        "2022*\n",
        "\n",
        "Storing and processing a complete description of an $n$-qubit quantum\n",
        "mechanical system is challenging because the amount of memory required\n",
        "generally scales exponentially with the number of qubits. The quantum\n",
        "community has recently addressed this challenge by using the\n",
        "`classical shadow <tutorial_classical_shadows>`{.interpreted-text\n",
        "role=\"doc\"} formalism, which allows us to build more concise classical\n",
        "descriptions of quantum states using randomized single-qubit\n",
        "measurements. It was argued in Ref. that combining classical shadows\n",
        "with classical machine learning enables using learning models that\n",
        "efficiently predict properties of the quantum systems, such as the\n",
        "expectation value of a Hamiltonian, correlation functions, and\n",
        "entanglement entropies.\n",
        "\n",
        "![Combining machine learning and classical\n",
        "shadows](/demonstrations/ml_classical_shadows/class_shadow_ml.png){.align-center\n",
        "width=\"80.0%\"}\n",
        "\n",
        "In this demo, we describe one of the ideas presented in Ref. for using\n",
        "classical shadow formalism and machine learning to predict the\n",
        "ground-state properties of the 2D antiferromagnetic Heisenberg model. We\n",
        "begin by learning how to build the Heisenberg model, calculate its\n",
        "ground-state properties, and compute its classical shadow. Finally, we\n",
        "demonstrate how to use\n",
        "`kernel-based learning models <tutorial_kernels_module>`{.interpreted-text\n",
        "role=\"doc\"} to predict ground-state properties from the learned\n",
        "classical shadows. So let\\'s get started!\n",
        "\n",
        "Building the 2D Heisenberg Model\n",
        "--------------------------------\n",
        "\n",
        "We define a two-dimensional antiferromagnetic [Heisenberg\n",
        "model](https://en.wikipedia.org/wiki/Quantum_Heisenberg_model) as a\n",
        "square lattice, where a spin-1/2 particle occupies each site. The\n",
        "antiferromagnetic nature and the overall physics of this model depend on\n",
        "the couplings $J_{ij}$ present between the spins, as reflected in the\n",
        "Hamiltonian associated with the model:\n",
        "\n",
        "$$H = \\sum_{i < j} J_{ij}(X_i X_j + Y_i Y_j + Z_i Z_j) .$$\n",
        "\n",
        "Here, we consider the family of Hamiltonians where all the couplings\n",
        "$J_{ij}$ are sampled uniformly from \\[0, 2\\]. We build a coupling matrix\n",
        "$J$ by providing the number of rows $N_r$ and columns $N_c$ present in\n",
        "the square lattice. The dimensions of this matrix are $N_s \\times N_s$,\n",
        "where $N_s = N_r \\times N_c$ is the total number of spin particles\n",
        "present in the model.\n"
      ]
    },
    {
      "cell_type": "code",
      "execution_count": 7,
      "metadata": {
        "id": "LWfXJdIBlMUG"
      },
      "outputs": [],
      "source": [
        "import itertools as it\n",
        "import pennylane.numpy as np\n",
        "import numpy as anp\n",
        "\n",
        "def build_coupling_mats(num_mats, num_rows, num_cols):\n",
        "    num_spins = num_rows * num_cols\n",
        "    coupling_mats = np.zeros((num_mats, num_spins, num_spins))\n",
        "    coup_terms = anp.random.RandomState(24).uniform(0, 2,\n",
        "                        size=(num_mats, 2 * num_rows * num_cols - num_rows - num_cols))\n",
        "    # populate edges to build the grid lattice\n",
        "    edges = [(si, sj) for (si, sj) in it.combinations(range(num_spins), 2)\n",
        "                        if sj % num_cols and sj - si == 1 or sj - si == num_cols]\n",
        "    for itr in range(num_mats):\n",
        "        for ((i, j), term) in zip(edges, coup_terms[itr]):\n",
        "            coupling_mats[itr][i][j] = coupling_mats[itr][j][i] = term\n",
        "    return coupling_mats"
      ]
    },
    {
      "cell_type": "markdown",
      "metadata": {
        "id": "ZV-J9mFJlMUG"
      },
      "source": [
        "For this demo, we study a model with four spins arranged on the nodes of\n",
        "a square lattice. We require four qubits for simulating this model; one\n",
        "qubit for each spin. We start by building a coupling matrix `J_mat`\n",
        "using our previously defined function.\n"
      ]
    },
    {
      "cell_type": "code",
      "execution_count": 8,
      "metadata": {
        "id": "GSqBR9p2lMUG"
      },
      "outputs": [],
      "source": [
        "Nr, Nc = 2, 2\n",
        "num_qubits = Nr * Nc  # Ns\n",
        "J_mat = build_coupling_mats(1, Nr, Nc)[0]"
      ]
    },
    {
      "cell_type": "markdown",
      "metadata": {
        "id": "LMJScKXHlMUG"
      },
      "source": [
        "We can now visualize the model instance by representing the coupling\n",
        "matrix as a `networkx` graph:\n"
      ]
    },
    {
      "cell_type": "code",
      "execution_count": 9,
      "metadata": {
        "colab": {
          "base_uri": "https://localhost:8080/",
          "height": 436
        },
        "id": "PnCxl2OUlMUH",
        "outputId": "e755b5df-6614-4b8a-c973-8ee7743a2722"
      },
      "outputs": [
        {
          "output_type": "display_data",
          "data": {
            "text/plain": [
              "<Figure size 400x400 with 1 Axes>"
            ],
            "image/png": "[encoded data removed]"
          },
          "metadata": {}
        }
      ],
      "source": [
        "import matplotlib.pyplot as plt\n",
        "import networkx as nx\n",
        "\n",
        "G = nx.from_numpy_array(np.matrix(J_mat), create_using=nx.DiGraph)\n",
        "pos = {i: (i % Nc, -(i // Nc)) for i in G.nodes()}\n",
        "edge_labels = {(x, y): np.round(J_mat[x, y], 2) for x, y in G.edges()}\n",
        "weights = [x + 1.5 for x in list(nx.get_edge_attributes(G, \"weight\").values())]\n",
        "\n",
        "plt.figure(figsize=(4, 4))\n",
        "nx.draw(\n",
        "    G, pos, node_color=\"lightblue\", with_labels=True,\n",
        "    node_size=600, width=weights, edge_color=\"firebrick\",\n",
        ")\n",
        "nx.draw_networkx_edge_labels(G, pos=pos, edge_labels=edge_labels)\n",
        "plt.show()"
      ]
    },
    {
      "cell_type": "markdown",
      "metadata": {
        "id": "t0E6JAIIlMUH"
      },
      "source": [
        "We then use the same coupling matrix `J_mat` to obtain the Hamiltonian\n",
        "$H$ for the model we have instantiated above.\n"
      ]
    },
    {
      "cell_type": "code",
      "execution_count": 10,
      "metadata": {
        "colab": {
          "base_uri": "https://localhost:8080/",
          "height": 0
        },
        "id": "A_XDopwwlMUH",
        "outputId": "23484c75-57e6-4105-a263-976eb66ffc41"
      },
      "outputs": [
        {
          "output_type": "stream",
          "name": "stdout",
          "text": [
            "Hamiltonian =\n",
            "  (0.44013459956570355) [X2 X3]\n",
            "+ (0.44013459956570355) [Y2 Y3]\n",
            "+ (0.44013459956570355) [Z2 Z3]\n",
            "+ (1.399024099899152) [X0 X2]\n",
            "+ (1.399024099899152) [Y0 Y2]\n",
            "+ (1.399024099899152) [Z0 Z2]\n",
            "+ (1.920034606671837) [X0 X1]\n",
            "+ (1.920034606671837) [Y0 Y1]\n",
            "+ (1.920034606671837) [Z0 Z1]\n",
            "+ (1.9997345852477584) [X1 X3]\n",
            "+ (1.9997345852477584) [Y1 Y3]\n",
            "+ (1.9997345852477584) [Z1 Z3]\n"
          ]
        }
      ],
      "source": [
        "import pennylane as qml\n",
        "\n",
        "def Hamiltonian(J_mat):\n",
        "    coeffs, ops = [], []\n",
        "    ns = J_mat.shape[0]\n",
        "    for i, j in it.combinations(range(ns), r=2):\n",
        "        coeff = J_mat[i, j]\n",
        "        if coeff:\n",
        "            for op in [qml.PauliX, qml.PauliY, qml.PauliZ]:\n",
        "                coeffs.append(coeff)\n",
        "                ops.append(op(i) @ op(j))\n",
        "    H = qml.Hamiltonian(coeffs, ops)\n",
        "    return H\n",
        "\n",
        "print(f\"Hamiltonian =\\n{Hamiltonian(J_mat)}\")"
      ]
    },
    {
      "cell_type": "markdown",
      "metadata": {
        "id": "JD6aZtNilMUH"
      },
      "source": [
        "For the Heisenberg model, a property of interest is usually the two-body\n",
        "correlation function $C_{ij}$, which for a pair of spins $i$ and $j$ is\n",
        "defined as the following operator:\n",
        "\n",
        "$$\\hat{C}_{ij} = \\frac{1}{3} (X_i X_j + Y_iY_j + Z_iZ_j).$$\n"
      ]
    },
    {
      "cell_type": "code",
      "execution_count": 11,
      "metadata": {
        "id": "UVBY4jUglMUH"
      },
      "outputs": [],
      "source": [
        "def corr_function(i, j):\n",
        "    ops = []\n",
        "    for op in [qml.PauliX, qml.PauliY, qml.PauliZ]:\n",
        "        if i != j:\n",
        "            ops.append(op(i) @ op(j))\n",
        "        else:\n",
        "            ops.append(qml.Identity(i))\n",
        "    return ops"
      ]
    },
    {
      "cell_type": "markdown",
      "metadata": {
        "id": "O0-ZNiNXlMUH"
      },
      "source": [
        "The expectation value of each such operator $\\hat{C}_{ij}$ with respect\n",
        "to the ground state $|\\psi_{0}\\rangle$ of the model can be used to build\n",
        "the correlation matrix $C$:\n",
        "\n",
        "$${C}_{ij} = \\langle \\hat{C}_{ij} \\rangle = \\frac{1}{3} \\langle \\psi_{0} | X_i X_j + Y_iY_j + Z_iZ_j | \\psi_{0} \\rangle .$$\n"
      ]
    },
    {
      "cell_type": "markdown",
      "metadata": {
        "id": "VhgAsFyJlMUH"
      },
      "source": [
        "Hence, to build $C$ for the model, we need to calculate its ground state\n",
        "$|\\psi_{0}\\rangle$. We do this by diagonalizing the Hamiltonian for the\n",
        "model. Then, we obtain the eigenvector corresponding to the smallest\n",
        "eigenvalue.\n"
      ]
    },
    {
      "cell_type": "code",
      "execution_count": 12,
      "metadata": {
        "id": "W-r82wjjlMUH"
      },
      "outputs": [],
      "source": [
        "import scipy as sp\n",
        "\n",
        "ham = Hamiltonian(J_mat)\n",
        "eigvals, eigvecs = sp.sparse.linalg.eigs(ham.sparse_matrix())\n",
        "psi0 = eigvecs[:, np.argmin(eigvals)]"
      ]
    },
    {
      "cell_type": "markdown",
      "metadata": {
        "id": "Bft7PBtVlMUH"
      },
      "source": [
        "We then build a circuit that initializes the qubits into the ground\n",
        "state and measures the expectation value of the provided set of\n",
        "observables.\n"
      ]
    },
    {
      "cell_type": "code",
      "execution_count": 13,
      "metadata": {
        "id": "aMmNdfzAlMUH"
      },
      "outputs": [],
      "source": [
        "dev_exact = qml.device(\"lightning.qubit\", wires=num_qubits) # for exact simulation\n",
        "\n",
        "def circuit(psi, observables):\n",
        "    psi = psi / np.linalg.norm(psi) # normalize the state\n",
        "    qml.QubitStateVector(psi, wires=range(num_qubits))\n",
        "    return [qml.expval(o) for o in observables]\n",
        "\n",
        "circuit_exact = qml.QNode(circuit, dev_exact)"
      ]
    },
    {
      "cell_type": "markdown",
      "metadata": {
        "id": "7_OTMOuMlMUH"
      },
      "source": [
        "Finally, we execute this circuit to obtain the exact correlation matrix\n",
        "$C$. We compute the correlation operators $\\hat{C}_{ij}$ and their\n",
        "expectation values with respect to the ground state $|\\psi_0\\rangle$.\n"
      ]
    },
    {
      "cell_type": "code",
      "execution_count": 14,
      "metadata": {
        "id": "M2SqFe0IlMUI"
      },
      "outputs": [],
      "source": [
        "coups = list(it.product(range(num_qubits), repeat=2))\n",
        "corrs = [corr_function(i, j) for i, j in coups]\n",
        "\n",
        "def build_exact_corrmat(coups, corrs, circuit, psi):\n",
        "    corr_mat_exact = np.zeros((num_qubits, num_qubits))\n",
        "    for idx, (i, j) in enumerate(coups):\n",
        "        corr = corrs[idx]\n",
        "        if i == j:\n",
        "            corr_mat_exact[i][j] = 1.0\n",
        "        else:\n",
        "            corr_mat_exact[i][j] = (\n",
        "                np.sum(np.array([circuit(psi, observables=[o]) for o in corr]).T) / 3\n",
        "            )\n",
        "            corr_mat_exact[j][i] = corr_mat_exact[i][j]\n",
        "    return corr_mat_exact\n",
        "\n",
        "expval_exact = build_exact_corrmat(coups, corrs, circuit_exact, psi0)"
      ]
    },
    {
      "cell_type": "markdown",
      "metadata": {
        "id": "wRhl6GSvlMUI"
      },
      "source": [
        "Once built, we can visualize the correlation matrix:\n"
      ]
    },
    {
      "cell_type": "code",
      "execution_count": 15,
      "metadata": {
        "colab": {
          "base_uri": "https://localhost:8080/",
          "height": 337
        },
        "id": "elPohZB_lMUI",
        "outputId": "6880e8b9-aa60-4780-9263-ea2cdd559d0f"
      },
      "outputs": [
        {
          "output_type": "display_data",
          "data": {
            "text/plain": [
              "<Figure size 400x400 with 2 Axes>"
            ],
            "image/png": "[encoded data removed]"
          },
          "metadata": {}
        }
      ],
      "source": [
        "fig, ax = plt.subplots(1, 1, figsize=(4, 4))\n",
        "im = ax.imshow(expval_exact, cmap=plt.get_cmap(\"RdBu\"), vmin=-1, vmax=1)\n",
        "ax.xaxis.set_ticks(range(num_qubits))\n",
        "ax.yaxis.set_ticks(range(num_qubits))\n",
        "ax.xaxis.set_tick_params(labelsize=14)\n",
        "ax.yaxis.set_tick_params(labelsize=14)\n",
        "ax.set_title(\"Exact Correlation Matrix\", fontsize=14)\n",
        "\n",
        "bar = fig.colorbar(im, pad=0.05, shrink=0.80    )\n",
        "bar.set_label(r\"$C_{ij}$\", fontsize=14, rotation=0)\n",
        "bar.ax.tick_params(labelsize=14)\n",
        "plt.show()"
      ]
    },
    {
      "cell_type": "markdown",
      "metadata": {
        "id": "X7AxsPAnlMUI"
      },
      "source": [
        "Constructing Classical Shadows\n",
        "==============================\n"
      ]
    },
    {
      "cell_type": "markdown",
      "metadata": {
        "id": "NTPT4XUFlMUI"
      },
      "source": [
        "Now that we have built the Heisenberg model, the next step is to\n",
        "construct a\n",
        "`classical shadow <tutorial_classical_shadows>`{.interpreted-text\n",
        "role=\"doc\"} representation for its ground state. To construct an\n",
        "approximate classical representation of an $n$-qubit quantum state\n",
        "$\\rho$, we perform randomized single-qubit measurements on $T$-copies of\n",
        "$\\rho$. Each measurement is chosen randomly among the Pauli bases $X$,\n",
        "$Y$, or $Z$ to yield random $n$ pure product states $|s_i\\rangle$ for\n",
        "each copy:\n",
        "\n",
        "$$|s_{i}^{(t)}\\rangle \\in \\{|0\\rangle, |1\\rangle, |+\\rangle, |-\\rangle, |i+\\rangle, |i-\\rangle\\}.$$\n",
        "\n",
        "$$S_T(\\rho) = \\big\\{|s_{i}^{(t)}\\rangle: i\\in\\{1,\\ldots, n\\},\\ t\\in\\{1,\\ldots, T\\} \\big\\}.$$\n",
        "\n",
        "Each of the $|s_i^{(t)}\\rangle$ provides us with a snapshot of the state\n",
        "$\\rho$, and the $nT$ measurements yield the complete set $S_{T}$, which\n",
        "requires just $3nT$ bits to be stored in classical memory. This is\n",
        "discussed in further detail in our previous demo about\n",
        "`classical shadows <tutorial_classical_shadows>`{.interpreted-text\n",
        "role=\"doc\"}.\n"
      ]
    },
    {
      "cell_type": "markdown",
      "metadata": {
        "id": "voRlU_8blMUI"
      },
      "source": [
        "![](/demonstrations/ml_classical_shadows/class_shadow_prep.png){.align-center\n",
        "width=\"100.0%\"}\n"
      ]
    },
    {
      "cell_type": "markdown",
      "metadata": {
        "id": "nJd4CxtClMUI"
      },
      "source": [
        "To prepare a classical shadow for the ground state of the Heisenberg\n",
        "model, we simply reuse the circuit template used above and reconstruct a\n",
        "`QNode` utilizing a device that performs single-shot measurements.\n"
      ]
    },
    {
      "cell_type": "code",
      "execution_count": 16,
      "metadata": {
        "id": "puR1Cx8WlMUI"
      },
      "outputs": [],
      "source": [
        "dev_oshot = qml.device(\"lightning.qubit\", wires=num_qubits, shots=1)\n",
        "circuit_oshot = qml.QNode(circuit, dev_oshot)"
      ]
    },
    {
      "cell_type": "markdown",
      "metadata": {
        "id": "729nluzslMUI"
      },
      "source": [
        "Now, we define a function to build the classical shadow for the quantum\n",
        "state prepared by a given $n$-qubit circuit using $T$-copies of\n",
        "randomized Pauli basis measurements\n"
      ]
    },
    {
      "cell_type": "code",
      "execution_count": 17,
      "metadata": {
        "colab": {
          "base_uri": "https://localhost:8080/",
          "height": 0
        },
        "id": "2lKMEDwRlMUI",
        "outputId": "964efa4e-b3df-42b8-911e-cf5df8388de5"
      },
      "outputs": [
        {
          "output_type": "stream",
          "name": "stdout",
          "text": [
            "First five measurement outcomes =\n",
            " [[ 1. -1. -1.  1.]\n",
            " [ 1. -1. -1. -1.]\n",
            " [-1.  1.  1.  1.]\n",
            " [ 1.  1. -1. -1.]\n",
            " [-1.  1.  1. -1.]]\n",
            "First five measurement bases =\n",
            " [[1 1 2 2]\n",
            " [2 0 0 2]\n",
            " [1 0 2 2]\n",
            " [0 2 0 2]\n",
            " [2 1 0 1]]\n"
          ]
        }
      ],
      "source": [
        "def gen_class_shadow(circ_template, circuit_params, num_shadows, num_qubits):\n",
        "    # prepare the complete set of available Pauli operators\n",
        "    unitary_ops = [qml.PauliX, qml.PauliY, qml.PauliZ]\n",
        "    # sample random Pauli measurements uniformly\n",
        "    unitary_ensmb = np.random.randint(0, 3, size=(num_shadows, num_qubits), dtype=int)\n",
        "\n",
        "    outcomes = np.zeros((num_shadows, num_qubits))\n",
        "    for ns in range(num_shadows):\n",
        "        # for each snapshot, extract the Pauli basis measurement to be performed\n",
        "        meas_obs = [unitary_ops[unitary_ensmb[ns, i]](i) for i in range(num_qubits)]\n",
        "        # perform single shot randomized Pauli measuremnt for each qubit\n",
        "        outcomes[ns, :] = circ_template(circuit_params, observables=meas_obs)\n",
        "\n",
        "    return outcomes, unitary_ensmb\n",
        "\n",
        "\n",
        "outcomes, basis = gen_class_shadow(circuit_oshot, psi0, 100, num_qubits)\n",
        "print(\"First five measurement outcomes =\\n\", outcomes[:5])\n",
        "print(\"First five measurement bases =\\n\", basis[:5])"
      ]
    },
    {
      "cell_type": "markdown",
      "metadata": {
        "id": "aM9kSgoElMUI"
      },
      "source": [
        "Furthermore, $S_{T}$ can be used to construct an approximation of the\n",
        "underlying $n$-qubit state $\\rho$ by averaging over $\\sigma_t$:\n",
        "\n",
        "$$\\sigma_T(\\rho) = \\frac{1}{T} \\sum_{1}^{T} \\big(3|s_{1}^{(t)}\\rangle\\langle s_1^{(t)}| - \\mathbb{I}\\big)\\otimes \\ldots \\otimes \\big(3|s_{n}^{(t)}\\rangle\\langle s_n^{(t)}| - \\mathbb{I}\\big).$$\n"
      ]
    },
    {
      "cell_type": "code",
      "execution_count": 18,
      "metadata": {
        "id": "uhlXzt7IlMUI"
      },
      "outputs": [],
      "source": [
        "def snapshot_state(meas_list, obs_list):\n",
        "    # undo the rotations done for performing Pauli measurements in the specific basis\n",
        "    rotations = [\n",
        "        qml.matrix(qml.Hadamard(wires=0)), # X-basis\n",
        "        qml.matrix(qml.Hadamard(wires=0)) @ qml.matrix(qml.adjoint(qml.S(wires=0))), # Y-basis\n",
        "        qml.matrix(qml.Identity(wires=0)), # Z-basis\n",
        "    ]\n",
        "\n",
        "    # reconstruct snapshot from local Pauli measurements\n",
        "    rho_snapshot = [1]\n",
        "    for meas_out, basis in zip(meas_list, obs_list):\n",
        "        # preparing state |s_i><s_i| using the post measurement outcome:\n",
        "        # |0><0| for 1 and |1><1| for -1\n",
        "        state = np.array([[1, 0], [0, 0]]) if meas_out == 1 else np.array([[0, 0], [0, 1]])\n",
        "        local_rho = 3 * (rotations[basis].conj().T @ state @ rotations[basis]) - np.eye(2)\n",
        "        rho_snapshot = np.kron(rho_snapshot, local_rho)\n",
        "\n",
        "    return rho_snapshot\n",
        "\n",
        "def shadow_state_reconst(shadow):\n",
        "    num_snapshots, num_qubits = shadow[0].shape\n",
        "    meas_lists, obs_lists = shadow\n",
        "\n",
        "    # Reconstruct the quantum state from its classical shadow\n",
        "    shadow_rho = np.zeros((2 ** num_qubits, 2 ** num_qubits), dtype=complex)\n",
        "    for i in range(num_snapshots):\n",
        "        shadow_rho += snapshot_state(meas_lists[i], obs_lists[i])\n",
        "\n",
        "    return shadow_rho / num_snapshots"
      ]
    },
    {
      "cell_type": "markdown",
      "metadata": {
        "id": "wB7CZQJXlMUI"
      },
      "source": [
        "To see how well the reconstruction works for different values of $T$, we\n",
        "look at the\n",
        "[fidelity](https://en.wikipedia.org/wiki/Fidelity_of_quantum_states) of\n",
        "the actual quantum state with respect to the reconstructed quantum state\n",
        "from the classical shadow with $T$ copies. On average, as the number of\n",
        "copies $T$ is increased, the reconstruction becomes more effective with\n",
        "average higher fidelity values (orange) and lower variance (blue).\n",
        "Eventually, in the limit $T\\rightarrow\\infty$, the reconstruction will\n",
        "be exact.\n",
        "\n",
        "![Fidelity of the reconstructed ground state with different shadow sizes\n",
        "$T$](/demonstrations/ml_classical_shadows/fidel_snapshot.png){.align-center\n",
        "width=\"80.0%\"}\n"
      ]
    },
    {
      "cell_type": "markdown",
      "metadata": {
        "id": "KuzuhucBlMUI"
      },
      "source": [
        "The reconstructed quantum state $\\sigma_T$ can also be used to evaluate\n",
        "expectation values $\\text{Tr}(O\\sigma_T)$ for some localized observable\n",
        "$O = \\bigotimes_{i}^{n} P_i$, where $P_i \\in \\{I, X, Y, Z\\}$. However,\n",
        "as shown above, $\\sigma_T$ would be only an approximation of $\\rho$ for\n",
        "finite values of $T$. Therefore, to estimate $\\langle O \\rangle$\n",
        "robustly, we use the median of means estimation. For this purpose, we\n",
        "split up the $T$ shadows into $K$ equally-sized groups and evaluate the\n",
        "median of the mean value of $\\langle O \\rangle$ for each of these\n",
        "groups.\n"
      ]
    },
    {
      "cell_type": "code",
      "execution_count": 19,
      "metadata": {
        "id": "29rEs_S1lMUI"
      },
      "outputs": [],
      "source": [
        "def estimate_shadow_obs(shadow, observable, k=10):\n",
        "    shadow_size = shadow[0].shape[0]\n",
        "\n",
        "    # convert Pennylane observables to indices\n",
        "    map_name_to_int = {\"PauliX\": 0, \"PauliY\": 1, \"PauliZ\": 2}\n",
        "    if isinstance(observable, (qml.PauliX, qml.PauliY, qml.PauliZ)):\n",
        "        target_obs = np.array([map_name_to_int[observable.name]])\n",
        "        target_locs = np.array([observable.wires[0]])\n",
        "    else:\n",
        "        target_obs = np.array([map_name_to_int[o.name] for o in observable.obs])\n",
        "        target_locs = np.array([o.wires[0] for o in observable.obs])\n",
        "\n",
        "    # perform median of means to return the result\n",
        "    means = []\n",
        "    meas_list, obs_lists = shadow\n",
        "    for i in range(0, shadow_size, shadow_size // k):\n",
        "        meas_list_k, obs_lists_k = (\n",
        "            meas_list[i : i + shadow_size // k],\n",
        "            obs_lists[i : i + shadow_size // k],\n",
        "        )\n",
        "        indices = np.all(obs_lists_k[:, target_locs] == target_obs, axis=1)\n",
        "        if sum(indices):\n",
        "            means.append(\n",
        "                np.sum(np.prod(meas_list_k[indices][:, target_locs], axis=1)) / sum(indices)\n",
        "            )\n",
        "        else:\n",
        "            means.append(0)\n",
        "\n",
        "    return np.median(means)"
      ]
    },
    {
      "cell_type": "markdown",
      "metadata": {
        "id": "MJrMeks1lMUI"
      },
      "source": [
        "Now we estimate the correlation matrix $C^{\\prime}$ from the classical\n",
        "shadow approximation of the ground state.\n"
      ]
    },
    {
      "cell_type": "code",
      "execution_count": 20,
      "metadata": {
        "id": "rjSaQJwYlMUI"
      },
      "outputs": [],
      "source": [
        "coups = list(it.product(range(num_qubits), repeat=2))\n",
        "corrs = [corr_function(i, j) for i, j in coups]\n",
        "qbobs = [qob for qobs in corrs for qob in qobs]\n",
        "\n",
        "def build_estim_corrmat(coups, corrs, num_obs, shadow):\n",
        "    k = int(2 * np.log(2 * num_obs)) # group size\n",
        "    corr_mat_estim = np.zeros((num_qubits, num_qubits))\n",
        "    for idx, (i, j) in enumerate(coups):\n",
        "        corr = corrs[idx]\n",
        "        if i == j:\n",
        "            corr_mat_estim[i][j] = 1.0\n",
        "        else:\n",
        "            corr_mat_estim[i][j] = (\n",
        "                np.sum(np.array([estimate_shadow_obs(shadow, o, k=k+1) for o in corr])) / 3\n",
        "            )\n",
        "            corr_mat_estim[j][i] = corr_mat_estim[i][j]\n",
        "    return corr_mat_estim\n",
        "\n",
        "shadow = gen_class_shadow(circuit_oshot, psi0, 10000, num_qubits)\n",
        "expval_estmt = build_estim_corrmat(coups, corrs, len(qbobs), shadow)"
      ]
    },
    {
      "cell_type": "markdown",
      "metadata": {
        "id": "AtpcKs2dlMUJ"
      },
      "source": [
        "This time, let us visualize the deviation observed between the exact\n",
        "correlation matrix ($C$) and the estimated correlation matrix\n",
        "($C^{\\prime}$) to assess the effectiveness of classical shadow\n",
        "formalism.\n"
      ]
    },
    {
      "cell_type": "code",
      "execution_count": 21,
      "metadata": {
        "colab": {
          "base_uri": "https://localhost:8080/",
          "height": 371
        },
        "id": "MAviSXyklMUJ",
        "outputId": "480e752c-e3cb-4317-bd58-7c2a794d1fba"
      },
      "outputs": [
        {
          "output_type": "display_data",
          "data": {
            "text/plain": [
              "<Figure size 420x400 with 2 Axes>"
            ],
            "image/png": "[encoded data removed]"
          },
          "metadata": {}
        }
      ],
      "source": [
        "fig, ax = plt.subplots(1, 1, figsize=(4.2, 4))\n",
        "im = ax.imshow(expval_exact-expval_estmt, cmap=plt.get_cmap(\"RdBu\"), vmin=-1, vmax=1)\n",
        "ax.xaxis.set_ticks(range(num_qubits))\n",
        "ax.yaxis.set_ticks(range(num_qubits))\n",
        "ax.xaxis.set_tick_params(labelsize=14)\n",
        "ax.yaxis.set_tick_params(labelsize=14)\n",
        "ax.set_title(\"Error in estimating the\\ncorrelation matrix\", fontsize=14)\n",
        "\n",
        "bar = fig.colorbar(im, pad=0.05, shrink=0.80)\n",
        "bar.set_label(r\"$\\Delta C_{ij}$\", fontsize=14, rotation=0)\n",
        "bar.ax.tick_params(labelsize=14)\n",
        "plt.show()"
      ]
    },
    {
      "cell_type": "markdown",
      "metadata": {
        "id": "CvaBmbD-lMUJ"
      },
      "source": [
        "Training Classical Machine Learning Models\n",
        "==========================================\n"
      ]
    },
    {
      "cell_type": "markdown",
      "metadata": {
        "id": "P9L3yo0tlMUJ"
      },
      "source": [
        "There are multiple ways in which we can combine classical shadows and\n",
        "machine learning. This could include training a model to learn the\n",
        "classical representation of quantum systems based on some system\n",
        "parameter, estimating a property from such learned classical\n",
        "representations, or a combination of both. In our case, we consider the\n",
        "problem of using\n",
        "`kernel-based models <tutorial_kernel_based_training>`{.interpreted-text\n",
        "role=\"doc\"} to learn the ground-state representation of the Heisenberg\n",
        "model Hamiltonian $H(x_l)$ from the coupling vector $x_l$, where\n",
        "$x_l = [J_{i,j} \\text{ for } i < j]$. The goal is to predict the\n",
        "correlation functions $C_{ij}$:\n",
        "\n",
        "$$\\big\\{x_l \\rightarrow \\sigma_T(\\rho(x_l)) \\rightarrow \\text{Tr}(\\hat{C}_{ij} \\sigma_T(\\rho(x_l))) \\big\\}_{l=1}^{N}.$$\n",
        "\n",
        "Here, we consider the following kernel-based machine learning model:\n",
        "\n",
        "$$\\hat{\\sigma}_{N} (x) = \\sum_{l=1}^{N} \\kappa(x, x_l)\\sigma_T (x_l) = \\sum_{l=1}^{N} \\left(\\sum_{l^{\\prime}=1}^{N} k(x, x_{l^{\\prime}})(K+\\lambda I)^{-1}_{l, l^{\\prime}} \\sigma_T(x_l) \\right),$$\n",
        "\n",
        "where $\\lambda > 0$ is a regularization parameter in cases when $K$ is\n",
        "not invertible, $\\sigma_T(x_l)$ denotes the classical representation of\n",
        "the ground state $\\rho(x_l)$ of the Heisenberg model constructed using\n",
        "$T$ randomized Pauli measurements, and $K_{ij}=k(x_i, x_j)$ is the\n",
        "kernel matrix with $k(x, x^{\\prime})$ as the kernel function.\n",
        "\n",
        "Similarly, estimating an expectation value on the predicted ground state\n",
        "$\\sigma_T(x_l)$ using the trained model can then be done by evaluating:\n",
        "\n",
        "$$\\text{Tr}(\\hat{O} \\hat{\\sigma}_{N} (x)) = \\sum_{l=1}^{N} \\kappa(x, x_l)\\text{Tr}(O\\sigma_T (x_l)).$$\n",
        "\n",
        "We train the classical kernel-based models using $N = 70$ randomly\n",
        "chosen values of the coupling matrices $J$.\n"
      ]
    },
    {
      "cell_type": "code",
      "execution_count": 22,
      "metadata": {
        "id": "awX0qjXKlMUJ"
      },
      "outputs": [],
      "source": [
        "# imports for ML methods and techniques\n",
        "from sklearn.model_selection import train_test_split, cross_val_score\n",
        "from sklearn import svm\n",
        "from sklearn.kernel_ridge import KernelRidge"
      ]
    },
    {
      "cell_type": "markdown",
      "metadata": {
        "id": "bQWsJyqGlMUJ"
      },
      "source": [
        "First, to build the dataset, we use the function `build_dataset` that\n",
        "takes as input the size of the dataset (`num_points`), the topology of\n",
        "the lattice (`Nr` and `Nc`), and the number of randomized Pauli\n",
        "measurements ($T$) for the construction of classical shadows. The\n",
        "`X_data` is the set of coupling vectors that are defined as a stripped\n",
        "version of the coupling matrix $J$, where only non-duplicate and\n",
        "non-zero $J_{ij}$ are considered. The `y_exact` and `y_clean` are the\n",
        "set of correlation vectors, i.e., the flattened correlation matrix $C$,\n",
        "computed with respect to the ground-state obtained from exact\n",
        "diagonalization and classical shadow representation (with $T=500$),\n",
        "respectively.\n"
      ]
    },
    {
      "cell_type": "code",
      "execution_count": 23,
      "metadata": {
        "colab": {
          "base_uri": "https://localhost:8080/",
          "height": 0
        },
        "id": "oNjK4cvrlMUJ",
        "outputId": "7e2a51c8-2864-49be-949c-6d0aa9997077"
      },
      "outputs": [
        {
          "output_type": "execute_result",
          "data": {
            "text/plain": [
              "((100, 4), (100, 16), (100, 16))"
            ]
          },
          "metadata": {},
          "execution_count": 23
        }
      ],
      "source": [
        "def build_dataset(num_points, Nr, Nc, T=500):\n",
        "\n",
        "    num_qubits = Nr * Nc\n",
        "    X, y_exact, y_estim = [], [], []\n",
        "    coupling_mats = build_coupling_mats(num_points, Nr, Nc)\n",
        "\n",
        "    for coupling_mat in coupling_mats:\n",
        "        ham = Hamiltonian(coupling_mat)\n",
        "        eigvals, eigvecs = sp.sparse.linalg.eigs(ham.sparse_matrix())\n",
        "        psi = eigvecs[:, np.argmin(eigvals)]\n",
        "        shadow = gen_class_shadow(circuit_oshot, psi, T, num_qubits)\n",
        "\n",
        "        coups = list(it.product(range(num_qubits), repeat=2))\n",
        "        corrs = [corr_function(i, j) for i, j in coups]\n",
        "        qbobs = [x for sublist in corrs for x in sublist]\n",
        "\n",
        "        expval_exact = build_exact_corrmat(coups, corrs, circuit_exact, psi)\n",
        "        expval_estim = build_estim_corrmat(coups, corrs, len(qbobs), shadow)\n",
        "\n",
        "        coupling_vec = []\n",
        "        for coup in coupling_mat.reshape(1, -1)[0]:\n",
        "            if coup and coup not in coupling_vec:\n",
        "                coupling_vec.append(coup)\n",
        "        coupling_vec = np.array(coupling_vec) / np.linalg.norm(coupling_vec)\n",
        "\n",
        "        X.append(coupling_vec)\n",
        "        y_exact.append(expval_exact.reshape(1, -1)[0])\n",
        "        y_estim.append(expval_estim.reshape(1, -1)[0])\n",
        "\n",
        "    return np.array(X), np.array(y_exact), np.array(y_estim)\n",
        "\n",
        "X, y_exact, y_estim = build_dataset(100, Nr, Nc, 500)\n",
        "X_data, y_data = X, y_estim\n",
        "X_data.shape, y_data.shape, y_exact.shape"
      ]
    },
    {
      "cell_type": "markdown",
      "metadata": {
        "id": "V18wEzs_lMUK"
      },
      "source": [
        "Now that our dataset is ready, we can shift our focus to the ML models.\n",
        "Here, we use two different Kernel functions: (i) Gaussian Kernel and\n",
        "(ii) Neural Tangent Kernel. For both of them, we consider the\n",
        "regularization parameter $\\lambda$ from the following set of values:\n",
        "\n",
        "$$\\lambda = \\left\\{ 0.0025, 0.0125, 0.025, 0.05, 0.125, 0.25, 0.5, 1.0, 5.0, 10.0 \\right\\}.$$\n",
        "\n",
        "Next, we define the kernel functions $k(x, x^{\\prime})$ for each of the\n",
        "mentioned kernels:\n"
      ]
    },
    {
      "cell_type": "markdown",
      "metadata": {
        "id": "Seuq-zVflMUK"
      },
      "source": [
        "$$k(x, x^{\\prime}) = e^{-\\gamma||x - x^{\\prime}||^{2}_{2}}. \\tag{Gaussian Kernel}$$\n",
        "\n",
        "For the Gaussian kernel, the hyperparameter\n",
        "$\\gamma = N^{2}/\\sum_{i=1}^{N} \\sum_{j=1}^{N} ||x_i-x_j||^{2}_{2} > 0$\n",
        "is chosen to be the inverse of the average Euclidean distance $x_i$ and\n",
        "$x_j$. The kernel is implemented using the radial-basis function (rbf)\n",
        "kernel in the `sklearn` library.\n"
      ]
    },
    {
      "cell_type": "markdown",
      "metadata": {
        "id": "38VnvOMGlMUK"
      },
      "source": [
        "$$k(x, x^{\\prime}) = k^{\\text{NTK}}(x, x^{\\prime}). \\tag{Neural Tangent Kernel}$$\n",
        "\n",
        "The neural tangent kernel $k^{\\text{NTK}}$ used here is equivalent to an\n",
        "infinite-width feed-forward neural network with four hidden layers and\n",
        "that uses the rectified linear unit (ReLU) as the activation function.\n",
        "This is implemented using the `neural_tangents` library.\n"
      ]
    },
    {
      "cell_type": "code",
      "execution_count": 24,
      "metadata": {
        "id": "Ekn9atIZlMUK"
      },
      "outputs": [],
      "source": [
        "from neural_tangents import stax\n",
        "init_fn, apply_fn, kernel_fn = stax.serial(\n",
        "    stax.Dense(32),\n",
        "    stax.Relu(),\n",
        "    stax.Dense(32),\n",
        "    stax.Relu(),\n",
        "    stax.Dense(32),\n",
        "    stax.Relu(),\n",
        "    stax.Dense(32),\n",
        "    stax.Relu(),\n",
        "    stax.Dense(1),\n",
        ")\n",
        "kernel_NN = kernel_fn(X_data, X_data, \"ntk\")\n",
        "\n",
        "for i in range(len(kernel_NN)):\n",
        "    for j in range(len(kernel_NN)):\n",
        "        kernel_NN.at[i, j].set((kernel_NN[i][i] * kernel_NN[j][j]) ** 0.5)"
      ]
    },
    {
      "cell_type": "markdown",
      "metadata": {
        "id": "GJbMkW7klMUK"
      },
      "source": [
        "For the above two defined kernel methods, we obtain the best learning\n",
        "model by performing hyperparameter tuning using cross-validation for the\n",
        "prediction task of each $C_{ij}$. For this purpose, we implement the\n",
        "function `fit_predict_data`, which takes input as the correlation\n",
        "function index `cij`, kernel matrix `kernel`, and internal kernel\n",
        "mapping `opt` required by the kernel-based regression models from the\n",
        "`sklearn` library.\n"
      ]
    },
    {
      "cell_type": "code",
      "execution_count": 25,
      "metadata": {
        "id": "7qbJKRGglMUK"
      },
      "outputs": [],
      "source": [
        "from sklearn.metrics import mean_squared_error\n",
        "\n",
        "def fit_predict_data(cij, kernel, opt=\"linear\"):\n",
        "\n",
        "    # training data (estimated from measurement data)\n",
        "    y = np.array([y_estim[i][cij] for i in range(len(X_data))])\n",
        "    X_train, X_test, y_train, y_test = train_test_split(\n",
        "        kernel, y, test_size=0.3, random_state=24\n",
        "    )\n",
        "\n",
        "    # testing data (exact expectation values)\n",
        "    y_clean = np.array([y_exact[i][cij] for i in range(len(X_data))])\n",
        "    _, _, _, y_test_clean = train_test_split(kernel, y_clean, test_size=0.3, random_state=24)\n",
        "\n",
        "    # hyperparameter tuning with cross validation\n",
        "    models = [\n",
        "        # Epsilon-Support Vector Regression\n",
        "        (lambda Cx: svm.SVR(kernel=opt, C=Cx, epsilon=0.1)),\n",
        "        # Kernel-Ridge based Regression\n",
        "        (lambda Cx: KernelRidge(kernel=opt, alpha=1 / (2 * Cx))),\n",
        "    ]\n",
        "\n",
        "    # Regularization parameter\n",
        "    hyperparams = [0.0025, 0.0125, 0.025, 0.05, 0.125, 0.25, 0.5, 1.0, 5.0, 10.0]\n",
        "    best_pred, best_cv_score, best_test_score = None, np.inf, np.inf\n",
        "    for model in models:\n",
        "        for hyperparam in hyperparams:\n",
        "            cv_score = -np.mean(\n",
        "                cross_val_score(\n",
        "                    model(hyperparam), X_train, y_train, cv=5,\n",
        "                    scoring=\"neg_root_mean_squared_error\",\n",
        "                )\n",
        "            )\n",
        "            if best_cv_score > cv_score:\n",
        "                best_model = model(hyperparam).fit(X_train, y_train)\n",
        "                best_pred = best_model.predict(X_test)\n",
        "                best_cv_score = cv_score\n",
        "                best_test_score = mean_squared_error(\n",
        "                    best_model.predict(X_test).ravel(), y_test_clean.ravel(), squared=False\n",
        "                )\n",
        "\n",
        "    return (\n",
        "        best_pred, y_test_clean, np.round(best_cv_score, 5), np.round(best_test_score, 5)\n",
        "    )"
      ]
    },
    {
      "cell_type": "markdown",
      "metadata": {
        "id": "IGPcW5sglMUK"
      },
      "source": [
        "We perform the fitting and prediction for each $C_{ij}$ and print the\n",
        "output in a tabular format.\n"
      ]
    },
    {
      "cell_type": "code",
      "execution_count": 26,
      "metadata": {
        "colab": {
          "base_uri": "https://localhost:8080/",
          "height": 0
        },
        "id": "vxZOUxk9lMUK",
        "outputId": "93026c38-5ab2-4e7f-93c2-99a2fc0856a3"
      },
      "outputs": [
        {
          "output_type": "stream",
          "name": "stdout",
          "text": [
            "              Correlation                    Gaussian kernel              Neural Tangent kernel\n",
            "               \t C_00 \t|                           [-0.  0.]                          [-0.  0.]\n",
            "               \t C_01 \t|                   [0.09871 0.06988]                  [0.12886 0.06494]\n",
            "               \t C_02 \t|                   [0.10078 0.06333]                  [0.10897 0.07771]\n",
            "               \t C_03 \t|                   [0.09489 0.0417 ]                  [0.10066 0.05993]\n",
            "               \t C_10 \t|                   [0.09871 0.06988]                  [0.12886 0.06494]\n",
            "               \t C_11 \t|                           [-0.  0.]                          [-0.  0.]\n",
            "               \t C_12 \t|                   [0.11153 0.03719]                  [0.11597 0.05878]\n",
            "               \t C_13 \t|                     [0.1052 0.0649]                  [0.11276 0.08506]\n",
            "               \t C_20 \t|                   [0.10078 0.06333]                  [0.10897 0.07771]\n",
            "               \t C_21 \t|                   [0.11153 0.03719]                  [0.11597 0.05878]\n",
            "               \t C_22 \t|                           [-0.  0.]                          [-0.  0.]\n",
            "               \t C_23 \t|                   [0.10534 0.07744]                  [0.12772 0.10248]\n",
            "               \t C_30 \t|                   [0.09489 0.0417 ]                  [0.10066 0.05993]\n",
            "               \t C_31 \t|                     [0.1052 0.0649]                  [0.11276 0.08506]\n",
            "               \t C_32 \t|                   [0.10534 0.07744]                  [0.12772 0.10248]\n",
            "               \t C_33 \t|                           [-0.  0.]                          [-0.  0.]\n"
          ]
        }
      ],
      "source": [
        "kernel_list = [\"Gaussian kernel\", \"Neural Tangent kernel\"]\n",
        "kernel_data = np.zeros((num_qubits ** 2, len(kernel_list), 2))\n",
        "y_predclean, y_predicts1, y_predicts2 = [], [], []\n",
        "\n",
        "for cij in range(num_qubits ** 2):\n",
        "    y_predict, y_clean, cv_score, test_score = fit_predict_data(cij, X_data, opt=\"rbf\")\n",
        "    y_predclean.append(y_clean)\n",
        "    kernel_data[cij][0] = (cv_score, test_score)\n",
        "    y_predicts1.append(y_predict)\n",
        "    y_predict, y_clean, cv_score, test_score = fit_predict_data(cij, kernel_NN)\n",
        "    kernel_data[cij][1] = (cv_score, test_score)\n",
        "    y_predicts2.append(y_predict)\n",
        "\n",
        "# For each C_ij print (best_cv_score, test_score) pair\n",
        "row_format = \"{:>25}{:>35}{:>35}\"\n",
        "print(row_format.format(\"Correlation\", *kernel_list))\n",
        "for idx, data in enumerate(kernel_data):\n",
        "    print(\n",
        "        row_format.format(\n",
        "            f\"\\t C_{idx//num_qubits}{idx%num_qubits} \\t| \",\n",
        "            str(data[0]),\n",
        "            str(data[1]),\n",
        "        )\n",
        "    )"
      ]
    },
    {
      "cell_type": "markdown",
      "metadata": {
        "id": "W8OQJN7blMUK"
      },
      "source": [
        "Overall, we find that the models with the Gaussian kernel performed\n",
        "better than those with NTK for predicting the expectation value of the\n",
        "correlation function $C_{ij}$ for the ground state of the Heisenberg\n",
        "model. However, the best choice of $\\lambda$ differed substantially\n",
        "across the different $C_{ij}$ for both kernels. We present the predicted\n",
        "correlation matrix $C^{\\prime}$ for randomly selected Heisenberg models\n",
        "from the test set below for comparison against the actual correlation\n",
        "matrix $C$, which is obtained from the ground state found using exact\n",
        "diagonalization.\n"
      ]
    },
    {
      "cell_type": "code",
      "execution_count": 27,
      "metadata": {
        "colab": {
          "base_uri": "https://localhost:8080/",
          "height": 930
        },
        "id": "EpnjzM4WlMUK",
        "outputId": "a7c33db4-cd54-417c-e672-5bd9170ac651"
      },
      "outputs": [
        {
          "output_type": "display_data",
          "data": {
            "text/plain": [
              "<Figure size 1400x1400 with 10 Axes>"
            ],
            "image/png": "[encoded data removed]"
          },
          "metadata": {}
        }
      ],
      "source": [
        "fig, axes = plt.subplots(3, 3, figsize=(14, 14))\n",
        "corr_vals = [y_predclean, y_predicts1, y_predicts2]\n",
        "plt_plots = [1, 14, 25]\n",
        "\n",
        "cols = [\n",
        "    \"From {}\".format(col)\n",
        "    for col in [\"Exact Diagonalization\", \"Gaussian Kernel\", \"Neur. Tang. Kernel\"]\n",
        "]\n",
        "rows = [\"Model {}\".format(row) for row in plt_plots]\n",
        "\n",
        "for ax, col in zip(axes[0], cols):\n",
        "    ax.set_title(col, fontsize=18)\n",
        "\n",
        "for ax, row in zip(axes[:, 0], rows):\n",
        "    ax.set_ylabel(row, rotation=90, fontsize=24)\n",
        "\n",
        "for itr in range(3):\n",
        "    for idx, corr_val in enumerate(corr_vals):\n",
        "        shw = axes[itr][idx].imshow(\n",
        "            np.array(corr_vals[idx]).T[plt_plots[itr]].reshape(Nr * Nc, Nr * Nc),\n",
        "            cmap=plt.get_cmap(\"RdBu\"), vmin=-1, vmax=1,\n",
        "        )\n",
        "        axes[itr][idx].xaxis.set_ticks(range(Nr * Nc))\n",
        "        axes[itr][idx].yaxis.set_ticks(range(Nr * Nc))\n",
        "        axes[itr][idx].xaxis.set_tick_params(labelsize=18)\n",
        "        axes[itr][idx].yaxis.set_tick_params(labelsize=18)\n",
        "\n",
        "fig.subplots_adjust(right=0.86)\n",
        "cbar_ax = fig.add_axes([0.90, 0.15, 0.015, 0.71])\n",
        "bar = fig.colorbar(shw, cax=cbar_ax)\n",
        "\n",
        "bar.set_label(r\"$C_{ij}$\", fontsize=18, rotation=0)\n",
        "bar.ax.tick_params(labelsize=16)\n",
        "plt.show()"
      ]
    },
    {
      "cell_type": "markdown",
      "metadata": {
        "id": "EY4jZ8bPlMUK"
      },
      "source": [
        "Finally, we also attempt to showcase the effect of the size of training\n",
        "data $N$ and the number of Pauli measurements $T$. For this, we look at\n",
        "the average root-mean-square error (RMSE) in prediction for each kernel\n",
        "over all two-point correlation functions $C_{ij}$. Here, the first plot\n",
        "looks at the different training sizes $N$ with a fixed number of\n",
        "randomized Pauli measurements $T=100$. In contrast, the second plot\n",
        "looks at the different shadow sizes $T$ with a fixed training data size\n",
        "$N=70$. The performance improvement seems to be saturating after a\n",
        "sufficient increase in $N$ and $T$ values for all two kernels in both\n",
        "the cases.\n"
      ]
    },
    {
      "cell_type": "markdown",
      "metadata": {
        "id": "E2XL6tE-lMUK"
      },
      "source": [
        "![image](/demonstrations/ml_classical_shadows/rmse_training.png){width=\"47.0%\"}\n",
        "\n",
        "![image](/demonstrations/ml_classical_shadows/rmse_shadow.png){width=\"47.0%\"}\n"
      ]
    },
    {
      "cell_type": "markdown",
      "metadata": {
        "id": "NGuMg3dVlMUK"
      },
      "source": [
        "Conclusion\n",
        "==========\n",
        "\n",
        "This demo illustrates how classical machine learning models can benefit\n",
        "from the classical shadow formalism for learning characteristics and\n",
        "predicting the behavior of quantum systems. As argued in Ref., this\n",
        "raises the possibility that models trained on experimental or quantum\n",
        "data data can effectively address quantum many-body problems that cannot\n",
        "be solved using classical methods alone.\n"
      ]
    },
    {
      "cell_type": "code",
      "execution_count": 28,
      "metadata": {
        "colab": {
          "base_uri": "https://localhost:8080/",
          "height": 0
        },
        "id": "0DVGzrBtG3Op",
        "outputId": "ba7e1dd9-73f3-4012-922e-d4c60d2a8d6e"
      },
      "outputs": [
        {
          "output_type": "stream",
          "name": "stdout",
          "text": [
            "Time in seconds since end of run: 1700501668.4348798\n",
            "Mon Nov 20 17:34:28 2023\n"
          ]
        }
      ],
      "source": [
        "seconds = time.time()\n",
        "print(\"Time in seconds since end of run:\", seconds)\n",
        "local_time = time.ctime(seconds)\n",
        "print(local_time)"
      ]
    },
    {
      "cell_type": "markdown",
      "metadata": {
        "id": "hkYS-zIJlMUL"
      },
      "source": [
        "References {#ml_classical_shadow_references}\n",
        "==========\n",
        "\n",
        "About the author\n",
        "================\n"
      ]
    }
  ],
  "metadata": {
    "colab": {
      "provenance": []
    },
    "kernelspec": {
      "display_name": "Python 3 (ipykernel)",
      "language": "python",
      "name": "python3"
    },
    "language_info": {
      "codemirror_mode": {
        "name": "ipython",
        "version": 3
      },
      "file_extension": ".py",
      "mimetype": "text/x-python",
      "name": "python",
      "nbconvert_exporter": "python",
      "pygments_lexer": "ipython3",
      "version": "3.10.8"
    }
  },
  "nbformat": 4,
  "nbformat_minor": 0
}