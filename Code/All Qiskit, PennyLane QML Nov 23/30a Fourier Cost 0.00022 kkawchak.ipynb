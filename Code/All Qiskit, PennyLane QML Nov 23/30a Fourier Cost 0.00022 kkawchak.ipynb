{
  "cells": [
    {
      "cell_type": "code",
      "execution_count": 70,
      "metadata": {
        "id": "8M5M9PlyJcSp"
      },
      "outputs": [],
      "source": [
        "# This cell is added by sphinx-gallery\n",
        "# It can be customized to whatever you like\n",
        "%matplotlib inline\n",
        "# !pip install pennylane"
      ]
    },
    {
      "cell_type": "markdown",
      "metadata": {
        "id": "jvQZBJU3JcSq"
      },
      "source": [
        "Quantum models as Fourier series\n",
        "================================\n",
        "\n",
        "::: {.meta}\n",
        ":property=\\\"og:description\\\": The class of functions a quantum model can\n",
        "learn is characterized by the structure of its corresponding Fourier\n",
        "series. :property=\\\"og:image\\\":\n",
        "<https://pennylane.ai/qml/_images/scheme.png>\n",
        ":::\n",
        "\n",
        "::: {.related}\n",
        "tutorial\\_data\\_reuploading\\_classifier Data-reuploading classifier\n",
        ":::\n",
        "\n",
        "*Authors: Maria Schuld and Johannes Jakob Meyer --- Posted: 24 August\n",
        "2020. Last updated: 15 January 2021.*\n"
      ]
    },
    {
      "cell_type": "markdown",
      "metadata": {
        "id": "wQaAkjNrJcSr"
      },
      "source": [
        "This demonstration is based on the paper *The effect of data encoding on\n",
        "the expressive power of variational quantum machine learning models* by\n",
        "[Schuld, Sweke, and Meyer (2020)](https://arxiv.org/abs/2008.08605).\n",
        "\n",
        "![](../demonstrations/expressivity_fourier_series/scheme_thumb.png){.align-center\n",
        "width=\"50.0%\"}\n"
      ]
    },
    {
      "cell_type": "markdown",
      "metadata": {
        "id": "Gd-5kQ-KJcSr"
      },
      "source": [
        "The paper links common quantum machine learning models designed for\n",
        "near-term quantum computers to Fourier series (and, in more general, to\n",
        "Fourier-type sums). With this link, the class of functions a quantum\n",
        "model can learn (i.e., its \\\"expressivity\\\") can be characterized by the\n",
        "model\\'s control of the Fourier series\\' frequencies and coefficients.\n"
      ]
    },
    {
      "cell_type": "markdown",
      "metadata": {
        "id": "CZtJRBgdJcSr"
      },
      "source": [
        "Background\n",
        "==========\n"
      ]
    },
    {
      "cell_type": "markdown",
      "metadata": {
        "id": "rBGFzz46JcSr"
      },
      "source": [
        "Ref. considers quantum machine learning models of the form\n",
        "\n",
        "$$f_{\\boldsymbol \\theta}(x) = \\langle 0| U^{\\dagger}(x,\\boldsymbol \\theta) M U(x, \\boldsymbol \\theta) | 0 \\rangle$$\n",
        "\n",
        "where $M$ is a measurement observable and $U(x, \\boldsymbol \\theta)$ is\n",
        "a variational quantum circuit that encodes a data input $x$ and depends\n",
        "on a set of parameters $\\boldsymbol \\theta$. Here we will restrict\n",
        "ourselves to one-dimensional data inputs, but the paper motivates that\n",
        "higher-dimensional features simply generalize to multi-dimensional\n",
        "Fourier series.\n",
        "\n",
        "The circuit itself repeats $L$ layers, each consisting of a\n",
        "data-encoding circuit block $S(x)$ and a trainable circuit block\n",
        "$W(\\boldsymbol \\theta)$ that is controlled by the parameters\n",
        "$\\boldsymbol \\theta$. The data encoding block consists of gates of the\n",
        "form $\\mathcal{G}(x) = e^{-ix H}$, where $H$ is a Hamiltonian. A\n",
        "prominent example of such gates are Pauli rotations.\n"
      ]
    },
    {
      "cell_type": "markdown",
      "metadata": {
        "id": "cOO9wOoKJcSr"
      },
      "source": [
        "The paper shows how such a quantum model can be written as a\n",
        "Fourier-type sum of the form\n",
        "\n",
        "$$f_{ \\boldsymbol \\theta}(x) = \\sum_{\\omega \\in \\Omega} c_{\\omega}( \\boldsymbol \\theta) \\; e^{i  \\omega x}.$$\n",
        "\n",
        "As illustrated in the picture below (which is Figure 1 from the paper),\n",
        "the \\\"encoding Hamiltonians\\\" in $S(x)$ determine the set $\\Omega$ of\n",
        "available \\\"frequencies\\\", and the remainder of the circuit, including\n",
        "the trainable parameters, determines the coefficients $c_{\\omega}$.\n"
      ]
    },
    {
      "cell_type": "markdown",
      "metadata": {
        "id": "z_N46n9XJcSs"
      },
      "source": [
        "![](../demonstrations/expressivity_fourier_series/scheme.png){.align-center\n",
        "width=\"50.0%\"}\n",
        "\n",
        "|\n"
      ]
    },
    {
      "cell_type": "markdown",
      "metadata": {
        "id": "c6BT0LuvJcSs"
      },
      "source": [
        "The paper demonstrates many of its findings for circuits in which\n",
        "$\\mathcal{G}(x)$ is a single-qubit Pauli rotation gate. For example, it\n",
        "shows that $r$ repetitions of a Pauli rotation-encoding gate in\n",
        "\\\"sequence\\\" (on the same qubit, but with multiple layers $r=L$) or in\n",
        "\\\"parallel\\\" (on $r$ different qubits, with $L=1$) creates a quantum\n",
        "model that can be expressed as a *Fourier series* of the form\n",
        "\n",
        "$$f_{ \\boldsymbol \\theta}(x) = \\sum_{n \\in \\Omega} c_{n}(\\boldsymbol \\theta) e^{i  n x},$$\n",
        "\n",
        "where $\\Omega = \\{ -r, \\dots, -1, 0, 1, \\dots, r\\}$ is a spectrum of\n",
        "consecutive integer-valued frequencies up to degree $r$.\n",
        "\n",
        "As a result, we expect quantum models that encode an input $x$ by $r$\n",
        "Pauli rotations to only be able to fit Fourier series of at most degree\n",
        "$r$.\n"
      ]
    },
    {
      "cell_type": "markdown",
      "metadata": {
        "id": "aWRFbQOaJcSs"
      },
      "source": [
        "Goal of this demonstration\n",
        "==========================\n"
      ]
    },
    {
      "cell_type": "markdown",
      "metadata": {
        "id": "Iq0OUR-_JcSs"
      },
      "source": [
        "The experiments below investigate this \\\"Fourier-series\\\"-like nature of\n",
        "quantum models by showing how to reproduce the simulations underlying\n",
        "Figures 3, 4 and 5 in Section II of the paper:\n",
        "\n",
        "-   **Figures 3 and 4** are function-fitting experiments, where quantum\n",
        "    models with different encoding strategies have the task to fit\n",
        "    Fourier series up to a certain degree. As in the paper, we will use\n",
        "    examples of qubit-based quantum circuits where a single data feature\n",
        "    is encoded via Pauli rotations.\n",
        "-   **Figure 5** plots the Fourier coefficients of randomly sampled\n",
        "    instances from a family of quantum models which is defined by some\n",
        "    parametrized ansatz.\n",
        "\n",
        "The code is presented so you can easily modify it in order to play\n",
        "around with other settings and models. The settings used in the paper\n",
        "are given in the various subsections.\n"
      ]
    },
    {
      "cell_type": "markdown",
      "metadata": {
        "id": "Ph8H6eQMJcSs"
      },
      "source": [
        "First of all, let\\'s make some imports and define a standard loss\n",
        "function for the training.\n"
      ]
    },
    {
      "cell_type": "code",
      "execution_count": 71,
      "metadata": {
        "id": "LxU9FaWAJcSs"
      },
      "outputs": [],
      "source": [
        "import matplotlib.pyplot as plt\n",
        "import pennylane as qml\n",
        "from pennylane import numpy as np\n",
        "\n",
        "np.random.seed(42)\n",
        "\n",
        "def square_loss(targets, predictions):\n",
        "    loss = 0\n",
        "    for t, p in zip(targets, predictions):\n",
        "        loss += (t - p) ** 2\n",
        "    loss = loss / len(targets)\n",
        "    return 0.5*loss"
      ]
    },
    {
      "cell_type": "markdown",
      "metadata": {
        "id": "QuoNQMahJcSt"
      },
      "source": [
        "Part I: Fitting Fourier series with serial Pauli-rotation encoding\n",
        "==================================================================\n"
      ]
    },
    {
      "cell_type": "markdown",
      "metadata": {
        "id": "-TEc0KxLJcSt"
      },
      "source": [
        "First we will reproduce Figures 3 and 4 from the paper. These show how\n",
        "quantum models that use Pauli rotations as data-encoding gates can only\n",
        "fit Fourier series up to a certain degree. The degree corresponds to the\n",
        "number of times that the Pauli gate gets repeated in the quantum model.\n",
        "\n",
        "Let us consider circuits where the encoding gate gets repeated\n",
        "sequentially (as in Figure 2a of the paper). For simplicity we will only\n",
        "look at single-qubit circuits:\n",
        "\n",
        "![](../demonstrations/expressivity_fourier_series/single_qubit_model.png){.align-center\n",
        "width=\"50.0%\"}\n"
      ]
    },
    {
      "cell_type": "markdown",
      "metadata": {
        "id": "oDUoimZzJcSt"
      },
      "source": [
        "Define a target function\n",
        "========================\n"
      ]
    },
    {
      "cell_type": "markdown",
      "metadata": {
        "id": "hlrDJI2EJcSt"
      },
      "source": [
        "We first define a (classical) target function which will be used as a\n",
        "\\\"ground truth\\\" that the quantum model has to fit. The target function\n",
        "is constructed as a Fourier series of a specific degree.\n",
        "\n",
        "We also allow for a rescaling of the data by a hyperparameter `scaling`,\n",
        "which we will do in the quantum model as well. As shown in, for the\n",
        "quantum model to learn the classical model in the experiment below, the\n",
        "scaling of the quantum model and the target function have to match,\n",
        "which is an important observation for the design of quantum machine\n",
        "learning models.\n"
      ]
    },
    {
      "cell_type": "code",
      "execution_count": 72,
      "metadata": {
        "id": "cHNfuc9LJcSt"
      },
      "outputs": [],
      "source": [
        "degree = 1  # degree of the target function\n",
        "scaling = 1  # scaling of the data\n",
        "coeffs = [0.15 + 0.15j]*degree  # coefficients of non-zero frequencies\n",
        "coeff0 = 0.1  # coefficient of zero frequency\n",
        "\n",
        "def target_function(x):\n",
        "    \"\"\"Generate a truncated Fourier series, where the data gets re-scaled.\"\"\"\n",
        "    res = coeff0\n",
        "    for idx, coeff in enumerate(coeffs):\n",
        "        exponent = np.complex128(scaling * (idx+1) * x * 1j)\n",
        "        conj_coeff = np.conjugate(coeff)\n",
        "        res += coeff * np.exp(exponent) + conj_coeff * np.exp(-exponent)\n",
        "    return np.real(res)"
      ]
    },
    {
      "cell_type": "markdown",
      "metadata": {
        "id": "LIazLexTJcSt"
      },
      "source": [
        "Let\\'s have a look at it.\n"
      ]
    },
    {
      "cell_type": "code",
      "execution_count": 73,
      "metadata": {
        "colab": {
          "base_uri": "https://localhost:8080/",
          "height": 435
        },
        "id": "IxG3Xc5KJcSt",
        "outputId": "baec011f-e272-4cd6-8362-e7c3f4ad9b30"
      },
      "outputs": [
        {
          "output_type": "display_data",
          "data": {
            "text/plain": [
              "<Figure size 640x480 with 1 Axes>"
            ],
            "image/png": "[encoded data removed]"
          },
          "metadata": {}
        }
      ],
      "source": [
        "x = np.linspace(-6, 6, 70, requires_grad=False)\n",
        "target_y = np.array([target_function(x_) for x_ in x], requires_grad=False)\n",
        "\n",
        "plt.plot(x, target_y, c='black')\n",
        "plt.scatter(x, target_y, facecolor='white', edgecolor='black')\n",
        "plt.ylim(-1, 1)\n",
        "plt.show();"
      ]
    },
    {
      "cell_type": "markdown",
      "metadata": {
        "id": "EzayLur8JcSt"
      },
      "source": [
        "::: {.note}\n",
        "::: {.title}\n",
        "Note\n",
        ":::\n",
        "\n",
        "To reproduce the figures in the paper, you can use the following\n",
        "settings in the cells above:\n",
        "\n",
        "-   For the settings\n",
        "\n",
        "        degree = 1\n",
        "        coeffs = (0.15 + 0.15j) * degree\n",
        "        coeff0 = 0.1\n",
        "\n",
        "    this function is the ground truth\n",
        "    $g(x) = \\sum_{n=-1}^1 c_{n} e^{-nix}$ from Figure 3 in the paper.\n",
        "\n",
        "-   To get the ground truth $g'(x) = \\sum_{n=-2}^2 c_{n} e^{-nix}$ with\n",
        "    $c_0=0.1$, $c_1 = c_2 = 0.15 - 0.15i$ from Figure 3, you need to\n",
        "    increase the degree to two:\n",
        "\n",
        "        degree = 2\n",
        "\n",
        "-   The ground truth from Figure 4 can be reproduced by changing the\n",
        "    settings to:\n",
        "\n",
        "        degree = 5\n",
        "        coeffs = (0.05 + 0.05j) * degree\n",
        "        coeff0 = 0.0\n",
        ":::\n"
      ]
    },
    {
      "cell_type": "markdown",
      "metadata": {
        "id": "Rc_zGNV4JcSt"
      },
      "source": [
        "Define the serial quantum model\n",
        "===============================\n"
      ]
    },
    {
      "cell_type": "markdown",
      "metadata": {
        "id": "Ne0dxusGJcSt"
      },
      "source": [
        "We now define the quantum model itself.\n"
      ]
    },
    {
      "cell_type": "code",
      "execution_count": 74,
      "metadata": {
        "id": "XyXFJ2i8JcSt"
      },
      "outputs": [],
      "source": [
        "scaling = 1\n",
        "\n",
        "dev = qml.device('default.qubit', wires=1)\n",
        "\n",
        "def S(x):\n",
        "    \"\"\"Data-encoding circuit block.\"\"\"\n",
        "    qml.RX(scaling * x, wires=0)\n",
        "\n",
        "def W(theta):\n",
        "    \"\"\"Trainable circuit block.\"\"\"\n",
        "    qml.Rot(theta[0], theta[1], theta[2], wires=0)\n",
        "\n",
        "\n",
        "@qml.qnode(dev, interface=\"autograd\")\n",
        "def serial_quantum_model(weights, x):\n",
        "\n",
        "    for theta in weights[:-1]:\n",
        "        W(theta)\n",
        "        S(x)\n",
        "\n",
        "    # (L+1)'th unitary\n",
        "    W(weights[-1])\n",
        "\n",
        "    return qml.expval(qml.PauliZ(wires=0))"
      ]
    },
    {
      "cell_type": "markdown",
      "metadata": {
        "id": "eKfmzbuhJcSu"
      },
      "source": [
        "You can run the following cell multiple times, each time sampling\n",
        "different weights, and therefore different quantum models.\n"
      ]
    },
    {
      "cell_type": "code",
      "execution_count": 75,
      "metadata": {
        "colab": {
          "base_uri": "https://localhost:8080/",
          "height": 435
        },
        "id": "DY378RTpJcSu",
        "outputId": "82a247b5-8091-46ee-f281-88d9d2cbbb7d"
      },
      "outputs": [
        {
          "output_type": "display_data",
          "data": {
            "text/plain": [
              "<Figure size 640x480 with 1 Axes>"
            ],
            "image/png": "[encoded data removed]"
          },
          "metadata": {}
        }
      ],
      "source": [
        "r = 1 # number of times the encoding gets repeated (here equal to the number of layers)\n",
        "weights = 2 * np.pi * np.random.random(size=(r+1, 3), requires_grad=True) # some random initial weights\n",
        "\n",
        "x = np.linspace(-6, 6, 70, requires_grad=False)\n",
        "random_quantum_model_y = [serial_quantum_model(weights, x_) for x_ in x]\n",
        "\n",
        "plt.plot(x, random_quantum_model_y, c='blue')\n",
        "plt.ylim(-1,1)\n",
        "plt.show()"
      ]
    },
    {
      "cell_type": "markdown",
      "metadata": {
        "id": "yR24kmdFJcSu"
      },
      "source": [
        "No matter what weights are picked, the single qubit model for\n",
        "[L=1]{.title-ref} will always be a sine function of a fixed frequency.\n",
        "The weights merely influence the amplitude, y-shift, and phase of the\n",
        "sine.\n",
        "\n",
        "This observation is formally derived in Section II.A of the paper.\n"
      ]
    },
    {
      "cell_type": "markdown",
      "metadata": {
        "id": "qc6vKf7wJcSu"
      },
      "source": [
        "::: {.note}\n",
        "::: {.title}\n",
        "Note\n",
        ":::\n",
        "\n",
        "You can increase the number of layers. Figure 4 from the paper, for\n",
        "example, uses the settings `L=1`, `L=3` and `L=5`.\n",
        ":::\n"
      ]
    },
    {
      "cell_type": "markdown",
      "metadata": {
        "id": "yGhX4z6cJcSu"
      },
      "source": [
        "Finally, let\\'s look at the circuit we just created:\n"
      ]
    },
    {
      "cell_type": "code",
      "execution_count": 76,
      "metadata": {
        "colab": {
          "base_uri": "https://localhost:8080/",
          "height": 0
        },
        "id": "T6F2mU6BJcSu",
        "outputId": "1d98137b-7907-4698-eedc-4760eab9740e"
      },
      "outputs": [
        {
          "output_type": "stream",
          "name": "stdout",
          "text": [
            "0: ──Rot(1.15,4.90,3.75)──RX(6.00)──Rot(2.80,0.63,2.89)─┤  <Z>\n"
          ]
        }
      ],
      "source": [
        "print(qml.draw(serial_quantum_model)(weights, x[-1]))"
      ]
    },
    {
      "cell_type": "markdown",
      "metadata": {
        "id": "BkOa77rZJcSu"
      },
      "source": [
        "Fit the model to the target\n",
        "===========================\n"
      ]
    },
    {
      "cell_type": "markdown",
      "metadata": {
        "id": "Pi-5dw3vJcSu"
      },
      "source": [
        "The next step is to optimize the weights in order to fit the ground\n",
        "truth.\n"
      ]
    },
    {
      "cell_type": "code",
      "execution_count": 77,
      "metadata": {
        "colab": {
          "base_uri": "https://localhost:8080/",
          "height": 0
        },
        "id": "SI6m4vJbJcSu",
        "outputId": "2a549a9a-c4f6-4dd3-82f1-f0f1aeaad4c8"
      },
      "outputs": [
        {
          "output_type": "stream",
          "name": "stdout",
          "text": [
            "Cost at step  10: 0.11428002647555723\n",
            "Cost at step  20: 0.012640683454725361\n",
            "Cost at step  30: 0.002140581731525977\n",
            "Cost at step  40: 0.0019322449091532447\n",
            "Cost at step  50: 0.00013360533241902023\n"
          ]
        }
      ],
      "source": [
        "def cost(weights, x, y):\n",
        "    predictions = [serial_quantum_model(weights, x_) for x_ in x]\n",
        "    return square_loss(y, predictions)\n",
        "\n",
        "max_steps = 50\n",
        "opt = qml.AdamOptimizer(0.3)\n",
        "batch_size = 25\n",
        "cst = [cost(weights, x, target_y)]  # initial cost\n",
        "\n",
        "for step in range(max_steps):\n",
        "\n",
        "    # Select batch of data\n",
        "    batch_index = np.random.randint(0, len(x), (batch_size,))\n",
        "    x_batch = x[batch_index]\n",
        "    y_batch = target_y[batch_index]\n",
        "\n",
        "    # Update the weights by one optimizer step\n",
        "    weights, _, _ = opt.step(cost, weights, x_batch, y_batch)\n",
        "\n",
        "    # Save, and possibly print, the current cost\n",
        "    c = cost(weights, x, target_y)\n",
        "    cst.append(c)\n",
        "    if (step + 1) % 10 == 0:\n",
        "        print(\"Cost at step {0:3}: {1}\".format(step + 1, c))"
      ]
    },
    {
      "cell_type": "markdown",
      "metadata": {
        "id": "ipiobq1RJcSu"
      },
      "source": [
        "To continue training, you may just run the above cell again. Once you\n",
        "are happy, you can use the trained model to predict function values, and\n",
        "compare them with the ground truth.\n"
      ]
    },
    {
      "cell_type": "code",
      "execution_count": 78,
      "metadata": {
        "colab": {
          "base_uri": "https://localhost:8080/",
          "height": 435
        },
        "id": "UjG0u7R4JcSu",
        "outputId": "71edf099-6e23-475d-e38c-df2dd5b88064"
      },
      "outputs": [
        {
          "output_type": "display_data",
          "data": {
            "text/plain": [
              "<Figure size 640x480 with 1 Axes>"
            ],
            "image/png": "[encoded data removed]"
          },
          "metadata": {}
        }
      ],
      "source": [
        "predictions = [serial_quantum_model(weights, x_) for x_ in x]\n",
        "\n",
        "plt.plot(x, target_y, c='black')\n",
        "plt.scatter(x, target_y, facecolor='white', edgecolor='black')\n",
        "plt.plot(x, predictions, c='blue')\n",
        "plt.ylim(-1,1)\n",
        "plt.show();"
      ]
    },
    {
      "cell_type": "markdown",
      "metadata": {
        "id": "ZIypPJtdJcSu"
      },
      "source": [
        "Let\\'s also have a look at the cost during training.\n"
      ]
    },
    {
      "cell_type": "code",
      "execution_count": 79,
      "metadata": {
        "colab": {
          "base_uri": "https://localhost:8080/",
          "height": 449
        },
        "id": "33WfEBTxJcSu",
        "outputId": "83254921-2757-468e-e85c-f5001c8d89b5"
      },
      "outputs": [
        {
          "output_type": "display_data",
          "data": {
            "text/plain": [
              "<Figure size 640x480 with 1 Axes>"
            ],
            "image/png": "[encoded data removed]"
          },
          "metadata": {}
        }
      ],
      "source": [
        "plt.plot(range(len(cst)), cst)\n",
        "plt.ylabel(\"Cost\")\n",
        "plt.xlabel(\"Step\")\n",
        "plt.ylim(0, 0.23)\n",
        "plt.show();"
      ]
    },
    {
      "cell_type": "markdown",
      "metadata": {
        "id": "KF9oCzZiJcSu"
      },
      "source": [
        "With the initial settings and enough training steps, the quantum model\n",
        "learns to fit the ground truth perfectly. This is expected, since the\n",
        "number of Pauli-rotation-encoding gates and the degree of the ground\n",
        "truth Fourier series are both one.\n",
        "\n",
        "If the ground truth\\'s degree is larger than the number of layers in the\n",
        "quantum model, the fit will look much less accurate. And finally, we\n",
        "also need to have the correct scaling of the data: if one of the models\n",
        "changes the `scaling` parameter (which effectively scales the\n",
        "frequencies), fitting does not work even with enough encoding\n",
        "repetitions.\n"
      ]
    },
    {
      "cell_type": "markdown",
      "metadata": {
        "id": "6CR3koWLJcSu"
      },
      "source": [
        "::: {.note}\n",
        "::: {.title}\n",
        "Note\n",
        ":::\n",
        "\n",
        "You will find that the training takes much longer, and needs a lot more\n",
        "steps to converge for larger L. Some initial weights may not even\n",
        "converge to a good solution at all; the training seems to get stuck in a\n",
        "minimum.\n",
        "\n",
        "It is an open research question whether for asymptotically large L, the\n",
        "single qubit model can fit *any* function by constructing arbitrary\n",
        "Fourier coefficients.\n",
        ":::\n"
      ]
    },
    {
      "cell_type": "markdown",
      "metadata": {
        "id": "9gcAQCXUJcSu"
      },
      "source": [
        "Part II: Fitting Fourier series with parallel Pauli-rotation encoding\n",
        "=====================================================================\n"
      ]
    },
    {
      "cell_type": "markdown",
      "metadata": {
        "id": "VW-UAdPaJcSv"
      },
      "source": [
        "Our next task is to repeat the function-fitting experiment for a circuit\n",
        "where the Pauli rotation gate gets repeated $r$ times on *different*\n",
        "qubits, using a single layer $L=1$.\n",
        "\n",
        "As shown in the paper, we expect similar results to the serial model: a\n",
        "Fourier series of degree $r$ can only be fitted if there are at least\n",
        "$r$ repetitions of the encoding gate in the quantum model. However, in\n",
        "practice this experiment is a bit harder, since the dimension of the\n",
        "trainable unitaries $W$ grows quickly with the number of qubits.\n",
        "\n",
        "In the paper, the investigations are made with the assumption that the\n",
        "purple trainable blocks $W$ are arbitrary unitaries. We could use the\n",
        "`~.pennylane.templates.ArbitraryUnitary`{.interpreted-text role=\"class\"}\n",
        "template, but since this template requires a number of parameters that\n",
        "grows exponentially with the number of qubits ($4^L-1$ to be precise),\n",
        "this quickly becomes cumbersome to train.\n",
        "\n",
        "We therefore follow Figure 4 in the paper and use an ansatz for $W$.\n"
      ]
    },
    {
      "cell_type": "markdown",
      "metadata": {
        "id": "-FrL-WMjJcSv"
      },
      "source": [
        "![](../demonstrations/expressivity_fourier_series/parallel_model.png){.align-center\n",
        "width=\"70.0%\"}\n"
      ]
    },
    {
      "cell_type": "markdown",
      "metadata": {
        "id": "wUEK2r8-JcSv"
      },
      "source": [
        "Define the parallel quantum model\n",
        "=================================\n"
      ]
    },
    {
      "cell_type": "markdown",
      "metadata": {
        "id": "OKM6saGAJcSv"
      },
      "source": [
        "The ansatz is PennyLane\\'s layer structure called\n",
        "`~.pennylane.templates.StronglyEntanglingLayers`{.interpreted-text\n",
        "role=\"class\"}, and as the name suggests, it has itself a user-defined\n",
        "number of layers (which we will call \\\"ansatz layers\\\" to avoid\n",
        "confusion).\n"
      ]
    },
    {
      "cell_type": "code",
      "execution_count": 80,
      "metadata": {
        "id": "nWEBY1-0JcSv"
      },
      "outputs": [],
      "source": [
        "from pennylane.templates import StronglyEntanglingLayers"
      ]
    },
    {
      "cell_type": "markdown",
      "metadata": {
        "id": "Z_Zk9ZVqJcSv"
      },
      "source": [
        "Let\\'s have a quick look at the ansatz itself for 3 qubits by making a\n",
        "dummy circuit of 2 ansatz layers:\n"
      ]
    },
    {
      "cell_type": "code",
      "execution_count": 81,
      "metadata": {
        "colab": {
          "base_uri": "https://localhost:8080/",
          "height": 0
        },
        "id": "JHX9N75BJcSv",
        "outputId": "c991f072-c86d-4c2c-d6b6-5fb45d0cbbcf"
      },
      "outputs": [
        {
          "output_type": "stream",
          "name": "stdout",
          "text": [
            "0: ──Rot(0.69,5.62,6.23)─╭●────╭X──Rot(3.42,5.43,4.61)─╭●─╭X────┤  <I>\n",
            "1: ──Rot(0.39,5.55,3.24)─╰X─╭●─│───Rot(3.28,5.45,1.54)─│──╰●─╭X─┤     \n",
            "2: ──Rot(5.70,3.59,4.16)────╰X─╰●──Rot(0.99,1.01,2.10)─╰X────╰●─┤     \n"
          ]
        }
      ],
      "source": [
        "n_ansatz_layers = 2\n",
        "n_qubits = 3\n",
        "\n",
        "dev = qml.device('default.qubit', wires=4)\n",
        "\n",
        "@qml.qnode(dev, interface=\"autograd\")\n",
        "def ansatz(weights):\n",
        "    StronglyEntanglingLayers(weights, wires=range(n_qubits))\n",
        "    return qml.expval(qml.Identity(wires=0))\n",
        "\n",
        "weights_ansatz = 2 * np.pi * np.random.random(size=(n_ansatz_layers, n_qubits, 3))\n",
        "print(qml.draw(ansatz, expansion_strategy=\"device\")(weights_ansatz))"
      ]
    },
    {
      "cell_type": "markdown",
      "metadata": {
        "id": "xxwwB1p2JcSv"
      },
      "source": [
        "Now we define the actual quantum model.\n"
      ]
    },
    {
      "cell_type": "code",
      "execution_count": 82,
      "metadata": {
        "id": "fwSjxDoYJcSv"
      },
      "outputs": [],
      "source": [
        "scaling = 1\n",
        "r = 3\n",
        "\n",
        "dev = qml.device('default.qubit', wires=r)\n",
        "\n",
        "def S(x):\n",
        "    \"\"\"Data-encoding circuit block.\"\"\"\n",
        "    for w in range(r):\n",
        "        qml.RX(scaling * x, wires=w)\n",
        "\n",
        "def W(theta):\n",
        "    \"\"\"Trainable circuit block.\"\"\"\n",
        "    StronglyEntanglingLayers(theta, wires=range(r))\n",
        "\n",
        "\n",
        "@qml.qnode(dev, interface=\"autograd\")\n",
        "def parallel_quantum_model(weights, x):\n",
        "\n",
        "    S(x)\n",
        "    W(weights[0])\n",
        "    W(weights[1])\n",
        "\n",
        "    return qml.expval(qml.PauliZ(wires=0))"
      ]
    },
    {
      "cell_type": "markdown",
      "metadata": {
        "id": "pW3WmvDHJcSv"
      },
      "source": [
        "Again, you can sample random weights and plot the model\n",
        "\n",
        "*   List item\n",
        "*   List item\n",
        "\n",
        "function:\n"
      ]
    },
    {
      "cell_type": "code",
      "execution_count": 83,
      "metadata": {
        "colab": {
          "base_uri": "https://localhost:8080/",
          "height": 435
        },
        "id": "0l7NkV9UJcSv",
        "outputId": "c2f4cc54-e666-4f63-e01c-ee79c41ae27c"
      },
      "outputs": [
        {
          "output_type": "display_data",
          "data": {
            "text/plain": [
              "<Figure size 640x480 with 1 Axes>"
            ],
            "image/png": "[encoded data removed]"
          },
          "metadata": {}
        }
      ],
      "source": [
        "trainable_block_layers = 3\n",
        "weights = 2 * np.pi * np.random.random(size=(2, trainable_block_layers, r, 3), requires_grad=True)\n",
        "\n",
        "x = np.linspace(-6, 6, 70, requires_grad=False)\n",
        "random_quantum_model_y = [parallel_quantum_model(weights, x_) for x_ in x]\n",
        "\n",
        "plt.plot(x, random_quantum_model_y, c='blue')\n",
        "plt.ylim(-1,1)\n",
        "plt.show();"
      ]
    },
    {
      "cell_type": "markdown",
      "metadata": {
        "id": "ZBwG2dJbJcSv"
      },
      "source": [
        "Training the model\n",
        "==================\n"
      ]
    },
    {
      "cell_type": "markdown",
      "metadata": {
        "id": "5XfPKn9NJcSv"
      },
      "source": [
        "Training the model is done exactly as before, but it may take a lot\n",
        "longer this time. We set a default of 25 steps, which you should\n",
        "increase if necessary. Small models of \\<6 qubits usually converge after\n",
        "a few hundred steps at most---but this depends on your settings.\n"
      ]
    },
    {
      "cell_type": "code",
      "execution_count": 84,
      "metadata": {
        "colab": {
          "base_uri": "https://localhost:8080/",
          "height": 0
        },
        "id": "BthXNDu_JcSv",
        "outputId": "66d00e2d-2db1-41a2-f2ba-445aae03fe5c"
      },
      "outputs": [
        {
          "output_type": "stream",
          "name": "stdout",
          "text": [
            "Cost at step  10: 0.0021176164484979364\n",
            "Cost at step  20: 0.003353730988423161\n",
            "Cost at step  30: 0.0007021009624523673\n",
            "Cost at step  40: 0.00037715481145985703\n",
            "Cost at step  50: 0.00021844001905681003\n"
          ]
        }
      ],
      "source": [
        "def cost(weights, x, y):\n",
        "    predictions = [parallel_quantum_model(weights, x_) for x_ in x]\n",
        "    return square_loss(y, predictions)\n",
        "\n",
        "max_steps = 50\n",
        "opt = qml.AdamOptimizer(0.3)\n",
        "batch_size = 25\n",
        "cst = [cost(weights, x, target_y)]  # initial cost\n",
        "\n",
        "for step in range(max_steps):\n",
        "\n",
        "    # select batch of data\n",
        "    batch_index = np.random.randint(0, len(x), (batch_size,))\n",
        "    x_batch = x[batch_index]\n",
        "    y_batch = target_y[batch_index]\n",
        "\n",
        "    # update the weights by one optimizer step\n",
        "    weights, _, _ = opt.step(cost, weights, x_batch, y_batch)\n",
        "\n",
        "    # save, and possibly print, the current cost\n",
        "    c = cost(weights, x, target_y)\n",
        "    cst.append(c)\n",
        "    if (step + 1) % 10 == 0:\n",
        "        print(\"Cost at step {0:3}: {1}\".format(step + 1, c))"
      ]
    },
    {
      "cell_type": "code",
      "execution_count": 85,
      "metadata": {
        "colab": {
          "base_uri": "https://localhost:8080/",
          "height": 435
        },
        "id": "6p59DREzJcSv",
        "outputId": "1921065f-97ae-489f-c2ad-1e88f0a49c6d"
      },
      "outputs": [
        {
          "output_type": "display_data",
          "data": {
            "text/plain": [
              "<Figure size 640x480 with 1 Axes>"
            ],
            "image/png": "[encoded data removed]"
          },
          "metadata": {}
        }
      ],
      "source": [
        "predictions = [parallel_quantum_model(weights, x_) for x_ in x]\n",
        "\n",
        "plt.plot(x, target_y, c='black')\n",
        "plt.scatter(x, target_y, facecolor='white', edgecolor='black')\n",
        "plt.plot(x, predictions, c='blue')\n",
        "plt.ylim(-1,1)\n",
        "plt.show();"
      ]
    },
    {
      "cell_type": "code",
      "execution_count": 86,
      "metadata": {
        "colab": {
          "base_uri": "https://localhost:8080/",
          "height": 449
        },
        "id": "FPmTrT2vJcSv",
        "outputId": "005fa3a7-ba88-4c45-e8f9-ca742e8424a2"
      },
      "outputs": [
        {
          "output_type": "display_data",
          "data": {
            "text/plain": [
              "<Figure size 640x480 with 1 Axes>"
            ],
            "image/png": "[encoded data removed]"
          },
          "metadata": {}
        }
      ],
      "source": [
        "plt.plot(range(len(cst)), cst)\n",
        "plt.ylabel(\"Cost\")\n",
        "plt.xlabel(\"Step\")\n",
        "plt.show();"
      ]
    },
    {
      "cell_type": "markdown",
      "metadata": {
        "id": "qpsCV7dKJcSw"
      },
      "source": [
        "::: {.note}\n",
        "::: {.title}\n",
        "Note\n",
        ":::\n",
        "\n",
        "To reproduce the right column in Figure 4 from the paper, use the\n",
        "correct ground truth, $r=3$ and `trainable_block_layers=3`, as well as\n",
        "sufficiently many training steps. The amount of steps depends on the\n",
        "initial weights and other hyperparameters, and in some settings training\n",
        "may not converge to zero error at all.\n",
        ":::\n"
      ]
    },
    {
      "cell_type": "markdown",
      "metadata": {
        "id": "yjb_VXs3JcSw"
      },
      "source": [
        "Part III: Sampling Fourier coefficients\n",
        "=======================================\n"
      ]
    },
    {
      "cell_type": "markdown",
      "metadata": {
        "id": "BlYUQOAlJcSw"
      },
      "source": [
        "When we use a trainable ansatz above, it is possible that even with\n",
        "enough repetitions of the data-encoding Pauli rotation, the quantum\n",
        "model cannot fit the circuit, since the expressivity of quantum models\n",
        "also depends on the Fourier coefficients the model can create.\n",
        "\n",
        "Figure 5 in shows Fourier coefficients from quantum models sampled from\n",
        "a model family defined by an ansatz for the trainable circuit block. For\n",
        "this we need a function that numerically computes the Fourier\n",
        "coefficients of a periodic function f with period $2 \\pi$.\n"
      ]
    },
    {
      "cell_type": "code",
      "execution_count": 87,
      "metadata": {
        "id": "PXrbVOKXJcSw"
      },
      "outputs": [],
      "source": [
        "def fourier_coefficients(f, K):\n",
        "    \"\"\"\n",
        "    Computes the first 2*K+1 Fourier coefficients of a 2*pi periodic function.\n",
        "    \"\"\"\n",
        "    n_coeffs = 2 * K + 1\n",
        "    t = np.linspace(0, 2 * np.pi, n_coeffs, endpoint=False)\n",
        "    y = np.fft.rfft(f(t)) / t.size\n",
        "    return y"
      ]
    },
    {
      "cell_type": "markdown",
      "metadata": {
        "id": "SgoXi74sJcSw"
      },
      "source": [
        "Define your quantum model\n",
        "=========================\n"
      ]
    },
    {
      "cell_type": "markdown",
      "metadata": {
        "id": "EMrj1cKgJcSw"
      },
      "source": [
        "Now we need to define a quantum model. This could be any model, using a\n",
        "qubit or continuous-variable circuit, or one of the quantum models from\n",
        "above. We will use a slight derivation of the `parallel_qubit_model()`\n",
        "from above, this time using the\n",
        "`~.pennylane.templates.BasicEntanglerLayers`{.interpreted-text\n",
        "role=\"class\"} ansatz:\n"
      ]
    },
    {
      "cell_type": "code",
      "execution_count": 88,
      "metadata": {
        "id": "-IDEmK8fJcSw"
      },
      "outputs": [],
      "source": [
        "from pennylane.templates import BasicEntanglerLayers\n",
        "\n",
        "scaling = 1\n",
        "n_qubits = 4\n",
        "\n",
        "dev = qml.device('default.qubit', wires=n_qubits)\n",
        "\n",
        "def S(x):\n",
        "    \"\"\"Data encoding circuit block.\"\"\"\n",
        "    for w in range(n_qubits):\n",
        "        qml.RX(scaling * x, wires=w)\n",
        "\n",
        "def W(theta):\n",
        "    \"\"\"Trainable circuit block.\"\"\"\n",
        "    BasicEntanglerLayers(theta, wires=range(n_qubits))\n",
        "\n",
        "\n",
        "@qml.qnode(dev, interface=\"autograd\")\n",
        "def quantum_model(weights, x):\n",
        "\n",
        "    W(weights[0])\n",
        "    S(x)\n",
        "    W(weights[1])\n",
        "\n",
        "    return qml.expval(qml.PauliZ(wires=0))"
      ]
    },
    {
      "cell_type": "markdown",
      "metadata": {
        "id": "mncMngsOJcSw"
      },
      "source": [
        "It will also be handy to define a function that samples different random\n",
        "weights of the correct size for the model.\n"
      ]
    },
    {
      "cell_type": "code",
      "execution_count": 89,
      "metadata": {
        "id": "iuWz4KK6JcSw"
      },
      "outputs": [],
      "source": [
        "n_ansatz_layers = 1\n",
        "\n",
        "def random_weights():\n",
        "    return 2 * np.pi * np.random.random(size=(2, n_ansatz_layers, n_qubits))"
      ]
    },
    {
      "cell_type": "markdown",
      "metadata": {
        "id": "iuJX_s4BJcSw"
      },
      "source": [
        "Now we can compute the first few Fourier coefficients for samples from\n",
        "this model. The samples are created by randomly sampling different\n",
        "parameters using the `random_weights()` function.\n"
      ]
    },
    {
      "cell_type": "code",
      "execution_count": 90,
      "metadata": {
        "id": "E1JPiEJyJcSw"
      },
      "outputs": [],
      "source": [
        "n_coeffs = 5\n",
        "n_samples = 100\n",
        "\n",
        "\n",
        "coeffs = []\n",
        "for i in range(n_samples):\n",
        "\n",
        "    weights = random_weights()\n",
        "\n",
        "    def f(x):\n",
        "        return np.array([quantum_model(weights, x_) for x_ in x])\n",
        "\n",
        "    coeffs_sample = fourier_coefficients(f, n_coeffs)\n",
        "    coeffs.append(coeffs_sample)\n",
        "\n",
        "coeffs = np.array(coeffs)\n",
        "coeffs_real = np.real(coeffs)\n",
        "coeffs_imag = np.imag(coeffs)"
      ]
    },
    {
      "cell_type": "markdown",
      "metadata": {
        "id": "uz5CugLwJcSw"
      },
      "source": [
        "Let\\'s plot the real vs. the imaginary part of the coefficients. As a\n",
        "sanity check, the $c_0$ coefficient should be real, and therefore have\n",
        "no contribution on the y-axis.\n"
      ]
    },
    {
      "cell_type": "code",
      "execution_count": 91,
      "metadata": {
        "colab": {
          "base_uri": "https://localhost:8080/",
          "height": 182
        },
        "id": "e3fxL5gHJcSw",
        "outputId": "87082c0b-77ad-4b57-ce26-b5a795701c3e"
      },
      "outputs": [
        {
          "output_type": "display_data",
          "data": {
            "text/plain": [
              "<Figure size 1500x400 with 6 Axes>"
            ],
            "image/png": "[encoded data removed]"
          },
          "metadata": {}
        }
      ],
      "source": [
        "n_coeffs = len(coeffs_real[0])\n",
        "\n",
        "fig, ax = plt.subplots(1, n_coeffs, figsize=(15, 4))\n",
        "\n",
        "for idx, ax_ in enumerate(ax):\n",
        "    ax_.set_title(r\"$c_{}$\".format(idx))\n",
        "    ax_.scatter(coeffs_real[:, idx], coeffs_imag[:, idx], s=20,\n",
        "                facecolor='white', edgecolor='red')\n",
        "    ax_.set_aspect(\"equal\")\n",
        "    ax_.set_ylim(-1, 1)\n",
        "    ax_.set_xlim(-1, 1)\n",
        "\n",
        "\n",
        "plt.tight_layout(pad=0.5)\n",
        "plt.show();"
      ]
    },
    {
      "cell_type": "markdown",
      "metadata": {
        "id": "9LL8m72SJcSw"
      },
      "source": [
        "Playing around with different quantum models, you will find that some\n",
        "quantum models create different distributions over the coefficients than\n",
        "others. For example `BasicEntanglingLayers` (with the default Pauli-X\n",
        "rotation) seems to have a structure that forces the even Fourier\n",
        "coefficients to zero, while `StronglyEntanglingLayers` will have a\n",
        "non-zero variance for all supported coefficients.\n",
        "\n",
        "Note also how the variance of the distribution decreases for growing\n",
        "orders of the coefficients---an effect linked to the convergence of a\n",
        "Fourier series.\n"
      ]
    },
    {
      "cell_type": "markdown",
      "metadata": {
        "id": "hRy9brBkJcSw"
      },
      "source": [
        "::: {.note}\n",
        "::: {.title}\n",
        "Note\n",
        ":::\n",
        "\n",
        "To reproduce the results from Figure 5 you have to change the ansatz (no\n",
        "unitary, `BasicEntanglerLayers` or `StronglyEntanglingLayers`, and set\n",
        "`n_ansatz_layers` either to $1$ or $5$). The `StronglyEntanglingLayers`\n",
        "requires weights of shape `size=(2, n_ansatz_layers, n_qubits, 3)`.\n",
        ":::\n"
      ]
    },
    {
      "cell_type": "markdown",
      "metadata": {
        "id": "_JjHvLp7JcSw"
      },
      "source": [
        "Continuous-variable model\n",
        "=========================\n",
        "\n",
        "Ref. mentions that a phase rotation in continuous-variable quantum\n",
        "computing has a spectrum that supports *all* Fourier frequecies. To play\n",
        "with this model, we finally show you the code for a continuous-variable\n",
        "circuit. For example, to see its Fourier coefficients run the cell\n",
        "below, and then re-run the two cells above.\n"
      ]
    },
    {
      "cell_type": "code",
      "execution_count": 92,
      "metadata": {
        "id": "nLxDpdcbJcSw"
      },
      "outputs": [],
      "source": [
        "var = 2\n",
        "n_ansatz_layers = 1\n",
        "dev_cv = qml.device('default.gaussian', wires=1)\n",
        "\n",
        "def S(x):\n",
        "    qml.Rotation(x, wires=0)\n",
        "\n",
        "def W(theta):\n",
        "    \"\"\"Trainable circuit block.\"\"\"\n",
        "    for r_ in range(n_ansatz_layers):\n",
        "        qml.Displacement(theta[0], theta[1], wires=0)\n",
        "        qml.Squeezing(theta[2], theta[3], wires=0)\n",
        "\n",
        "@qml.qnode(dev_cv)\n",
        "def quantum_model(weights, x):\n",
        "    W(weights[0])\n",
        "    S(x)\n",
        "    W(weights[1])\n",
        "    return qml.expval(qml.X(wires=0))\n",
        "\n",
        "def random_weights():\n",
        "    return np.random.normal(size=(2, 5 * n_ansatz_layers), loc=0, scale=var)"
      ]
    },
    {
      "cell_type": "markdown",
      "metadata": {
        "id": "vYS-GcICJcSw"
      },
      "source": [
        "::: {.note}\n",
        "::: {.title}\n",
        "Note\n",
        ":::\n",
        "\n",
        "To find out what effect so-called \\\"non-Gaussian\\\" gates like the `Kerr`\n",
        "gate have, you need to install the [strawberryfields\n",
        "plugin](https://pennylane-sf.readthedocs.io/en/latest/) and change the\n",
        "device to\n",
        "\n",
        "``` {.python}\n",
        "dev_cv = qml.device('strawberryfields.fock', wires=1, cutoff_dim=50)\n",
        "```\n",
        ":::\n"
      ]
    },
    {
      "cell_type": "markdown",
      "metadata": {
        "id": "3fhWQ5MrJcSx"
      },
      "source": [
        "References\n",
        "==========\n",
        "\n",
        "About the authors\n",
        "=================\n"
      ]
    }
  ],
  "metadata": {
    "kernelspec": {
      "display_name": "Python 3",
      "language": "python",
      "name": "python3"
    },
    "language_info": {
      "codemirror_mode": {
        "name": "ipython",
        "version": 3
      },
      "file_extension": ".py",
      "mimetype": "text/x-python",
      "name": "python",
      "nbconvert_exporter": "python",
      "pygments_lexer": "ipython3",
      "version": "3.9.17"
    },
    "colab": {
      "provenance": []
    }
  },
  "nbformat": 4,
  "nbformat_minor": 0
}
