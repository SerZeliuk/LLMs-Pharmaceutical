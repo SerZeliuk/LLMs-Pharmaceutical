{
  "cells": [
    {
      "cell_type": "markdown",
      "id": "a3e3ebc4-57af-4fe4-bdd3-36aff67bf276",
      "metadata": {
        "id": "a3e3ebc4-57af-4fe4-bdd3-36aff67bf276"
      },
      "source": [
        "## Agent Supervisor\n",
        "\n",
        "The [previous example](multi-agent-collaboration.ipynb) routed messages automatically based on the output of the initial researcher agent.\n",
        "\n",
        "We can also choose to use an LLM to orchestrate the different agents.\n",
        "\n",
        "Below, we will create an agent group, with an agent supervisor to help delegate tasks.\n",
        "\n",
        "![diagram](./img/supervisor-diagram.png)\n",
        "\n",
        "To simplify the code in each agent node, we will use the AgentExecutor class from LangChain. This and other \"advanced agent\" notebooks are designed to show how you can implement certain design patterns in LangGraph. If the pattern suits your needs, we recommend combining it with some of the other fundamental patterns described elsewhere in the docs for best performance.\n",
        "\n",
        "Before we build, let's configure our environment:"
      ]
    },
    {
      "cell_type": "code",
      "execution_count": 1,
      "id": "0d30b6f7-3bec-4d9f-af50-43dfdc81ae6c",
      "metadata": {
        "id": "0d30b6f7-3bec-4d9f-af50-43dfdc81ae6c"
      },
      "outputs": [],
      "source": [
        "%%capture --no-stderr\n",
        "%pip install -U langchain langchain_openai langchain_experimental langsmith pandas langgraph"
      ]
    },
    {
      "cell_type": "code",
      "execution_count": 2,
      "id": "30c2f3de-c730-4aec-85a6-af2c2f058803",
      "metadata": {
        "id": "30c2f3de-c730-4aec-85a6-af2c2f058803"
      },
      "outputs": [],
      "source": [
        "import getpass\n",
        "import os\n",
        "\n",
        "os.environ['OPENAI_API_KEY'] = ''\n",
        "os.environ['TAVILY_API_KEY'] = ''\n",
        "\n",
        "# Optional, add tracing in LangSmith\n",
        "os.environ[\"LANGCHAIN_TRACING_V2\"] = \"true\"\n",
        "os.environ['LANGCHAIN_ENDPOINT'] = 'https://api.smith.langchain.com'\n",
        "os.environ[\"LANGCHAIN_PROJECT\"] = \"Agent Supervisor\"\n",
        "os.environ['LANGCHAIN_API_KEY'] = ''"
      ]
    },
    {
      "cell_type": "markdown",
      "id": "1ac25624-4d83-45a4-b9ef-a10589aacfb7",
      "metadata": {
        "id": "1ac25624-4d83-45a4-b9ef-a10589aacfb7"
      },
      "source": [
        "## Create tools\n",
        "\n",
        "For this example, you will make an agent to do web research with a search engine, and one agent to create plots. Define the tools they'll use below:"
      ]
    },
    {
      "cell_type": "code",
      "execution_count": 3,
      "id": "f04c6778-403b-4b49-9b93-678e910d5cec",
      "metadata": {
        "id": "f04c6778-403b-4b49-9b93-678e910d5cec"
      },
      "outputs": [],
      "source": [
        "from typing import Annotated, List, Tuple, Union\n",
        "\n",
        "from langchain_community.tools.tavily_search import TavilySearchResults\n",
        "from langchain_core.tools import tool\n",
        "from langchain_experimental.tools import PythonREPLTool\n",
        "\n",
        "tavily_tool = TavilySearchResults(max_results=5)\n",
        "\n",
        "# This executes code locally, which can be unsafe\n",
        "python_repl_tool = PythonREPLTool()"
      ]
    },
    {
      "cell_type": "markdown",
      "id": "d58d1e85-22d4-4c22-9062-72a346a0d709",
      "metadata": {
        "id": "d58d1e85-22d4-4c22-9062-72a346a0d709"
      },
      "source": [
        "## Helper Utilities\n",
        "\n",
        "Define a helper function below, which make it easier to add new agent worker nodes."
      ]
    },
    {
      "cell_type": "code",
      "execution_count": 4,
      "id": "c4823dd9-26bd-4e1a-8117-b97b2860211a",
      "metadata": {
        "id": "c4823dd9-26bd-4e1a-8117-b97b2860211a"
      },
      "outputs": [],
      "source": [
        "from langchain.agents import AgentExecutor, create_openai_tools_agent\n",
        "from langchain_core.messages import BaseMessage, HumanMessage\n",
        "from langchain_openai import ChatOpenAI\n",
        "\n",
        "\n",
        "def create_agent(llm: ChatOpenAI, tools: list, system_prompt: str):\n",
        "    # Each worker node will be given a name and some tools.\n",
        "    prompt = ChatPromptTemplate.from_messages(\n",
        "        [\n",
        "            (\n",
        "                \"system\",\n",
        "                system_prompt,\n",
        "            ),\n",
        "            MessagesPlaceholder(variable_name=\"messages\"),\n",
        "            MessagesPlaceholder(variable_name=\"agent_scratchpad\"),\n",
        "        ]\n",
        "    )\n",
        "    agent = create_openai_tools_agent(llm, tools, prompt)\n",
        "    executor = AgentExecutor(agent=agent, tools=tools)\n",
        "    return executor"
      ]
    },
    {
      "cell_type": "markdown",
      "id": "b7c302b0-cd57-4913-986f-5dc7d6d77386",
      "metadata": {
        "id": "b7c302b0-cd57-4913-986f-5dc7d6d77386"
      },
      "source": [
        "We can also define a function that we will use to be the nodes in the graph - it takes care of converting the agent response to a human message. This is important because that is how we will add it the global state of the graph"
      ]
    },
    {
      "cell_type": "code",
      "execution_count": 5,
      "id": "80862241-a1a7-4726-bce5-f867b233832e",
      "metadata": {
        "id": "80862241-a1a7-4726-bce5-f867b233832e"
      },
      "outputs": [],
      "source": [
        "def agent_node(state, agent, name):\n",
        "    result = agent.invoke(state)\n",
        "    return {\"messages\": [HumanMessage(content=result[\"output\"], name=name)]}"
      ]
    },
    {
      "cell_type": "markdown",
      "id": "d32962d2-5487-496d-aefc-2a3b0d194985",
      "metadata": {
        "id": "d32962d2-5487-496d-aefc-2a3b0d194985"
      },
      "source": [
        "### Create Agent Supervisor\n",
        "\n",
        "It will use function calling to choose the next worker node OR finish processing."
      ]
    },
    {
      "cell_type": "code",
      "execution_count": 10,
      "id": "311f0a58-b425-4496-adac-dc4cd8ffb912",
      "metadata": {
        "id": "311f0a58-b425-4496-adac-dc4cd8ffb912"
      },
      "outputs": [],
      "source": [
        "from langchain_core.prompts import ChatPromptTemplate, MessagesPlaceholder\n",
        "from langchain_core.output_parsers.openai_functions import JsonOutputFunctionsParser\n",
        "\n",
        "members = [\"Researcher\", \"Coder\"]\n",
        "system_prompt = (\n",
        "    \"You are a supervisor tasked with managing a conversation between the\"\n",
        "    \" following workers:  {members}. Given the following user request,\"\n",
        "    \" respond with the worker to act next. Each worker will perform a\"\n",
        "    \" task and respond with their results and status. When finished,\"\n",
        "    \" respond with FINISH.\"\n",
        ")\n",
        "# Our team supervisor is an LLM node. It just picks the next agent to process\n",
        "# and decides when the work is completed\n",
        "options = [\"FINISH\"] + members\n",
        "# Using openai function calling can make output parsing easier for us\n",
        "function_def = {\n",
        "    \"name\": \"route\",\n",
        "    \"description\": \"Select the next role.\",\n",
        "    \"parameters\": {\n",
        "        \"title\": \"routeSchema\",\n",
        "        \"type\": \"object\",\n",
        "        \"properties\": {\n",
        "            \"next\": {\n",
        "                \"title\": \"Next\",\n",
        "                \"anyOf\": [\n",
        "                    {\"enum\": options},\n",
        "                ],\n",
        "            }\n",
        "        },\n",
        "        \"required\": [\"next\"],\n",
        "    },\n",
        "}\n",
        "prompt = ChatPromptTemplate.from_messages(\n",
        "    [\n",
        "        (\"system\", system_prompt),\n",
        "        MessagesPlaceholder(variable_name=\"messages\"),\n",
        "        (\n",
        "            \"system\",\n",
        "            \"Given the conversation above, who should act next?\"\n",
        "            \" Or should we FINISH? Select one of: {options}\",\n",
        "        ),\n",
        "    ]\n",
        ").partial(options=str(options), members=\", \".join(members))\n",
        "\n",
        "llm = ChatOpenAI(model=\"gpt-4o-2024-05-13\")\n",
        "\n",
        "supervisor_chain = (\n",
        "    prompt\n",
        "    | llm.bind_functions(functions=[function_def], function_call=\"route\")\n",
        "    | JsonOutputFunctionsParser()\n",
        ")"
      ]
    },
    {
      "cell_type": "markdown",
      "id": "a07d507f-34d1-4f1b-8dde-5e58d17b2166",
      "metadata": {
        "id": "a07d507f-34d1-4f1b-8dde-5e58d17b2166"
      },
      "source": [
        "## Construct Graph\n",
        "\n",
        "We're ready to start building the graph. Below, define the state and worker nodes using the function we just defined."
      ]
    },
    {
      "cell_type": "code",
      "execution_count": 11,
      "id": "6a430af7-8fce-4e66-ba9e-d940c1bc48e8",
      "metadata": {
        "id": "6a430af7-8fce-4e66-ba9e-d940c1bc48e8"
      },
      "outputs": [],
      "source": [
        "import operator\n",
        "from typing import Annotated, Any, Dict, List, Optional, Sequence, TypedDict\n",
        "import functools\n",
        "\n",
        "from langchain_core.prompts import ChatPromptTemplate, MessagesPlaceholder\n",
        "from langgraph.graph import StateGraph, END\n",
        "\n",
        "\n",
        "# The agent state is the input to each node in the graph\n",
        "class AgentState(TypedDict):\n",
        "    # The annotation tells the graph that new messages will always\n",
        "    # be added to the current states\n",
        "    messages: Annotated[Sequence[BaseMessage], operator.add]\n",
        "    # The 'next' field indicates where to route to next\n",
        "    next: str\n",
        "\n",
        "\n",
        "research_agent = create_agent(llm, [tavily_tool], \"You are a web researcher.\")\n",
        "research_node = functools.partial(agent_node, agent=research_agent, name=\"Researcher\")\n",
        "\n",
        "# NOTE: THIS PERFORMS ARBITRARY CODE EXECUTION. PROCEED WITH CAUTION\n",
        "code_agent = create_agent(\n",
        "    llm,\n",
        "    [python_repl_tool],\n",
        "    \"You may generate safe python code to analyze data and generate charts using matplotlib.\",\n",
        ")\n",
        "code_node = functools.partial(agent_node, agent=code_agent, name=\"Coder\")\n",
        "\n",
        "workflow = StateGraph(AgentState)\n",
        "workflow.add_node(\"Researcher\", research_node)\n",
        "workflow.add_node(\"Coder\", code_node)\n",
        "workflow.add_node(\"supervisor\", supervisor_chain)"
      ]
    },
    {
      "cell_type": "markdown",
      "id": "2c1593d5-39f7-4819-96d2-4ad7d7991d72",
      "metadata": {
        "id": "2c1593d5-39f7-4819-96d2-4ad7d7991d72"
      },
      "source": [
        "Now connect all the edges in the graph."
      ]
    },
    {
      "cell_type": "code",
      "execution_count": 12,
      "id": "14778e86-077b-4e6a-893c-400e59b0cdbf",
      "metadata": {
        "id": "14778e86-077b-4e6a-893c-400e59b0cdbf"
      },
      "outputs": [],
      "source": [
        "for member in members:\n",
        "    # We want our workers to ALWAYS \"report back\" to the supervisor when done\n",
        "    workflow.add_edge(member, \"supervisor\")\n",
        "# The supervisor populates the \"next\" field in the graph state\n",
        "# which routes to a node or finishes\n",
        "conditional_map = {k: k for k in members}\n",
        "conditional_map[\"FINISH\"] = END\n",
        "workflow.add_conditional_edges(\"supervisor\", lambda x: x[\"next\"], conditional_map)\n",
        "# Finally, add entrypoint\n",
        "workflow.set_entry_point(\"supervisor\")\n",
        "\n",
        "graph = workflow.compile()"
      ]
    },
    {
      "cell_type": "markdown",
      "id": "d36496de-7121-4c49-8cb6-58c943c66628",
      "metadata": {
        "id": "d36496de-7121-4c49-8cb6-58c943c66628"
      },
      "source": [
        "## Invoke the team\n",
        "\n",
        "With the graph created, we can now invoke it and see how it performs!"
      ]
    },
    {
      "cell_type": "code",
      "execution_count": 13,
      "id": "56ba78e9-d9c1-457c-a073-d606d5d3e013",
      "metadata": {
        "colab": {
          "base_uri": "https://localhost:8080/",
          "height": 0
        },
        "id": "56ba78e9-d9c1-457c-a073-d606d5d3e013",
        "outputId": "c8a2021f-9f83-42ed-90ca-f609733284d8"
      },
      "outputs": [
        {
          "output_type": "stream",
          "name": "stdout",
          "text": [
            "{'supervisor': {'next': 'Researcher'}}\n",
            "----\n",
            "{'Researcher': {'messages': [HumanMessage(content='Here are some key points and examples of how generative AI is transforming drug discovery, particularly for cancer research:\\n\\n1. **University of Oxford Collaboration**:\\n   - Researchers at the University of Oxford have utilized generative AI and surrogate models to assist in drug discovery. This collaboration has helped streamline the identification and optimization of potential drug candidates.\\n\\n2. **Deep Generative Models**:\\n   - Advances in computing power, data availability, and algorithms have led to breakthroughs in AI for drug discovery. Deep generative models have emerged as powerful tools for designing, optimizing, and synthesizing both small and macromolecules. These models can significantly speed up the drug discovery process and enhance the precision of molecular design.\\n\\n3. **UC San Diego Initiative**:\\n   - Scientists at UC San Diego developed a machine learning algorithm to simulate the complex chemistry involved in the early phases of drug discovery. This platform helped synthesize 32 potential multi-target cancer drugs, highlighting the potential of AI to accelerate and innovate the drug discovery process.\\n\\n4. **Insilico Medicine**:\\n   - Insilico Medicine, a clinical-stage AI-driven drug discovery company, has successfully discovered potent and selective drug candidates using generative AI. Their approach demonstrates the capability of AI to identify promising compounds that might be missed by traditional methods.\\n\\nThese examples illustrate how generative AI is becoming an indispensable tool for cancer researchers, enabling faster and more efficient discovery of potential treatments. For more detailed information, you can refer to the following sources:\\n\\n- [Nature Article on AI in Drug Discovery](https://www.nature.com/articles/d43747-023-00029-9.pdf)\\n- [ScienceDirect on Deep Generative Models](https://www.sciencedirect.com/science/article/pii/S2666379122003494)\\n- [SciTechDaily on AI and Faster Cancer Treatments](https://scitechdaily.com/ai-transforms-drug-discovery-with-faster-safer-cancer-treatments/)\\n- [EurekAlert on Insilico Medicine](https://www.eurekalert.org/news-releases/1044593)', name='Researcher')]}}\n",
            "----\n",
            "{'supervisor': {'next': 'Coder'}}\n",
            "----\n"
          ]
        },
        {
          "output_type": "stream",
          "name": "stderr",
          "text": [
            "WARNING:langchain_experimental.utilities.python:Python REPL can execute arbitrary code. Use with caution.\n"
          ]
        },
        {
          "output_type": "stream",
          "name": "stdout",
          "text": [
            "{'Coder': {'messages': [HumanMessage(content='The information on how generative AI is transforming drug discovery for cancer research has been printed to the terminal. Here are the key points and examples:\\n\\n1. **University of Oxford Collaboration**:\\n   - Researchers at the University of Oxford have utilized generative AI and surrogate models to assist in drug discovery. This collaboration has helped streamline the identification and optimization of potential drug candidates.\\n\\n2. **Deep Generative Models**:\\n   - Advances in computing power, data availability, and algorithms have led to breakthroughs in AI for drug discovery. Deep generative models have emerged as powerful tools for designing, optimizing, and synthesizing both small and macromolecules. These models can significantly speed up the drug discovery process and enhance the precision of molecular design.\\n\\n3. **UC San Diego Initiative**:\\n   - Scientists at UC San Diego developed a machine learning algorithm to simulate the complex chemistry involved in the early phases of drug discovery. This platform helped synthesize 32 potential multi-target cancer drugs, highlighting the potential of AI to accelerate and innovate the drug discovery process.\\n\\n4. **Insilico Medicine**:\\n   - Insilico Medicine, a clinical-stage AI-driven drug discovery company, has successfully discovered potent and selective drug candidates using generative AI. Their approach demonstrates the capability of AI to identify promising compounds that might be missed by traditional methods.\\n\\nFor more detailed information, you can refer to the following sources:\\n- [Nature Article on AI in Drug Discovery](https://www.nature.com/articles/d43747-023-00029-9.pdf)\\n- [ScienceDirect on Deep Generative Models](https://www.sciencedirect.com/science/article/pii/S2666379122003494)\\n- [SciTechDaily on AI and Faster Cancer Treatments](https://scitechdaily.com/ai-transforms-drug-discovery-with-faster-safer-cancer-treatments/)\\n- [EurekAlert on Insilico Medicine](https://www.eurekalert.org/news-releases/1044593)', name='Coder')]}}\n",
            "----\n",
            "{'supervisor': {'next': 'FINISH'}}\n",
            "----\n"
          ]
        }
      ],
      "source": [
        "for s in graph.stream(\n",
        "    {\n",
        "        \"messages\": [\n",
        "            HumanMessage(content=\"Code drug discovery generative ai cancer researchers and print it to the terminal\")\n",
        "        ]\n",
        "    }\n",
        "):\n",
        "    if \"__end__\" not in s:\n",
        "        print(s)\n",
        "        print(\"----\")"
      ]
    },
    {
      "cell_type": "code",
      "execution_count": 15,
      "id": "45a92dfd-0e11-47f5-aad4-b68d24990e34",
      "metadata": {
        "colab": {
          "base_uri": "https://localhost:8080/",
          "height": 0
        },
        "id": "45a92dfd-0e11-47f5-aad4-b68d24990e34",
        "outputId": "4ed5c507-0e94-4905-847f-61491a61ab18"
      },
      "outputs": [
        {
          "output_type": "stream",
          "name": "stdout",
          "text": [
            "{'supervisor': {'next': 'Researcher'}}\n",
            "----\n",
            "{'Researcher': {'messages': [HumanMessage(content='To access the full article for detailed information, you can visit the [ScienceDirect link](https://www.sciencedirect.com/science/article/pii/S135964462400117X). Below is a summary based on the available information:\\n\\n---\\n\\n## Research Report: AI Transformations in Drug Discovery\\n\\n### Introduction\\nThe article \"Artificial intelligence (AI) is transforming the drug discovery process by providing actionable insights from huge amounts of data\" published in a recent issue of a scientific journal discusses the transformative impact of AI on the drug discovery process. This report provides an overview of the key points and findings presented in the article.\\n\\n### Key Highlights\\n\\n1. **AI in Drug Discovery**:\\n    - AI technologies, particularly machine learning (ML) and deep learning (DL), have revolutionized the drug discovery landscape.\\n    - These technologies allow for the analysis of vast datasets to generate actionable insights that can expedite the drug discovery process.\\n\\n2. **Deep-learning Models**:\\n    - Deep learning models, including Generative Adversarial Networks (GANs) and Autoencoders, have shown significant promise in de novo drug design.\\n    - These models help in identifying novel compounds by learning complex patterns from data.\\n\\n3. **Challenges and Hurdles**:\\n    - Despite the potential benefits, integrating AI into drug development faces several challenges.\\n    - Key hurdles include the need for high-quality data and improved interpretability of AI models.\\n\\n4. **Data-enriched Field**:\\n    - The field of drug discovery, rich with data, is particularly suited to benefit from ML and DL methods.\\n    - The article suggests that these methods can streamline various stages of the drug discovery process, from target identification to lead optimization.\\n\\n### Conclusion\\nThe article underscores the transformative potential of AI in drug discovery, highlighting both the advancements and the challenges that need to be addressed. The integration of deep learning models into drug discovery processes offers a promising avenue for accelerating the development of new therapeutic compounds.\\n\\nFor a detailed understanding and in-depth analysis, readers are encouraged to access the full text of the article on [ScienceDirect](https://www.sciencedirect.com/science/article/pii/S135964462400117X).\\n\\n---', name='Researcher')]}}\n",
            "----\n",
            "{'supervisor': {'next': 'Coder'}}\n",
            "----\n",
            "{'Coder': {'messages': [HumanMessage(content='To provide a thorough research report, we need to delve deeper into the specifics of the article. Unfortunately, I cannot access external content directly. However, I can guide you on how to structure and write a comprehensive research report based on the article.\\n\\n### Research Report: AI Transformations in Drug Discovery\\n\\n#### Abstract\\nThis research report explores the transformative role of Artificial Intelligence (AI) in the drug discovery process as discussed in the article \"Artificial intelligence (AI) is transforming the drug discovery process by providing actionable insights from huge amounts of data.\" The report highlights the advancements, methodologies, and challenges associated with integrating AI into drug discovery.\\n\\n#### Introduction\\nThe introduction section should provide a brief background on the traditional drug discovery process and the emerging role of AI. It should set the context for why AI is considered a game-changer in this field.\\n\\n#### AI in Drug Discovery\\n1. **Overview of AI Technologies**:\\n    - Explain the types of AI technologies used in drug discovery, including machine learning (ML) and deep learning (DL).\\n    - Discuss how these technologies differ from traditional computational methods.\\n\\n2. **Applications of AI**:\\n    - **Target Identification**: How AI helps in identifying biological targets for new drugs.\\n    - **Lead Compound Identification**: AI\\'s role in screening vast libraries of compounds to identify potential leads.\\n    - **Optimization**: Use of AI in optimizing the properties of lead compounds to improve efficacy and reduce side effects.\\n    - **Preclinical and Clinical Development**: AI\\'s contribution to designing better preclinical studies and predicting clinical trial outcomes.\\n\\n#### Deep-learning Models in Drug Discovery\\n1. **Generative Adversarial Networks (GANs)**:\\n    - Explain the structure and function of GANs.\\n    - Discuss specific examples of how GANs have been used to generate novel drug-like compounds.\\n\\n2. **Autoencoders**:\\n    - Describe the role of autoencoders in drug discovery.\\n    - Provide examples of their application in the de novo design of drug molecules.\\n\\n#### Challenges and Hurdles\\n1. **Quality of Data**:\\n    - Discuss the importance of high-quality, curated datasets for training AI models.\\n    - Highlight the issues related to data scarcity and noise in biological data.\\n\\n2. **Interpretability of AI Models**:\\n    - Explain why the interpretability of AI models is crucial in drug discovery.\\n    - Discuss current efforts and methodologies to improve the transparency of AI algorithms.\\n\\n3. **Regulatory and Ethical Considerations**:\\n    - Address the regulatory challenges associated with AI-driven drug discovery.\\n    - Discuss ethical considerations, including data privacy and the potential for biased outcomes.\\n\\n#### Case Studies and Real-world Applications\\nProvide detailed case studies or real-world examples where AI has successfully accelerated the drug discovery process. Highlight the outcomes and impact of these applications.\\n\\n#### Future Directions\\n1. **Advancements in AI Technologies**:\\n    - Discuss potential future advancements in AI that could further revolutionize drug discovery.\\n    - Explore the integration of AI with other emerging technologies such as quantum computing and blockchain.\\n\\n2. **Collaborative Efforts**:\\n    - Emphasize the importance of collaboration between AI researchers, pharmaceutical companies, and regulatory bodies.\\n    - Discuss initiatives and consortia aimed at fostering collaboration in AI-driven drug discovery.\\n\\n#### Conclusion\\nSummarize the key points discussed in the report. Reinforce the potential of AI to transform drug discovery and the importance of addressing current challenges to fully realize this potential.\\n\\n#### References\\nList all the references cited in the report, including the article from ScienceDirect and any other relevant sources.\\n\\n---\\n\\nThis structured approach will help you create a comprehensive research report on the transformative role of AI in drug discovery. For specific details, data, and examples, please refer to the full text of the article on ScienceDirect.', name='Coder')]}}\n",
            "----\n",
            "{'supervisor': {'next': 'FINISH'}}\n",
            "----\n"
          ]
        }
      ],
      "source": [
        "for s in graph.stream(\n",
        "    {\"messages\": [HumanMessage(content=\"Write a research report on the article https://www.sciencedirect.com/science/article/pii/S135964462400117X.\")]},\n",
        "    {\"recursion_limit\": 100},\n",
        "):\n",
        "    if \"__end__\" not in s:\n",
        "        print(s)\n",
        "        print(\"----\")"
      ]
    },
    {
      "cell_type": "code",
      "execution_count": 15,
      "id": "1d363d2c-e0da-4cce-ba47-ad2aa9df0fef",
      "metadata": {
        "id": "1d363d2c-e0da-4cce-ba47-ad2aa9df0fef"
      },
      "outputs": [],
      "source": []
    }
  ],
  "metadata": {
    "kernelspec": {
      "display_name": "Python 3",
      "name": "python3"
    },
    "language_info": {
      "codemirror_mode": {
        "name": "ipython",
        "version": 3
      },
      "file_extension": ".py",
      "mimetype": "text/x-python",
      "name": "python",
      "nbconvert_exporter": "python",
      "pygments_lexer": "ipython3",
      "version": "3.11.1"
    },
    "colab": {
      "provenance": [],
      "machine_shape": "hm",
      "gpuType": "L4"
    },
    "accelerator": "GPU"
  },
  "nbformat": 4,
  "nbformat_minor": 5
}
