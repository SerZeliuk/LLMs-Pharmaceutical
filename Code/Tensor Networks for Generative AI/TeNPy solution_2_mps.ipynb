{
  "cells": [
    {
      "cell_type": "code",
      "source": [
        "# !pip install physics-tenpy\n",
        "# !pip install git+https://github.com/tenpy/tenpy_toycodes.git"
      ],
      "metadata": {
        "id": "Ygo5b01VCBDJ"
      },
      "id": "Ygo5b01VCBDJ",
      "execution_count": 95,
      "outputs": []
    },
    {
      "cell_type": "markdown",
      "id": "2fe29049",
      "metadata": {
        "id": "2fe29049"
      },
      "source": [
        "# Solutions to MPS and model basics\n",
        "\n",
        "In this notebook, we introduce the `SimpleMPS` class from `tenpy_toycodes/a_mps.py`\n",
        "and the model class from `tenpy_toycodes/b_model.py`."
      ]
    },
    {
      "cell_type": "code",
      "execution_count": 96,
      "id": "8c0a250c-dfd9-4377-bada-fb06f5e9f86c",
      "metadata": {
        "id": "8c0a250c-dfd9-4377-bada-fb06f5e9f86c"
      },
      "outputs": [],
      "source": [
        "# standard imports and cosmetics\n",
        "\n",
        "import numpy as np\n",
        "\n",
        "import matplotlib.pyplot as plt\n",
        "import time\n",
        "\n",
        "np.set_printoptions(precision=5, suppress=True, linewidth=100, threshold=50)\n",
        "plt.rcParams['figure.dpi'] = 150"
      ]
    },
    {
      "cell_type": "markdown",
      "id": "337e0452",
      "metadata": {
        "id": "337e0452"
      },
      "source": [
        "## SimpleMPS class from `tenpy_toycodes/a_mps.py`\n",
        "\n",
        "The file `tenpy_toycodes/a_mps.py` defines a `SimpleMPS` class, that provides methods for expectation values and the entanglement entropy.\n",
        "\n",
        "You can initialize an inital product state MPS with the provided functions\n",
        "- `init_FM_MPS` to initialize the state $\\lvert \\uparrow \\uparrow \\cdots \\uparrow \\uparrow \\rangle$, and\n",
        "- `init_Neel_MPS` to initialize the Neel state $\\lvert \\uparrow \\downarrow \\cdots \\uparrow \\downarrow \\rangle$"
      ]
    },
    {
      "cell_type": "code",
      "execution_count": 97,
      "id": "03fb58d1-4bb9-464d-98e7-35c564d13e64",
      "metadata": {
        "id": "03fb58d1-4bb9-464d-98e7-35c564d13e64"
      },
      "outputs": [],
      "source": [
        "import tenpy_toycodes.a_mps\n",
        "from tenpy_toycodes.a_mps import SimpleMPS, init_FM_MPS, init_Neel_MPS"
      ]
    },
    {
      "cell_type": "code",
      "execution_count": 98,
      "id": "1f2cd7eb-534e-422e-94d3-eb2abafba7ce",
      "metadata": {
        "colab": {
          "base_uri": "https://localhost:8080/",
          "height": 0
        },
        "id": "1f2cd7eb-534e-422e-94d3-eb2abafba7ce",
        "outputId": "336dc7bb-cfda-4472-9c15-0dd04395b248"
      },
      "outputs": [
        {
          "output_type": "stream",
          "name": "stdout",
          "text": [
            "<tenpy_toycodes.a_mps.SimpleMPS object at 0x7aa556afdff0>\n"
          ]
        }
      ],
      "source": [
        "psi_FM = init_FM_MPS(L=10)\n",
        "print(psi_FM)"
      ]
    },
    {
      "cell_type": "code",
      "execution_count": 99,
      "id": "a4f0ecc0",
      "metadata": {
        "colab": {
          "base_uri": "https://localhost:8080/",
          "height": 0
        },
        "id": "a4f0ecc0",
        "outputId": "6f6cb21b-cf78-4313-9882-c47458cc6997"
      },
      "outputs": [
        {
          "output_type": "stream",
          "name": "stdout",
          "text": [
            "[1. 1. 1. 1. 1. 1. 1. 1. 1. 1.]\n"
          ]
        }
      ],
      "source": [
        "Z = np.diag([1., -1.])\n",
        "\n",
        "print(psi_FM.site_expectation_value(Z))"
      ]
    },
    {
      "cell_type": "markdown",
      "id": "8b77ba98",
      "metadata": {
        "id": "8b77ba98"
      },
      "source": [
        "### Exercise: expectation values and entropy\n",
        "\n",
        "- Initialize a Neel state MPS. Print the expectation values of `Z`\n"
      ]
    },
    {
      "cell_type": "code",
      "execution_count": 100,
      "id": "7905b006-9232-437a-a3aa-ba75eb6bb96a",
      "metadata": {
        "colab": {
          "base_uri": "https://localhost:8080/",
          "height": 0
        },
        "id": "7905b006-9232-437a-a3aa-ba75eb6bb96a",
        "outputId": "3a9506e7-47b4-4006-aed4-5b3c05d012f9"
      },
      "outputs": [
        {
          "output_type": "stream",
          "name": "stdout",
          "text": [
            "[ 1. -1.  1. -1.  1. -1.  1. -1.  1. -1.]\n"
          ]
        }
      ],
      "source": [
        "psi_Neel = init_Neel_MPS(L=10)\n",
        "print(psi_Neel.site_expectation_value(Z))"
      ]
    },
    {
      "cell_type": "markdown",
      "id": "540a2b68-6a99-4483-ac13-01762358ee01",
      "metadata": {
        "id": "540a2b68-6a99-4483-ac13-01762358ee01"
      },
      "source": [
        "- Print the entanglement entropy. What do you expect? Why do you get so many numbers, and not just one?\n",
        "  *Tip*: read the code ;-)\n"
      ]
    },
    {
      "cell_type": "code",
      "execution_count": 101,
      "id": "82da0ad4-3fd6-4f08-9c70-73da0138bbe6",
      "metadata": {
        "colab": {
          "base_uri": "https://localhost:8080/",
          "height": 0
        },
        "id": "82da0ad4-3fd6-4f08-9c70-73da0138bbe6",
        "outputId": "9b514880-cff0-4d3e-88f6-576c34d30926"
      },
      "outputs": [
        {
          "output_type": "stream",
          "name": "stdout",
          "text": [
            "[-0. -0. -0. -0. -0. -0. -0. -0. -0.]\n"
          ]
        }
      ],
      "source": [
        "print(psi_Neel.entanglement_entropy())\n",
        "# one value for cutting at each bond!"
      ]
    },
    {
      "cell_type": "markdown",
      "id": "aef5ff1e-26f2-45e5-9dbb-4113723dfec5",
      "metadata": {
        "id": "aef5ff1e-26f2-45e5-9dbb-4113723dfec5"
      },
      "source": [
        "- Extract the half-chain entanglement entropy, i.e., the entropy when cutting the chain into two equal-length halves.\n"
      ]
    },
    {
      "cell_type": "code",
      "execution_count": 102,
      "id": "4716bde6-4dfa-46f6-b983-65efb9bc9972",
      "metadata": {
        "colab": {
          "base_uri": "https://localhost:8080/",
          "height": 0
        },
        "id": "4716bde6-4dfa-46f6-b983-65efb9bc9972",
        "outputId": "7d580138-56de-4447-e893-fc868955189e"
      },
      "outputs": [
        {
          "output_type": "stream",
          "name": "stdout",
          "text": [
            "half-chain entropy:  -0.0\n"
          ]
        }
      ],
      "source": [
        "print(\"half-chain entropy: \", psi_Neel.entanglement_entropy()[(psi_Neel.L - 1)//2])\n",
        "# note: (L-1)//2, since we get L-1 values returned by entanglement_entropy()\n",
        "# a product state has no entanglement!"
      ]
    },
    {
      "cell_type": "markdown",
      "id": "ca800c65-7141-469e-8b4a-fdba982bb78b",
      "metadata": {
        "id": "ca800c65-7141-469e-8b4a-fdba982bb78b"
      },
      "source": [
        "- Read the code of `a_mps.py` to find out how to get the correlation $\\langle \\psi| Z_1 Z_6 |\\psi \\rangle$. Try it out!"
      ]
    },
    {
      "cell_type": "code",
      "execution_count": 103,
      "id": "551155dd-0003-4d52-a162-ea9156cacff0",
      "metadata": {
        "colab": {
          "base_uri": "https://localhost:8080/",
          "height": 0
        },
        "id": "551155dd-0003-4d52-a162-ea9156cacff0",
        "outputId": "84028ca3-0c18-41e4-ddb8-faa31f59ed48"
      },
      "outputs": [
        {
          "output_type": "stream",
          "name": "stdout",
          "text": [
            "<psi|Z_1 Z_6|psi> =  -1.0\n"
          ]
        }
      ],
      "source": [
        "print(\"<psi|Z_1 Z_6|psi> = \", psi_Neel.correlation_function(Z, 1, Z, 6))"
      ]
    },
    {
      "cell_type": "code",
      "execution_count": 103,
      "id": "16498b4f-f0d7-4699-89a4-8f63f8f6b59a",
      "metadata": {
        "id": "16498b4f-f0d7-4699-89a4-8f63f8f6b59a"
      },
      "outputs": [],
      "source": []
    },
    {
      "cell_type": "markdown",
      "id": "041eb47b-53e0-4c6d-8eee-f73129a58580",
      "metadata": {
        "id": "041eb47b-53e0-4c6d-8eee-f73129a58580"
      },
      "source": [
        "### Exercise: `init_PM_MPS()`\n",
        "\n",
        "Write a function `init_PM_MPS` to initialize the state $\\lvert \\rightarrow \\rightarrow \\cdots \\rightarrow \\rightarrow \\rangle$,\n",
        "where $\\lvert  \\rightarrow \\rangle = \\frac{1}{\\sqrt{2}} \\big( \\lvert\\uparrow \\rangle + \\lvert\\downarrow\\rangle \\big)$ is the spin-1/2 state pointing in plus x direction.\n",
        "\n",
        "*Tip*: the code should be similar to `init_FM_MPS`."
      ]
    },
    {
      "cell_type": "code",
      "execution_count": 104,
      "id": "5134600d-36b5-469c-b24d-30cde0948aa6",
      "metadata": {
        "id": "5134600d-36b5-469c-b24d-30cde0948aa6"
      },
      "outputs": [],
      "source": [
        "def init_PM_MPS(L, bc='finite'):\n",
        "    \"\"\"Return a paramagnetic MPS (= product state with all spins pointing in +x direction)\"\"\"\n",
        "    d = 2\n",
        "    B = np.zeros([1, d, 1], dtype=float)\n",
        "    B[0, 0, 0] = 1./np.sqrt(2)\n",
        "    B[0, 1, 0] = 1./np.sqrt(2)\n",
        "    S = np.ones([1], dtype=float)\n",
        "    Bs = [B.copy() for i in range(L)]\n",
        "    Ss = [S.copy() for i in range(L)]\n",
        "    return SimpleMPS(Bs, Ss, bc=bc)"
      ]
    },
    {
      "cell_type": "code",
      "execution_count": 105,
      "id": "67325696-74e1-4b1b-98b1-43af1ef4e989",
      "metadata": {
        "id": "67325696-74e1-4b1b-98b1-43af1ef4e989"
      },
      "outputs": [],
      "source": [
        "psi_PM = init_PM_MPS(L=10)"
      ]
    },
    {
      "cell_type": "markdown",
      "id": "0966eb59",
      "metadata": {
        "id": "0966eb59"
      },
      "source": [
        "## Model class from `tenpy_toycodes/b_model.py`\n",
        "\n",
        "The file `tenpy_toycodes/b_model.py` defines a `TFIModel` class representing the transverse field Ising model        \n",
        "$$H = - J \\sum_{i} Z_i Z_{i+1} - g \\sum_{i} X_i$$\n",
        "\n",
        "It provides the Hamiltonian both in the form of bond-terms `H_bonds` (as required for TEBD) and in the form of an MPO `H_mpo` (as required for DMRG).\n",
        "You can use `H_bonds` with `SimpleMPS.bond_expectation_values` to evalue the energy:\n"
      ]
    },
    {
      "cell_type": "code",
      "execution_count": 106,
      "id": "d439f112",
      "metadata": {
        "colab": {
          "base_uri": "https://localhost:8080/",
          "height": 0
        },
        "id": "d439f112",
        "outputId": "f7ac2856-4c59-46f5-ac16-a67625b7a23b"
      },
      "outputs": [
        {
          "output_type": "stream",
          "name": "stdout",
          "text": [
            "<H_bonds> =  [-1. -1. -1. -1. -1. -1. -1. -1. -1.]\n",
            "energy: -9.0\n",
            "should be -9.0\n"
          ]
        }
      ],
      "source": [
        "from tenpy_toycodes.b_model import TFIModel\n",
        "\n",
        "L = 10\n",
        "J = 1.\n",
        "g = 2.0\n",
        "model = TFIModel(L=L, J=J, g=g, bc='finite')\n",
        "\n",
        "print(\"<H_bonds> = \", psi_FM.bond_expectation_value(model.H_bonds))\n",
        "print(\"energy:\", np.sum(psi_FM.bond_expectation_value(model.H_bonds)))\n",
        "# (make sure the model and state have the same length and boundary conditions!)\n",
        "\n",
        "print(\"should be\", (L-1)* (-J) * (1. * 1.) + L * (-g) * (0.) )"
      ]
    },
    {
      "cell_type": "markdown",
      "id": "017d4d67",
      "metadata": {
        "id": "017d4d67"
      },
      "source": [
        "### Exercise\n",
        "\n",
        "- Find the code where the MPO `W` for this model is defined to be\n",
        "$W =  \\begin{pmatrix} \\mathbb{1} & \\sigma^Z & -g \\sigma^X \\\\ & & -J \\sigma^Z \\\\ & & \\mathbb{1} \\end{pmatrix}$\n",
        "\n"
      ]
    },
    {
      "cell_type": "code",
      "execution_count": 107,
      "id": "916858f6-bdd6-4eee-b3ac-9ee8de19f5d4",
      "metadata": {
        "id": "916858f6-bdd6-4eee-b3ac-9ee8de19f5d4"
      },
      "outputs": [],
      "source": [
        "# the code is in the method `init_H_mpo()` of the TFIModel class"
      ]
    },
    {
      "cell_type": "markdown",
      "id": "1111dfbd-cbae-4f6d-9ead-70edc7ac1391",
      "metadata": {
        "id": "1111dfbd-cbae-4f6d-9ead-70edc7ac1391"
      },
      "source": [
        "- Check the energies for the other initial states and make sure it matches what you expect."
      ]
    },
    {
      "cell_type": "code",
      "execution_count": 108,
      "id": "b3c564f8-ef0e-444d-a0fa-c64bd5cde49c",
      "metadata": {
        "colab": {
          "base_uri": "https://localhost:8080/",
          "height": 0
        },
        "id": "b3c564f8-ef0e-444d-a0fa-c64bd5cde49c",
        "outputId": "89025319-7e3c-4aa3-be60-0371e46165fc"
      },
      "outputs": [
        {
          "output_type": "stream",
          "name": "stdout",
          "text": [
            "energy: 9.0\n",
            "should be 9.0\n"
          ]
        }
      ],
      "source": [
        "psi_Neel = init_Neel_MPS(L=L)\n",
        "print(\"energy:\", np.sum(psi_Neel.bond_expectation_value(model.H_bonds)))\n",
        "print(\"should be\", (L-1)* (-J) * (1. * -1.) + L * (-g) * (0.) )"
      ]
    },
    {
      "cell_type": "code",
      "execution_count": 109,
      "id": "9b4fdc65-077e-4a1d-bea0-0e1a1eff44d6",
      "metadata": {
        "colab": {
          "base_uri": "https://localhost:8080/",
          "height": 0
        },
        "id": "9b4fdc65-077e-4a1d-bea0-0e1a1eff44d6",
        "outputId": "98ef0209-8510-40eb-cb8c-d3eb11a3a2b7"
      },
      "outputs": [
        {
          "output_type": "stream",
          "name": "stdout",
          "text": [
            "energy: -19.999999999999993\n",
            "should be -20.0\n"
          ]
        }
      ],
      "source": [
        "psi_PM = init_PM_MPS(L=L)\n",
        "print(\"energy:\", np.sum(psi_PM.bond_expectation_value(model.H_bonds)))\n",
        "print(\"should be\", (L-1)* (-J) * (0. * 0.) + L * (-g) * (1.) )"
      ]
    },
    {
      "cell_type": "code",
      "execution_count": 109,
      "id": "0c91a163-8545-4478-b6af-ac26c617c62d",
      "metadata": {
        "id": "0c91a163-8545-4478-b6af-ac26c617c62d"
      },
      "outputs": [],
      "source": []
    },
    {
      "cell_type": "markdown",
      "id": "84bfd922-7e85-459c-a564-742d1ff36a72",
      "metadata": {
        "id": "84bfd922-7e85-459c-a564-742d1ff36a72"
      },
      "source": [
        "### Exercises (optional, if time left - for the experts, and those who want to become them)\n",
        "\n",
        "- Write an optimized function `correlation_function_all_j(psi, op_i, i, op_j, max_j)` that returns\n",
        "  the same values as the following, naive snippet:\n",
        "  ```\n",
        "  results = []\n",
        "  for j in range(i+1, max_j):\n",
        "      results.append(psi.correlation_function(op_i, i, op_j, j)\n",
        "  return results\n",
        "  ```\n",
        "  This snippet is $\\mathcal{O}(L^2)$: for each `j` it calls the `correlation_function`,\n",
        "  which internally also has an $\\mathcal{O}(L)$ loop for the contractions.\n",
        "  You can get this down to a single $\\mathcal{O}(L)$ loop, if you identify and reuse the parts that are   the same in the diagrams for the contractions.\n"
      ]
    },
    {
      "cell_type": "code",
      "execution_count": 109,
      "id": "8d0abb36-65cf-4537-b46a-b4634175ad1a",
      "metadata": {
        "id": "8d0abb36-65cf-4537-b46a-b4634175ad1a"
      },
      "outputs": [],
      "source": []
    },
    {
      "cell_type": "markdown",
      "id": "3967fdd5-ac38-4545-b22a-7888ba4e90e1",
      "metadata": {
        "id": "3967fdd5-ac38-4545-b22a-7888ba4e90e1"
      },
      "source": [
        "\n",
        "- For benchmarks, it's useful to consider the XX chain in a staggered field, given by the Hamiltonian\n",
        "  $$ H = \\sum_{i=0}^{N-2} (\\sigma^x_i \\sigma^x_{i+1} + \\sigma^y_i \\sigma^y_{i+1})  - h_s \\sum_{i=0}^{N-1} (-1)^i \\sigma^z_i\n",
        "     = 2 \\sum_{i=0}^{N-2} (\\sigma^+_i \\sigma^-_{i+1} + \\sigma^+_i \\sigma^-_{i+1})  - h_s \\sum_{i=0}^{N-1} (-1)^i \\sigma^z_i\n",
        "  $$\n",
        "  for the usual Pauli matrices $\\sigma^x, \\sigma^y, \\sigma^z$.\n",
        "\n",
        "  A Jordan-Wigner transformation maps the XX Chain to free fermions,\n",
        "  which we can diagonalize exactly with a few lines of python codes that are given in `tenpy_toycodes/free_fermions_exact.py`."
      ]
    },
    {
      "cell_type": "code",
      "execution_count": 110,
      "id": "1e3ba6c4-51ba-4b9b-99af-d243b75b7970",
      "metadata": {
        "colab": {
          "base_uri": "https://localhost:8080/",
          "height": 0
        },
        "id": "1e3ba6c4-51ba-4b9b-99af-d243b75b7970",
        "outputId": "b8e2a149-9d64-4899-bfad-1af55d609c8c"
      },
      "outputs": [
        {
          "output_type": "stream",
          "name": "stdout",
          "text": [
            "E_exact =  -12.053348366664542\n"
          ]
        }
      ],
      "source": [
        "from tenpy_toycodes.free_fermions_exact import XX_model_ground_state_energy\n",
        "\n",
        "print(\"E_exact = \", XX_model_ground_state_energy(L=10, h_staggered=0.))"
      ]
    },
    {
      "cell_type": "markdown",
      "id": "8438c5a0-efd6-4b54-8268-a15b1b583bc0",
      "metadata": {
        "id": "8438c5a0-efd6-4b54-8268-a15b1b583bc0"
      },
      "source": [
        "The following code implements the model for the XX Chain hamiltonian, but the MPO lacks some terms. Fill them in!\n",
        "\n",
        "\n",
        "Tip: In Python, `(-1)**i` represents $(-1)^i$.\n",
        "\n",
        "Tip: For the Hamiltonian $$H = \\sum_{i=0}^{N-2} (\\sigma^x_i \\sigma^x_{i+1} + \\sigma^y_i \\sigma^y_{i+1} + \\sigma^z_i \\sigma^z_{i+1}) - h \\sum_{i=0}^{N-1} \\sigma^z_i, $$ a possible MPO matrix W looks like\n",
        "$$ W = \\begin{pmatrix}\n",
        "1 & \\sigma^x & \\sigma^y & \\sigma^z & -h \\sigma^z \\\\\n",
        "0  & 0 &  0 & 0 & \\sigma^x \\\\\n",
        "0  & 0 &  0 & 0 & \\sigma^y \\\\\n",
        "0  & 0 &  0 & 0 & \\sigma^z \\\\\n",
        "0  & 0 &  0 & 0 & 1\n",
        "\\end{pmatrix} .$$\n",
        "Which parts do we need here?\n",
        "\n",
        "Compare the energies of different states to check that you got it correct.\n",
        "To really test it well, you should also check some states with non-trivial entanglement, e.g. ground states as obtained by DMRG (obtained as discussed in the next exercise notebook), for which you can directly compare to the `XX_model_ground_state_energy`."
      ]
    },
    {
      "cell_type": "code",
      "execution_count": 111,
      "id": "08a58430-a335-4044-90c9-715e6279266b",
      "metadata": {
        "id": "08a58430-a335-4044-90c9-715e6279266b"
      },
      "outputs": [],
      "source": [
        "class XXChain:\n",
        "    \"\"\"Simple class generating the Hamiltonian of the\n",
        "    The Hamiltonian reads\n",
        "    .. math ::\n",
        "        H = - J \\\\sum_{i} \\\\sigma^x_i \\\\sigma^x_{i+1} - g \\\\sum_{i} \\\\sigma^z_i\n",
        "    \"\"\"\n",
        "    def __init__(self, L, hs, bc='finite'):\n",
        "        assert bc in ['finite', 'infinite']\n",
        "        self.L, self.d, self.bc = L, 2, bc\n",
        "        self.hs = hs\n",
        "        self.sigmax = np.array([[0., 1.], [1., 0.]])  # Pauli X\n",
        "        self.sigmay = np.array([[0., -1j], [1j, 0.]]) # Pauli Y\n",
        "        self.sigmaz = np.array([[1., 0.], [0., -1.]]) # Pauli Z\n",
        "        self.id = np.eye(2)\n",
        "        self.init_H_bonds()\n",
        "        self.init_H_mpo()\n",
        "\n",
        "    def init_H_bonds(self):\n",
        "        \"\"\"Initialize `H_bonds` hamiltonian.\"\"\"\n",
        "        sx, sy, sz, id = self.sigmax, self.sigmay, self.sigmaz, self.id\n",
        "        d = self.d\n",
        "        nbonds = self.L - 1 if self.bc == 'finite' else self.L\n",
        "        H_list = []\n",
        "        for i in range(nbonds):\n",
        "            hL = hR = 0.5 * self.hs\n",
        "            if self.bc == 'finite':\n",
        "                if i == 0:\n",
        "                    hL = self.hs\n",
        "                if i + 1 == self.L - 1:\n",
        "                    hR = self.hs\n",
        "            H_bond = np.kron(sx, sx) + np.kron(sy, sy)\n",
        "            H_bond = H_bond - hL * (-1)**i * np.kron(sz, id) - hR * (-1)**(i+1) * np.kron(id, sz)\n",
        "            # H_bond has legs ``i, j, i*, j*``\n",
        "            H_list.append(np.reshape(H_bond, [d, d, d, d]))\n",
        "        self.H_bonds = H_list\n",
        "\n",
        "    # (note: not required for TEBD)\n",
        "    def init_H_mpo(self):\n",
        "        \"\"\"Initialize `H_mpo` Hamiltonian.\"\"\"\n",
        "        w_list = []\n",
        "        for i in range(self.L):\n",
        "            w = np.zeros((4, 4, self.d, self.d), dtype=complex)\n",
        "            w[0, 0] = w[3, 3] = self.id\n",
        "\n",
        "            raise NotImplementedError(\"add further entries here\")\n",
        "\n",
        "            w_list.append(w)\n",
        "        self.H_mpo = w_list\n",
        "\n",
        "#model = XXChain(9, 4., bc='finite')"
      ]
    }
  ],
  "metadata": {
    "kernelspec": {
      "display_name": "Python 3",
      "name": "python3"
    },
    "language_info": {
      "codemirror_mode": {
        "name": "ipython",
        "version": 3
      },
      "file_extension": ".py",
      "mimetype": "text/x-python",
      "name": "python",
      "nbconvert_exporter": "python",
      "pygments_lexer": "ipython3",
      "version": "3.10.6"
    },
    "colab": {
      "provenance": [],
      "machine_shape": "hm"
    }
  },
  "nbformat": 4,
  "nbformat_minor": 5
}