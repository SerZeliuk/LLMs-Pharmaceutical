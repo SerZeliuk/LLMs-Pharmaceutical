{
  "cells": [
    {
      "cell_type": "code",
      "execution_count": 2,
      "metadata": {
        "id": "e-qZmPKaLbJ7"
      },
      "outputs": [],
      "source": [
        "# This cell is added by sphinx-gallery\n",
        "# It can be customized to whatever you like\n",
        "%matplotlib inline\n",
        "# !pip install pennylane"
      ]
    },
    {
      "cell_type": "markdown",
      "metadata": {
        "id": "ZPrrGxMTLbJ7"
      },
      "source": [
        "The Quantum Graph Recurrent Neural Network\n",
        "==========================================\n",
        "\n",
        "::: {.meta}\n",
        ":property=\\\"og:description\\\": Using a quantum graph recurrent neural\n",
        "network to learn quantum dynamics. :property=\\\"og:image\\\":\n",
        "<https://pennylane.ai/qml/_images/qgrnn_thumbnail.png>\n",
        ":::\n",
        "\n",
        "*Author: Jack Ceroni --- Posted: 27 July 2020. Last updated: 25 March\n",
        "2021.*\n"
      ]
    },
    {
      "cell_type": "markdown",
      "metadata": {
        "id": "CU3x_5JALbJ8"
      },
      "source": [
        "This demonstration investigates quantum graph recurrent neural networks\n",
        "(QGRNN), which are the quantum analogue of a classical graph recurrent\n",
        "neural network, and a subclass of the more general quantum graph neural\n",
        "network ansatz. Both the QGNN and QGRNN were introduced in [this paper\n",
        "(2019)](https://arxiv.org/abs/1909.12264).\n"
      ]
    },
    {
      "cell_type": "markdown",
      "metadata": {
        "id": "3M64CbeaLbJ8"
      },
      "source": [
        "The Idea\n",
        "========\n"
      ]
    },
    {
      "cell_type": "markdown",
      "metadata": {
        "id": "H3vGd3-BLbJ8"
      },
      "source": [
        "A graph is defined as a set of *nodes* along with a set of **edges**,\n",
        "which represent connections between nodes. Information can be encoded\n",
        "into graphs by assigning numbers to nodes and edges, which we call\n",
        "**weights**. It is usually convenient to think of a graph visually:\n",
        "\n",
        "![image](../demonstrations/qgrnn/graph.png){.align-center width=\"70.0%\"}\n",
        "\n",
        "In recent years, the concept of a [graph neural\n",
        "network](https://arxiv.org/abs/1812.08434) (GNN) has been receiving a\n",
        "lot of attention from the machine learning community. A GNN seeks to\n",
        "learn a representation (a mapping of data into a low-dimensional vector\n",
        "space) of a given graph with feature vectors assigned to nodes and\n",
        "edges. Each of the vectors in the learned representation preserves not\n",
        "only the features, but also the overall topology of the graph, i.e.,\n",
        "which nodes are connected by edges. The quantum graph neural network\n",
        "attempts to do something similar, but for features that are\n",
        "quantum-mechanical; for instance, a collection of quantum states.\n"
      ]
    },
    {
      "cell_type": "markdown",
      "metadata": {
        "id": "T3MTH5BWLbJ8"
      },
      "source": [
        "Consider the class of qubit Hamiltonians that are *quadratic*, meaning\n",
        "that the terms of the Hamiltonian represent either interactions between\n",
        "two qubits, or the energy of individual qubits. This class of\n",
        "Hamiltonians is naturally described by graphs, with second-order terms\n",
        "between qubits corresponding to weighted edges between nodes, and\n",
        "first-order terms corresponding to node weights.\n",
        "\n",
        "A well known example of a quadratic Hamiltonian is the transverse-field\n",
        "Ising model, which is defined as\n",
        "\n",
        "$$\\hat{H}_{\\text{Ising}}(\\boldsymbol\\theta) \\ = \\ \\displaystyle\\sum_{(i, j) \\in E}\n",
        "\\theta_{ij}^{(1)} Z_{i} Z_{j} \\ + \\ \\displaystyle\\sum_{i} \\theta_{i}^{(2)} Z_{i} \\ + \\\n",
        "\\displaystyle\\sum_{i} X_{i},$$\n",
        "\n",
        "where $\\boldsymbol\\theta \\ = \\ \\{\\theta^{(1)}, \\ \\theta^{(2)}\\}$. In\n",
        "this Hamiltonian, the set $E$ that determines which pairs of qubits have\n",
        "$ZZ$ interactions can be represented by the set of edges for some graph.\n",
        "With the qubits as nodes, this graph is called the *interaction graph*.\n",
        "The $\\theta^{(1)}$ parameters correspond to the edge weights and the\n",
        "$\\theta^{(2)}$ parameters correspond to weights on the nodes.\n"
      ]
    },
    {
      "cell_type": "markdown",
      "metadata": {
        "id": "4fIzrPwnLbJ9"
      },
      "source": [
        "This result implies that we can think about *quantum circuits* with\n",
        "graph-theoretic properties. Recall that the time-evolution operator with\n",
        "respect to some Hamiltonian $H$ is defined as:\n",
        "\n",
        "$$U \\ = \\ e^{-it H}.$$\n",
        "\n",
        "Thus, we have a clean way of taking quadratic Hamiltonians and turning\n",
        "them into unitaries (quantum circuits) that preserve the same\n",
        "correspondance to a graph. In the case of the Ising Hamiltonian, we\n",
        "have:\n",
        "\n",
        "$$U_{\\text{Ising}} \\ = \\ e^{-it \\hat{H}_{\\text{Ising}} (\\boldsymbol\\theta)} \\ = \\ \\exp \\Big[ -it\n",
        "\\Big( \\displaystyle\\sum_{(i, j) \\in E} \\theta_{ij}^{(1)} Z_{i} Z_{j} \\ + \\\n",
        "\\displaystyle\\sum_{i} \\theta_{i}^{(2)} Z_{i} \\ + \\ \\displaystyle\\sum_{i} X_{i} \\Big) \\Big]$$\n",
        "\n",
        "In general, this kind of unitary is very difficult to implement on a\n",
        "quantum computer. However, we can approximate it using the\n",
        "[Trotter-Suzuki\n",
        "decomposition](https://en.wikipedia.org/wiki/Time-evolving_block_decimation#The_Suzuki-Trotter_expansion):\n",
        "\n",
        "$$\\exp \\Big[ -it \\Big( \\displaystyle\\sum_{(i, j) \\in E} \\theta_{ij}^{(1)} Z_{i} Z_{j} \\ + \\\n",
        "\\displaystyle\\sum_{i} \\theta_{i}^{(2)} Z_{i} \\ + \\ \\displaystyle\\sum_{i} X_{i} \\Big) \\Big]\n",
        "\\ \\approx \\ \\displaystyle\\prod_{k \\ = \\ 1}^{t / \\Delta} \\Bigg[ \\displaystyle\\prod_{j \\ = \\\n",
        "1}^{Q} e^{-i \\Delta \\hat{H}_{\\text{Ising}}^{j}(\\boldsymbol\\theta)} \\Bigg]$$\n",
        "\n",
        "where $\\hat{H}_{\\text{Ising}}^{j}(\\boldsymbol\\theta)$ is the $j$-th term\n",
        "of the Ising Hamiltonian and $\\Delta$ is some small number.\n",
        "\n",
        "This circuit is a specific instance of the **Quantum Graph Recurrent\n",
        "Neural Network**, which in general is defined as a variational ansatz of\n",
        "the form\n",
        "\n",
        "$$U_{H}(\\boldsymbol\\mu, \\ \\boldsymbol\\gamma) \\ = \\ \\displaystyle\\prod_{i \\ = \\ 1}^{P} \\Bigg[\n",
        "\\displaystyle\\prod_{j \\ = \\ 1}^{Q} e^{-i \\gamma_j H^{j}(\\boldsymbol\\mu)} \\Bigg],$$\n",
        "\n",
        "for some parametrized quadratic Hamiltonian, $H(\\boldsymbol\\mu)$.\n"
      ]
    },
    {
      "cell_type": "markdown",
      "metadata": {
        "id": "uKXgaaF1LbJ9"
      },
      "source": [
        "Using the QGRNN\n",
        "===============\n"
      ]
    },
    {
      "cell_type": "markdown",
      "metadata": {
        "id": "GDA7lU2tLbJ9"
      },
      "source": [
        "Since the QGRNN ansatz is equivalent to the approximate time evolution\n",
        "of some quadratic Hamiltonian, we can use it to learn the dynamics of a\n",
        "quantum system.\n",
        "\n",
        "Continuing with the Ising model example, let\\'s imagine we have some\n",
        "system governed by $\\hat{H}_{\\text{Ising}}(\\boldsymbol\\alpha)$ for an\n",
        "unknown set of target parameters, $\\boldsymbol\\alpha$ and an unknown\n",
        "interaction graph $G$. Let\\'s also suppose we have access to copies of\n",
        "some low-energy, non-ground state of the target Hamiltonian,\n",
        "$|\\psi_0\\rangle$. In addition, we have access to a collection of\n",
        "time-evolved states,\n",
        "$\\{ |\\psi(t_1)\\rangle, \\ |\\psi(t_2)\\rangle, \\ ..., \\ |\\psi(t_N)\\rangle \\}$,\n",
        "defined by:\n",
        "\n",
        "$$|\\psi(t_k)\\rangle \\ = \\ e^{-i t_k \\hat{H}_{\\text{Ising}}(\\boldsymbol\\alpha)} |\\psi_0\\rangle.$$\n",
        "\n",
        "We call the low-energy states and the collection of time-evolved states\n",
        "*quantum data*. From here, we randomly pick a number of time-evolved\n",
        "states from our collection. For any state that we choose, which is\n",
        "evolved to some time $t_k$, we compare it to\n",
        "\n",
        "$$U_{\\hat{H}_{\\text{Ising}}}(\\boldsymbol\\mu, \\ \\Delta) |\\psi_0\\rangle \\ \\approx \\ e^{-i t_k\n",
        "\\hat{H}_{\\text{Ising}}(\\boldsymbol\\mu)} |\\psi_0\\rangle.$$\n",
        "\n",
        "This is done by feeding one of the copies of $|\\psi_0\\rangle$ into a\n",
        "quantum circuit with the QGRNN ansatz, with some guessed set of\n",
        "parameters $\\boldsymbol\\mu$ and a guessed interaction graph, $G'$. We\n",
        "then use a classical optimizer to maximize the average \\\"similarity\\\"\n",
        "between the time-evolved states and the states prepared with the QGRNN.\n",
        "\n",
        "As the QGRNN states becomes more similar to each time-evolved state for\n",
        "each sampled time, it follows that\n",
        "$\\boldsymbol\\mu \\ \\rightarrow \\ \\boldsymbol\\alpha$ and we are able to\n",
        "learn the unknown parameters of the Hamiltonian.\n",
        "\n",
        "![A visual representation of one execution of the QGRNN for one piece of\n",
        "quantum data.](../demonstrations/qgrnn/qgrnn3.png){.align-center\n",
        "width=\"90.0%\"}\n"
      ]
    },
    {
      "cell_type": "markdown",
      "metadata": {
        "id": "hYWy2SBeLbJ9"
      },
      "source": [
        "Learning an Ising Model with the QGRNN\n",
        "======================================\n"
      ]
    },
    {
      "cell_type": "markdown",
      "metadata": {
        "id": "HlWNWZZULbJ9"
      },
      "source": [
        "We now attempt to use the QGRNN to learn the parameters corresponding to\n",
        "an arbitrary transverse-field Ising model Hamiltonian.\n"
      ]
    },
    {
      "cell_type": "markdown",
      "metadata": {
        "id": "GpdeYnFwLbJ-"
      },
      "source": [
        "Getting Started\n",
        "===============\n"
      ]
    },
    {
      "cell_type": "markdown",
      "metadata": {
        "id": "-5FbshFpLbJ-"
      },
      "source": [
        "We begin by importing the necessary dependencies:\n"
      ]
    },
    {
      "cell_type": "code",
      "execution_count": 3,
      "metadata": {
        "id": "WoSjhgrvLbJ_"
      },
      "outputs": [],
      "source": [
        "import pennylane as qml\n",
        "from matplotlib import pyplot as plt\n",
        "from pennylane import numpy as np\n",
        "import scipy\n",
        "import networkx as nx\n",
        "import copy"
      ]
    },
    {
      "cell_type": "markdown",
      "metadata": {
        "id": "SgJGdX-wLbJ_"
      },
      "source": [
        "We also define some fixed values that are used throughout the\n",
        "simulation.\n"
      ]
    },
    {
      "cell_type": "code",
      "execution_count": 4,
      "metadata": {
        "id": "FCZr2sEhLbJ_"
      },
      "outputs": [],
      "source": [
        "qubit_number = 4\n",
        "qubits = range(qubit_number)"
      ]
    },
    {
      "cell_type": "markdown",
      "metadata": {
        "id": "LLRw3rbhLbJ_"
      },
      "source": [
        "In this simulation, we don\\'t have quantum data readily available to\n",
        "pass into the QGRNN, so we have to generate it ourselves. To do this, we\n",
        "must have knowledge of the target interaction graph and the target\n",
        "Hamiltonian.\n",
        "\n",
        "Let us use the following cyclic graph as the target interaction graph of\n",
        "the Ising Hamiltonian:\n"
      ]
    },
    {
      "cell_type": "code",
      "execution_count": 5,
      "metadata": {
        "colab": {
          "base_uri": "https://localhost:8080/",
          "height": 534
        },
        "id": "BBidusUTLbJ_",
        "outputId": "0c46fd84-ae0e-4151-fa1c-e895585b1e2a"
      },
      "outputs": [
        {
          "output_type": "stream",
          "name": "stdout",
          "text": [
            "Edges: [(0, 1), (0, 3), (1, 2), (2, 3)]\n"
          ]
        },
        {
          "output_type": "display_data",
          "data": {
            "text/plain": [
              "<Figure size 640x480 with 1 Axes>"
            ],
            "image/png": "[encoded data removed]"
          },
          "metadata": {}
        }
      ],
      "source": [
        "ising_graph = nx.cycle_graph(qubit_number)\n",
        "\n",
        "print(f\"Edges: {ising_graph.edges}\")\n",
        "nx.draw(ising_graph)"
      ]
    },
    {
      "cell_type": "markdown",
      "metadata": {
        "id": "U1Dum11GLbJ_"
      },
      "source": [
        "We can then initialize the \"unknown\" target parameters that describe the\n",
        "target Hamiltonian,\n",
        "$\\boldsymbol\\alpha \\ = \\ \\{\\alpha^{(1)}, \\ \\alpha^{(2)}\\}$. Recall from\n",
        "the introduction that we have defined our parametrized Ising Hamiltonian\n",
        "to be of the form:\n",
        "\n",
        "$$\\hat{H}_{\\text{Ising}}(\\boldsymbol\\theta) \\ = \\ \\displaystyle\\sum_{(i, j) \\in E}\n",
        "\\theta_{ij}^{(1)} Z_{i} Z_{j} \\ + \\ \\displaystyle\\sum_{i} \\theta_{i}^{(2)} Z_{i} \\ + \\\n",
        "\\displaystyle\\sum_{i} X_{i},$$\n",
        "\n",
        "where $E$ is the set of edges in the interaction graph, and $X_i$ and\n",
        "$Z_i$ are the Pauli-X and Pauli-Z on the $i$-th qubit.\n",
        "\n",
        "For this tutorial, we choose the target parameters by sampling from a\n",
        "uniform probability distribution ranging from $-2$ to $2$, with\n",
        "two-decimal precision.\n"
      ]
    },
    {
      "cell_type": "code",
      "execution_count": 6,
      "metadata": {
        "id": "dguKYJmcLbJ_"
      },
      "outputs": [],
      "source": [
        "target_weights = [0.56, 1.24, 1.67, -0.79]\n",
        "target_bias = [-1.44, -1.43, 1.18, -0.93]"
      ]
    },
    {
      "cell_type": "markdown",
      "metadata": {
        "id": "AiyO6svHLbJ_"
      },
      "source": [
        "In theory, these parameters can be any value we want, provided they are\n",
        "reasonably small enough that the QGRNN can reach them in a tractable\n",
        "number of optimization steps. In `matrix_params`, the first list\n",
        "represents the $ZZ$ interaction parameters and the second list\n",
        "represents the single-qubit $Z$ parameters.\n",
        "\n",
        "Finally, we use this information to generate the matrix form of the\n",
        "Ising model Hamiltonian in the computational basis:\n"
      ]
    },
    {
      "cell_type": "code",
      "execution_count": 7,
      "metadata": {
        "colab": {
          "base_uri": "https://localhost:8080/",
          "height": 437
        },
        "id": "xDSq-w2_LbJ_",
        "outputId": "b1fd5ee7-6895-4566-ee8a-309d7242394a"
      },
      "outputs": [
        {
          "output_type": "display_data",
          "data": {
            "text/plain": [
              "<Figure size 480x480 with 1 Axes>"
            ],
            "image/png": "[encoded data removed]"
          },
          "metadata": {}
        }
      ],
      "source": [
        "def create_hamiltonian_matrix(n_qubits, graph, weights, bias):\n",
        "\n",
        "    full_matrix = np.zeros((2 ** n_qubits, 2 ** n_qubits))\n",
        "\n",
        "    # Creates the interaction component of the Hamiltonian\n",
        "    for i, edge in enumerate(graph.edges):\n",
        "        interaction_term = 1\n",
        "        for qubit in range(0, n_qubits):\n",
        "            if qubit in edge:\n",
        "                interaction_term = np.kron(interaction_term, qml.matrix(qml.PauliZ)(0))\n",
        "            else:\n",
        "                interaction_term = np.kron(interaction_term, np.identity(2))\n",
        "        full_matrix += weights[i] * interaction_term\n",
        "\n",
        "    # Creates the bias components of the matrix\n",
        "    for i in range(0, n_qubits):\n",
        "        z_term = x_term = 1\n",
        "        for j in range(0, n_qubits):\n",
        "            if j == i:\n",
        "                z_term = np.kron(z_term, qml.matrix(qml.PauliZ)(0))\n",
        "                x_term = np.kron(x_term, qml.matrix(qml.PauliX)(0))\n",
        "            else:\n",
        "                z_term = np.kron(z_term, np.identity(2))\n",
        "                x_term = np.kron(x_term, np.identity(2))\n",
        "        full_matrix += bias[i] * z_term + x_term\n",
        "\n",
        "    return full_matrix\n",
        "\n",
        "\n",
        "# Prints a visual representation of the Hamiltonian matrix\n",
        "ham_matrix = create_hamiltonian_matrix(qubit_number, ising_graph, target_weights, target_bias)\n",
        "plt.matshow(ham_matrix, cmap=\"hot\")\n",
        "plt.show()"
      ]
    },
    {
      "cell_type": "markdown",
      "metadata": {
        "id": "EZSqkuz8LbJ_"
      },
      "source": [
        "Preparing Quantum Data\n",
        "======================\n"
      ]
    },
    {
      "cell_type": "markdown",
      "metadata": {
        "id": "PmSFvIn5LbJ_"
      },
      "source": [
        "The collection of quantum data needed to run the QGRNN has two\n",
        "components: (i) copies of a low-energy state, and (ii) a collection of\n",
        "time-evolved states, each of which are simply the low-energy state\n",
        "evolved to different times. The following is a low-energy state of the\n",
        "target Hamiltonian:\n"
      ]
    },
    {
      "cell_type": "code",
      "execution_count": 8,
      "metadata": {
        "id": "TvhFkhYOLbJ_"
      },
      "outputs": [],
      "source": [
        "low_energy_state = [\n",
        "    (-0.054661080280306085 + 0.016713907320174026j),\n",
        "    (0.12290003656489545 - 0.03758500591109822j),\n",
        "    (0.3649337966440005 - 0.11158863596657455j),\n",
        "    (-0.8205175732627094 + 0.25093231967092877j),\n",
        "    (0.010369790825776609 - 0.0031706387262686003j),\n",
        "    (-0.02331544978544721 + 0.007129899300113728j),\n",
        "    (-0.06923183949694546 + 0.0211684344103713j),\n",
        "    (0.15566094863283836 - 0.04760201916285508j),\n",
        "    (0.014520590919500158 - 0.004441887836078486j),\n",
        "    (-0.032648113364535575 + 0.009988590222879195j),\n",
        "    (-0.09694382811137187 + 0.02965579457620536j),\n",
        "    (0.21796861485652747 - 0.06668776658411019j),\n",
        "    (-0.0027547112135013247 + 0.0008426289322652901j),\n",
        "    (0.006193695872468649 - 0.0018948418969390599j),\n",
        "    (0.018391279795405405 - 0.005625722994009138j),\n",
        "    (-0.041350974715649635 + 0.012650711602265649j),\n",
        "]"
      ]
    },
    {
      "cell_type": "markdown",
      "metadata": {
        "id": "nZ5F5vM7LbJ_"
      },
      "source": [
        "This state can be obtained by using a decoupled version of the\n",
        "`Variational Quantum Eigensolver </demos/tutorial_vqe>`{.interpreted-text\n",
        "role=\"doc\"} algorithm (VQE). Essentially, we choose a VQE ansatz such\n",
        "that the circuit cannot learn the exact ground state, but it can get\n",
        "fairly close. Another way to arrive at the same result is to perform VQE\n",
        "with a reasonable ansatz, but to terminate the algorithm before it\n",
        "converges to the ground state. If we used the exact ground state\n",
        "$|\\psi_0\\rangle$, the time-dependence would be trivial and the data\n",
        "would not provide enough information about the Hamiltonian parameters.\n",
        "\n",
        "We can verify that this is a low-energy state by numerically finding the\n",
        "lowest eigenvalue of the Hamiltonian and comparing it to the energy\n",
        "expectation of this low-energy state:\n"
      ]
    },
    {
      "cell_type": "code",
      "execution_count": 9,
      "metadata": {
        "colab": {
          "base_uri": "https://localhost:8080/",
          "height": 0
        },
        "id": "ZBpXVqTtLbJ_",
        "outputId": "4d94ef57-a6d0-4476-c92d-b08195c47129"
      },
      "outputs": [
        {
          "output_type": "stream",
          "name": "stdout",
          "text": [
            "Energy Expectation: -7.244508985189116\n",
            "Ground State Energy: -7.330689661291244\n"
          ]
        }
      ],
      "source": [
        "res = np.vdot(low_energy_state, (ham_matrix @ low_energy_state))\n",
        "energy_exp = np.real_if_close(res)\n",
        "print(f\"Energy Expectation: {energy_exp}\")\n",
        "\n",
        "\n",
        "ground_state_energy = np.real_if_close(min(np.linalg.eig(ham_matrix)[0]))\n",
        "print(f\"Ground State Energy: {ground_state_energy}\")"
      ]
    },
    {
      "cell_type": "markdown",
      "metadata": {
        "id": "dQRr5pFSLbKA"
      },
      "source": [
        "We have in fact found a low-energy, non-ground state, as the energy\n",
        "expectation is slightly greater than the energy of the true ground\n",
        "state. This, however, is only half of the information we need. We also\n",
        "require a collection of time-evolved, low-energy states. Evolving the\n",
        "low-energy state forward in time is fairly straightforward: all we have\n",
        "to do is multiply the initial state by a time-evolution unitary. This\n",
        "operation can be defined as a custom gate in PennyLane:\n"
      ]
    },
    {
      "cell_type": "code",
      "execution_count": 10,
      "metadata": {
        "id": "zxIkTaPiLbKA"
      },
      "outputs": [],
      "source": [
        "def state_evolve(hamiltonian, qubits, time):\n",
        "\n",
        "    U = scipy.linalg.expm(-1j * hamiltonian * time)\n",
        "    qml.QubitUnitary(U, wires=qubits)"
      ]
    },
    {
      "cell_type": "markdown",
      "metadata": {
        "id": "auVMu4Q4LbKA"
      },
      "source": [
        "We don\\'t actually generate time-evolved quantum data quite yet, but we\n",
        "now have all the pieces required for its preparation.\n"
      ]
    },
    {
      "cell_type": "markdown",
      "metadata": {
        "id": "XUMWybNQLbKA"
      },
      "source": [
        "Learning the Hamiltonian\n",
        "========================\n"
      ]
    },
    {
      "cell_type": "markdown",
      "metadata": {
        "id": "TrYpMK0NLbKA"
      },
      "source": [
        "With the quantum data defined, we are able to construct the QGRNN and\n",
        "learn the target Hamiltonian. Each of the exponentiated Hamiltonians in\n",
        "the QGRNN ansatz, $\\hat{H}^{j}_{\\text{Ising}}(\\boldsymbol\\mu)$, are the\n",
        "$ZZ$, $Z$, and $X$ terms from the Ising Hamiltonian. This gives:\n"
      ]
    },
    {
      "cell_type": "code",
      "execution_count": 11,
      "metadata": {
        "id": "RewvANn3LbKA"
      },
      "outputs": [],
      "source": [
        "def qgrnn_layer(weights, bias, qubits, graph, trotter_step):\n",
        "\n",
        "    # Applies a layer of RZZ gates (based on a graph)\n",
        "    for i, edge in enumerate(graph.edges):\n",
        "        qml.MultiRZ(2 * weights[i] * trotter_step, wires=(edge[0], edge[1]))\n",
        "\n",
        "    # Applies a layer of RZ gates\n",
        "    for i, qubit in enumerate(qubits):\n",
        "        qml.RZ(2 * bias[i] * trotter_step, wires=qubit)\n",
        "\n",
        "    # Applies a layer of RX gates\n",
        "    for qubit in qubits:\n",
        "        qml.RX(2 * trotter_step, wires=qubit)"
      ]
    },
    {
      "cell_type": "markdown",
      "metadata": {
        "id": "ZcYEXhauLbKA"
      },
      "source": [
        "As was mentioned in the first section, the QGRNN has two registers. In\n",
        "one register, some piece of quantum data $|\\psi(t)\\rangle$ is prepared\n",
        "and in the other we have\n",
        "$U_{H}(\\boldsymbol\\mu, \\ \\Delta) |\\psi_0\\rangle$. We need a way to\n",
        "measure the similarity between these states. This can be done by using\n",
        "the fidelity, which is simply the modulus squared of the inner product\n",
        "between the states,\n",
        "$| \\langle \\psi(t) | U_{H}(\\Delta, \\ \\boldsymbol\\mu) |\\psi_0\\rangle |^2$.\n",
        "To calculate this value, we use a [SWAP\n",
        "test](https://en.wikipedia.org/wiki/Swap_test) between the registers:\n"
      ]
    },
    {
      "cell_type": "code",
      "execution_count": 12,
      "metadata": {
        "id": "-5RqUqBKLbKA"
      },
      "outputs": [],
      "source": [
        "def swap_test(control, register1, register2):\n",
        "\n",
        "    qml.Hadamard(wires=control)\n",
        "    for reg1_qubit, reg2_qubit in zip(register1, register2):\n",
        "        qml.CSWAP(wires=(control, reg1_qubit, reg2_qubit))\n",
        "    qml.Hadamard(wires=control)"
      ]
    },
    {
      "cell_type": "markdown",
      "metadata": {
        "id": "To4GLL8VLbKA"
      },
      "source": [
        "After performing this procedure, the value returned from a measurement\n",
        "of the circuit is $\\langle Z \\rangle$, with respect to the `control`\n",
        "qubit. The probability of measuring the $|0\\rangle$ state in this\n",
        "control qubit is related to both the fidelity between registers and\n",
        "$\\langle Z \\rangle$. Thus, with a bit of algebra, we find that\n",
        "$\\langle Z \\rangle$ is equal to the fidelity.\n",
        "\n",
        "Before creating the full QGRNN and the cost function, we define a few\n",
        "more fixed values. Among these is a \\\"guessed\\\" interaction graph, which\n",
        "we set to be a [complete\n",
        "graph](https://en.wikipedia.org/wiki/Complete_graph). This choice is\n",
        "motivated by the fact that any target interaction graph will be a\n",
        "subgraph of this initial guess. Part of the idea behind the QGRNN is\n",
        "that we don't know the interaction graph, and it has to be learned. In\n",
        "this case, the graph is learned *automatically* as the target parameters\n",
        "are optimized. The $\\boldsymbol\\mu$ parameters that correspond to edges\n",
        "that don\\'t exist in the target graph will simply approach $0$.\n"
      ]
    },
    {
      "cell_type": "code",
      "execution_count": 13,
      "metadata": {
        "colab": {
          "base_uri": "https://localhost:8080/",
          "height": 534
        },
        "id": "C5JNAOMSLbKA",
        "outputId": "7d2ccda3-2603-4d20-a849-074bb12547ee"
      },
      "outputs": [
        {
          "output_type": "stream",
          "name": "stdout",
          "text": [
            "Edges: [(4, 5), (4, 6), (4, 7), (5, 6), (5, 7), (6, 7)]\n"
          ]
        },
        {
          "output_type": "display_data",
          "data": {
            "text/plain": [
              "<Figure size 640x480 with 1 Axes>"
            ],
            "image/png": "[encoded data removed]"
          },
          "metadata": {}
        }
      ],
      "source": [
        "# Defines some fixed values\n",
        "\n",
        "reg1 = tuple(range(qubit_number))  # First qubit register\n",
        "reg2 = tuple(range(qubit_number, 2 * qubit_number))  # Second qubit register\n",
        "\n",
        "control = 2 * qubit_number  # Index of control qubit\n",
        "trotter_step = 0.01  # Trotter step size\n",
        "\n",
        "# Defines the interaction graph for the new qubit system\n",
        "\n",
        "new_ising_graph = nx.complete_graph(reg2)\n",
        "\n",
        "print(f\"Edges: {new_ising_graph.edges}\")\n",
        "nx.draw(new_ising_graph)"
      ]
    },
    {
      "cell_type": "markdown",
      "metadata": {
        "id": "4fc6XyLdLbKA"
      },
      "source": [
        "With this done, we implement the QGRNN circuit for some given time\n",
        "value:\n"
      ]
    },
    {
      "cell_type": "code",
      "execution_count": 14,
      "metadata": {
        "id": "iu4hcd2oLbKA"
      },
      "outputs": [],
      "source": [
        "def qgrnn(weights, bias, time=None):\n",
        "\n",
        "    # Prepares the low energy state in the two registers\n",
        "    qml.QubitStateVector(np.kron(low_energy_state, low_energy_state), wires=reg1 + reg2)\n",
        "\n",
        "    # Evolves the first qubit register with the time-evolution circuit to\n",
        "    # prepare a piece of quantum data\n",
        "    state_evolve(ham_matrix, reg1, time)\n",
        "\n",
        "    # Applies the QGRNN layers to the second qubit register\n",
        "    depth = time / trotter_step  # P = t/Delta\n",
        "    for _ in range(0, int(depth)):\n",
        "        qgrnn_layer(weights, bias, reg2, new_ising_graph, trotter_step)\n",
        "\n",
        "    # Applies the SWAP test between the registers\n",
        "    swap_test(control, reg1, reg2)\n",
        "\n",
        "    # Returns the results of the SWAP test\n",
        "    return qml.expval(qml.PauliZ(control))"
      ]
    },
    {
      "cell_type": "markdown",
      "metadata": {
        "id": "zUGsNfnsLbKA"
      },
      "source": [
        "We have the full QGRNN circuit, but we still need to define a cost\n",
        "function. We know that\n",
        "$| \\langle \\psi(t) | U_{H}(\\boldsymbol\\mu, \\ \\Delta) |\\psi_0\\rangle |^2$\n",
        "approaches $1$ as the states become more similar and approaches $0$ as\n",
        "the states become orthogonal. Thus, we choose to minimize the quantity\n",
        "$-| \\langle \\psi(t) | U_{H}(\\boldsymbol\\mu, \\ \\Delta) |\\psi_0\\rangle |^2$.\n",
        "Since we are interested in calculating this value for many different\n",
        "pieces of quantum data, the final cost function is the average negative\n",
        "fidelity\\* between registers:\n",
        "\n",
        "$$\\mathcal{L}(\\boldsymbol\\mu, \\ \\Delta) \\ = \\ - \\frac{1}{N} \\displaystyle\\sum_{i \\ = \\ 1}^{N} |\n",
        "\\langle \\psi(t_i) | \\ U_{H}(\\boldsymbol\\mu, \\ \\Delta) \\ |\\psi_0\\rangle |^2,$$\n",
        "\n",
        "where we use $N$ pieces of quantum data.\n",
        "\n",
        "Before creating the cost function, we must define a few more fixed\n",
        "variables:\n"
      ]
    },
    {
      "cell_type": "code",
      "execution_count": 15,
      "metadata": {
        "id": "R7jK3kMqLbKB"
      },
      "outputs": [],
      "source": [
        "N = 15  # The number of pieces of quantum data that are used for each step\n",
        "max_time = 0.1  # The maximum value of time that can be used for quantum data"
      ]
    },
    {
      "cell_type": "markdown",
      "metadata": {
        "id": "X_e9a1jVLbKB"
      },
      "source": [
        "We then define the negative fidelity cost function:\n"
      ]
    },
    {
      "cell_type": "code",
      "execution_count": 16,
      "metadata": {
        "id": "qizc8MsqLbKB"
      },
      "outputs": [],
      "source": [
        "rng = np.random.default_rng(seed=42)\n",
        "\n",
        "def cost_function(weight_params, bias_params):\n",
        "\n",
        "    # Randomly samples times at which the QGRNN runs\n",
        "    times_sampled = rng.random(size=N) * max_time\n",
        "\n",
        "    # Cycles through each of the sampled times and calculates the cost\n",
        "    total_cost = 0\n",
        "    for dt in times_sampled:\n",
        "        result = qgrnn_qnode(weight_params, bias_params, time=dt)\n",
        "        total_cost += -1 * result\n",
        "\n",
        "    return total_cost / N"
      ]
    },
    {
      "cell_type": "markdown",
      "metadata": {
        "id": "m5WwkvDHLbKB"
      },
      "source": [
        "Next we set up for optimization.\n"
      ]
    },
    {
      "cell_type": "code",
      "execution_count": 17,
      "metadata": {
        "id": "3bzbEsNJLbKB"
      },
      "outputs": [],
      "source": [
        "# Defines the new device\n",
        "qgrnn_dev = qml.device(\"default.qubit\", wires=2 * qubit_number + 1)\n",
        "\n",
        "# Defines the new QNode\n",
        "qgrnn_qnode = qml.QNode(qgrnn, qgrnn_dev, interface=\"autograd\")\n",
        "\n",
        "steps = 300\n",
        "\n",
        "optimizer = qml.AdamOptimizer(stepsize=0.3)\n",
        "\n",
        "weights = rng.random(size=len(new_ising_graph.edges), requires_grad=True) - 0.5\n",
        "bias = rng.random(size=qubit_number, requires_grad=True) - 0.5\n",
        "\n",
        "initial_weights = copy.copy(weights)\n",
        "initial_bias = copy.copy(bias)"
      ]
    },
    {
      "cell_type": "markdown",
      "metadata": {
        "id": "Hik8L3erLbKB"
      },
      "source": [
        "All that remains is executing the optimization loop.\n"
      ]
    },
    {
      "cell_type": "code",
      "execution_count": 18,
      "metadata": {
        "colab": {
          "base_uri": "https://localhost:8080/",
          "height": 0
        },
        "id": "gPvXgB7MLbKB",
        "outputId": "fedfd42d-6a1c-42aa-de6d-a0786615a80f"
      },
      "outputs": [
        {
          "output_type": "stream",
          "name": "stdout",
          "text": [
            "Cost at Step 0: -0.9803638573791906\n",
            "Weights at Step 0: [-0.02603926  0.23887338  0.65859458  0.4973626  -0.10582631  0.17562606]\n",
            "Bias at Step 0: [-0.03885261 -0.01392638 -0.07189834  0.25038114]\n",
            "---------------------------------------------\n",
            "Cost at Step 5: -0.996941435016429\n",
            "Weights at Step 5: [-0.81324145  1.07476846  1.1061694   1.58556358  0.32683696 -0.30451739]\n",
            "Bias at Step 5: [-0.69258221 -1.04745285  1.06920295  0.4729811 ]\n",
            "---------------------------------------------\n",
            "Cost at Step 10: -0.998631791121192\n",
            "Weights at Step 10: [-0.42326896  0.79838566  0.61651522  1.83801512 -0.18661762  0.09585344]\n",
            "Bias at Step 10: [-0.14865635 -1.13290709  1.50067486 -0.17013801]\n",
            "---------------------------------------------\n",
            "Cost at Step 15: -0.9989288704590784\n",
            "Weights at Step 15: [-0.01780188  0.51935145  0.84042409  1.67694816 -0.08570868 -0.17039931]\n",
            "Bias at Step 15: [ 0.14049396 -0.85137402  1.46620821  0.01876606]\n",
            "---------------------------------------------\n",
            "Cost at Step 20: -0.9989877966855808\n",
            "Weights at Step 20: [-0.04606544  0.61564422  1.20996012  1.53724787  0.03102305 -0.38463701]\n",
            "Bias at Step 20: [-0.15660669 -0.72249342  1.28027729  0.17742167]\n",
            "---------------------------------------------\n",
            "Cost at Step 25: -0.9996824290201453\n",
            "Weights at Step 25: [-0.15679743  0.6818271   1.14305623  1.52203978 -0.28441025 -0.08613302]\n",
            "Bias at Step 25: [-0.44370877 -0.83552897  1.05067071 -0.21716541]\n",
            "---------------------------------------------\n",
            "Cost at Step 30: -0.9997260854147976\n",
            "Weights at Step 30: [-0.10965584  0.55377334  1.23770269  1.66310423 -0.22452586 -0.16214067]\n",
            "Bias at Step 30: [-0.42105765 -1.09901301  0.97692017 -0.25131789]\n",
            "---------------------------------------------\n",
            "Cost at Step 35: -0.999720785496688\n",
            "Weights at Step 35: [ 0.05371611  0.40094669  1.34935989  1.75342972 -0.10426342 -0.3430209 ]\n",
            "Bias at Step 35: [-0.31829145 -1.20422776  1.00699464 -0.19185141]\n",
            "---------------------------------------------\n",
            "Cost at Step 40: -0.9998268061103935\n",
            "Weights at Step 40: [ 0.14696981  0.42062742  1.30031302  1.74223276 -0.23815364 -0.30014355]\n",
            "Bias at Step 40: [-0.42731939 -1.12652083  1.05747061 -0.37945587]\n",
            "---------------------------------------------\n",
            "Cost at Step 45: -0.999854979792434\n",
            "Weights at Step 45: [ 0.13980781  0.52546791  1.3589372   1.7401287  -0.24171811 -0.37131231]\n",
            "Bias at Step 45: [-0.66159346 -1.08685666  1.08351978 -0.44685154]\n",
            "---------------------------------------------\n",
            "Cost at Step 50: -0.9999300663096155\n",
            "Weights at Step 50: [ 0.24206772  0.42578458  1.38259253  1.73759016 -0.17042668 -0.47614044]\n",
            "Bias at Step 50: [-0.67166662 -1.11916085  1.01155301 -0.45307945]\n",
            "---------------------------------------------\n",
            "Cost at Step 55: -0.9999158295165241\n",
            "Weights at Step 55: [ 0.3107698   0.32643162  1.30955235  1.7661931  -0.18233325 -0.47326321]\n",
            "Bias at Step 55: [-0.67871142 -1.20848815  0.93740127 -0.56458235]\n",
            "---------------------------------------------\n",
            "Cost at Step 60: -0.9999308699951126\n",
            "Weights at Step 60: [ 0.28372115  0.36451651  1.33221677  1.80954685 -0.13589698 -0.54109403]\n",
            "Bias at Step 60: [-0.83208754 -1.2754807   0.93311571 -0.60834148]\n",
            "---------------------------------------------\n",
            "Cost at Step 65: -0.999959884466806\n",
            "Weights at Step 65: [ 0.36974336  0.3193621   1.31162222  1.76724553 -0.13338673 -0.583552  ]\n",
            "Bias at Step 65: [-0.88515714 -1.21379111  0.91018067 -0.66955516]\n",
            "---------------------------------------------\n",
            "Cost at Step 70: -0.9999592904739002\n",
            "Weights at Step 70: [ 0.41857481  0.28942942  1.30436789  1.7750691  -0.10866857 -0.63517285]\n",
            "Bias at Step 70: [-0.94301792 -1.21574698  0.92016109 -0.71763258]\n",
            "---------------------------------------------\n",
            "Cost at Step 75: -0.9999713292245083\n",
            "Weights at Step 75: [ 0.42211115  0.27516391  1.30028462  1.8124991  -0.08626634 -0.66806052]\n",
            "Bias at Step 75: [-1.02418273 -1.27352011  0.92542777 -0.77781084]\n",
            "---------------------------------------------\n",
            "Cost at Step 80: -0.9999807570513847\n",
            "Weights at Step 80: [ 0.46823298  0.22196986  1.29819846  1.79885961 -0.07375557 -0.69509066]\n",
            "Bias at Step 80: [-1.06297822 -1.27152207  0.89615772 -0.8267624 ]\n",
            "---------------------------------------------\n",
            "Cost at Step 85: -0.9999834576872019\n",
            "Weights at Step 85: [ 0.48867472  0.20430434  1.31813101  1.79817224 -0.05572355 -0.73012137]\n",
            "Bias at Step 85: [-1.12351456 -1.26935382  0.8986494  -0.85965751]\n",
            "---------------------------------------------\n",
            "Cost at Step 90: -0.9999848348340454\n",
            "Weights at Step 90: [ 0.50938179  0.1815515   1.31872181  1.81333952 -0.057935   -0.74241479]\n",
            "Bias at Step 90: [-1.1648444  -1.28126866  0.91927043 -0.91218166]\n",
            "---------------------------------------------\n",
            "Cost at Step 95: -0.9999858404580841\n",
            "Weights at Step 95: [ 0.53198063  0.14682073  1.32951939  1.81872826 -0.03723321 -0.7724539 ]\n",
            "Bias at Step 95: [-1.19340463 -1.29189249  0.92624482 -0.93540509]\n",
            "---------------------------------------------\n",
            "Cost at Step 100: -0.999985474261986\n",
            "Weights at Step 100: [ 0.54088845  0.12642269  1.32832267  1.81359343 -0.03539024 -0.78147771]\n",
            "Bias at Step 100: [-1.23731699 -1.29310153  0.92559765 -0.97196362]\n",
            "---------------------------------------------\n",
            "Cost at Step 105: -0.9999849674159557\n",
            "Weights at Step 105: [ 0.5519262   0.1056115   1.33563262  1.81489961 -0.02321254 -0.80109894]\n",
            "Bias at Step 105: [-1.26753973 -1.29708393  0.93540955 -0.99148978]\n",
            "---------------------------------------------\n",
            "Cost at Step 110: -0.9999893366309286\n",
            "Weights at Step 110: [ 0.56454314  0.08311651  1.3315906   1.81716268 -0.01884894 -0.81132014]\n",
            "Bias at Step 110: [-1.28690663 -1.30170285  0.9490766  -1.01449621]\n",
            "---------------------------------------------\n",
            "Cost at Step 115: -0.9999910021365572\n",
            "Weights at Step 115: [ 0.56547562  0.07231051  1.33386244  1.81426223 -0.010147   -0.82398566]\n",
            "Bias at Step 115: [-1.31862939 -1.30416747  0.95796895 -1.02789104]\n",
            "---------------------------------------------\n",
            "Cost at Step 120: -0.9999892236888762\n",
            "Weights at Step 120: [ 0.57542644  0.05174682  1.33008488  1.80845608 -0.00677923 -0.83031403]\n",
            "Bias at Step 120: [-1.33280139 -1.30462293  0.96278424 -1.04167386]\n",
            "---------------------------------------------\n",
            "Cost at Step 125: -0.9999921564251922\n",
            "Weights at Step 125: [ 5.74855656e-01  4.41140455e-02  1.33148721e+00  1.81141630e+00\n",
            " -1.45922147e-03 -8.37792448e-01]\n",
            "Bias at Step 125: [-1.35272154 -1.31313306  0.9769263  -1.05024412]\n",
            "---------------------------------------------\n",
            "Cost at Step 130: -0.9999896546781485\n",
            "Weights at Step 130: [ 5.81148179e-01  3.12881718e-02  1.32648858e+00  1.80476572e+00\n",
            " -1.34382543e-04 -8.40486390e-01]\n",
            "Bias at Step 130: [-1.36266437 -1.3122935   0.98373353 -1.05698837]\n",
            "---------------------------------------------\n",
            "Cost at Step 135: -0.999989389789069\n",
            "Weights at Step 135: [ 0.58113254  0.02553698  1.32817847  1.8011998   0.00461508 -0.84568556]\n",
            "Bias at Step 135: [-1.37617879 -1.31580751  0.99147423 -1.05740398]\n",
            "---------------------------------------------\n",
            "Cost at Step 140: -0.9999909647373425\n",
            "Weights at Step 140: [ 5.84031155e-01  1.80486810e-02  1.32738886e+00  1.80061135e+00\n",
            "  1.65406266e-03 -8.43424714e-01]\n",
            "Bias at Step 140: [-1.38227067 -1.32143299  0.9995722  -1.06391802]\n",
            "---------------------------------------------\n",
            "Cost at Step 145: -0.9999882409907013\n",
            "Weights at Step 145: [ 0.58696427  0.01254767  1.33270229  1.79866053  0.00341283 -0.84622868]\n",
            "Bias at Step 145: [-1.38755681 -1.3249532   1.00609436 -1.06294709]\n",
            "---------------------------------------------\n",
            "Cost at Step 150: -0.9999882142877635\n",
            "Weights at Step 150: [ 5.88782557e-01  9.26749787e-03  1.33607830e+00  1.79737635e+00\n",
            "  8.61705971e-04 -8.44657239e-01]\n",
            "Bias at Step 150: [-1.39299146 -1.32891592  1.01108686 -1.06590915]\n",
            "---------------------------------------------\n",
            "Cost at Step 155: -0.9999874507805563\n",
            "Weights at Step 155: [ 5.92771490e-01  4.43280303e-03  1.34076089e+00  1.79756493e+00\n",
            " -5.09973154e-04 -8.44577799e-01]\n",
            "Bias at Step 155: [-1.39410552 -1.33352314  1.01473829 -1.06769553]\n",
            "---------------------------------------------\n",
            "Cost at Step 160: -0.9999873005360721\n",
            "Weights at Step 160: [ 0.59576847  0.00268011  1.34849234  1.79906537 -0.00323521 -0.84434153]\n",
            "Bias at Step 160: [-1.3972048  -1.33712094  1.01690619 -1.07141221]\n",
            "---------------------------------------------\n",
            "Cost at Step 165: -0.9999874561658166\n",
            "Weights at Step 165: [ 5.98598863e-01  2.45970557e-04  1.34798706e+00  1.79893319e+00\n",
            " -3.96831663e-03 -8.44402361e-01]\n",
            "Bias at Step 165: [-1.39840678 -1.3400862   1.01678644 -1.07427356]\n",
            "---------------------------------------------\n",
            "Cost at Step 170: -0.999988664299768\n",
            "Weights at Step 170: [ 0.59556051  0.00301936  1.33720573  1.79440069  0.00246633 -0.84842527]\n",
            "Bias at Step 170: [-1.40433835 -1.34054744  1.01793737 -1.06932111]\n",
            "---------------------------------------------\n",
            "Cost at Step 175: -0.9999876765392001\n",
            "Weights at Step 175: [ 0.59507328  0.00398439  1.32779833  1.78879332  0.0043839  -0.84887631]\n",
            "Bias at Step 175: [-1.40733842 -1.33831837  1.01934095 -1.06713091]\n",
            "---------------------------------------------\n",
            "Cost at Step 180: -0.999991473708912\n",
            "Weights at Step 180: [ 0.59530716  0.0028657   1.32842831  1.78856307  0.00360646 -0.8477063 ]\n",
            "Bias at Step 180: [-1.40721243 -1.34142579  1.02195458 -1.06673697]\n",
            "---------------------------------------------\n",
            "Cost at Step 185: -0.9999877064247253\n",
            "Weights at Step 185: [ 5.97140521e-01  1.29792043e-03  1.33864708e+00  1.78999566e+00\n",
            "  1.00191981e-03 -8.46805223e-01]\n",
            "Bias at Step 185: [-1.40651854 -1.34399438  1.0238182  -1.06735418]\n",
            "---------------------------------------------\n",
            "Cost at Step 190: -0.9999945812804165\n",
            "Weights at Step 190: [ 6.00719014e-01 -1.62402633e-03  1.34764455e+00  1.79338122e+00\n",
            " -4.62571494e-03 -8.43587564e-01]\n",
            "Bias at Step 190: [-1.40364571 -1.34711672  1.02503773 -1.07251647]\n",
            "---------------------------------------------\n",
            "Cost at Step 195: -0.999989989786025\n",
            "Weights at Step 195: [ 6.00908732e-01 -1.62012049e-03  1.35014363e+00  1.79380038e+00\n",
            " -2.98349731e-03 -8.45624230e-01]\n",
            "Bias at Step 195: [-1.40422823 -1.34839724  1.024814   -1.07151688]\n",
            "---------------------------------------------\n",
            "Cost at Step 200: -0.9999881542248072\n",
            "Weights at Step 200: [ 5.99981319e-01 -1.88775908e-04  1.34385950e+00  1.79176993e+00\n",
            " -1.80551029e-03 -8.46142226e-01]\n",
            "Bias at Step 200: [-1.40629448 -1.34706972  1.02376301 -1.07210325]\n",
            "---------------------------------------------\n",
            "Cost at Step 205: -0.9999881740456698\n",
            "Weights at Step 205: [ 5.99261166e-01  2.51688730e-04  1.33482422e+00  1.78924276e+00\n",
            "  2.54997378e-04 -8.46778052e-01]\n",
            "Bias at Step 205: [-1.40688336 -1.34566627  1.02294251 -1.07166319]\n",
            "---------------------------------------------\n",
            "Cost at Step 210: -0.9999849643591882\n",
            "Weights at Step 210: [ 0.59556376  0.00290579  1.32712069  1.78534996  0.00520243 -0.8492702 ]\n",
            "Bias at Step 210: [-1.4100142  -1.34414691  1.02376047 -1.06630716]\n",
            "---------------------------------------------\n",
            "Cost at Step 215: -0.9999886489345433\n",
            "Weights at Step 215: [ 0.59355916  0.00370791  1.32450808  1.78322703  0.00640902 -0.84894837]\n",
            "Bias at Step 215: [-1.41048592 -1.34401778  1.02684022 -1.06268802]\n",
            "---------------------------------------------\n",
            "Cost at Step 220: -0.9999878707967713\n",
            "Weights at Step 220: [ 5.94865214e-01  1.31396790e-03  1.32851226e+00  1.78368971e+00\n",
            "  1.99943131e-03 -8.44829812e-01]\n",
            "Bias at Step 220: [-1.40762506 -1.34564162  1.02914859 -1.06395825]\n",
            "---------------------------------------------\n",
            "Cost at Step 225: -0.9999894983980553\n",
            "Weights at Step 225: [ 5.96129030e-01 -2.70446381e-04  1.33726404e+00  1.78530720e+00\n",
            " -9.14375384e-04 -8.43087376e-01]\n",
            "Bias at Step 225: [-1.40591305 -1.34783606  1.03097914 -1.06389792]\n",
            "---------------------------------------------\n",
            "Cost at Step 230: -0.9999922381489225\n",
            "Weights at Step 230: [ 5.95698562e-01  2.12153829e-05  1.34097628e+00  1.78640344e+00\n",
            " -2.66939871e-04 -8.43866656e-01]\n",
            "Bias at Step 230: [-1.40598424 -1.35013     1.03301139 -1.06176633]\n",
            "---------------------------------------------\n",
            "Cost at Step 235: -0.9999915503513058\n",
            "Weights at Step 235: [ 5.94412462e-01  1.26937987e-03  1.33568147e+00  1.78429986e+00\n",
            "  1.10164011e-03 -8.44057595e-01]\n",
            "Bias at Step 235: [-1.40759178 -1.35003317  1.03306412 -1.06029115]\n",
            "---------------------------------------------\n",
            "Cost at Step 240: -0.9999899139875156\n",
            "Weights at Step 240: [ 0.59325925  0.00212116  1.32698164  1.78079875  0.00265113 -0.84377279]\n",
            "Bias at Step 240: [-1.40862419 -1.34902462  1.03344422 -1.05847877]\n",
            "---------------------------------------------\n",
            "Cost at Step 245: -0.9999889983186859\n",
            "Weights at Step 245: [ 5.95248184e-01  1.16515643e-03  1.32888367e+00  1.77990336e+00\n",
            "  3.18940688e-04 -8.42352373e-01]\n",
            "Bias at Step 245: [-1.40780015 -1.34809049  1.03368968 -1.05975704]\n",
            "---------------------------------------------\n",
            "Cost at Step 250: -0.9999881214395573\n",
            "Weights at Step 250: [ 5.94746365e-01  3.52226215e-04  1.33273458e+00  1.78271878e+00\n",
            "  2.35450291e-04 -8.42131285e-01]\n",
            "Bias at Step 250: [-1.40703427 -1.35285926  1.03469553 -1.05970064]\n",
            "---------------------------------------------\n",
            "Cost at Step 255: -0.9999893074495982\n",
            "Weights at Step 255: [ 5.95128451e-01  1.41833640e-03  1.33495243e+00  1.78118103e+00\n",
            " -1.66495422e-04 -8.42564017e-01]\n",
            "Bias at Step 255: [-1.40849133 -1.35075613  1.03571014 -1.05899157]\n",
            "---------------------------------------------\n",
            "Cost at Step 260: -0.9999911831425025\n",
            "Weights at Step 260: [ 5.93954624e-01  3.65997215e-04  1.32747775e+00  1.78014389e+00\n",
            "  1.86270231e-03 -8.42368868e-01]\n",
            "Bias at Step 260: [-1.40745686 -1.35292854  1.03598998 -1.05730236]\n",
            "---------------------------------------------\n",
            "Cost at Step 265: -0.9999898569345608\n",
            "Weights at Step 265: [ 5.94054550e-01  2.22631406e-03  1.32948594e+00  1.77704330e+00\n",
            "  1.19766250e-03 -8.42715291e-01]\n",
            "Bias at Step 265: [-1.41030685 -1.34876472  1.03609132 -1.05643617]\n",
            "---------------------------------------------\n",
            "Cost at Step 270: -0.9999877705287914\n",
            "Weights at Step 270: [ 5.94781072e-01 -1.11477042e-04  1.33392437e+00  1.78305723e+00\n",
            "  3.76174702e-04 -8.42183574e-01]\n",
            "Bias at Step 270: [-1.40704689 -1.35586199  1.03817742 -1.058197  ]\n",
            "---------------------------------------------\n",
            "Cost at Step 275: -0.9999913225494264\n",
            "Weights at Step 275: [ 5.94417898e-01  1.55898287e-03  1.33236765e+00  1.77833787e+00\n",
            "  8.61473931e-04 -8.42756926e-01]\n",
            "Bias at Step 275: [-1.4102245  -1.35092356  1.03638933 -1.05664399]\n",
            "---------------------------------------------\n",
            "Cost at Step 280: -0.999991247464759\n",
            "Weights at Step 280: [ 5.96133973e-01 -6.81094713e-04  1.33226199e+00  1.78221990e+00\n",
            " -1.23665053e-03 -8.41018922e-01]\n",
            "Bias at Step 280: [-1.40689524 -1.35460515  1.03788072 -1.06013602]\n",
            "---------------------------------------------\n",
            "Cost at Step 285: -0.9999871732223706\n",
            "Weights at Step 285: [ 5.97358644e-01 -9.15319018e-04  1.33478275e+00  1.78040181e+00\n",
            " -2.90160465e-03 -8.40389367e-01]\n",
            "Bias at Step 285: [-1.40803754 -1.35171341  1.03412961 -1.06239103]\n",
            "---------------------------------------------\n",
            "Cost at Step 290: -0.9999918619409637\n",
            "Weights at Step 290: [ 5.94771896e-01  8.18512334e-04  1.32655817e+00  1.77910435e+00\n",
            "  2.12609569e-03 -8.43221244e-01]\n",
            "Bias at Step 290: [-1.40897233 -1.35158162  1.03631282 -1.05834328]\n",
            "---------------------------------------------\n",
            "Cost at Step 295: -0.9999908671570564\n",
            "Weights at Step 295: [ 5.95660428e-01  9.09973737e-04  1.33134943e+00  1.77946500e+00\n",
            " -2.53296584e-04 -8.42278191e-01]\n",
            "Bias at Step 295: [-1.40945183 -1.35032335  1.03559811 -1.06039016]\n",
            "---------------------------------------------\n"
          ]
        }
      ],
      "source": [
        "for i in range(0, steps):\n",
        "    (weights, bias), cost = optimizer.step_and_cost(cost_function, weights, bias)\n",
        "\n",
        "    # Prints the value of the cost function\n",
        "    if i % 5 == 0:\n",
        "        print(f\"Cost at Step {i}: {cost}\")\n",
        "        print(f\"Weights at Step {i}: {weights}\")\n",
        "        print(f\"Bias at Step {i}: {bias}\")\n",
        "        print(\"---------------------------------------------\")"
      ]
    },
    {
      "cell_type": "markdown",
      "metadata": {
        "id": "TLYEfeyjLbKB"
      },
      "source": [
        "With the learned parameters, we construct a visual representation of the\n",
        "Hamiltonian to which they correspond and compare it to the target\n",
        "Hamiltonian, and the initial guessed Hamiltonian:\n"
      ]
    },
    {
      "cell_type": "code",
      "execution_count": 19,
      "metadata": {
        "colab": {
          "base_uri": "https://localhost:8080/",
          "height": 210
        },
        "id": "QnPHQC1PLbKB",
        "outputId": "4418f7de-b924-4c2d-ae0b-6ad626551982"
      },
      "outputs": [
        {
          "output_type": "display_data",
          "data": {
            "text/plain": [
              "<Figure size 600x600 with 3 Axes>"
            ],
            "image/png": "[encoded data removed]"
          },
          "metadata": {}
        }
      ],
      "source": [
        "new_ham_matrix = create_hamiltonian_matrix(\n",
        "    qubit_number, nx.complete_graph(qubit_number), weights, bias\n",
        ")\n",
        "\n",
        "init_ham = create_hamiltonian_matrix(\n",
        "    qubit_number, nx.complete_graph(qubit_number), initial_weights, initial_bias\n",
        ")\n",
        "\n",
        "fig, axes = plt.subplots(nrows=1, ncols=3, figsize=(6, 6))\n",
        "\n",
        "axes[0].matshow(ham_matrix, vmin=-7, vmax=7, cmap=\"hot\")\n",
        "axes[0].set_title(\"Target\", y=1.13)\n",
        "\n",
        "axes[1].matshow(init_ham, vmin=-7, vmax=7, cmap=\"hot\")\n",
        "axes[1].set_title(\"Initial\", y=1.13)\n",
        "\n",
        "axes[2].matshow(new_ham_matrix, vmin=-7, vmax=7, cmap=\"hot\")\n",
        "axes[2].set_title(\"Learned\", y=1.13)\n",
        "\n",
        "plt.subplots_adjust(wspace=0.3, hspace=0.3)\n",
        "plt.show()"
      ]
    },
    {
      "cell_type": "markdown",
      "metadata": {
        "id": "zspKar5SLbKB"
      },
      "source": [
        "These images look very similar, indicating that the QGRNN has done a\n",
        "good job learning the target Hamiltonian.\n",
        "\n",
        "We can also look at the exact values of the target and learned\n",
        "parameters. Recall how the target interaction graph has $4$ edges while\n",
        "the complete graph has $6$. Thus, as the QGRNN converges to the optimal\n",
        "solution, the weights corresponding to edges $(1, 3)$ and $(2, 0)$ in\n",
        "the complete graph should go to $0$, as this indicates that they have no\n",
        "effect, and effectively do not exist in the learned Hamiltonian.\n"
      ]
    },
    {
      "cell_type": "code",
      "execution_count": 20,
      "metadata": {
        "id": "-ql-50F_LbKB"
      },
      "outputs": [],
      "source": [
        "# We first pick out the weights of edges (1, 3) and (2, 0)\n",
        "# and then remove them from the list of target parameters\n",
        "\n",
        "weights_noedge = []\n",
        "weights_edge = []\n",
        "for ii, edge in enumerate(new_ising_graph.edges):\n",
        "    if (edge[0] - qubit_number, edge[1] - qubit_number) in ising_graph.edges:\n",
        "        weights_edge.append(weights[ii])\n",
        "    else:\n",
        "        weights_noedge.append(weights[ii])"
      ]
    },
    {
      "cell_type": "markdown",
      "metadata": {
        "id": "WL7HVML3LbKB"
      },
      "source": [
        "Then, we print all of the weights:\n"
      ]
    },
    {
      "cell_type": "code",
      "execution_count": 21,
      "metadata": {
        "colab": {
          "base_uri": "https://localhost:8080/",
          "height": 0
        },
        "id": "rlB_pAzGLbKB",
        "outputId": "ae59834f-dead-437f-ac7c-d030cd9da2f1"
      },
      "outputs": [
        {
          "output_type": "stream",
          "name": "stdout",
          "text": [
            "Target parameters     Learned parameters\n",
            "Weights\n",
            "-----------------------------------------\n",
            "0.56                |  0.5974609311535144\n",
            "1.24                |  1.3411495568824126\n",
            "1.67                |   1.784741915545322\n",
            "-0.79               | -0.8434429713923873\n",
            "\n",
            "Bias\n",
            "-----------------------------------------\n",
            "-1.44               | -1.4067252706628723\n",
            "-1.43               | -1.3546960101894798\n",
            "1.18                |  1.0354062517348281\n",
            "-0.93               | -1.0615531663839644\n",
            "\n",
            "Non-Existing Edge Parameters: [-0.0013558219901317857, -0.0007373999961358714]\n"
          ]
        }
      ],
      "source": [
        "print(\"Target parameters     Learned parameters\")\n",
        "print(\"Weights\")\n",
        "print(\"-\" * 41)\n",
        "for ii_target, ii_learned in zip(target_weights, weights_edge):\n",
        "    print(f\"{ii_target : <20}|{ii_learned : >20}\")\n",
        "\n",
        "print(\"\\nBias\")\n",
        "print(\"-\"*41)\n",
        "for ii_target, ii_learned in zip(target_bias, bias):\n",
        "    print(f\"{ii_target : <20}|{ii_learned : >20}\")\n",
        "\n",
        "print(f\"\\nNon-Existing Edge Parameters: {[val.unwrap() for val in weights_noedge]}\")"
      ]
    },
    {
      "cell_type": "markdown",
      "metadata": {
        "id": "K4jKWHsELbKB"
      },
      "source": [
        "The weights of edges $(1, 3)$ and $(2, 0)$ are very close to $0$,\n",
        "indicating we have learned the cycle graph from the complete graph. In\n",
        "addition, the remaining learned weights are fairly close to those of the\n",
        "target Hamiltonian. Thus, the QGRNN is functioning properly, and has\n",
        "learned the target Ising Hamiltonian to a high degree of accuracy!\n"
      ]
    },
    {
      "cell_type": "markdown",
      "metadata": {
        "id": "0BWaZBY7LbKB"
      },
      "source": [
        "References\n",
        "==========\n",
        "\n",
        "1.  Verdon, G., McCourt, T., Luzhnica, E., Singh, V., Leichenauer, S., &\n",
        "    Hidary, J. (2019). Quantum Graph Neural Networks. arXiv preprint\n",
        "    [arXiv:1909.12264](https://arxiv.org/abs/1909.12264).\n",
        "\n",
        "About the author\n",
        "================\n"
      ]
    }
  ],
  "metadata": {
    "kernelspec": {
      "display_name": "Python 3",
      "language": "python",
      "name": "python3"
    },
    "language_info": {
      "codemirror_mode": {
        "name": "ipython",
        "version": 3
      },
      "file_extension": ".py",
      "mimetype": "text/x-python",
      "name": "python",
      "nbconvert_exporter": "python",
      "pygments_lexer": "ipython3",
      "version": "3.9.17"
    },
    "colab": {
      "provenance": []
    }
  },
  "nbformat": 4,
  "nbformat_minor": 0
}