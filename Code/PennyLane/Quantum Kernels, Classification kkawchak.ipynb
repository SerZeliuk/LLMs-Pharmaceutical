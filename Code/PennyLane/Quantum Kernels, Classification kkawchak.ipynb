{
  "cells": [
    {
      "cell_type": "code",
      "execution_count": 104,
      "metadata": {
        "id": "IZi5TUAp-1Lt"
      },
      "outputs": [],
      "source": [
        "# This cell is added by sphinx-gallery\n",
        "# It can be customized to whatever you like\n",
        "%matplotlib inline\n",
        "# !pip install pennylane"
      ]
    },
    {
      "cell_type": "markdown",
      "metadata": {
        "id": "yx4UlxKp-1Lu"
      },
      "source": [
        "Training and evaluating quantum kernels\n",
        "=======================================\n",
        "\n",
        "::: {.meta}\n",
        ":property=\\\"og:description\\\": Kernels and alignment training with\n",
        "Pennylane. :property=\\\"og:image\\\":\n",
        "<https://pennylane.ai/qml/_images/QEK_thumbnail.png>\n",
        ":::\n",
        "\n",
        "::: {.related}\n",
        "tutorial\\_kernel\\_based\\_training Kernel-based training with\n",
        "scikit-learn tutorial\\_data\\_reuploading\\_classifier Data-reuploading\n",
        "classifier\n",
        ":::\n",
        "\n",
        "*Authors: Peter-Jan Derks, Paul K. Faehrmann, Elies Gil-Fuster, Tom\n",
        "Hubregtsen, Johannes Jakob Meyer and David Wierichs --- Posted: 24 June\n",
        "2021. Last updated: 18 November 2021.*\n",
        "\n",
        "Kernel methods are one of the cornerstones of classical machine\n",
        "learning. Here we are concerned with kernels that can be evaluated on\n",
        "quantum computers, *quantum kernels* for short. In this tutorial you\n",
        "will learn how to evaluate kernels, use them for classification and\n",
        "train them with gradient-based optimization, and all that using the\n",
        "functionality of PennyLane\\'s [kernels\n",
        "module](https://pennylane.readthedocs.io/en/latest/code/qml_kernels.html).\n",
        "The demo is based on Ref., a project from Xanadu\\'s own\n",
        "[QHack](https://qhack.ai/) hackathon.\n",
        "\n",
        "What are kernel methods?\n",
        "------------------------\n",
        "\n",
        "To understand what a kernel method does, let\\'s first revisit one of the\n",
        "simplest methods to assign binary labels to datapoints: linear\n",
        "classification.\n",
        "\n",
        "Imagine we want to discern two different classes of points that lie in\n",
        "different corners of the plane. A linear classifier corresponds to\n",
        "drawing a line and assigning different labels to the regions on opposing\n",
        "sides of the line:\n",
        "\n",
        "![](../demonstrations/kernels_module/linear_classification.png){.align-center\n",
        "width=\"30.0%\"}\n",
        "\n",
        "We can mathematically formalize this by assigning the label $y$ via\n",
        "\n",
        "$$y(\\boldsymbol{x}) = \\operatorname{sgn}(\\langle \\boldsymbol{w}, \\boldsymbol{x}\\rangle + b).$$\n",
        "\n",
        "The vector $\\boldsymbol{w}$ points perpendicular to the line and thus\n",
        "determine its slope. The independent term $b$ specifies the position on\n",
        "the plane. In this form, linear classification can also be extended to\n",
        "higher dimensional vectors $\\boldsymbol{x}$, where a line does not\n",
        "divide the entire space into two regions anymore. Instead one needs a\n",
        "*hyperplane*. It is immediately clear that this method is not very\n",
        "powerful, as datasets that are not separable by a hyperplane can\\'t be\n",
        "classified without error.\n",
        "\n",
        "We can actually sneak around this limitation by performing a neat trick:\n",
        "if we define some map $\\phi(\\boldsymbol{x})$ that *embeds* our\n",
        "datapoints into a larger *feature space* and then perform linear\n",
        "classification there, we could actually realise non-linear\n",
        "classification in our original space!\n",
        "\n",
        "![](../demonstrations/kernels_module/embedding_nonlinear_classification.png){.align-center\n",
        "width=\"65.0%\"}\n",
        "\n",
        "If we go back to the expression for our prediction and include the\n",
        "embedding, we get\n",
        "\n",
        "$$y(\\boldsymbol{x}) = \\operatorname{sgn}(\\langle \\boldsymbol{w}, \\phi(\\boldsymbol{x})\\rangle + b).$$\n",
        "\n",
        "We will forgo one tiny step, but it can be shown that for the purpose of\n",
        "optimal classification, we can choose the vector defining the decision\n",
        "boundary as a linear combination of the embedded datapoints\n",
        "$\\boldsymbol{w} = \\sum_i \\alpha_i \\phi(\\boldsymbol{x}_i)$. Putting this\n",
        "into the formula yields\n",
        "\n",
        "$$y(\\boldsymbol{x}) = \\operatorname{sgn}\\left(\\sum_i \\alpha_i \\langle \\phi(\\boldsymbol{x}_i), \\phi(\\boldsymbol{x})\\rangle + b\\right).$$\n",
        "\n",
        "This rewriting might not seem useful at first, but notice the above\n",
        "formula only contains inner products between vectors in the embedding\n",
        "space:\n",
        "\n",
        "$$k(\\boldsymbol{x}_i, \\boldsymbol{x}_j) = \\langle \\phi(\\boldsymbol{x}_i), \\phi(\\boldsymbol{x}_j)\\rangle.$$\n",
        "\n",
        "We call this function the *kernel*. It provides the advantage that we\n",
        "can often find an explicit formula for the kernel $k$ that makes it\n",
        "superfluous to actually perform the (potentially expensive) embedding\n",
        "$\\phi$. Consider for example the following embedding and the associated\n",
        "kernel:\n",
        "\n",
        "$$\\begin{aligned}\n",
        "\\phi((x_1, x_2)) &= (x_1^2, \\sqrt{2} x_1 x_2, x_2^2) \\\\\n",
        "k(\\boldsymbol{x}, \\boldsymbol{y}) &= x_1^2 y_1^2 + 2 x_1 x_2 y_1 y_2 + x_2^2 y_2^2 = \\langle \\boldsymbol{x}, \\boldsymbol{y} \\rangle^2.\n",
        "\\end{aligned}$$\n",
        "\n",
        "This means by just replacing the regular scalar product in our linear\n",
        "classification with the map $k$, we can actually express much more\n",
        "intricate decision boundaries!\n",
        "\n",
        "This is very important, because in many interesting cases the embedding\n",
        "$\\phi$ will be much costlier to compute than the kernel $k$.\n",
        "\n",
        "In this demo, we will explore one particular kind of kernel that can be\n",
        "realized on near-term quantum computers, namely *Quantum Embedding\n",
        "Kernels (QEKs)*. These are kernels that arise from embedding data into\n",
        "the space of quantum states. We formalize this by considering a\n",
        "parameterised quantum circuit $U(\\boldsymbol{x})$ that maps a datapoint\n",
        "$\\boldsymbol{x}$ to the state\n",
        "\n",
        "$$|\\psi(\\boldsymbol{x})\\rangle = U(\\boldsymbol{x}) |0 \\rangle.$$\n",
        "\n",
        "The kernel value is then given by the *overlap* of the associated\n",
        "embedded quantum states\n",
        "\n",
        "$$k(\\boldsymbol{x}_i, \\boldsymbol{x}_j) = | \\langle\\psi(\\boldsymbol{x}_i)|\\psi(\\boldsymbol{x}_j)\\rangle|^2.$$\n"
      ]
    },
    {
      "cell_type": "markdown",
      "metadata": {
        "id": "YFfhnwX7-1Lv"
      },
      "source": [
        "A toy problem\n",
        "=============\n",
        "\n",
        "In this demo, we will treat a toy problem that showcases the inner\n",
        "workings of classification with quantum embedding kernels, training\n",
        "variational embedding kernels and the available functionalities to do\n",
        "both in PennyLane. We of course need to start with some imports:\n"
      ]
    },
    {
      "cell_type": "code",
      "execution_count": 105,
      "metadata": {
        "id": "_0dLIZDi-1Lv"
      },
      "outputs": [],
      "source": [
        "from pennylane import numpy as np\n",
        "import matplotlib as mpl\n",
        "\n",
        "np.random.seed(1359)"
      ]
    },
    {
      "cell_type": "markdown",
      "metadata": {
        "id": "rxY0RHIl-1Lv"
      },
      "source": [
        "And we proceed right away to create a dataset to work with, the\n",
        "`DoubleCake` dataset. Firstly, we define two functions to enable us to\n",
        "generate the data. The details of these functions are not essential for\n",
        "understanding the demo, so don\\'t mind them if they are confusing.\n"
      ]
    },
    {
      "cell_type": "code",
      "execution_count": 106,
      "metadata": {
        "id": "-MlPehLl-1Lw"
      },
      "outputs": [],
      "source": [
        "def _make_circular_data(num_sectors):\n",
        "    \"\"\"Generate datapoints arranged in an even circle.\"\"\"\n",
        "    center_indices = np.array(range(0, num_sectors))\n",
        "    sector_angle = 2 * np.pi / num_sectors\n",
        "    angles = (center_indices + 0.5) * sector_angle\n",
        "    x = 0.7 * np.cos(angles)\n",
        "    y = 0.7 * np.sin(angles)\n",
        "    labels = 2 * np.remainder(np.floor_divide(angles, sector_angle), 2) - 1\n",
        "\n",
        "    return x, y, labels\n",
        "\n",
        "\n",
        "def make_double_cake_data(num_sectors):\n",
        "    x1, y1, labels1 = _make_circular_data(num_sectors)\n",
        "    x2, y2, labels2 = _make_circular_data(num_sectors)\n",
        "\n",
        "    # x and y coordinates of the datapoints\n",
        "    x = np.hstack([x1, 0.5 * x2])\n",
        "    y = np.hstack([y1, 0.5 * y2])\n",
        "\n",
        "    # Canonical form of dataset\n",
        "    X = np.vstack([x, y]).T\n",
        "\n",
        "    labels = np.hstack([labels1, -1 * labels2])\n",
        "\n",
        "    # Canonical form of labels\n",
        "    Y = labels.astype(int)\n",
        "\n",
        "    return X, Y"
      ]
    },
    {
      "cell_type": "markdown",
      "metadata": {
        "id": "sE-g9OvE-1Lw"
      },
      "source": [
        "Next, we define a function to help plot the `DoubleCake` data:\n"
      ]
    },
    {
      "cell_type": "code",
      "execution_count": 107,
      "metadata": {
        "id": "dTzNJQG2-1Lw"
      },
      "outputs": [],
      "source": [
        "def plot_double_cake_data(X, Y, ax, num_sectors=None):\n",
        "    \"\"\"Plot double cake data and corresponding sectors.\"\"\"\n",
        "    x, y = X.T\n",
        "    cmap = mpl.colors.ListedColormap([\"#FF0000\", \"#0000FF\"])\n",
        "    ax.scatter(x, y, c=Y, cmap=cmap, s=25, marker=\"s\")\n",
        "\n",
        "    if num_sectors is not None:\n",
        "        sector_angle = 360 / num_sectors\n",
        "        for i in range(num_sectors):\n",
        "            color = [\"#FF0000\", \"#0000FF\"][(i % 2)]\n",
        "            other_color = [\"#FF0000\", \"#0000FF\"][((i + 1) % 2)]\n",
        "            ax.add_artist(\n",
        "                mpl.patches.Wedge(\n",
        "                    (0, 0),\n",
        "                    1,\n",
        "                    i * sector_angle,\n",
        "                    (i + 1) * sector_angle,\n",
        "                    lw=0,\n",
        "                    color=color,\n",
        "                    alpha=0.1,\n",
        "                    width=0.5,\n",
        "                )\n",
        "            )\n",
        "            ax.add_artist(\n",
        "                mpl.patches.Wedge(\n",
        "                    (0, 0),\n",
        "                    0.5,\n",
        "                    i * sector_angle,\n",
        "                    (i + 1) * sector_angle,\n",
        "                    lw=0,\n",
        "                    color=other_color,\n",
        "                    alpha=0.1,\n",
        "                )\n",
        "            )\n",
        "            ax.set_xlim(-1, 1)\n",
        "\n",
        "    ax.set_ylim(-1, 1)\n",
        "    ax.set_aspect(\"equal\")\n",
        "    ax.axis(\"off\")\n",
        "\n",
        "    return ax"
      ]
    },
    {
      "cell_type": "markdown",
      "metadata": {
        "id": "5W9DtU_s-1Lw"
      },
      "source": [
        "Let\\'s now have a look at our dataset. In our example, we will work with\n",
        "3 sectors:\n"
      ]
    },
    {
      "cell_type": "code",
      "execution_count": 108,
      "metadata": {
        "colab": {
          "base_uri": "https://localhost:8080/",
          "height": 406
        },
        "id": "9fVgxo-2-1Lw",
        "outputId": "44fcfa20-c1d4-4bf9-97ad-65fca917e2c6"
      },
      "outputs": [
        {
          "output_type": "display_data",
          "data": {
            "text/plain": [
              "<Figure size 640x480 with 1 Axes>"
            ],
            "image/png": "[encoded data removed]"
          },
          "metadata": {}
        }
      ],
      "source": [
        "import matplotlib.pyplot as plt\n",
        "\n",
        "num_sectors = 3\n",
        "X, Y = make_double_cake_data(num_sectors)\n",
        "\n",
        "ax = plot_double_cake_data(X, Y, plt.gca(), num_sectors=num_sectors)"
      ]
    },
    {
      "cell_type": "markdown",
      "metadata": {
        "id": "YiOE-Kte-1Lw"
      },
      "source": [
        "Defining a Quantum Embedding Kernel\n",
        "===================================\n",
        "\n",
        "PennyLane\\'s [kernels\n",
        "module](https://pennylane.readthedocs.io/en/latest/code/qml_kernels.html)\n",
        "allows for a particularly simple implementation of Quantum Embedding\n",
        "Kernels. The first ingredient we need for this is an *ansatz*, which we\n",
        "will construct by repeating a layer as building block. Let\\'s start by\n",
        "defining this layer:\n"
      ]
    },
    {
      "cell_type": "code",
      "execution_count": 109,
      "metadata": {
        "id": "HoxftykS-1Lw"
      },
      "outputs": [],
      "source": [
        "import pennylane as qml\n",
        "\n",
        "\n",
        "def layer(x, params, wires, i0=0, inc=1):\n",
        "    \"\"\"Building block of the embedding ansatz\"\"\"\n",
        "    i = i0\n",
        "    for j, wire in enumerate(wires):\n",
        "        qml.Hadamard(wires=[wire])\n",
        "        qml.RZ(x[i % len(x)], wires=[wire])\n",
        "        i += inc\n",
        "        qml.RY(params[0, j], wires=[wire])\n",
        "\n",
        "    qml.broadcast(unitary=qml.CNOT, pattern=\"ring\", wires=wires) #, parameters=params[1])"
      ]
    },
    {
      "cell_type": "markdown",
      "metadata": {
        "id": "Vz-Xc85B-1Lx"
      },
      "source": [
        "To construct the ansatz, this layer is repeated multiple times, reusing\n",
        "the datapoint `x` but feeding different variational parameters `params`\n",
        "into each of them. Together, the datapoint and the variational\n",
        "parameters fully determine the embedding ansatz $U(\\boldsymbol{x})$. In\n",
        "order to construct the full kernel circuit, we also require its adjoint\n",
        "$U(\\boldsymbol{x})^\\dagger$, which we can obtain via `qml.adjoint`.\n"
      ]
    },
    {
      "cell_type": "code",
      "execution_count": 110,
      "metadata": {
        "id": "0u3Ie4pX-1Lx"
      },
      "outputs": [],
      "source": [
        "def ansatz(x, params, wires):\n",
        "    \"\"\"The embedding ansatz\"\"\"\n",
        "    for j, layer_params in enumerate(params):\n",
        "        layer(x, layer_params, wires, i0=j * len(wires))\n",
        "\n",
        "\n",
        "adjoint_ansatz = qml.adjoint(ansatz)\n",
        "\n",
        "\n",
        "def random_params(num_wires, num_layers):\n",
        "    \"\"\"Generate random variational parameters in the shape for the ansatz.\"\"\"\n",
        "    return np.random.uniform(0, 2 * np.pi, (num_layers, 2, num_wires), requires_grad=True)"
      ]
    },
    {
      "cell_type": "markdown",
      "metadata": {
        "id": "-3A0BtiZ-1Lx"
      },
      "source": [
        "Together with the ansatz we only need a device to run the quantum\n",
        "circuit on. For the purpose of this tutorial we will use PennyLane\\'s\n",
        "`default.qubit` device with 5 wires in analytic mode.\n"
      ]
    },
    {
      "cell_type": "code",
      "execution_count": 111,
      "metadata": {
        "id": "VajRrjnM-1Lx"
      },
      "outputs": [],
      "source": [
        "dev = qml.device(\"default.qubit\", wires=5, shots=None)\n",
        "wires = dev.wires.tolist()"
      ]
    },
    {
      "cell_type": "markdown",
      "metadata": {
        "id": "LBQiS_k5-1Lx"
      },
      "source": [
        "Let us now define the quantum circuit that realizes the kernel. We will\n",
        "compute the overlap of the quantum states by first applying the\n",
        "embedding of the first datapoint and then the adjoint of the embedding\n",
        "of the second datapoint. We finally extract the probabilities of\n",
        "observing each basis state.\n"
      ]
    },
    {
      "cell_type": "code",
      "execution_count": 112,
      "metadata": {
        "id": "YUoDYzxl-1Lx"
      },
      "outputs": [],
      "source": [
        "@qml.qnode(dev, interface=\"autograd\")\n",
        "def kernel_circuit(x1, x2, params):\n",
        "    ansatz(x1, params, wires=wires)\n",
        "    adjoint_ansatz(x2, params, wires=wires)\n",
        "    return qml.probs(wires=wires)"
      ]
    },
    {
      "cell_type": "markdown",
      "metadata": {
        "id": "vp3JMl6k-1Lx"
      },
      "source": [
        "The kernel function itself is now obtained by looking at the probability\n",
        "of observing the all-zero state at the end of the kernel circuit --\n",
        "because of the ordering in `qml.probs`, this is the first entry:\n"
      ]
    },
    {
      "cell_type": "code",
      "execution_count": 113,
      "metadata": {
        "id": "FzkdR5rH-1Lx"
      },
      "outputs": [],
      "source": [
        "def kernel(x1, x2, params):\n",
        "    return kernel_circuit(x1, x2, params)[0]"
      ]
    },
    {
      "cell_type": "markdown",
      "metadata": {
        "id": "v8d7TzEV-1Lx"
      },
      "source": [
        "::: {.note}\n",
        "::: {.title}\n",
        "Note\n",
        ":::\n",
        "\n",
        "An alternative way to set up the kernel circuit in PennyLane would be to\n",
        "use the observable type\n",
        "[Projector](https://pennylane.readthedocs.io/en/latest/code/api/pennylane.Projector.html).\n",
        "This is shown in the [demo on kernel-based training of quantum\n",
        "models](https://pennylane.ai/qml/demos/tutorial_kernel_based_training.html),\n",
        "where you will also find more background information on the kernel\n",
        "circuit structure itself.\n",
        ":::\n",
        "\n",
        "Before focusing on the kernel values we have to provide values for the\n",
        "variational parameters. At this point we fix the number of layers in the\n",
        "ansatz circuit to $6$.\n"
      ]
    },
    {
      "cell_type": "code",
      "execution_count": 114,
      "metadata": {
        "id": "XND4t8Re-1Lx"
      },
      "outputs": [],
      "source": [
        "init_params = random_params(num_wires=5, num_layers=6)"
      ]
    },
    {
      "cell_type": "markdown",
      "metadata": {
        "id": "D13009dA-1Lx"
      },
      "source": [
        "Now we can have a look at the kernel value between the first and the\n",
        "second datapoint:\n"
      ]
    },
    {
      "cell_type": "code",
      "execution_count": 115,
      "metadata": {
        "colab": {
          "base_uri": "https://localhost:8080/",
          "height": 0
        },
        "id": "EPIxD8tx-1Lx",
        "outputId": "4b351f5a-f601-4ea0-ed23-8279cae3e773"
      },
      "outputs": [
        {
          "output_type": "stream",
          "name": "stdout",
          "text": [
            "The kernel value between the first and second datapoint is 0.006\n"
          ]
        }
      ],
      "source": [
        "kernel_value = kernel(X[0], X[1], init_params)\n",
        "print(f\"The kernel value between the first and second datapoint is {kernel_value:.3f}\")"
      ]
    },
    {
      "cell_type": "markdown",
      "metadata": {
        "id": "zftXzrUX-1Lx"
      },
      "source": [
        "The mutual kernel values between all elements of the dataset form the\n",
        "*kernel matrix*. We can inspect it via the\n",
        "`qml.kernels.square_kernel_matrix` method, which makes use of symmetry\n",
        "of the kernel,\n",
        "$k(\\boldsymbol{x}_i,\\boldsymbol{x}_j) = k(\\boldsymbol{x}_j, \\boldsymbol{x}_i)$.\n",
        "In addition, the option `assume_normalized_kernel=True` ensures that we\n",
        "do not calculate the entries between the same datapoints, as we know\n",
        "them to be 1 for our noiseless simulation. Overall this means that we\n",
        "compute $\\frac{1}{2}(N^2-N)$ kernel values for $N$ datapoints. To\n",
        "include the variational parameters, we construct a `lambda` function\n",
        "that fixes them to the values we sampled above.\n"
      ]
    },
    {
      "cell_type": "code",
      "execution_count": 116,
      "metadata": {
        "colab": {
          "base_uri": "https://localhost:8080/",
          "height": 0
        },
        "id": "EJ6j5XF1-1Lx",
        "outputId": "f1d08b57-896d-461e-d9bd-a5a1d371352e"
      },
      "outputs": [
        {
          "output_type": "stream",
          "name": "stdout",
          "text": [
            "[[1.    0.006 0.035 0.567 0.04  0.029]\n",
            " [0.006 1.    0.063 0.067 0.574 0.101]\n",
            " [0.035 0.063 1.    0.048 0.07  0.603]\n",
            " [0.567 0.067 0.048 1.    0.21  0.204]\n",
            " [0.04  0.574 0.07  0.21  1.    0.285]\n",
            " [0.029 0.101 0.603 0.204 0.285 1.   ]]\n"
          ]
        }
      ],
      "source": [
        "init_kernel = lambda x1, x2: kernel(x1, x2, init_params)\n",
        "K_init = qml.kernels.square_kernel_matrix(X, init_kernel, assume_normalized_kernel=True)\n",
        "\n",
        "with np.printoptions(precision=3, suppress=True):\n",
        "    print(K_init)"
      ]
    },
    {
      "cell_type": "markdown",
      "metadata": {
        "id": "nRfsymWl-1Lx"
      },
      "source": [
        "Using the Quantum Embedding Kernel for predictions\n",
        "==================================================\n",
        "\n",
        "The quantum kernel alone can not be used to make predictions on a\n",
        "dataset, becaues it is essentially just a tool to measure the similarity\n",
        "between two datapoints. To perform an actual prediction we will make use\n",
        "of scikit-learn\\'s Support Vector Classifier (SVC).\n"
      ]
    },
    {
      "cell_type": "code",
      "execution_count": 117,
      "metadata": {
        "id": "k6YZKy7J-1Lx"
      },
      "outputs": [],
      "source": [
        "from sklearn.svm import SVC"
      ]
    },
    {
      "cell_type": "markdown",
      "metadata": {
        "id": "s3GDnc3R-1Ly"
      },
      "source": [
        "To construct the SVM, we need to supply `sklearn.svm.SVC` with a\n",
        "function that takes two sets of datapoints and returns the associated\n",
        "kernel matrix. We can make use of the function\n",
        "`qml.kernels.kernel_matrix` that provides this functionality. It expects\n",
        "the kernel to not have additional parameters besides the datapoints,\n",
        "which is why we again supply the variational parameters via the `lambda`\n",
        "function from above. Once we have this, we can let scikit-learn adjust\n",
        "the SVM from our Quantum Embedding Kernel.\n",
        "\n",
        "::: {.note}\n",
        "::: {.title}\n",
        "Note\n",
        ":::\n",
        "\n",
        "This step does *not* modify the variational parameters in our circuit\n",
        "ansatz. What it does is solving a different optimization task for the\n",
        "$\\alpha$ and $b$ vectors we introduced in the beginning.\n",
        ":::\n"
      ]
    },
    {
      "cell_type": "code",
      "execution_count": 118,
      "metadata": {
        "id": "irVOPzix-1Ly"
      },
      "outputs": [],
      "source": [
        "svm = SVC(kernel=lambda X1, X2: qml.kernels.kernel_matrix(X1, X2, init_kernel)).fit(X, Y)"
      ]
    },
    {
      "cell_type": "markdown",
      "metadata": {
        "id": "I4xR2Txu-1Ly"
      },
      "source": [
        "To see how well our classifier performs we will measure which percentage\n",
        "of the dataset it classifies correctly.\n"
      ]
    },
    {
      "cell_type": "code",
      "execution_count": 119,
      "metadata": {
        "colab": {
          "base_uri": "https://localhost:8080/",
          "height": 0
        },
        "id": "ZDX6Qvwk-1Ly",
        "outputId": "560bf8f1-7cb8-41e8-c20b-51797641b4bc"
      },
      "outputs": [
        {
          "output_type": "stream",
          "name": "stdout",
          "text": [
            "The accuracy of the kernel with random parameters is 1.000\n"
          ]
        }
      ],
      "source": [
        "def accuracy(classifier, X, Y_target):\n",
        "    return 1 - np.count_nonzero(classifier.predict(X) - Y_target) / len(Y_target)\n",
        "\n",
        "\n",
        "accuracy_init = accuracy(svm, X, Y)\n",
        "print(f\"The accuracy of the kernel with random parameters is {accuracy_init:.3f}\")"
      ]
    },
    {
      "cell_type": "markdown",
      "metadata": {
        "id": "PPB_3tDn-1Ly"
      },
      "source": [
        "We are also interested in seeing what the decision boundaries in this\n",
        "classification look like. This could help us spotting overfitting issues\n",
        "visually in more complex data sets. To this end we will introduce a\n",
        "second helper method.\n"
      ]
    },
    {
      "cell_type": "code",
      "execution_count": 120,
      "metadata": {
        "id": "EQZNfZjQ-1Ly"
      },
      "outputs": [],
      "source": [
        "def plot_decision_boundaries(classifier, ax, N_gridpoints=14):\n",
        "    _xx, _yy = np.meshgrid(np.linspace(-1, 1, N_gridpoints), np.linspace(-1, 1, N_gridpoints))\n",
        "\n",
        "    _zz = np.zeros_like(_xx)\n",
        "    for idx in np.ndindex(*_xx.shape):\n",
        "        _zz[idx] = classifier.predict(np.array([_xx[idx], _yy[idx]])[np.newaxis, :])\n",
        "\n",
        "    plot_data = {\"_xx\": _xx, \"_yy\": _yy, \"_zz\": _zz}\n",
        "    ax.contourf(\n",
        "        _xx,\n",
        "        _yy,\n",
        "        _zz,\n",
        "        cmap=mpl.colors.ListedColormap([\"#FF0000\", \"#0000FF\"]),\n",
        "        alpha=0.2,\n",
        "        levels=[-1, 0, 1],\n",
        "    )\n",
        "    plot_double_cake_data(X, Y, ax)\n",
        "\n",
        "    return plot_data"
      ]
    },
    {
      "cell_type": "markdown",
      "metadata": {
        "id": "26F1Bqg9-1Ly"
      },
      "source": [
        "With that done, let\\'s have a look at the decision boundaries for our\n",
        "initial classifier:\n"
      ]
    },
    {
      "cell_type": "code",
      "execution_count": 121,
      "metadata": {
        "colab": {
          "base_uri": "https://localhost:8080/",
          "height": 406
        },
        "id": "JQ33viIF-1Ly",
        "outputId": "7bf10573-ddec-4d53-dc6a-3ad1457ddb91"
      },
      "outputs": [
        {
          "output_type": "display_data",
          "data": {
            "text/plain": [
              "<Figure size 640x480 with 1 Axes>"
            ],
            "image/png": "[encoded data removed]"
          },
          "metadata": {}
        }
      ],
      "source": [
        "init_plot_data = plot_decision_boundaries(svm, plt.gca())"
      ]
    },
    {
      "cell_type": "markdown",
      "metadata": {
        "id": "TLeU4kMX-1Ly"
      },
      "source": [
        "We see the outer points in the dataset can be correctly classified, but\n",
        "we still struggle with the inner circle. But remember we have a circuit\n",
        "with many free parameters! It is reasonable to believe we can give\n",
        "values to those variational parameters which improve the overall\n",
        "accuracy of our SVC.\n",
        "\n",
        "Training the Quantum Embedding Kernel\n",
        "=====================================\n",
        "\n",
        "To be able to train the Quantum Embedding Kernel we need some measure of\n",
        "how well it fits the dataset in question. Performing an exhaustive\n",
        "search in parameter space is not a good solution because it is very\n",
        "resource intensive, and since the accuracy is a discrete quantity we\n",
        "would not be able to detect small improvements.\n",
        "\n",
        "We can, however, resort to a more specialized measure, the\n",
        "*kernel-target alignment*. The kernel-target alignment compares the\n",
        "similarity predicted by the quantum kernel to the actual labels of the\n",
        "training data. It is based on *kernel alignment*, a similiarity measure\n",
        "between two kernels with given kernel matrices $K_1$ and $K_2$:\n",
        "\n",
        "$$\\operatorname{KA}(K_1, K_2) = \\frac{\\operatorname{Tr}(K_1 K_2)}{\\sqrt{\\operatorname{Tr}(K_1^2)\\operatorname{Tr}(K_2^2)}}.$$\n",
        "\n",
        "::: {.note}\n",
        "::: {.title}\n",
        "Note\n",
        ":::\n",
        "\n",
        "Seen from a more theoretical side, $\\operatorname{KA}$ is nothing else\n",
        "than the cosine of the angle between the kernel matrices $K_1$ and $K_2$\n",
        "if we see them as vectors in the space of matrices with the\n",
        "Hilbert-Schmidt (or Frobenius) scalar product\n",
        "$\\langle A, B \\rangle = \\operatorname{Tr}(A^T B)$. This reinforces the\n",
        "geometric picture of how this measure relates to objects, namely two\n",
        "kernels, being aligned in a vector space.\n",
        ":::\n",
        "\n",
        "The training data enters the picture by defining an *ideal* kernel\n",
        "function that expresses the original labelling in the vector\n",
        "$\\boldsymbol{y}$ by assigning to two datapoints the product of the\n",
        "corresponding labels:\n",
        "\n",
        "$$k_{\\boldsymbol{y}}(\\boldsymbol{x}_i, \\boldsymbol{x}_j) = y_i y_j.$$\n",
        "\n",
        "The assigned kernel is thus $+1$ if both datapoints lie in the same\n",
        "class and $-1$ otherwise and its kernel matrix is simply given by the\n",
        "outer product $\\boldsymbol{y}\\boldsymbol{y}^T$. The kernel-target\n",
        "alignment is then defined as the kernel alignment of the kernel matrix\n",
        "$K$ generated by the quantum kernel and\n",
        "$\\boldsymbol{y}\\boldsymbol{y}^T$:\n",
        "\n",
        "$$\\operatorname{KTA}_{\\boldsymbol{y}}(K)\n",
        "= \\frac{\\operatorname{Tr}(K \\boldsymbol{y}\\boldsymbol{y}^T)}{\\sqrt{\\operatorname{Tr}(K^2)\\operatorname{Tr}((\\boldsymbol{y}\\boldsymbol{y}^T)^2)}}\n",
        "= \\frac{\\boldsymbol{y}^T K \\boldsymbol{y}}{\\sqrt{\\operatorname{Tr}(K^2)} N}$$\n",
        "\n",
        "where $N$ is the number of elements in $\\boldsymbol{y}$, that is the\n",
        "number of datapoints in the dataset.\n",
        "\n",
        "In summary, the kernel-target alignment effectively captures how well\n",
        "the kernel you chose reproduces the actual similarities of the data. It\n",
        "does have one drawback, however: having a high kernel-target alignment\n",
        "is only a necessary but not a sufficient condition for a good\n",
        "performance of the kernel. This means having good alignment is\n",
        "guaranteed for good performance, but optimal alignment will not always\n",
        "bring optimal training accuracy with it.\n",
        "\n",
        "Let\\'s now come back to the actual implementation. PennyLane\\'s\n",
        "`kernels` module allows you to easily evaluate the kernel target\n",
        "alignment:\n"
      ]
    },
    {
      "cell_type": "code",
      "execution_count": 122,
      "metadata": {
        "colab": {
          "base_uri": "https://localhost:8080/",
          "height": 0
        },
        "id": "N1sKPuO3-1Ly",
        "outputId": "349e0b66-48df-40c7-ad7b-cbc1ad93aaee"
      },
      "outputs": [
        {
          "output_type": "stream",
          "name": "stdout",
          "text": [
            "The kernel-target alignment for our dataset and random parameters is 0.130\n"
          ]
        }
      ],
      "source": [
        "kta_init = qml.kernels.target_alignment(X, Y, init_kernel, assume_normalized_kernel=True)\n",
        "\n",
        "print(f\"The kernel-target alignment for our dataset and random parameters is {kta_init:.3f}\")"
      ]
    },
    {
      "cell_type": "markdown",
      "metadata": {
        "id": "eOZMWm-p-1Ly"
      },
      "source": [
        "Now let\\'s code up an optimization loop and improve the kernel-target\n",
        "alignment!\n",
        "\n",
        "We will make use of regular gradient descent optimization. To speed up\n",
        "the optimization we will not use the entire training set to compute\n",
        "$\\operatorname{KTA}$ but rather sample smaller subsets of the data at\n",
        "each step, we choose $4$ datapoints at random. Remember that\n",
        "PennyLane\\'s built-in optimizer works to *minimize* the cost function\n",
        "that is given to it, which is why we have to multiply the kernel target\n",
        "alignment by $-1$ to actually *maximize* it in the process.\n",
        "\n",
        "::: {.note}\n",
        "::: {.title}\n",
        "Note\n",
        ":::\n",
        "\n",
        "Currently, the function `qml.kernels.target_alignment` is not\n",
        "differentiable yet, making it unfit for gradient descent optimization.\n",
        "We therefore first define a differentiable version of this function.\n",
        ":::\n"
      ]
    },
    {
      "cell_type": "code",
      "execution_count": 123,
      "metadata": {
        "colab": {
          "base_uri": "https://localhost:8080/",
          "height": 0
        },
        "id": "o8BNL8bP-1Ly",
        "outputId": "43ec31f0-b683-4347-b66b-e7b451bd7b6f"
      },
      "outputs": [
        {
          "output_type": "stream",
          "name": "stdout",
          "text": [
            "Step 50 - Alignment = 0.156\n",
            "Step 100 - Alignment = 0.177\n",
            "Step 150 - Alignment = 0.192\n",
            "Step 200 - Alignment = 0.227\n",
            "Step 250 - Alignment = 0.263\n",
            "Step 300 - Alignment = 0.300\n",
            "Step 350 - Alignment = 0.312\n",
            "Step 400 - Alignment = 0.316\n",
            "Step 450 - Alignment = 0.320\n",
            "Step 500 - Alignment = 0.324\n"
          ]
        }
      ],
      "source": [
        "def target_alignment(\n",
        "    X,\n",
        "    Y,\n",
        "    kernel,\n",
        "    assume_normalized_kernel=False,\n",
        "    rescale_class_labels=True,\n",
        "):\n",
        "    \"\"\"Kernel-target alignment between kernel and labels.\"\"\"\n",
        "\n",
        "    K = qml.kernels.square_kernel_matrix(\n",
        "        X,\n",
        "        kernel,\n",
        "        assume_normalized_kernel=assume_normalized_kernel,\n",
        "    )\n",
        "\n",
        "    if rescale_class_labels:\n",
        "        nplus = np.count_nonzero(np.array(Y) == 1)\n",
        "        nminus = len(Y) - nplus\n",
        "        _Y = np.array([y / nplus if y == 1 else y / nminus for y in Y])\n",
        "    else:\n",
        "        _Y = np.array(Y)\n",
        "\n",
        "    T = np.outer(_Y, _Y)\n",
        "    inner_product = np.sum(K * T)\n",
        "    norm = np.sqrt(np.sum(K * K) * np.sum(T * T))\n",
        "    inner_product = inner_product / norm\n",
        "\n",
        "    return inner_product\n",
        "\n",
        "\n",
        "params = init_params\n",
        "opt = qml.GradientDescentOptimizer(0.2)\n",
        "\n",
        "for i in range(500):\n",
        "    # Choose subset of datapoints to compute the KTA on.\n",
        "    subset = np.random.choice(list(range(len(X))), 4)\n",
        "    # Define the cost function for optimization\n",
        "    cost = lambda _params: -target_alignment(\n",
        "        X[subset],\n",
        "        Y[subset],\n",
        "        lambda x1, x2: kernel(x1, x2, _params),\n",
        "        assume_normalized_kernel=True,\n",
        "    )\n",
        "    # Optimization step\n",
        "    params = opt.step(cost, params)\n",
        "\n",
        "    # Report the alignment on the full dataset every 50 steps.\n",
        "    if (i + 1) % 50 == 0:\n",
        "        current_alignment = target_alignment(\n",
        "            X,\n",
        "            Y,\n",
        "            lambda x1, x2: kernel(x1, x2, params),\n",
        "            assume_normalized_kernel=True,\n",
        "        )\n",
        "        print(f\"Step {i+1} - Alignment = {current_alignment:.3f}\")"
      ]
    },
    {
      "cell_type": "markdown",
      "metadata": {
        "id": "lhbr4YTr-1Lz"
      },
      "source": [
        "We want to assess the impact of training the parameters of the quantum\n",
        "kernel. Thus, let\\'s build a second support vector classifier with the\n",
        "trained kernel:\n"
      ]
    },
    {
      "cell_type": "code",
      "execution_count": 124,
      "metadata": {
        "id": "vUg8wNDJ-1Lz"
      },
      "outputs": [],
      "source": [
        "# First create a kernel with the trained parameter baked into it.\n",
        "trained_kernel = lambda x1, x2: kernel(x1, x2, params)\n",
        "\n",
        "# Second create a kernel matrix function using the trained kernel.\n",
        "trained_kernel_matrix = lambda X1, X2: qml.kernels.kernel_matrix(X1, X2, trained_kernel)\n",
        "\n",
        "# Note that SVC expects the kernel argument to be a kernel matrix function.\n",
        "svm_trained = SVC(kernel=trained_kernel_matrix).fit(X, Y)"
      ]
    },
    {
      "cell_type": "markdown",
      "metadata": {
        "id": "LgE9Tcmn-1Lz"
      },
      "source": [
        "We expect to see an accuracy improvement vs. the SVM with random\n",
        "parameters:\n"
      ]
    },
    {
      "cell_type": "code",
      "execution_count": 125,
      "metadata": {
        "colab": {
          "base_uri": "https://localhost:8080/",
          "height": 0
        },
        "id": "SGUIEF1X-1Lz",
        "outputId": "e189e6b0-5e12-4fb5-9473-3c8667b6bcb2"
      },
      "outputs": [
        {
          "output_type": "stream",
          "name": "stdout",
          "text": [
            "The accuracy of a kernel with trained parameters is 1.000\n"
          ]
        }
      ],
      "source": [
        "accuracy_trained = accuracy(svm_trained, X, Y)\n",
        "print(f\"The accuracy of a kernel with trained parameters is {accuracy_trained:.3f}\")"
      ]
    },
    {
      "cell_type": "markdown",
      "metadata": {
        "id": "N5tAagq1-1Lz"
      },
      "source": [
        "We have now achieved perfect classification! 🎆\n",
        "\n",
        "Following on the results that SVM\\'s have proven good generalisation\n",
        "behavior, it will be interesting to inspect the decision boundaries of\n",
        "our classifier:\n"
      ]
    },
    {
      "cell_type": "code",
      "execution_count": 126,
      "metadata": {
        "colab": {
          "base_uri": "https://localhost:8080/",
          "height": 406
        },
        "id": "CHXRBR7p-1Lz",
        "outputId": "fe39d39a-1cfd-4702-c4b0-e1eb696be350"
      },
      "outputs": [
        {
          "output_type": "display_data",
          "data": {
            "text/plain": [
              "<Figure size 640x480 with 1 Axes>"
            ],
            "image/png": "[encoded data removed]"
          },
          "metadata": {}
        }
      ],
      "source": [
        "trained_plot_data = plot_decision_boundaries(svm_trained, plt.gca())"
      ]
    },
    {
      "cell_type": "markdown",
      "metadata": {
        "id": "71P66YVn-1Lz"
      },
      "source": [
        "Indeed, we see that now not only every data instance falls within the\n",
        "correct class, but also that there are no strong artifacts that would\n",
        "make us distrust the model. In this sense, our approach benefits from\n",
        "both: on one hand it can adjust itself to the dataset, and on the other\n",
        "hand is not expected to suffer from bad generalisation.\n",
        "\n",
        "References\n",
        "==========\n",
        "\n",
        "About the authors\n",
        "=================\n"
      ]
    }
  ],
  "metadata": {
    "kernelspec": {
      "display_name": "Python 3",
      "language": "python",
      "name": "python3"
    },
    "language_info": {
      "codemirror_mode": {
        "name": "ipython",
        "version": 3
      },
      "file_extension": ".py",
      "mimetype": "text/x-python",
      "name": "python",
      "nbconvert_exporter": "python",
      "pygments_lexer": "ipython3",
      "version": "3.9.17"
    },
    "colab": {
      "provenance": []
    }
  },
  "nbformat": 4,
  "nbformat_minor": 0
}