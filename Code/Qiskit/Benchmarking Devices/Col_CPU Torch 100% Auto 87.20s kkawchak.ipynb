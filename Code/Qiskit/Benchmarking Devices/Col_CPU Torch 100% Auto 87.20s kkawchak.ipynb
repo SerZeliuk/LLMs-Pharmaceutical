{
  "cells": [
    {
      "cell_type": "code",
      "source": [
        "# !pip install qiskit\n",
        "# !pip install qiskit_machine_learning\n",
        "import time\n",
        "seconds = time.time()\n",
        "print(\"Time in seconds since beginning of run:\", seconds)\n",
        "local_time = time.ctime(seconds)\n",
        "print(local_time)"
      ],
      "metadata": {
        "colab": {
          "base_uri": "https://localhost:8080/",
          "height": 0
        },
        "id": "Az2xrKMZoq7-",
        "outputId": "98a57a9f-b1cd-4cc9-ec46-91d0185abe33"
      },
      "id": "Az2xrKMZoq7-",
      "execution_count": 33,
      "outputs": [
        {
          "output_type": "stream",
          "name": "stdout",
          "text": [
            "Time in seconds since beginning of run: 1701623315.0225792\n",
            "Sun Dec  3 17:08:35 2023\n"
          ]
        }
      ]
    },
    {
      "cell_type": "markdown",
      "id": "secondary-copying",
      "metadata": {
        "id": "secondary-copying"
      },
      "source": [
        "# Torch Connector and Hybrid QNNs\n",
        "\n",
        "This tutorial introduces Qiskit's `TorchConnector` class, and demonstrates how the `TorchConnector` allows for a natural integration of any `NeuralNetwork` from Qiskit Machine Learning into a PyTorch workflow. `TorchConnector` takes a Qiskit `NeuralNetwork` and makes it available as a PyTorch `Module`. The resulting module can be seamlessly incorporated into PyTorch classical architectures and trained jointly without additional considerations, enabling the development and testing of novel **hybrid quantum-classical** machine learning architectures.\n",
        "\n",
        "## Content:\n",
        "\n",
        "[Part 1: Simple Classification & Regression](#Part-1:-Simple-Classification-&-Regression)\n",
        "\n",
        "The first part of this tutorial shows how quantum neural networks can be trained using PyTorch's automatic differentiation engine (`torch.autograd`, [link](https://pytorch.org/tutorials/beginner/blitz/autograd_tutorial.html)) for simple classification and regression tasks.\n",
        "\n",
        "1. [Classification](#1.-Classification)\n",
        "    1. Classification with PyTorch and `EstimatorQNN`\n",
        "    2. Classification with PyTorch and `SamplerQNN`\n",
        "2. [Regression](#2.-Regression)\n",
        "    1. Regression with PyTorch and `SamplerQNN`\n",
        "\n",
        "[Part 2: MNIST Classification, Hybrid QNNs](#Part-2:-MNIST-Classification,-Hybrid-QNNs)\n",
        "\n",
        "The second part of this tutorial illustrates how to embed a (Quantum) `NeuralNetwork` into a target PyTorch workflow (in this case, a typical CNN architecture) to classify MNIST data in a hybrid quantum-classical manner.\n",
        "\n",
        "***"
      ]
    },
    {
      "cell_type": "code",
      "execution_count": 34,
      "id": "banned-helicopter",
      "metadata": {
        "colab": {
          "base_uri": "https://localhost:8080/",
          "height": 0
        },
        "id": "banned-helicopter",
        "outputId": "3310e163-8e82-4f6d-dbf5-dc5f6b5f335a"
      },
      "outputs": [
        {
          "output_type": "stream",
          "name": "stderr",
          "text": [
            "<ipython-input-34-90557e24ff14>:18: DeprecationWarning: The property ``qiskit.utils.algorithm_globals.QiskitAlgorithmGlobals.random_seed`` is deprecated as of qiskit 0.45.0. It will be removed no earlier than 3 months after the release date. This algorithm utility has been migrated to an independent package: https://github.com/qiskit-community/qiskit-algorithms. You can run ``pip install qiskit_algorithms`` and import ``from qiskit_algorithms.utils`` instead. \n",
            "  algorithm_globals.random_seed = 42\n"
          ]
        }
      ],
      "source": [
        "# Necessary imports\n",
        "\n",
        "import numpy as np\n",
        "import matplotlib.pyplot as plt\n",
        "\n",
        "from torch import Tensor\n",
        "from torch.nn import Linear, CrossEntropyLoss, MSELoss\n",
        "from torch.optim import LBFGS\n",
        "\n",
        "from qiskit import QuantumCircuit\n",
        "from qiskit.utils import algorithm_globals\n",
        "from qiskit.circuit import Parameter\n",
        "from qiskit.circuit.library import RealAmplitudes, ZZFeatureMap\n",
        "from qiskit_machine_learning.neural_networks import SamplerQNN, EstimatorQNN\n",
        "from qiskit_machine_learning.connectors import TorchConnector\n",
        "\n",
        "# Set seed for random generators\n",
        "algorithm_globals.random_seed = 42"
      ]
    },
    {
      "cell_type": "markdown",
      "id": "unique-snapshot",
      "metadata": {
        "id": "unique-snapshot"
      },
      "source": [
        "## Part 1: Simple Classification & Regression"
      ]
    },
    {
      "cell_type": "markdown",
      "id": "surgical-penetration",
      "metadata": {
        "id": "surgical-penetration"
      },
      "source": [
        "### 1. Classification\n",
        "\n",
        "First, we show how `TorchConnector` allows to train a Quantum `NeuralNetwork` to solve a classification tasks using PyTorch's automatic differentiation engine. In order to illustrate this, we will perform **binary classification** on a randomly generated dataset."
      ]
    },
    {
      "cell_type": "code",
      "execution_count": 35,
      "id": "secure-tragedy",
      "metadata": {
        "colab": {
          "base_uri": "https://localhost:8080/",
          "height": 487
        },
        "id": "secure-tragedy",
        "outputId": "8fd31485-ea9e-4d8b-925f-c713b4381f4a"
      },
      "outputs": [
        {
          "output_type": "stream",
          "name": "stderr",
          "text": [
            "<ipython-input-35-ae84619b5aeb>:8: DeprecationWarning: The property ``qiskit.utils.algorithm_globals.QiskitAlgorithmGlobals.random`` is deprecated as of qiskit 0.45.0. It will be removed no earlier than 3 months after the release date. This algorithm utility has been migrated to an independent package: https://github.com/qiskit-community/qiskit-algorithms. You can run ``pip install qiskit_algorithms`` and import ``from qiskit_algorithms.utils`` instead. \n",
            "  X = 2 * algorithm_globals.random.random([num_samples, num_inputs]) - 1\n"
          ]
        },
        {
          "output_type": "display_data",
          "data": {
            "text/plain": [
              "<Figure size 640x480 with 1 Axes>"
            ],
            "image/png": "[encoded data removed]"
          },
          "metadata": {}
        }
      ],
      "source": [
        "# Generate random dataset\n",
        "\n",
        "# Select dataset dimension (num_inputs) and size (num_samples)\n",
        "num_inputs = 2\n",
        "num_samples = 20\n",
        "\n",
        "# Generate random input coordinates (X) and binary labels (y)\n",
        "X = 2 * algorithm_globals.random.random([num_samples, num_inputs]) - 1\n",
        "y01 = 1 * (np.sum(X, axis=1) >= 0)  # in { 0,  1}, y01 will be used for SamplerQNN example\n",
        "y = 2 * y01 - 1  # in {-1, +1}, y will be used for EstimatorQNN example\n",
        "\n",
        "# Convert to torch Tensors\n",
        "X_ = Tensor(X)\n",
        "y01_ = Tensor(y01).reshape(len(y)).long()\n",
        "y_ = Tensor(y).reshape(len(y), 1)\n",
        "\n",
        "# Plot dataset\n",
        "for x, y_target in zip(X, y):\n",
        "    if y_target == 1:\n",
        "        plt.plot(x[0], x[1], \"bo\")\n",
        "    else:\n",
        "        plt.plot(x[0], x[1], \"go\")\n",
        "plt.plot([-1, 1], [1, -1], \"--\", color=\"black\")\n",
        "plt.show()"
      ]
    },
    {
      "cell_type": "markdown",
      "id": "hazardous-rehabilitation",
      "metadata": {
        "id": "hazardous-rehabilitation"
      },
      "source": [
        "#### A. Classification with PyTorch and  `EstimatorQNN`\n",
        "\n",
        "Linking an `EstimatorQNN` to PyTorch is relatively straightforward. Here we illustrate this by using the `EstimatorQNN` constructed from a feature map and an ansatz."
      ]
    },
    {
      "cell_type": "code",
      "execution_count": 36,
      "id": "fewer-desperate",
      "metadata": {
        "colab": {
          "base_uri": "https://localhost:8080/",
          "height": 171
        },
        "id": "fewer-desperate",
        "outputId": "e235d056-5653-44cf-c773-80293f20636c"
      },
      "outputs": [
        {
          "output_type": "execute_result",
          "data": {
            "text/plain": [
              "     ┌──────────────────────────┐»\n",
              "q_0: ┤0                         ├»\n",
              "     │  ZZFeatureMap(x[0],x[1]) │»\n",
              "q_1: ┤1                         ├»\n",
              "     └──────────────────────────┘»\n",
              "«     ┌──────────────────────────────────────────────────────────┐\n",
              "«q_0: ┤0                                                         ├\n",
              "«     │  RealAmplitudes(θ[0],θ[1],θ[2],θ[3],θ[4],θ[5],θ[6],θ[7]) │\n",
              "«q_1: ┤1                                                         ├\n",
              "«     └──────────────────────────────────────────────────────────┘"
            ],
            "text/html": [
              "<pre style=\"word-wrap: normal;white-space: pre;background: #fff0;line-height: 1.1;font-family: &quot;Courier New&quot;,Courier,monospace\">     ┌──────────────────────────┐»\n",
              "q_0: ┤0                         ├»\n",
              "     │  ZZFeatureMap(x[0],x[1]) │»\n",
              "q_1: ┤1                         ├»\n",
              "     └──────────────────────────┘»\n",
              "«     ┌──────────────────────────────────────────────────────────┐\n",
              "«q_0: ┤0                                                         ├\n",
              "«     │  RealAmplitudes(θ[0],θ[1],θ[2],θ[3],θ[4],θ[5],θ[6],θ[7]) │\n",
              "«q_1: ┤1                                                         ├\n",
              "«     └──────────────────────────────────────────────────────────┘</pre>"
            ]
          },
          "metadata": {},
          "execution_count": 36
        }
      ],
      "source": [
        "# Set up a circuit\n",
        "feature_map = ZZFeatureMap(num_inputs)\n",
        "ansatz = RealAmplitudes(num_inputs)\n",
        "qc = QuantumCircuit(num_inputs)\n",
        "qc.compose(feature_map, inplace=True)\n",
        "qc.compose(ansatz, inplace=True)\n",
        "qc.draw()"
      ]
    },
    {
      "cell_type": "code",
      "execution_count": 37,
      "id": "humanitarian-flavor",
      "metadata": {
        "colab": {
          "base_uri": "https://localhost:8080/",
          "height": 0
        },
        "id": "humanitarian-flavor",
        "outputId": "f538ef4b-99f4-48e9-a506-a1bda4659bc7"
      },
      "outputs": [
        {
          "output_type": "stream",
          "name": "stdout",
          "text": [
            "Initial weights:  [-0.01256962  0.06653564  0.04005302 -0.03752667  0.06645196  0.06095287\n",
            " -0.02250432 -0.04233438]\n"
          ]
        },
        {
          "output_type": "stream",
          "name": "stderr",
          "text": [
            "<ipython-input-37-1a9034c67aa2>:9: DeprecationWarning: The property ``qiskit.utils.algorithm_globals.QiskitAlgorithmGlobals.random`` is deprecated as of qiskit 0.45.0. It will be removed no earlier than 3 months after the release date. This algorithm utility has been migrated to an independent package: https://github.com/qiskit-community/qiskit-algorithms. You can run ``pip install qiskit_algorithms`` and import ``from qiskit_algorithms.utils`` instead. \n",
            "  initial_weights = 0.1 * (2 * algorithm_globals.random.random(qnn1.num_weights) - 1)\n"
          ]
        }
      ],
      "source": [
        "# Setup QNN\n",
        "qnn1 = EstimatorQNN(\n",
        "    circuit=qc, input_params=feature_map.parameters, weight_params=ansatz.parameters\n",
        ")\n",
        "\n",
        "# Set up PyTorch module\n",
        "# Note: If we don't explicitly declare the initial weights\n",
        "# they are chosen uniformly at random from [-1, 1].\n",
        "initial_weights = 0.1 * (2 * algorithm_globals.random.random(qnn1.num_weights) - 1)\n",
        "model1 = TorchConnector(qnn1, initial_weights=initial_weights)\n",
        "print(\"Initial weights: \", initial_weights)"
      ]
    },
    {
      "cell_type": "code",
      "execution_count": 38,
      "id": "likely-grace",
      "metadata": {
        "colab": {
          "base_uri": "https://localhost:8080/",
          "height": 0
        },
        "id": "likely-grace",
        "outputId": "a8e4fa39-1dde-483d-fb59-07c01ec3c579"
      },
      "outputs": [
        {
          "output_type": "execute_result",
          "data": {
            "text/plain": [
              "tensor([-0.3285], grad_fn=<_TorchNNFunctionBackward>)"
            ]
          },
          "metadata": {},
          "execution_count": 38
        }
      ],
      "source": [
        "# Test with a single input\n",
        "model1(X_[0, :])"
      ]
    },
    {
      "cell_type": "markdown",
      "id": "gorgeous-segment",
      "metadata": {
        "id": "gorgeous-segment"
      },
      "source": [
        "##### Optimizer\n",
        "The choice of optimizer for training any machine learning model can be crucial in determining the success of our training's outcome. When using `TorchConnector`, we get access to all of the optimizer algorithms defined in the [`torch.optim`] package ([link](https://pytorch.org/docs/stable/optim.html)). Some of the most famous algorithms used in popular machine learning architectures include *Adam*, *SGD*, or *Adagrad*. However, for this tutorial we will be using the L-BFGS algorithm (`torch.optim.LBFGS`), one of the most well know second-order optimization algorithms for numerical optimization.\n",
        "\n",
        "##### Loss Function\n",
        "As for the loss function, we can also take advantage of PyTorch's pre-defined modules from `torch.nn`, such as the [Cross-Entropy](https://pytorch.org/docs/stable/generated/torch.nn.CrossEntropyLoss.html) or [Mean Squared Error](https://pytorch.org/docs/stable/generated/torch.nn.MSELoss.html) losses.\n",
        "\n",
        "\n",
        "**💡 Clarification :**\n",
        "In classical machine learning, the general rule of thumb is to apply a Cross-Entropy loss to classification tasks, and MSE loss to regression tasks. However, this recommendation is given under the assumption that the output of the classification network is a class probability value in the $[0, 1]$ range (usually this is achieved  through a Softmax layer). Because the following example for `EstimatorQNN` does not include such layer, and we don't apply any mapping to the output (the following section shows an example of application of parity mapping with `SamplerQNN`s), the QNN's output can take any value in the range $[-1, 1]$. In case you were wondering, this is the reason why this particular example uses MSELoss for classification despite it not being the norm (but we encourage you to experiment with different loss functions and see how they can impact training results)."
      ]
    },
    {
      "cell_type": "code",
      "execution_count": 39,
      "id": "following-extension",
      "metadata": {
        "colab": {
          "base_uri": "https://localhost:8080/",
          "height": 0
        },
        "id": "following-extension",
        "outputId": "7cd6b7da-ccb4-474f-b2f5-1fc18cf9c9ef"
      },
      "outputs": [
        {
          "output_type": "stream",
          "name": "stdout",
          "text": [
            "25.535646438598633\n",
            "22.696760177612305\n",
            "20.039228439331055\n",
            "19.68790626525879\n",
            "19.267210006713867\n",
            "19.025371551513672\n",
            "18.154708862304688\n",
            "17.33785629272461\n",
            "19.082544326782227\n",
            "17.07332420349121\n",
            "16.21839141845703\n",
            "14.992581367492676\n",
            "14.929339408874512\n",
            "14.914534568786621\n",
            "14.907638549804688\n",
            "14.902363777160645\n",
            "14.902134895324707\n",
            "14.90211009979248\n",
            "14.902111053466797\n"
          ]
        },
        {
          "output_type": "execute_result",
          "data": {
            "text/plain": [
              "tensor(25.5356, grad_fn=<MseLossBackward0>)"
            ]
          },
          "metadata": {},
          "execution_count": 39
        }
      ],
      "source": [
        "# Define optimizer and loss\n",
        "optimizer = LBFGS(model1.parameters())\n",
        "f_loss = MSELoss(reduction=\"sum\")\n",
        "\n",
        "# Start training\n",
        "model1.train()  # set model to training mode\n",
        "\n",
        "\n",
        "# Note from (https://pytorch.org/docs/stable/optim.html):\n",
        "# Some optimization algorithms such as LBFGS need to\n",
        "# reevaluate the function multiple times, so you have to\n",
        "# pass in a closure that allows them to recompute your model.\n",
        "# The closure should clear the gradients, compute the loss,\n",
        "# and return it.\n",
        "def closure():\n",
        "    optimizer.zero_grad()  # Initialize/clear gradients\n",
        "    loss = f_loss(model1(X_), y_)  # Evaluate loss function\n",
        "    loss.backward()  # Backward pass\n",
        "    print(loss.item())  # Print loss\n",
        "    return loss\n",
        "\n",
        "\n",
        "# Run optimizer step4\n",
        "optimizer.step(closure)"
      ]
    },
    {
      "cell_type": "code",
      "execution_count": 40,
      "id": "efficient-bangkok",
      "metadata": {
        "colab": {
          "base_uri": "https://localhost:8080/",
          "height": 448
        },
        "id": "efficient-bangkok",
        "outputId": "51da3304-e62b-4ab4-8a5c-b50400e79eed"
      },
      "outputs": [
        {
          "output_type": "stream",
          "name": "stdout",
          "text": [
            "Accuracy: 0.8\n"
          ]
        },
        {
          "output_type": "display_data",
          "data": {
            "text/plain": [
              "<Figure size 640x480 with 1 Axes>"
            ],
            "image/png": "[encoded data removed]"
          },
          "metadata": {}
        }
      ],
      "source": [
        "# Evaluate model and compute accuracy\n",
        "y_predict = []\n",
        "for x, y_target in zip(X, y):\n",
        "    output = model1(Tensor(x))\n",
        "    y_predict += [np.sign(output.detach().numpy())[0]]\n",
        "\n",
        "print(\"Accuracy:\", sum(y_predict == y) / len(y))\n",
        "\n",
        "# Plot results\n",
        "# red == wrongly classified\n",
        "for x, y_target, y_p in zip(X, y, y_predict):\n",
        "    if y_target == 1:\n",
        "        plt.plot(x[0], x[1], \"bo\")\n",
        "    else:\n",
        "        plt.plot(x[0], x[1], \"go\")\n",
        "    if y_target != y_p:\n",
        "        plt.scatter(x[0], x[1], s=200, facecolors=\"none\", edgecolors=\"r\", linewidths=2)\n",
        "plt.plot([-1, 1], [1, -1], \"--\", color=\"black\")\n",
        "plt.show()"
      ]
    },
    {
      "cell_type": "markdown",
      "id": "abstract-parish",
      "metadata": {
        "id": "abstract-parish"
      },
      "source": [
        "The red circles indicate wrongly classified data points."
      ]
    },
    {
      "cell_type": "markdown",
      "id": "typical-cross",
      "metadata": {
        "id": "typical-cross"
      },
      "source": [
        "#### B. Classification with PyTorch and `SamplerQNN`\n",
        "\n",
        "Linking a `SamplerQNN` to PyTorch requires a bit more attention than `EstimatorQNN`. Without the correct setup, backpropagation is not possible.\n",
        "\n",
        "In particular, we must make sure that we are returning a dense array of probabilities in the network's forward pass (`sparse=False`). This parameter is set up to `False` by default, so we just have to make sure that it has not been changed.\n",
        "\n",
        "**⚠️ Attention:**\n",
        "If we define a custom interpret function ( in the example: `parity`), we must remember to explicitly provide the desired output shape ( in the example: `2`). For more info on the initial parameter setup for `SamplerQNN`, please check out the [official qiskit documentation](https://qiskit.org/ecosystem/machine-learning/stubs/qiskit_machine_learning.neural_networks.SamplerQNN.html)."
      ]
    },
    {
      "cell_type": "code",
      "execution_count": 41,
      "id": "present-operator",
      "metadata": {
        "colab": {
          "base_uri": "https://localhost:8080/",
          "height": 0
        },
        "id": "present-operator",
        "outputId": "1aa90a46-2cac-4d13-8f25-c4111018d0a3"
      },
      "outputs": [
        {
          "output_type": "stream",
          "name": "stdout",
          "text": [
            "Initial weights:  [ 0.0364991  -0.0720495  -0.06001836 -0.09852755]\n"
          ]
        },
        {
          "output_type": "stream",
          "name": "stderr",
          "text": [
            "<ipython-input-41-2506a60ae15a>:25: DeprecationWarning: The property ``qiskit.utils.algorithm_globals.QiskitAlgorithmGlobals.random`` is deprecated as of qiskit 0.45.0. It will be removed no earlier than 3 months after the release date. This algorithm utility has been migrated to an independent package: https://github.com/qiskit-community/qiskit-algorithms. You can run ``pip install qiskit_algorithms`` and import ``from qiskit_algorithms.utils`` instead. \n",
            "  initial_weights = 0.1 * (2 * algorithm_globals.random.random(qnn2.num_weights) - 1)\n"
          ]
        }
      ],
      "source": [
        "# Define feature map and ansatz\n",
        "feature_map = ZZFeatureMap(num_inputs)\n",
        "ansatz = RealAmplitudes(num_inputs, entanglement=\"linear\", reps=1)\n",
        "\n",
        "# Define quantum circuit of num_qubits = input dim\n",
        "# Append feature map and ansatz\n",
        "qc = QuantumCircuit(num_inputs)\n",
        "qc.compose(feature_map, inplace=True)\n",
        "qc.compose(ansatz, inplace=True)\n",
        "\n",
        "# Define SamplerQNN and initial setup\n",
        "parity = lambda x: \"{:b}\".format(x).count(\"1\") % 2  # optional interpret function\n",
        "output_shape = 2  # parity = 0, 1\n",
        "qnn2 = SamplerQNN(\n",
        "    circuit=qc,\n",
        "    input_params=feature_map.parameters,\n",
        "    weight_params=ansatz.parameters,\n",
        "    interpret=parity,\n",
        "    output_shape=output_shape,\n",
        ")\n",
        "\n",
        "# Set up PyTorch module\n",
        "# Reminder: If we don't explicitly declare the initial weights\n",
        "# they are chosen uniformly at random from [-1, 1].\n",
        "initial_weights = 0.1 * (2 * algorithm_globals.random.random(qnn2.num_weights) - 1)\n",
        "print(\"Initial weights: \", initial_weights)\n",
        "model2 = TorchConnector(qnn2, initial_weights)"
      ]
    },
    {
      "cell_type": "markdown",
      "id": "liquid-reviewer",
      "metadata": {
        "id": "liquid-reviewer"
      },
      "source": [
        "For a reminder on optimizer and loss function choices, you can go back to [this section](#Optimizer)."
      ]
    },
    {
      "cell_type": "code",
      "execution_count": 42,
      "id": "marked-harvest",
      "metadata": {
        "colab": {
          "base_uri": "https://localhost:8080/",
          "height": 0
        },
        "id": "marked-harvest",
        "outputId": "126d5c33-0129-4976-81a0-2c3096afa9d2"
      },
      "outputs": [
        {
          "output_type": "stream",
          "name": "stdout",
          "text": [
            "0.6925069093704224\n",
            "0.6881508231163025\n",
            "0.6516684293746948\n",
            "0.6485998034477234\n",
            "0.6394745111465454\n",
            "0.7055025100708008\n",
            "0.6669358611106873\n",
            "0.6768221259117126\n",
            "0.6784337759017944\n",
            "0.7485936284065247\n",
            "0.6641563773155212\n",
            "0.6561498045921326\n",
            "0.66301429271698\n",
            "0.6441987752914429\n",
            "0.6511136293411255\n",
            "0.6289191246032715\n",
            "0.6247060298919678\n",
            "0.6366127729415894\n",
            "0.6195870041847229\n",
            "0.6179186105728149\n"
          ]
        }
      ],
      "source": [
        "# Define model, optimizer, and loss\n",
        "optimizer = LBFGS(model2.parameters())\n",
        "f_loss = CrossEntropyLoss()  # Our output will be in the [0,1] range\n",
        "\n",
        "# Start training\n",
        "model2.train()\n",
        "\n",
        "# Define LBFGS closure method (explained in previous section)\n",
        "def closure():\n",
        "    optimizer.zero_grad(set_to_none=True)  # Initialize gradient\n",
        "    loss = f_loss(model2(X_), y01_)  # Calculate loss\n",
        "    loss.backward()  # Backward pass\n",
        "\n",
        "    print(loss.item())  # Print loss\n",
        "    return loss\n",
        "\n",
        "\n",
        "# Run optimizer (LBFGS requires closure)\n",
        "optimizer.step(closure);"
      ]
    },
    {
      "cell_type": "code",
      "execution_count": 43,
      "id": "falling-electronics",
      "metadata": {
        "colab": {
          "base_uri": "https://localhost:8080/",
          "height": 448
        },
        "id": "falling-electronics",
        "outputId": "db729c93-1fb8-4869-a18a-5b67b782a17d"
      },
      "outputs": [
        {
          "output_type": "stream",
          "name": "stdout",
          "text": [
            "Accuracy: 0.8\n"
          ]
        },
        {
          "output_type": "display_data",
          "data": {
            "text/plain": [
              "<Figure size 640x480 with 1 Axes>"
            ],
            "image/png": "[encoded data removed]"
          },
          "metadata": {}
        }
      ],
      "source": [
        "# Evaluate model and compute accuracy\n",
        "y_predict = []\n",
        "for x in X:\n",
        "    output = model2(Tensor(x))\n",
        "    y_predict += [np.argmax(output.detach().numpy())]\n",
        "\n",
        "print(\"Accuracy:\", sum(y_predict == y01) / len(y01))\n",
        "\n",
        "# plot results\n",
        "# red == wrongly classified\n",
        "for x, y_target, y_ in zip(X, y01, y_predict):\n",
        "    if y_target == 1:\n",
        "        plt.plot(x[0], x[1], \"bo\")\n",
        "    else:\n",
        "        plt.plot(x[0], x[1], \"go\")\n",
        "    if y_target != y_:\n",
        "        plt.scatter(x[0], x[1], s=200, facecolors=\"none\", edgecolors=\"r\", linewidths=2)\n",
        "plt.plot([-1, 1], [1, -1], \"--\", color=\"black\")\n",
        "plt.show()"
      ]
    },
    {
      "cell_type": "markdown",
      "id": "aboriginal-white",
      "metadata": {
        "id": "aboriginal-white"
      },
      "source": [
        "The red circles indicate wrongly classified data points."
      ]
    },
    {
      "cell_type": "markdown",
      "id": "scheduled-nicaragua",
      "metadata": {
        "id": "scheduled-nicaragua"
      },
      "source": [
        "### 2. Regression\n",
        "\n",
        "We use a model based on the `EstimatorQNN` to also illustrate how to perform a regression task. The chosen dataset in this case is randomly generated following a sine wave."
      ]
    },
    {
      "cell_type": "code",
      "execution_count": 44,
      "id": "amateur-dubai",
      "metadata": {
        "colab": {
          "base_uri": "https://localhost:8080/",
          "height": 523
        },
        "id": "amateur-dubai",
        "outputId": "c2829725-77da-41d6-aea3-806e8797b09d"
      },
      "outputs": [
        {
          "output_type": "stream",
          "name": "stderr",
          "text": [
            "<ipython-input-44-78479be938b8>:8: DeprecationWarning: The property ``qiskit.utils.algorithm_globals.QiskitAlgorithmGlobals.random`` is deprecated as of qiskit 0.45.0. It will be removed no earlier than 3 months after the release date. This algorithm utility has been migrated to an independent package: https://github.com/qiskit-community/qiskit-algorithms. You can run ``pip install qiskit_algorithms`` and import ``from qiskit_algorithms.utils`` instead. \n",
            "  X = (ub - lb) * algorithm_globals.random.random([num_samples, 1]) + lb\n",
            "<ipython-input-44-78479be938b8>:9: DeprecationWarning: The property ``qiskit.utils.algorithm_globals.QiskitAlgorithmGlobals.random`` is deprecated as of qiskit 0.45.0. It will be removed no earlier than 3 months after the release date. This algorithm utility has been migrated to an independent package: https://github.com/qiskit-community/qiskit-algorithms. You can run ``pip install qiskit_algorithms`` and import ``from qiskit_algorithms.utils`` instead. \n",
            "  y = f(X) + eps * (2 * algorithm_globals.random.random([num_samples, 1]) - 1)\n"
          ]
        },
        {
          "output_type": "display_data",
          "data": {
            "text/plain": [
              "<Figure size 640x480 with 1 Axes>"
            ],
            "image/png": "[encoded data removed]"
          },
          "metadata": {}
        }
      ],
      "source": [
        "# Generate random dataset\n",
        "\n",
        "num_samples = 20\n",
        "eps = 0.2\n",
        "lb, ub = -np.pi, np.pi\n",
        "f = lambda x: np.sin(x)\n",
        "\n",
        "X = (ub - lb) * algorithm_globals.random.random([num_samples, 1]) + lb\n",
        "y = f(X) + eps * (2 * algorithm_globals.random.random([num_samples, 1]) - 1)\n",
        "plt.plot(np.linspace(lb, ub), f(np.linspace(lb, ub)), \"r--\")\n",
        "plt.plot(X, y, \"bo\")\n",
        "plt.show()"
      ]
    },
    {
      "cell_type": "markdown",
      "id": "protected-genre",
      "metadata": {
        "id": "protected-genre"
      },
      "source": [
        "#### A. Regression with PyTorch and `EstimatorQNN`"
      ]
    },
    {
      "cell_type": "markdown",
      "id": "lovely-semiconductor",
      "metadata": {
        "id": "lovely-semiconductor"
      },
      "source": [
        "The network definition and training loop will be analogous to those of the classification task using `EstimatorQNN`. In this case, we define our own feature map and ansatz, but let's do it a little different."
      ]
    },
    {
      "cell_type": "code",
      "execution_count": 45,
      "id": "brazilian-adapter",
      "metadata": {
        "colab": {
          "base_uri": "https://localhost:8080/",
          "height": 0
        },
        "id": "brazilian-adapter",
        "outputId": "36cf11ff-995e-4279-a7ad-240d68a7ac3d"
      },
      "outputs": [
        {
          "output_type": "stream",
          "name": "stderr",
          "text": [
            "<ipython-input-45-bbd64a0fc417>:21: DeprecationWarning: The property ``qiskit.utils.algorithm_globals.QiskitAlgorithmGlobals.random`` is deprecated as of qiskit 0.45.0. It will be removed no earlier than 3 months after the release date. This algorithm utility has been migrated to an independent package: https://github.com/qiskit-community/qiskit-algorithms. You can run ``pip install qiskit_algorithms`` and import ``from qiskit_algorithms.utils`` instead. \n",
            "  initial_weights = 0.1 * (2 * algorithm_globals.random.random(qnn3.num_weights) - 1)\n"
          ]
        }
      ],
      "source": [
        "# Construct simple feature map\n",
        "param_x = Parameter(\"x\")\n",
        "feature_map = QuantumCircuit(1, name=\"fm\")\n",
        "feature_map.ry(param_x, 0)\n",
        "\n",
        "# Construct simple feature map\n",
        "param_y = Parameter(\"y\")\n",
        "ansatz = QuantumCircuit(1, name=\"vf\")\n",
        "ansatz.ry(param_y, 0)\n",
        "\n",
        "qc = QuantumCircuit(1)\n",
        "qc.compose(feature_map, inplace=True)\n",
        "qc.compose(ansatz, inplace=True)\n",
        "\n",
        "# Construct QNN\n",
        "qnn3 = EstimatorQNN(circuit=qc, input_params=[param_x], weight_params=[param_y])\n",
        "\n",
        "# Set up PyTorch module\n",
        "# Reminder: If we don't explicitly declare the initial weights\n",
        "# they are chosen uniformly at random from [-1, 1].\n",
        "initial_weights = 0.1 * (2 * algorithm_globals.random.random(qnn3.num_weights) - 1)\n",
        "model3 = TorchConnector(qnn3, initial_weights)"
      ]
    },
    {
      "cell_type": "markdown",
      "id": "waiting-competition",
      "metadata": {
        "id": "waiting-competition"
      },
      "source": [
        "For a reminder on optimizer and loss function choices, you can go back to [this section](#Optimizer)."
      ]
    },
    {
      "cell_type": "code",
      "execution_count": 46,
      "id": "bibliographic-consciousness",
      "metadata": {
        "colab": {
          "base_uri": "https://localhost:8080/",
          "height": 0
        },
        "id": "bibliographic-consciousness",
        "outputId": "a115e591-eb5a-4afa-d6d8-7166cee2d74a"
      },
      "outputs": [
        {
          "output_type": "stream",
          "name": "stdout",
          "text": [
            "14.947757720947266\n",
            "2.948650360107422\n",
            "8.952412605285645\n",
            "0.37905153632164\n",
            "0.24995625019073486\n",
            "0.2483610212802887\n",
            "0.24835753440856934\n"
          ]
        },
        {
          "output_type": "execute_result",
          "data": {
            "text/plain": [
              "tensor(14.9478, grad_fn=<MseLossBackward0>)"
            ]
          },
          "metadata": {},
          "execution_count": 46
        }
      ],
      "source": [
        "# Define optimizer and loss function\n",
        "optimizer = LBFGS(model3.parameters())\n",
        "f_loss = MSELoss(reduction=\"sum\")\n",
        "\n",
        "# Start training\n",
        "model3.train()  # set model to training mode\n",
        "\n",
        "# Define objective function\n",
        "def closure():\n",
        "    optimizer.zero_grad(set_to_none=True)  # Initialize gradient\n",
        "    loss = f_loss(model3(Tensor(X)), Tensor(y))  # Compute batch loss\n",
        "    loss.backward()  # Backward pass\n",
        "    print(loss.item())  # Print loss\n",
        "    return loss\n",
        "\n",
        "\n",
        "# Run optimizer\n",
        "optimizer.step(closure)"
      ]
    },
    {
      "cell_type": "code",
      "execution_count": 47,
      "id": "timely-happiness",
      "metadata": {
        "colab": {
          "base_uri": "https://localhost:8080/",
          "height": 430
        },
        "id": "timely-happiness",
        "outputId": "74c23747-38d9-4ab9-d8fb-36c506890554"
      },
      "outputs": [
        {
          "output_type": "display_data",
          "data": {
            "text/plain": [
              "<Figure size 640x480 with 1 Axes>"
            ],
            "image/png": "[encoded data removed]"
          },
          "metadata": {}
        }
      ],
      "source": [
        "# Plot target function\n",
        "plt.plot(np.linspace(lb, ub), f(np.linspace(lb, ub)), \"r--\")\n",
        "\n",
        "# Plot data\n",
        "plt.plot(X, y, \"bo\")\n",
        "\n",
        "# Plot fitted line\n",
        "y_ = []\n",
        "for x in np.linspace(lb, ub):\n",
        "    output = model3(Tensor([x]))\n",
        "    y_ += [output.detach().numpy()[0]]\n",
        "plt.plot(np.linspace(lb, ub), y_, \"g-\")\n",
        "plt.show()"
      ]
    },
    {
      "cell_type": "markdown",
      "id": "individual-georgia",
      "metadata": {
        "id": "individual-georgia"
      },
      "source": [
        "***\n",
        "\n",
        "## Part 2: MNIST Classification, Hybrid QNNs\n",
        "\n",
        "In this second part, we show how to leverage a hybrid quantum-classical neural network using `TorchConnector`, to perform a more complex image classification task on the MNIST handwritten digits dataset.\n",
        "\n",
        "For a more detailed (pre-`TorchConnector`) explanation on hybrid quantum-classical neural networks, you can check out the corresponding section in the [Qiskit Textbook](https://qiskit.org/textbook/ch-machine-learning/machine-learning-qiskit-pytorch.html)."
      ]
    },
    {
      "cell_type": "code",
      "execution_count": 48,
      "id": "otherwise-military",
      "metadata": {
        "id": "otherwise-military"
      },
      "outputs": [],
      "source": [
        "# Additional torch-related imports\n",
        "import torch\n",
        "from torch import cat, no_grad, manual_seed\n",
        "from torch.utils.data import DataLoader\n",
        "from torchvision import datasets, transforms\n",
        "import torch.optim as optim\n",
        "from torch.nn import (\n",
        "    Module,\n",
        "    Conv2d,\n",
        "    Linear,\n",
        "    Dropout2d,\n",
        "    NLLLoss,\n",
        "    MaxPool2d,\n",
        "    Flatten,\n",
        "    Sequential,\n",
        "    ReLU,\n",
        ")\n",
        "import torch.nn.functional as F"
      ]
    },
    {
      "cell_type": "markdown",
      "id": "bronze-encounter",
      "metadata": {
        "id": "bronze-encounter"
      },
      "source": [
        "### Step 1: Defining Data-loaders for train and test"
      ]
    },
    {
      "cell_type": "markdown",
      "id": "parliamentary-middle",
      "metadata": {
        "id": "parliamentary-middle"
      },
      "source": [
        "We take advantage of the `torchvision` [API](https://pytorch.org/vision/stable/datasets.html) to directly load a subset of the [MNIST dataset](https://en.wikipedia.org/wiki/MNIST_database) and define torch `DataLoader`s ([link](https://pytorch.org/docs/stable/data.html)) for train and test."
      ]
    },
    {
      "cell_type": "code",
      "execution_count": 49,
      "id": "worthy-charlotte",
      "metadata": {
        "id": "worthy-charlotte"
      },
      "outputs": [],
      "source": [
        "# Train Dataset\n",
        "# -------------\n",
        "\n",
        "# Set train shuffle seed (for reproducibility)\n",
        "manual_seed(42)\n",
        "\n",
        "batch_size = 1\n",
        "n_samples = 100  # We will concentrate on the first 100 samples\n",
        "\n",
        "# Use pre-defined torchvision function to load MNIST train data\n",
        "X_train = datasets.MNIST(\n",
        "    root=\"./data\", train=True, download=True, transform=transforms.Compose([transforms.ToTensor()])\n",
        ")\n",
        "\n",
        "# Filter out labels (originally 0-9), leaving only labels 0 and 1\n",
        "idx = np.append(\n",
        "    np.where(X_train.targets == 0)[0][:n_samples], np.where(X_train.targets == 1)[0][:n_samples]\n",
        ")\n",
        "X_train.data = X_train.data[idx]\n",
        "X_train.targets = X_train.targets[idx]\n",
        "\n",
        "# Define torch dataloader with filtered data\n",
        "train_loader = DataLoader(X_train, batch_size=batch_size, shuffle=True)"
      ]
    },
    {
      "cell_type": "markdown",
      "id": "completed-spring",
      "metadata": {
        "id": "completed-spring"
      },
      "source": [
        "If we perform a quick visualization we can see that the train dataset consists of images of handwritten 0s and 1s."
      ]
    },
    {
      "cell_type": "code",
      "execution_count": 50,
      "id": "medieval-bibliography",
      "metadata": {
        "colab": {
          "base_uri": "https://localhost:8080/",
          "height": 170
        },
        "id": "medieval-bibliography",
        "outputId": "92c4d712-e271-4b99-f4b9-a5d0966d2670"
      },
      "outputs": [
        {
          "output_type": "display_data",
          "data": {
            "text/plain": [
              "<Figure size 1000x300 with 6 Axes>"
            ],
            "image/png": "[encoded data removed]"
          },
          "metadata": {}
        }
      ],
      "source": [
        "n_samples_show = 6\n",
        "\n",
        "data_iter = iter(train_loader)\n",
        "fig, axes = plt.subplots(nrows=1, ncols=n_samples_show, figsize=(10, 3))\n",
        "\n",
        "while n_samples_show > 0:\n",
        "    images, targets = data_iter.__next__()\n",
        "\n",
        "    axes[n_samples_show - 1].imshow(images[0, 0].numpy().squeeze(), cmap=\"gray\")\n",
        "    axes[n_samples_show - 1].set_xticks([])\n",
        "    axes[n_samples_show - 1].set_yticks([])\n",
        "    axes[n_samples_show - 1].set_title(\"Labeled: {}\".format(targets[0].item()))\n",
        "\n",
        "    n_samples_show -= 1"
      ]
    },
    {
      "cell_type": "code",
      "execution_count": 51,
      "id": "structural-chuck",
      "metadata": {
        "id": "structural-chuck"
      },
      "outputs": [],
      "source": [
        "# Test Dataset\n",
        "# -------------\n",
        "\n",
        "# Set test shuffle seed (for reproducibility)\n",
        "# manual_seed(5)\n",
        "\n",
        "n_samples = 50\n",
        "\n",
        "# Use pre-defined torchvision function to load MNIST test data\n",
        "X_test = datasets.MNIST(\n",
        "    root=\"./data\", train=False, download=True, transform=transforms.Compose([transforms.ToTensor()])\n",
        ")\n",
        "\n",
        "# Filter out labels (originally 0-9), leaving only labels 0 and 1\n",
        "idx = np.append(\n",
        "    np.where(X_test.targets == 0)[0][:n_samples], np.where(X_test.targets == 1)[0][:n_samples]\n",
        ")\n",
        "X_test.data = X_test.data[idx]\n",
        "X_test.targets = X_test.targets[idx]\n",
        "\n",
        "# Define torch dataloader with filtered data\n",
        "test_loader = DataLoader(X_test, batch_size=batch_size, shuffle=True)"
      ]
    },
    {
      "cell_type": "markdown",
      "id": "abroad-morris",
      "metadata": {
        "id": "abroad-morris"
      },
      "source": [
        "### Step 2: Defining the QNN and Hybrid Model"
      ]
    },
    {
      "cell_type": "markdown",
      "id": "super-tokyo",
      "metadata": {
        "id": "super-tokyo"
      },
      "source": [
        "This second step shows the power of the `TorchConnector`. After defining our quantum neural network layer (in this case, a `EstimatorQNN`), we can embed it into a layer in our torch `Module` by initializing a torch connector as `TorchConnector(qnn)`.\n",
        "\n",
        "**⚠️ Attention:**\n",
        "In order to have an adequate gradient backpropagation in hybrid models,  we MUST set the initial parameter `input_gradients` to TRUE during the qnn initialization."
      ]
    },
    {
      "cell_type": "code",
      "execution_count": 52,
      "id": "urban-purse",
      "metadata": {
        "id": "urban-purse"
      },
      "outputs": [],
      "source": [
        "# Define and create QNN\n",
        "def create_qnn():\n",
        "    feature_map = ZZFeatureMap(2)\n",
        "    ansatz = RealAmplitudes(2, reps=1)\n",
        "    qc = QuantumCircuit(2)\n",
        "    qc.compose(feature_map, inplace=True)\n",
        "    qc.compose(ansatz, inplace=True)\n",
        "\n",
        "    # REMEMBER TO SET input_gradients=True FOR ENABLING HYBRID GRADIENT BACKPROP\n",
        "    qnn = EstimatorQNN(\n",
        "        circuit=qc,\n",
        "        input_params=feature_map.parameters,\n",
        "        weight_params=ansatz.parameters,\n",
        "        input_gradients=True,\n",
        "    )\n",
        "    return qnn\n",
        "\n",
        "\n",
        "qnn4 = create_qnn()"
      ]
    },
    {
      "cell_type": "code",
      "execution_count": 53,
      "id": "exclusive-productivity",
      "metadata": {
        "id": "exclusive-productivity"
      },
      "outputs": [],
      "source": [
        "# Define torch NN module\n",
        "\n",
        "\n",
        "class Net(Module):\n",
        "    def __init__(self, qnn):\n",
        "        super().__init__()\n",
        "        self.conv1 = Conv2d(1, 2, kernel_size=5)\n",
        "        self.conv2 = Conv2d(2, 16, kernel_size=5)\n",
        "        self.dropout = Dropout2d()\n",
        "        self.fc1 = Linear(256, 64)\n",
        "        self.fc2 = Linear(64, 2)  # 2-dimensional input to QNN\n",
        "        self.qnn = TorchConnector(qnn)  # Apply torch connector, weights chosen\n",
        "        # uniformly at random from interval [-1,1].\n",
        "        self.fc3 = Linear(1, 1)  # 1-dimensional output from QNN\n",
        "\n",
        "    def forward(self, x):\n",
        "        x = F.relu(self.conv1(x))\n",
        "        x = F.max_pool2d(x, 2)\n",
        "        x = F.relu(self.conv2(x))\n",
        "        x = F.max_pool2d(x, 2)\n",
        "        x = self.dropout(x)\n",
        "        x = x.view(x.shape[0], -1)\n",
        "        x = F.relu(self.fc1(x))\n",
        "        x = self.fc2(x)\n",
        "        x = self.qnn(x)  # apply QNN\n",
        "        x = self.fc3(x)\n",
        "        return cat((x, 1 - x), -1)\n",
        "\n",
        "\n",
        "model4 = Net(qnn4)"
      ]
    },
    {
      "cell_type": "markdown",
      "id": "academic-specific",
      "metadata": {
        "id": "academic-specific"
      },
      "source": [
        "### Step 3: Training"
      ]
    },
    {
      "cell_type": "code",
      "execution_count": 54,
      "id": "precious-career",
      "metadata": {
        "colab": {
          "base_uri": "https://localhost:8080/",
          "height": 0
        },
        "id": "precious-career",
        "outputId": "35f949ea-f697-466e-8c8f-bdce2b77899a"
      },
      "outputs": [
        {
          "output_type": "stream",
          "name": "stdout",
          "text": [
            "Training [10%]\tLoss: -1.2637\n",
            "Training [20%]\tLoss: -1.9163\n",
            "Training [30%]\tLoss: -2.4675\n",
            "Training [40%]\tLoss: -3.1021\n",
            "Training [50%]\tLoss: -3.7560\n",
            "Training [60%]\tLoss: -4.3223\n",
            "Training [70%]\tLoss: -5.0395\n",
            "Training [80%]\tLoss: -5.6894\n",
            "Training [90%]\tLoss: -6.1208\n",
            "Training [100%]\tLoss: -6.7073\n"
          ]
        }
      ],
      "source": [
        "# Define model, optimizer, and loss function\n",
        "optimizer = optim.Adam(model4.parameters(), lr=0.003, weight_decay=0.01)\n",
        "loss_func = NLLLoss()\n",
        "\n",
        "# Start training\n",
        "epochs = 10  # Set number of epochs\n",
        "loss_list = []  # Store loss history\n",
        "model4.train()  # Set model to training mode\n",
        "\n",
        "for epoch in range(epochs):\n",
        "    total_loss = []\n",
        "    for batch_idx, (data, target) in enumerate(train_loader):\n",
        "        optimizer.zero_grad(set_to_none=True)  # Initialize gradient\n",
        "        output = model4(data)  # Forward pass\n",
        "        loss = loss_func(output, target)  # Calculate loss\n",
        "        loss.backward()  # Backward pass\n",
        "        optimizer.step()  # Optimize weights\n",
        "        total_loss.append(loss.item())  # Store loss\n",
        "    loss_list.append(sum(total_loss) / len(total_loss))\n",
        "    print(\"Training [{:.0f}%]\\tLoss: {:.4f}\".format(100.0 * (epoch + 1) / epochs, loss_list[-1]))"
      ]
    },
    {
      "cell_type": "code",
      "execution_count": 55,
      "id": "spoken-stationery",
      "metadata": {
        "scrolled": true,
        "colab": {
          "base_uri": "https://localhost:8080/",
          "height": 472
        },
        "id": "spoken-stationery",
        "outputId": "93d5708d-e144-4552-ce21-a0cad9698de4"
      },
      "outputs": [
        {
          "output_type": "display_data",
          "data": {
            "text/plain": [
              "<Figure size 640x480 with 1 Axes>"
            ],
            "image/png": "[encoded data removed]"
          },
          "metadata": {}
        }
      ],
      "source": [
        "# Plot loss convergence\n",
        "plt.plot(loss_list)\n",
        "plt.title(\"Hybrid NN Training Convergence\")\n",
        "plt.xlabel(\"Training Iterations\")\n",
        "plt.ylabel(\"Neg. Log Likelihood Loss\")\n",
        "plt.show()"
      ]
    },
    {
      "cell_type": "markdown",
      "id": "physical-closure",
      "metadata": {
        "id": "physical-closure"
      },
      "source": [
        "Now we'll save the trained model, just to show how a hybrid model can be saved and re-used later for inference. To save and load hybrid models, when using the TorchConnector, follow the PyTorch recommendations of saving and loading the models."
      ]
    },
    {
      "cell_type": "code",
      "execution_count": 56,
      "id": "regulation-bread",
      "metadata": {
        "id": "regulation-bread"
      },
      "outputs": [],
      "source": [
        "torch.save(model4.state_dict(), \"model4.pt\")"
      ]
    },
    {
      "cell_type": "markdown",
      "id": "pacific-flour",
      "metadata": {
        "id": "pacific-flour"
      },
      "source": [
        "### Step 4: Evaluation"
      ]
    },
    {
      "cell_type": "markdown",
      "id": "fabulous-tribe",
      "metadata": {
        "id": "fabulous-tribe"
      },
      "source": [
        "We start from recreating the model and loading the state from the previously saved file. You create a QNN layer using another simulator or a real hardware. So, you can train a model on real hardware available on the cloud and then for inference use a simulator or vice verse. For a sake of simplicity we create a new quantum neural network in the same way as above."
      ]
    },
    {
      "cell_type": "code",
      "execution_count": 57,
      "id": "prospective-flooring",
      "metadata": {
        "colab": {
          "base_uri": "https://localhost:8080/",
          "height": 0
        },
        "id": "prospective-flooring",
        "outputId": "02efac91-1c0b-4383-8a45-2f4d8053220a"
      },
      "outputs": [
        {
          "output_type": "execute_result",
          "data": {
            "text/plain": [
              "<All keys matched successfully>"
            ]
          },
          "metadata": {},
          "execution_count": 57
        }
      ],
      "source": [
        "qnn5 = create_qnn()\n",
        "model5 = Net(qnn5)\n",
        "model5.load_state_dict(torch.load(\"model4.pt\"))"
      ]
    },
    {
      "cell_type": "code",
      "execution_count": 58,
      "id": "spectacular-conservative",
      "metadata": {
        "colab": {
          "base_uri": "https://localhost:8080/",
          "height": 0
        },
        "id": "spectacular-conservative",
        "outputId": "d756eb03-739f-478b-b830-84d573688a19"
      },
      "outputs": [
        {
          "output_type": "stream",
          "name": "stdout",
          "text": [
            "Performance on test data:\n",
            "\tLoss: -6.9138\n",
            "\tAccuracy: 100.0%\n"
          ]
        }
      ],
      "source": [
        "model5.eval()  # set model to evaluation mode\n",
        "with no_grad():\n",
        "\n",
        "    correct = 0\n",
        "    for batch_idx, (data, target) in enumerate(test_loader):\n",
        "        output = model5(data)\n",
        "        if len(output.shape) == 1:\n",
        "            output = output.reshape(1, *output.shape)\n",
        "\n",
        "        pred = output.argmax(dim=1, keepdim=True)\n",
        "        correct += pred.eq(target.view_as(pred)).sum().item()\n",
        "\n",
        "        loss = loss_func(output, target)\n",
        "        total_loss.append(loss.item())\n",
        "\n",
        "    print(\n",
        "        \"Performance on test data:\\n\\tLoss: {:.4f}\\n\\tAccuracy: {:.1f}%\".format(\n",
        "            sum(total_loss) / len(total_loss), correct / len(test_loader) / batch_size * 100\n",
        "        )\n",
        "    )"
      ]
    },
    {
      "cell_type": "code",
      "execution_count": 59,
      "id": "color-brave",
      "metadata": {
        "tags": [
          "nbsphinx-thumbnail"
        ],
        "colab": {
          "base_uri": "https://localhost:8080/",
          "height": 170
        },
        "id": "color-brave",
        "outputId": "16c82d8d-c615-4a6a-f907-f13e28bbb285"
      },
      "outputs": [
        {
          "output_type": "display_data",
          "data": {
            "text/plain": [
              "<Figure size 1000x300 with 6 Axes>"
            ],
            "image/png": "[encoded data removed]"
          },
          "metadata": {}
        }
      ],
      "source": [
        "# Plot predicted labels\n",
        "\n",
        "n_samples_show = 6\n",
        "count = 0\n",
        "fig, axes = plt.subplots(nrows=1, ncols=n_samples_show, figsize=(10, 3))\n",
        "\n",
        "model5.eval()\n",
        "with no_grad():\n",
        "    for batch_idx, (data, target) in enumerate(test_loader):\n",
        "        if count == n_samples_show:\n",
        "            break\n",
        "        output = model5(data[0:1])\n",
        "        if len(output.shape) == 1:\n",
        "            output = output.reshape(1, *output.shape)\n",
        "\n",
        "        pred = output.argmax(dim=1, keepdim=True)\n",
        "\n",
        "        axes[count].imshow(data[0].numpy().squeeze(), cmap=\"gray\")\n",
        "\n",
        "        axes[count].set_xticks([])\n",
        "        axes[count].set_yticks([])\n",
        "        axes[count].set_title(\"Predicted {}\".format(pred.item()))\n",
        "\n",
        "        count += 1"
      ]
    },
    {
      "cell_type": "markdown",
      "id": "prompt-visibility",
      "metadata": {
        "id": "prompt-visibility"
      },
      "source": [
        "🎉🎉🎉🎉\n",
        "**You are now able to experiment with your own hybrid datasets and architectures using Qiskit Machine Learning.**\n",
        "**Good Luck!**"
      ]
    },
    {
      "cell_type": "code",
      "execution_count": 60,
      "id": "related-wheat",
      "metadata": {
        "tags": [],
        "colab": {
          "base_uri": "https://localhost:8080/",
          "height": 536
        },
        "id": "related-wheat",
        "outputId": "70df8ca2-f425-4b70-ed9a-342d914a7b9f"
      },
      "outputs": [
        {
          "output_type": "display_data",
          "data": {
            "text/plain": [
              "<IPython.core.display.HTML object>"
            ],
            "text/html": [
              "<h3>Version Information</h3><table><tr><th>Software</th><th>Version</th></tr><tr><td><code>qiskit</code></td><td>0.45.1</td></tr><tr><td><code>qiskit_machine_learning</code></td><td>0.7.1</td></tr><tr><td><code>qiskit_algorithms</code></td><td>0.2.1</td></tr><tr><th colspan='2'>System information</th></tr><tr><td>Python version</td><td>3.10.12</td></tr><tr><td>Python compiler</td><td>GCC 11.4.0</td></tr><tr><td>Python build</td><td>main, Nov 20 2023 15:14:05</td></tr><tr><td>OS</td><td>Linux</td></tr><tr><td>CPUs</td><td>1</td></tr><tr><td>Memory (Gb)</td><td>12.6783447265625</td></tr><tr><td colspan='2'>Sun Dec 03 17:10:02 2023 UTC</td></tr></table>"
            ]
          },
          "metadata": {}
        },
        {
          "output_type": "display_data",
          "data": {
            "text/plain": [
              "<IPython.core.display.HTML object>"
            ],
            "text/html": [
              "<div style='width: 100%; background-color:#d5d9e0;padding-left: 10px; padding-bottom: 10px; padding-right: 10px; padding-top: 5px'><h3>This code is a part of Qiskit</h3><p>&copy; Copyright IBM 2017, 2023.</p><p>This code is licensed under the Apache License, Version 2.0. You may<br>obtain a copy of this license in the LICENSE.txt file in the root directory<br> of this source tree or at http://www.apache.org/licenses/LICENSE-2.0.<p>Any modifications or derivative works of this code must retain this<br>copyright notice, and modified files need to carry a notice indicating<br>that they have been altered from the originals.</p></div>"
            ]
          },
          "metadata": {}
        }
      ],
      "source": [
        "import qiskit.tools.jupyter\n",
        "\n",
        "%qiskit_version_table\n",
        "%qiskit_copyright"
      ]
    },
    {
      "cell_type": "code",
      "source": [
        "seconds = time.time()\n",
        "print(\"Time in seconds since end of run:\", seconds)\n",
        "local_time = time.ctime(seconds)\n",
        "print(local_time)"
      ],
      "metadata": {
        "colab": {
          "base_uri": "https://localhost:8080/",
          "height": 0
        },
        "id": "40cv8lXho6XN",
        "outputId": "c5bfc503-60a1-4fc5-bc10-42e18b0fa303"
      },
      "id": "40cv8lXho6XN",
      "execution_count": 61,
      "outputs": [
        {
          "output_type": "stream",
          "name": "stdout",
          "text": [
            "Time in seconds since end of run: 1701623402.226556\n",
            "Sun Dec  3 17:10:02 2023\n"
          ]
        }
      ]
    }
  ],
  "metadata": {
    "kernelspec": {
      "display_name": "Python 3 (ipykernel)",
      "language": "python",
      "name": "python3"
    },
    "language_info": {
      "codemirror_mode": {
        "name": "ipython",
        "version": 3
      },
      "file_extension": ".py",
      "mimetype": "text/x-python",
      "name": "python",
      "nbconvert_exporter": "python",
      "pygments_lexer": "ipython3",
      "version": "3.10.8"
    },
    "toc": {
      "base_numbering": 1,
      "nav_menu": {},
      "number_sections": true,
      "sideBar": true,
      "skip_h1_title": false,
      "title_cell": "Table of Contents",
      "title_sidebar": "Contents",
      "toc_cell": false,
      "toc_position": {},
      "toc_section_display": true,
      "toc_window_display": false
    },
    "colab": {
      "provenance": []
    }
  },
  "nbformat": 4,
  "nbformat_minor": 5
}