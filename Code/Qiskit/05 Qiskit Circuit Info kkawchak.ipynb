{
 "cells": [
  {
   "cell_type": "code",
   "execution_count": 2,
   "id": "6ac5d8fc-cdd4-4dde-ba4d-fb79f1c45574",
   "metadata": {
    "tags": []
   },
   "outputs": [],
   "source": [
    "from qiskit import QuantumCircuit, transpile\n",
    "from qiskit.tools.jupyter import *\n",
    "from qiskit.visualization import *\n",
    "from ibm_quantum_widgets import *\n",
    "\n",
    "# qiskit-ibmq-provider has been deprecated.\n",
    "# Please see the Migration Guides in https://ibm.biz/provider_migration_guide for more detail.\n",
    "from qiskit_ibm_runtime import QiskitRuntimeService, Sampler, Estimator, Session, Options\n",
    "\n",
    "# Loading your IBM Quantum account(s)\n",
    "service = QiskitRuntimeService(channel=\"ibm_quantum\")"
   ]
  },
  {
   "cell_type": "code",
   "execution_count": 5,
   "id": "f0bce44f-1078-4d17-8c3a-98d726526908",
   "metadata": {
    "tags": []
   },
   "outputs": [
    {
     "data": {
      "image/png": "[encoded data removed]",
      "text/plain": [
       "<Figure size 454.517x284.278 with 1 Axes>"
      ]
     },
     "execution_count": 5,
     "metadata": {},
     "output_type": "execute_result"
    }
   ],
   "source": [
    "circuit = QuantumCircuit(2, 2)\n",
    "\n",
    "circuit.ry(0.7, 0)\n",
    "circuit.cx(0, 1)\n",
    "circuit.measure(range(2), range(2));\n",
    "circuit.draw(output='mpl')"
   ]
  },
  {
   "cell_type": "code",
   "execution_count": 7,
   "id": "eda9ee9c-93b5-47e3-bb21-2218cb7a84d5",
   "metadata": {
    "tags": []
   },
   "outputs": [
    {
     "data": {
      "text/plain": [
       "4"
      ]
     },
     "execution_count": 7,
     "metadata": {},
     "output_type": "execute_result"
    }
   ],
   "source": [
    "circuit.width()"
   ]
  },
  {
   "cell_type": "code",
   "execution_count": 6,
   "id": "a2feeabf-4cb5-4f52-9171-d6d4acef8280",
   "metadata": {
    "tags": []
   },
   "outputs": [
    {
     "data": {
      "text/plain": [
       "3"
      ]
     },
     "execution_count": 6,
     "metadata": {},
     "output_type": "execute_result"
    }
   ],
   "source": [
    "circuit.depth()"
   ]
  },
  {
   "cell_type": "code",
   "execution_count": 8,
   "id": "0ea745c2-8465-41a9-8d7e-e7a118f7f706",
   "metadata": {
    "tags": []
   },
   "outputs": [
    {
     "data": {
      "text/plain": [
       "4"
      ]
     },
     "execution_count": 8,
     "metadata": {},
     "output_type": "execute_result"
    }
   ],
   "source": [
    "circuit.size()"
   ]
  },
  {
   "cell_type": "code",
   "execution_count": null,
   "id": "4aa42f58-afc0-4989-83cd-12543c95fadf",
   "metadata": {},
   "outputs": [],
   "source": []
  }
 ],
 "metadata": {
  "kernelspec": {
   "display_name": "Python 3 (ipykernel)",
   "language": "python",
   "name": "python3"
  },
  "language_info": {
   "codemirror_mode": {
    "name": "ipython",
    "version": 3
   },
   "file_extension": ".py",
   "mimetype": "text/x-python",
   "name": "python",
   "nbconvert_exporter": "python",
   "pygments_lexer": "ipython3",
   "version": "3.10.8"
  },
  "widgets": {
   "application/vnd.jupyter.widget-state+json": {
    "state": {
     "0727bd9f140a4e629f9fb56a6f5ac706": {
      "model_module": "@jupyter-widgets/controls",
      "model_module_version": "2.0.0",
      "model_name": "HTMLModel",
      "state": {
       "layout": "IPY_MODEL_57a13bab24244eb6b357aacba5e5741f",
       "style": "IPY_MODEL_aecbe7d2e4e04e85b2260bee2237a38d",
       "value": "<h5>Message</h5>"
      }
     },
     "15d775c5fc20491c8c015df36ad62174": {
      "model_module": "@jupyter-widgets/controls",
      "model_module_version": "2.0.0",
      "model_name": "ButtonModel",
      "state": {
       "button_style": "primary",
       "description": "Clear",
       "layout": "IPY_MODEL_c94418f17fa844449b4def85b7307a32",
       "style": "IPY_MODEL_f38851e3994e457483c3ffc4a9b7151c",
       "tooltip": null
      }
     },
     "253408c1dd554e6997c96c15d969719f": {
      "model_module": "@jupyter-widgets/controls",
      "model_module_version": "2.0.0",
      "model_name": "HTMLModel",
      "state": {
       "layout": "IPY_MODEL_ccb5b7d974664152a3fc860e7d86cc5f",
       "style": "IPY_MODEL_e9b2d1559871492d8c42c0ac92dc9977",
       "value": "<h5>Queue</h5>"
      }
     },
     "2d5d74313d544ef6ae679caa6c0ce177": {
      "model_module": "@jupyter-widgets/controls",
      "model_module_version": "2.0.0",
      "model_name": "GridBoxModel",
      "state": {
       "children": [
        "IPY_MODEL_15d775c5fc20491c8c015df36ad62174"
       ],
       "layout": "IPY_MODEL_30faaab4b89846c1bf3a27bdf5135311"
      }
     },
     "30faaab4b89846c1bf3a27bdf5135311": {
      "model_module": "@jupyter-widgets/base",
      "model_module_version": "2.0.0",
      "model_name": "LayoutModel",
      "state": {
       "grid_template_areas": "\n                                       \". . . . right \"\n                                        ",
       "grid_template_columns": "20% 20% 20% 20% 20%",
       "width": "100%"
      }
     },
     "3cda0804d60d420886a8417e7c8f95da": {
      "model_module": "@jupyter-widgets/controls",
      "model_module_version": "2.0.0",
      "model_name": "HTMLStyleModel",
      "state": {
       "description_width": "",
       "font_size": null,
       "text_color": null
      }
     },
     "44ba250993a94735ab8a41edc9d2e92c": {
      "model_module": "@jupyter-widgets/controls",
      "model_module_version": "2.0.0",
      "model_name": "HTMLStyleModel",
      "state": {
       "description_width": "",
       "font_size": null,
       "text_color": null
      }
     },
     "57a13bab24244eb6b357aacba5e5741f": {
      "model_module": "@jupyter-widgets/base",
      "model_module_version": "2.0.0",
      "model_name": "LayoutModel",
      "state": {}
     },
     "6838f2d2613a48ce8871bf49bb971218": {
      "model_module": "@jupyter-widgets/base",
      "model_module_version": "2.0.0",
      "model_name": "LayoutModel",
      "state": {
       "margin": "0px 0px 0px 37px",
       "width": "600px"
      }
     },
     "71492352f91b4d7d90b187285c856838": {
      "model_module": "@jupyter-widgets/controls",
      "model_module_version": "2.0.0",
      "model_name": "HTMLModel",
      "state": {
       "layout": "IPY_MODEL_71f28644027e44818f2dd4c358ced8e2",
       "style": "IPY_MODEL_95d50e4ebe1b42b69e34834a695b4cc4",
       "value": "<h5>Status</h5>"
      }
     },
     "71f28644027e44818f2dd4c358ced8e2": {
      "model_module": "@jupyter-widgets/base",
      "model_module_version": "2.0.0",
      "model_name": "LayoutModel",
      "state": {
       "width": "95px"
      }
     },
     "76650f1dcbd04cc4ad8f258d88e9d766": {
      "model_module": "@jupyter-widgets/base",
      "model_module_version": "2.0.0",
      "model_name": "LayoutModel",
      "state": {
       "width": "145px"
      }
     },
     "82ba2093e60344fe8554aebfbd064f62": {
      "model_module": "@jupyter-widgets/base",
      "model_module_version": "2.0.0",
      "model_name": "LayoutModel",
      "state": {
       "width": "190px"
      }
     },
     "86939a022d4245d1afcb1cf3bf45f99a": {
      "model_module": "@jupyter-widgets/controls",
      "model_module_version": "2.0.0",
      "model_name": "HTMLStyleModel",
      "state": {
       "description_width": "",
       "font_size": null,
       "text_color": null
      }
     },
     "89cc971019c0466fbcade7dca00c6aa4": {
      "model_module": "@jupyter-widgets/controls",
      "model_module_version": "2.0.0",
      "model_name": "HTMLModel",
      "state": {
       "layout": "IPY_MODEL_76650f1dcbd04cc4ad8f258d88e9d766",
       "style": "IPY_MODEL_86939a022d4245d1afcb1cf3bf45f99a",
       "value": "<h5>Backend</h5>"
      }
     },
     "95d50e4ebe1b42b69e34834a695b4cc4": {
      "model_module": "@jupyter-widgets/controls",
      "model_module_version": "2.0.0",
      "model_name": "HTMLStyleModel",
      "state": {
       "description_width": "",
       "font_size": null,
       "text_color": null
      }
     },
     "a4d81b5701a941e5ba7ec733c832e932": {
      "model_module": "@jupyter-widgets/controls",
      "model_module_version": "2.0.0",
      "model_name": "HBoxModel",
      "state": {
       "children": [
        "IPY_MODEL_fa40955b215c4f2a8eecdba41b5b1a13",
        "IPY_MODEL_89cc971019c0466fbcade7dca00c6aa4",
        "IPY_MODEL_71492352f91b4d7d90b187285c856838",
        "IPY_MODEL_253408c1dd554e6997c96c15d969719f",
        "IPY_MODEL_0727bd9f140a4e629f9fb56a6f5ac706"
       ],
       "layout": "IPY_MODEL_6838f2d2613a48ce8871bf49bb971218"
      }
     },
     "aecbe7d2e4e04e85b2260bee2237a38d": {
      "model_module": "@jupyter-widgets/controls",
      "model_module_version": "2.0.0",
      "model_name": "HTMLStyleModel",
      "state": {
       "description_width": "",
       "font_size": null,
       "text_color": null
      }
     },
     "c94418f17fa844449b4def85b7307a32": {
      "model_module": "@jupyter-widgets/base",
      "model_module_version": "2.0.0",
      "model_name": "LayoutModel",
      "state": {
       "grid_area": "right",
       "padding": "0px 0px 0px 0px",
       "width": "70px"
      }
     },
     "ccb5b7d974664152a3fc860e7d86cc5f": {
      "model_module": "@jupyter-widgets/base",
      "model_module_version": "2.0.0",
      "model_name": "LayoutModel",
      "state": {
       "width": "70px"
      }
     },
     "d45d5e62419e4b238f35c7fc98335caf": {
      "model_module": "@jupyter-widgets/controls",
      "model_module_version": "2.0.0",
      "model_name": "HTMLModel",
      "state": {
       "layout": "IPY_MODEL_e8a2df29e0514dff9e561a783da81de1",
       "style": "IPY_MODEL_3cda0804d60d420886a8417e7c8f95da",
       "value": "<p style='font-family: IBM Plex Sans, Arial, Helvetica, sans-serif; font-size: 20px; font-weight: medium;'>Circuit Properties</p>"
      }
     },
     "e8a2df29e0514dff9e561a783da81de1": {
      "model_module": "@jupyter-widgets/base",
      "model_module_version": "2.0.0",
      "model_name": "LayoutModel",
      "state": {
       "margin": "0px 0px 10px 0px"
      }
     },
     "e9b2d1559871492d8c42c0ac92dc9977": {
      "model_module": "@jupyter-widgets/controls",
      "model_module_version": "2.0.0",
      "model_name": "HTMLStyleModel",
      "state": {
       "description_width": "",
       "font_size": null,
       "text_color": null
      }
     },
     "f38851e3994e457483c3ffc4a9b7151c": {
      "model_module": "@jupyter-widgets/controls",
      "model_module_version": "2.0.0",
      "model_name": "ButtonStyleModel",
      "state": {
       "font_family": null,
       "font_size": null,
       "font_style": null,
       "font_variant": null,
       "font_weight": null,
       "text_color": null,
       "text_decoration": null
      }
     },
     "fa40955b215c4f2a8eecdba41b5b1a13": {
      "model_module": "@jupyter-widgets/controls",
      "model_module_version": "2.0.0",
      "model_name": "HTMLModel",
      "state": {
       "layout": "IPY_MODEL_82ba2093e60344fe8554aebfbd064f62",
       "style": "IPY_MODEL_44ba250993a94735ab8a41edc9d2e92c",
       "value": "<h5>Job ID</h5>"
      }
     }
    },
    "version_major": 2,
    "version_minor": 0
   }
  }
 },
 "nbformat": 4,
 "nbformat_minor": 5
}
