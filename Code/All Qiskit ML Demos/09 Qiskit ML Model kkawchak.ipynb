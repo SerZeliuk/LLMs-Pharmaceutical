{
 "cells": [
  {
   "cell_type": "markdown",
   "id": "measured-liabilities",
   "metadata": {},
   "source": [
    "# Saving, Loading Qiskit Machine Learning Models and Continuous Training\n",
    "\n",
    "In this tutorial we will show how to save and load Qiskit machine learning models. Ability to save a model is very important, especially when a significant amount of time is invested in training a model on a real hardware. Also, we will show how to resume training of the previously saved model.\n",
    "\n",
    "In this tutorial we will cover how to:\n",
    "\n",
    "* Generate a simple dataset, split it into training/test datasets and plot them\n",
    "* Train and save a model\n",
    "* Load a saved model and resume training\n",
    "* Evaluate performance of models\n",
    "* PyTorch hybrid models"
   ]
  },
  {
   "cell_type": "markdown",
   "id": "speaking-glance",
   "metadata": {},
   "source": [
    "First off, we start from the required imports. We'll heavily use SciKit-Learn on the data preparation step. In the next cell we also fix a random seed for reproducibility purposes."
   ]
  },
  {
   "cell_type": "code",
   "execution_count": 25,
   "id": "exposed-cholesterol",
   "metadata": {},
   "outputs": [],
   "source": [
    "import matplotlib.pyplot as plt\n",
    "import numpy as np\n",
    "from qiskit.algorithms.optimizers import COBYLA, ADAM, AQGD\n",
    "from qiskit.circuit.library import RealAmplitudes\n",
    "from qiskit.primitives import Sampler\n",
    "from qiskit.utils import algorithm_globals\n",
    "from sklearn.model_selection import train_test_split\n",
    "from sklearn.preprocessing import OneHotEncoder, MinMaxScaler\n",
    "\n",
    "from qiskit_machine_learning.algorithms.classifiers import VQC\n",
    "\n",
    "from IPython.display import clear_output\n",
    "\n",
    "algorithm_globals.random_seed = 42"
   ]
  },
  {
   "cell_type": "markdown",
   "id": "rural-mileage",
   "metadata": {},
   "source": [
    "We will be using two quantum simulators, in particular, two instances of the `Sampler` primitive. We'll start training on the first one, then will resume training on the second one. The approach shown in this tutorial can be used to train a model on a real hardware available on the cloud and then re-use the model for inference on a local simulator."
   ]
  },
  {
   "cell_type": "code",
   "execution_count": 26,
   "id": "charming-seating",
   "metadata": {},
   "outputs": [],
   "source": [
    "sampler1 = Sampler()\n",
    "\n",
    "sampler2 = Sampler()"
   ]
  },
  {
   "cell_type": "markdown",
   "id": "careful-allowance",
   "metadata": {},
   "source": [
    "## 1. Prepare a dataset\n",
    "\n",
    "Next step is to prepare a dataset. Here, we generate some data in the same way as in other tutorials. The difference is that we apply some transformations to the generated data. We generates `40` samples, each sample has `2` features, so our features is an array of shape `(40, 2)`. Labels are obtained by summing up features by columns and if the sum is more than `1` then this sample is labeled as `1` and `0` otherwise."
   ]
  },
  {
   "cell_type": "code",
   "execution_count": 27,
   "id": "ceramic-florida",
   "metadata": {},
   "outputs": [],
   "source": [
    "num_samples = 40\n",
    "num_features = 2\n",
    "features = 2 * algorithm_globals.random.random([num_samples, num_features]) - 1\n",
    "labels = 1 * (np.sum(features, axis=1) >= 0)  # in { 0,  1}"
   ]
  },
  {
   "cell_type": "markdown",
   "id": "reduced-injury",
   "metadata": {},
   "source": [
    "Then, we scale down our features into a range of `[0, 1]` by applying `MinMaxScaler` from SciKit-Learn. Model training convergence is better when this  transformation is applied."
   ]
  },
  {
   "cell_type": "code",
   "execution_count": 28,
   "id": "dirty-director",
   "metadata": {},
   "outputs": [
    {
     "data": {
      "text/plain": [
       "(40, 2)"
      ]
     },
     "execution_count": 28,
     "metadata": {},
     "output_type": "execute_result"
    }
   ],
   "source": [
    "features = MinMaxScaler().fit_transform(features)\n",
    "features.shape"
   ]
  },
  {
   "cell_type": "markdown",
   "id": "julian-amount",
   "metadata": {},
   "source": [
    "Let's take a look at the features of the first `5` samples of our dataset after the transformation."
   ]
  },
  {
   "cell_type": "code",
   "execution_count": 29,
   "id": "thorough-script",
   "metadata": {},
   "outputs": [
    {
     "data": {
      "text/plain": [
       "array([[0.79067335, 0.44566143],\n",
       "       [0.88072937, 0.7126244 ],\n",
       "       [0.06741233, 1.        ],\n",
       "       [0.7770372 , 0.80422817],\n",
       "       [0.10351936, 0.45754615]])"
      ]
     },
     "execution_count": 29,
     "metadata": {},
     "output_type": "execute_result"
    }
   ],
   "source": [
    "features[0:5, :]"
   ]
  },
  {
   "cell_type": "markdown",
   "id": "racial-aluminum",
   "metadata": {},
   "source": [
    "We choose `VQC` or Variational Quantum Classifier as a model we will train. This model, by default, takes one-hot encoded labels, so we have to transform the labels that are in the set of `{0, 1}` into one-hot representation. We employ SciKit-Learn for this transformation as well. Please note that the input array must be reshaped to `(num_samples, 1)` first. The `OneHotEncoder` encoder does not work with 1D arrays and our labels is a 1D array. In this case a user must decide either an array has only one feature(our case!) or has one sample. Also, by default the encoder returns sparse arrays, but for dataset plotting it is easier to have dense arrays, so we set `sparse` to `False`. "
   ]
  },
  {
   "cell_type": "code",
   "execution_count": 30,
   "id": "understood-ukraine",
   "metadata": {},
   "outputs": [
    {
     "name": "stderr",
     "output_type": "stream",
     "text": [
      "/opt/conda/lib/python3.10/site-packages/sklearn/preprocessing/_encoders.py:828: FutureWarning: `sparse` was renamed to `sparse_output` in version 1.2 and will be removed in 1.4. `sparse_output` is ignored unless you leave `sparse` to its default value.\n",
      "  warnings.warn(\n"
     ]
    },
    {
     "data": {
      "text/plain": [
       "(40, 2)"
      ]
     },
     "execution_count": 30,
     "metadata": {},
     "output_type": "execute_result"
    }
   ],
   "source": [
    "labels = OneHotEncoder(sparse=False).fit_transform(labels.reshape(-1, 1))\n",
    "labels.shape"
   ]
  },
  {
   "cell_type": "markdown",
   "id": "statewide-symbol",
   "metadata": {},
   "source": [
    "Let's take a look at the labels of the first `5` labels of the dataset. The labels should be one-hot encoded."
   ]
  },
  {
   "cell_type": "code",
   "execution_count": 31,
   "id": "german-agreement",
   "metadata": {},
   "outputs": [
    {
     "data": {
      "text/plain": [
       "array([[0., 1.],\n",
       "       [0., 1.],\n",
       "       [0., 1.],\n",
       "       [0., 1.],\n",
       "       [1., 0.]])"
      ]
     },
     "execution_count": 31,
     "metadata": {},
     "output_type": "execute_result"
    }
   ],
   "source": [
    "labels[0:5, :]"
   ]
  },
  {
   "cell_type": "markdown",
   "id": "aquatic-toner",
   "metadata": {},
   "source": [
    "Now we split our dataset into two parts: a training dataset and a test one. As a rule of thumb, 80% of a full dataset should go into a training part and 20% into a test one. Our training dataset has `30` samples. The test dataset should be used only once, when a model is trained to verify how well the model behaves on unseen data. We employ `train_test_split` from SciKit-Learn."
   ]
  },
  {
   "cell_type": "code",
   "execution_count": 32,
   "id": "about-ordinary",
   "metadata": {},
   "outputs": [
    {
     "data": {
      "text/plain": [
       "(30, 2)"
      ]
     },
     "execution_count": 32,
     "metadata": {},
     "output_type": "execute_result"
    }
   ],
   "source": [
    "train_features, test_features, train_labels, test_labels = train_test_split(\n",
    "    features, labels, train_size=30, random_state=algorithm_globals.random_seed\n",
    ")\n",
    "train_features.shape"
   ]
  },
  {
   "cell_type": "markdown",
   "id": "critical-angel",
   "metadata": {},
   "source": [
    "Now it is time to see how our dataset looks like. Let's plot it."
   ]
  },
  {
   "cell_type": "code",
   "execution_count": 33,
   "id": "fifty-scottish",
   "metadata": {},
   "outputs": [
    {
     "data": {
      "image/png": "[encoded data removed]",
      "text/plain": [
       "<Figure size 600x400 with 1 Axes>"
      ]
     },
     "metadata": {},
     "output_type": "display_data"
    }
   ],
   "source": [
    "def plot_dataset():\n",
    "    plt.scatter(\n",
    "        train_features[np.where(train_labels[:, 0] == 0), 0],\n",
    "        train_features[np.where(train_labels[:, 0] == 0), 1],\n",
    "        marker=\"o\",\n",
    "        color=\"b\",\n",
    "        label=\"Label 0 train\",\n",
    "    )\n",
    "    plt.scatter(\n",
    "        train_features[np.where(train_labels[:, 0] == 1), 0],\n",
    "        train_features[np.where(train_labels[:, 0] == 1), 1],\n",
    "        marker=\"o\",\n",
    "        color=\"g\",\n",
    "        label=\"Label 1 train\",\n",
    "    )\n",
    "\n",
    "    plt.scatter(\n",
    "        test_features[np.where(test_labels[:, 0] == 0), 0],\n",
    "        test_features[np.where(test_labels[:, 0] == 0), 1],\n",
    "        marker=\"o\",\n",
    "        facecolors=\"w\",\n",
    "        edgecolors=\"b\",\n",
    "        label=\"Label 0 test\",\n",
    "    )\n",
    "    plt.scatter(\n",
    "        test_features[np.where(test_labels[:, 0] == 1), 0],\n",
    "        test_features[np.where(test_labels[:, 0] == 1), 1],\n",
    "        marker=\"o\",\n",
    "        facecolors=\"w\",\n",
    "        edgecolors=\"g\",\n",
    "        label=\"Label 1 test\",\n",
    "    )\n",
    "\n",
    "    plt.legend(bbox_to_anchor=(1.05, 1), loc=\"upper left\", borderaxespad=0.0)\n",
    "    plt.plot([1, 0], [0, 1], \"--\", color=\"black\")\n",
    "\n",
    "\n",
    "plot_dataset()\n",
    "plt.show()"
   ]
  },
  {
   "cell_type": "markdown",
   "id": "regulation-depression",
   "metadata": {},
   "source": [
    "On the plot above we see:\n",
    "\n",
    "* Solid <span style=\"color:blue\">blue</span> dots are the samples from the training dataset labeled as `0`\n",
    "* Empty <span style=\"color:blue\">blue</span> dots are the samples from the test dataset labeled as `0`\n",
    "* Solid <span style=\"color:green\">green</span> dots are the samples from the training dataset labeled as `1`\n",
    "* Empty <span style=\"color:green\">green</span> dots are the samples from the test dataset labeled as `1`\n",
    "\n",
    "We'll train our model using solid dots and verify it using empty dots."
   ]
  },
  {
   "cell_type": "markdown",
   "id": "egyptian-campaign",
   "metadata": {},
   "source": [
    "## 2. Train a model and save it\n",
    "\n",
    "We'll train our model in two steps. On the first step we train our model in `20` iterations."
   ]
  },
  {
   "cell_type": "code",
   "execution_count": 34,
   "id": "brief-lending",
   "metadata": {},
   "outputs": [],
   "source": [
    "maxiter = 20"
   ]
  },
  {
   "cell_type": "markdown",
   "id": "crude-franklin",
   "metadata": {},
   "source": [
    "Create an empty array for callback to store values of the objective function."
   ]
  },
  {
   "cell_type": "code",
   "execution_count": 35,
   "id": "integrated-palestinian",
   "metadata": {},
   "outputs": [],
   "source": [
    "objective_values = []"
   ]
  },
  {
   "cell_type": "markdown",
   "id": "legendary-sherman",
   "metadata": {},
   "source": [
    "We re-use a callback function from the Neural Network Classifier & Regressor tutorial to plot iteration versus objective function value with some minor tweaks to plot objective values at each step."
   ]
  },
  {
   "cell_type": "code",
   "execution_count": 36,
   "id": "periodic-apparel",
   "metadata": {},
   "outputs": [],
   "source": [
    "# callback function that draws a live plot when the .fit() method is called\n",
    "def callback_graph(_, objective_value):\n",
    "    clear_output(wait=True)\n",
    "    objective_values.append(objective_value)\n",
    "\n",
    "    plt.title(\"Objective function value against iteration\")\n",
    "    plt.xlabel(\"Iteration\")\n",
    "    plt.ylabel(\"Objective function value\")\n",
    "\n",
    "    stage1_len = np.min((len(objective_values), maxiter))\n",
    "    stage1_x = np.linspace(1, stage1_len, stage1_len)\n",
    "    stage1_y = objective_values[:stage1_len]\n",
    "\n",
    "    stage2_len = np.max((0, len(objective_values) - maxiter))\n",
    "    stage2_x = np.linspace(maxiter, maxiter + stage2_len - 1, stage2_len)\n",
    "    stage2_y = objective_values[maxiter : maxiter + stage2_len]\n",
    "\n",
    "    plt.plot(stage1_x, stage1_y, color=\"orange\")\n",
    "    plt.plot(stage2_x, stage2_y, color=\"purple\")\n",
    "    plt.show()\n",
    "\n",
    "\n",
    "plt.rcParams[\"figure.figsize\"] = (12, 6)"
   ]
  },
  {
   "cell_type": "markdown",
   "id": "institutional-cyprus",
   "metadata": {},
   "source": [
    "As mentioned above we train a `VQC` model and set `COBYLA` as an optimizer with a chosen value of the `maxiter` parameter. Then we evaluate performance of the model to see how well it was trained. Then we save this model for a file. On the second step we load this model and will continue to work with it.\n",
    "\n",
    "Here, we manually construct an ansatz to fix an initial point where to start optimization from."
   ]
  },
  {
   "cell_type": "code",
   "execution_count": 37,
   "id": "electronic-impact",
   "metadata": {},
   "outputs": [],
   "source": [
    "original_optimizer = AQGD(maxiter=maxiter)\n",
    "\n",
    "ansatz = RealAmplitudes(num_features)\n",
    "initial_point = np.asarray([0.5] * ansatz.num_parameters)"
   ]
  },
  {
   "cell_type": "markdown",
   "id": "separated-classroom",
   "metadata": {},
   "source": [
    "We create a model and set a sampler to the first sampler we created earlier."
   ]
  },
  {
   "cell_type": "code",
   "execution_count": 38,
   "id": "revolutionary-freeze",
   "metadata": {},
   "outputs": [],
   "source": [
    "original_classifier = VQC(\n",
    "    ansatz=ansatz, optimizer=original_optimizer, callback=callback_graph, sampler=sampler1\n",
    ")"
   ]
  },
  {
   "cell_type": "markdown",
   "id": "minute-mexican",
   "metadata": {},
   "source": [
    "Now it is time to train the model."
   ]
  },
  {
   "cell_type": "code",
   "execution_count": 39,
   "id": "suited-appointment",
   "metadata": {},
   "outputs": [
    {
     "data": {
      "image/png": "[encoded data removed]",
      "text/plain": [
       "<Figure size 1200x600 with 1 Axes>"
      ]
     },
     "metadata": {},
     "output_type": "display_data"
    },
    {
     "data": {
      "text/plain": [
       "<qiskit_machine_learning.algorithms.classifiers.vqc.VQC at 0x7f85463b1cf0>"
      ]
     },
     "execution_count": 39,
     "metadata": {},
     "output_type": "execute_result"
    }
   ],
   "source": [
    "original_classifier.fit(train_features, train_labels)"
   ]
  },
  {
   "cell_type": "markdown",
   "id": "revised-torture",
   "metadata": {},
   "source": [
    "Let's see how well our model performs after the first step of training."
   ]
  },
  {
   "cell_type": "code",
   "execution_count": 40,
   "id": "greek-memphis",
   "metadata": {},
   "outputs": [
    {
     "name": "stdout",
     "output_type": "stream",
     "text": [
      "Train score 0.8333333333333334\n",
      "Test score  0.8\n"
     ]
    }
   ],
   "source": [
    "print(\"Train score\", original_classifier.score(train_features, train_labels))\n",
    "print(\"Test score \", original_classifier.score(test_features, test_labels))"
   ]
  },
  {
   "cell_type": "markdown",
   "id": "rental-moses",
   "metadata": {},
   "source": [
    "Next, we save the model. You may choose any file name you want. Please note that the `save` method does not append an extension if it is not specified in the file name."
   ]
  },
  {
   "cell_type": "code",
   "execution_count": 41,
   "id": "broadband-interview",
   "metadata": {},
   "outputs": [],
   "source": [
    "original_classifier.save(\"vqc_classifier.model\")"
   ]
  },
  {
   "cell_type": "markdown",
   "id": "sitting-thread",
   "metadata": {},
   "source": [
    "## 3. Load a model and continue training\n",
    "\n",
    "To load a model a user have to call a class method `load` of the corresponding model class. In our case it is `VQC`. We pass the same file name we used in the previous section where we saved our model."
   ]
  },
  {
   "cell_type": "code",
   "execution_count": 42,
   "id": "steady-europe",
   "metadata": {},
   "outputs": [],
   "source": [
    "loaded_classifier = VQC.load(\"vqc_classifier.model\")"
   ]
  },
  {
   "cell_type": "markdown",
   "id": "reverse-shaft",
   "metadata": {},
   "source": [
    "Next, we want to alter the model in a way it can be trained further and on another simulator. To do so, we set the `warm_start` property. When it is set to `True` and `fit()` is called again the model uses weights from previous fit to start a new fit. We also set the `sampler` property of the underlying network to the second instance of the `Sampler` primitive we created in the beginning of the tutorial. Finally, we create and set a new optimizer with `maxiter` is set to `80`, so the total number of iterations is `100`."
   ]
  },
  {
   "cell_type": "code",
   "execution_count": 43,
   "id": "accessible-cowboy",
   "metadata": {},
   "outputs": [],
   "source": [
    "loaded_classifier.warm_start = True\n",
    "loaded_classifier.neural_network.sampler = sampler2\n",
    "loaded_classifier.optimizer = AQGD(maxiter=80)"
   ]
  },
  {
   "cell_type": "markdown",
   "id": "revised-bruce",
   "metadata": {},
   "source": [
    "Now we continue training our model from the state we finished in the previous section."
   ]
  },
  {
   "cell_type": "code",
   "execution_count": 44,
   "id": "metric-cyprus",
   "metadata": {
    "nbsphinx-thumbnail": {
     "output-index": 0
    }
   },
   "outputs": [
    {
     "data": {
      "image/png": "[encoded data removed]",
      "text/plain": [
       "<Figure size 1200x600 with 1 Axes>"
      ]
     },
     "metadata": {},
     "output_type": "display_data"
    },
    {
     "data": {
      "text/plain": [
       "<qiskit_machine_learning.algorithms.classifiers.vqc.VQC at 0x7f854629cd60>"
      ]
     },
     "execution_count": 44,
     "metadata": {},
     "output_type": "execute_result"
    }
   ],
   "source": [
    "loaded_classifier.fit(train_features, train_labels)"
   ]
  },
  {
   "cell_type": "code",
   "execution_count": 45,
   "id": "bronze-spread",
   "metadata": {},
   "outputs": [
    {
     "name": "stdout",
     "output_type": "stream",
     "text": [
      "Train score 0.9333333333333333\n",
      "Test score 0.8\n"
     ]
    }
   ],
   "source": [
    "print(\"Train score\", loaded_classifier.score(train_features, train_labels))\n",
    "print(\"Test score\", loaded_classifier.score(test_features, test_labels))"
   ]
  },
  {
   "cell_type": "markdown",
   "id": "apparent-bloom",
   "metadata": {},
   "source": [
    "Let's see which data points were misclassified. First, we call `predict` to infer predicted values from the training and test features."
   ]
  },
  {
   "cell_type": "code",
   "execution_count": 46,
   "id": "catholic-norway",
   "metadata": {},
   "outputs": [],
   "source": [
    "train_predicts = loaded_classifier.predict(train_features)\n",
    "test_predicts = loaded_classifier.predict(test_features)"
   ]
  },
  {
   "cell_type": "markdown",
   "id": "guided-croatia",
   "metadata": {},
   "source": [
    "Plot the whole dataset and the highlight the points that were classified incorrectly."
   ]
  },
  {
   "cell_type": "code",
   "execution_count": 47,
   "id": "tested-handling",
   "metadata": {},
   "outputs": [
    {
     "data": {
      "text/plain": [
       "<matplotlib.collections.PathCollection at 0x7f8545de12a0>"
      ]
     },
     "execution_count": 47,
     "metadata": {},
     "output_type": "execute_result"
    },
    {
     "data": {
      "image/png": "[encoded data removed]",
      "text/plain": [
       "<Figure size 600x400 with 1 Axes>"
      ]
     },
     "metadata": {},
     "output_type": "display_data"
    }
   ],
   "source": [
    "# return plot to default figsize\n",
    "plt.rcParams[\"figure.figsize\"] = (6, 4)\n",
    "\n",
    "plot_dataset()\n",
    "\n",
    "# plot misclassified data points\n",
    "plt.scatter(\n",
    "    train_features[np.all(train_labels != train_predicts, axis=1), 0],\n",
    "    train_features[np.all(train_labels != train_predicts, axis=1), 1],\n",
    "    s=200,\n",
    "    facecolors=\"none\",\n",
    "    edgecolors=\"r\",\n",
    "    linewidths=2,\n",
    ")\n",
    "plt.scatter(\n",
    "    test_features[np.all(test_labels != test_predicts, axis=1), 0],\n",
    "    test_features[np.all(test_labels != test_predicts, axis=1), 1],\n",
    "    s=200,\n",
    "    facecolors=\"none\",\n",
    "    edgecolors=\"r\",\n",
    "    linewidths=2,\n",
    ")"
   ]
  },
  {
   "cell_type": "markdown",
   "id": "genuine-preference",
   "metadata": {},
   "source": [
    "So, if you have a large dataset or a large model you can train it in multiple steps as shown in this tutorial."
   ]
  },
  {
   "cell_type": "markdown",
   "id": "acknowledged-freight",
   "metadata": {},
   "source": [
    "## 4. PyTorch hybrid models\n",
    "\n",
    "To save and load hybrid models, when using the TorchConnector, follow the PyTorch recommendations of saving and loading the models. For more details please refer to the [PyTorch Connector tutorial](05_torch_connector.ipynb) where a short snippet shows how to do it.\n",
    "\n",
    "Take a look at this pseudo-like code to get the idea:\n",
    "```python\n",
    "# create a QNN and a hybrid model\n",
    "qnn = create_qnn()\n",
    "model = Net(qnn)\n",
    "# ... train the model ...\n",
    "\n",
    "# save the model\n",
    "torch.save(model.state_dict(), \"model.pt\")\n",
    "\n",
    "# create a new model\n",
    "new_qnn = create_qnn()\n",
    "loaded_model = Net(new_qnn)\n",
    "loaded_model.load_state_dict(torch.load(\"model.pt\"))\n",
    "```"
   ]
  },
  {
   "cell_type": "code",
   "execution_count": 48,
   "id": "persistent-combine",
   "metadata": {
    "tags": []
   },
   "outputs": [
    {
     "data": {
      "text/html": [
       "<h3>Version Information</h3><table><tr><th>Software</th><th>Version</th></tr><tr><td><code>qiskit</code></td><td>0.44.1</td></tr><tr><td><code>qiskit-terra</code></td><td>0.25.1</td></tr><tr><td><code>qiskit_machine_learning</code></td><td>0.6.1</td></tr><tr><th colspan='2'>System information</th></tr><tr><td>Python version</td><td>3.10.8</td></tr><tr><td>Python compiler</td><td>GCC 10.4.0</td></tr><tr><td>Python build</td><td>main, Nov 22 2022 08:26:04</td></tr><tr><td>OS</td><td>Linux</td></tr><tr><td>CPUs</td><td>8</td></tr><tr><td>Memory (Gb)</td><td>31.142807006835938</td></tr><tr><td colspan='2'>Wed Oct 04 16:00:17 2023 UTC</td></tr></table>"
      ],
      "text/plain": [
       "<IPython.core.display.HTML object>"
      ]
     },
     "metadata": {},
     "output_type": "display_data"
    },
    {
     "data": {
      "text/html": [
       "<div style='width: 100%; background-color:#d5d9e0;padding-left: 10px; padding-bottom: 10px; padding-right: 10px; padding-top: 5px'><h3>This code is a part of Qiskit</h3><p>&copy; Copyright IBM 2017, 2023.</p><p>This code is licensed under the Apache License, Version 2.0. You may<br>obtain a copy of this license in the LICENSE.txt file in the root directory<br> of this source tree or at http://www.apache.org/licenses/LICENSE-2.0.<p>Any modifications or derivative works of this code must retain this<br>copyright notice, and modified files need to carry a notice indicating<br>that they have been altered from the originals.</p></div>"
      ],
      "text/plain": [
       "<IPython.core.display.HTML object>"
      ]
     },
     "metadata": {},
     "output_type": "display_data"
    }
   ],
   "source": [
    "import qiskit.tools.jupyter\n",
    "\n",
    "%qiskit_version_table\n",
    "%qiskit_copyright"
   ]
  }
 ],
 "metadata": {
  "celltoolbar": "Tags",
  "kernelspec": {
   "display_name": "Python 3 (ipykernel)",
   "language": "python",
   "name": "python3"
  },
  "language_info": {
   "codemirror_mode": {
    "name": "ipython",
    "version": 3
   },
   "file_extension": ".py",
   "mimetype": "text/x-python",
   "name": "python",
   "nbconvert_exporter": "python",
   "pygments_lexer": "ipython3",
   "version": "3.10.8"
  },
  "widgets": {
   "application/vnd.jupyter.widget-state+json": {
    "state": {
     "05d801b3ca724b568d9f00f81d77634f": {
      "model_module": "@jupyter-widgets/controls",
      "model_module_version": "2.0.0",
      "model_name": "HTMLStyleModel",
      "state": {
       "description_width": "",
       "font_size": null,
       "text_color": null
      }
     },
     "121f75ad442941c091a189f0dbd75769": {
      "model_module": "@jupyter-widgets/controls",
      "model_module_version": "2.0.0",
      "model_name": "ButtonStyleModel",
      "state": {
       "font_family": null,
       "font_size": null,
       "font_style": null,
       "font_variant": null,
       "font_weight": null,
       "text_color": null,
       "text_decoration": null
      }
     },
     "1dd4e565d40f4e5389c306b47f96b197": {
      "model_module": "@jupyter-widgets/controls",
      "model_module_version": "2.0.0",
      "model_name": "HTMLStyleModel",
      "state": {
       "description_width": "",
       "font_size": null,
       "text_color": null
      }
     },
     "2582c866efce4fa39f5cc9ec7c79a971": {
      "model_module": "@jupyter-widgets/controls",
      "model_module_version": "2.0.0",
      "model_name": "HTMLModel",
      "state": {
       "layout": "IPY_MODEL_e4ac1b5d9c194107bc6e1a85e9309a06",
       "style": "IPY_MODEL_05d801b3ca724b568d9f00f81d77634f",
       "value": "<h5>Message</h5>"
      }
     },
     "2ee5561e7d2547fcb5ce8b6858b31bfa": {
      "model_module": "@jupyter-widgets/controls",
      "model_module_version": "2.0.0",
      "model_name": "HTMLStyleModel",
      "state": {
       "description_width": "",
       "font_size": null,
       "text_color": null
      }
     },
     "5a416fb50c0a4bceb60b9f61a99c4873": {
      "model_module": "@jupyter-widgets/base",
      "model_module_version": "2.0.0",
      "model_name": "LayoutModel",
      "state": {
       "width": "95px"
      }
     },
     "6c86f32924084fd3890702b0e197035e": {
      "model_module": "@jupyter-widgets/controls",
      "model_module_version": "2.0.0",
      "model_name": "HTMLModel",
      "state": {
       "layout": "IPY_MODEL_e38145db2403405ea93bffd7517a1b9e",
       "style": "IPY_MODEL_c6b7f2cc6c10482fb881fe9f79bae620",
       "value": "<h5>Job ID</h5>"
      }
     },
     "7000ac91e2224bafadf9ad1af1bf1dfc": {
      "model_module": "@jupyter-widgets/controls",
      "model_module_version": "2.0.0",
      "model_name": "GridBoxModel",
      "state": {
       "children": [
        "IPY_MODEL_70e29a72193c46baa79cefa5061d8aa2"
       ],
       "layout": "IPY_MODEL_81e9f85f5f1c45608235ca9bc3ca644f"
      }
     },
     "70e29a72193c46baa79cefa5061d8aa2": {
      "model_module": "@jupyter-widgets/controls",
      "model_module_version": "2.0.0",
      "model_name": "ButtonModel",
      "state": {
       "button_style": "primary",
       "description": "Clear",
       "layout": "IPY_MODEL_e0f1faf5c0104de2a3f68279296df2f5",
       "style": "IPY_MODEL_121f75ad442941c091a189f0dbd75769",
       "tooltip": null
      }
     },
     "756b3b675c9e4c64b595ab50eb1e1b95": {
      "model_module": "@jupyter-widgets/controls",
      "model_module_version": "2.0.0",
      "model_name": "HTMLModel",
      "state": {
       "layout": "IPY_MODEL_5a416fb50c0a4bceb60b9f61a99c4873",
       "style": "IPY_MODEL_f61862105e554dc29fe92cae62258299",
       "value": "<h5>Status</h5>"
      }
     },
     "81e9f85f5f1c45608235ca9bc3ca644f": {
      "model_module": "@jupyter-widgets/base",
      "model_module_version": "2.0.0",
      "model_name": "LayoutModel",
      "state": {
       "grid_template_areas": "\n                                       \". . . . right \"\n                                        ",
       "grid_template_columns": "20% 20% 20% 20% 20%",
       "width": "100%"
      }
     },
     "83600cca541d461885c530661ea2132f": {
      "model_module": "@jupyter-widgets/controls",
      "model_module_version": "2.0.0",
      "model_name": "HTMLModel",
      "state": {
       "layout": "IPY_MODEL_b2db8a7f424941a58c01e9bdc3e8724b",
       "style": "IPY_MODEL_e4f102ba5d964da6b008a03f4d7bbee0",
       "value": "<h5>Queue</h5>"
      }
     },
     "acff33d7334a4a4d88fbc2cf8e96deba": {
      "model_module": "@jupyter-widgets/base",
      "model_module_version": "2.0.0",
      "model_name": "LayoutModel",
      "state": {
       "margin": "0px 0px 0px 37px",
       "width": "600px"
      }
     },
     "b2db8a7f424941a58c01e9bdc3e8724b": {
      "model_module": "@jupyter-widgets/base",
      "model_module_version": "2.0.0",
      "model_name": "LayoutModel",
      "state": {
       "width": "70px"
      }
     },
     "bf028b8af62b4c6487e402338198e99c": {
      "model_module": "@jupyter-widgets/controls",
      "model_module_version": "2.0.0",
      "model_name": "HTMLModel",
      "state": {
       "layout": "IPY_MODEL_e728eaa916a4400ca266baa3fdc4948d",
       "style": "IPY_MODEL_1dd4e565d40f4e5389c306b47f96b197",
       "value": "<p style='font-family: IBM Plex Sans, Arial, Helvetica, sans-serif; font-size: 20px; font-weight: medium;'>Circuit Properties</p>"
      }
     },
     "c6b7f2cc6c10482fb881fe9f79bae620": {
      "model_module": "@jupyter-widgets/controls",
      "model_module_version": "2.0.0",
      "model_name": "HTMLStyleModel",
      "state": {
       "description_width": "",
       "font_size": null,
       "text_color": null
      }
     },
     "e0f1faf5c0104de2a3f68279296df2f5": {
      "model_module": "@jupyter-widgets/base",
      "model_module_version": "2.0.0",
      "model_name": "LayoutModel",
      "state": {
       "grid_area": "right",
       "padding": "0px 0px 0px 0px",
       "width": "70px"
      }
     },
     "e38145db2403405ea93bffd7517a1b9e": {
      "model_module": "@jupyter-widgets/base",
      "model_module_version": "2.0.0",
      "model_name": "LayoutModel",
      "state": {
       "width": "190px"
      }
     },
     "e4ac1b5d9c194107bc6e1a85e9309a06": {
      "model_module": "@jupyter-widgets/base",
      "model_module_version": "2.0.0",
      "model_name": "LayoutModel",
      "state": {}
     },
     "e4f102ba5d964da6b008a03f4d7bbee0": {
      "model_module": "@jupyter-widgets/controls",
      "model_module_version": "2.0.0",
      "model_name": "HTMLStyleModel",
      "state": {
       "description_width": "",
       "font_size": null,
       "text_color": null
      }
     },
     "e728eaa916a4400ca266baa3fdc4948d": {
      "model_module": "@jupyter-widgets/base",
      "model_module_version": "2.0.0",
      "model_name": "LayoutModel",
      "state": {
       "margin": "0px 0px 10px 0px"
      }
     },
     "f0cf51690c6d4e0a83a8be6589c7f44f": {
      "model_module": "@jupyter-widgets/controls",
      "model_module_version": "2.0.0",
      "model_name": "HBoxModel",
      "state": {
       "children": [
        "IPY_MODEL_6c86f32924084fd3890702b0e197035e",
        "IPY_MODEL_fc6644b7409a4939bc10ce0103cd96b6",
        "IPY_MODEL_756b3b675c9e4c64b595ab50eb1e1b95",
        "IPY_MODEL_83600cca541d461885c530661ea2132f",
        "IPY_MODEL_2582c866efce4fa39f5cc9ec7c79a971"
       ],
       "layout": "IPY_MODEL_acff33d7334a4a4d88fbc2cf8e96deba"
      }
     },
     "f155ba4c692946fe8c2bf292f8fdb216": {
      "model_module": "@jupyter-widgets/base",
      "model_module_version": "2.0.0",
      "model_name": "LayoutModel",
      "state": {
       "width": "145px"
      }
     },
     "f61862105e554dc29fe92cae62258299": {
      "model_module": "@jupyter-widgets/controls",
      "model_module_version": "2.0.0",
      "model_name": "HTMLStyleModel",
      "state": {
       "description_width": "",
       "font_size": null,
       "text_color": null
      }
     },
     "fc6644b7409a4939bc10ce0103cd96b6": {
      "model_module": "@jupyter-widgets/controls",
      "model_module_version": "2.0.0",
      "model_name": "HTMLModel",
      "state": {
       "layout": "IPY_MODEL_f155ba4c692946fe8c2bf292f8fdb216",
       "style": "IPY_MODEL_2ee5561e7d2547fcb5ce8b6858b31bfa",
       "value": "<h5>Backend</h5>"
      }
     }
    },
    "version_major": 2,
    "version_minor": 0
   }
  }
 },
 "nbformat": 4,
 "nbformat_minor": 5
}
