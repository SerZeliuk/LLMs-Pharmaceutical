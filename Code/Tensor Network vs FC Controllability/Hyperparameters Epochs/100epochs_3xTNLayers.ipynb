{
  "nbformat": 4,
  "nbformat_minor": 0,
  "metadata": {
    "colab": {
      "provenance": [],
      "machine_shape": "hm"
    },
    "kernelspec": {
      "name": "python3",
      "display_name": "Python 3"
    }
  },
  "cells": [
    {
      "cell_type": "markdown",
      "metadata": {
        "id": "8XnVMPBXmtRa"
      },
      "source": [
        "# TensorNetworks in Neural Networks.\n",
        "\n",
        "Here, we have a small toy example of how to use a TN inside of a fully connected neural network.\n",
        "\n",
        "First off, let's install tensornetwork"
      ]
    },
    {
      "cell_type": "code",
      "metadata": {
        "id": "7HGRsYNAFxME"
      },
      "source": [
        "# !pip install tensornetwork\n",
        "\n",
        "import numpy as np\n",
        "import matplotlib.pyplot as plt\n",
        "import tensorflow as tf\n",
        "# Import tensornetwork\n",
        "import tensornetwork as tn\n",
        "import random\n",
        "import time\n",
        "# Set the backend to tesorflow\n",
        "# (default is numpy)\n",
        "tn.set_default_backend(\"tensorflow\")\n",
        "np.random.seed(42)\n",
        "random.seed(42)\n",
        "tf.random.set_seed(42)"
      ],
      "execution_count": 62,
      "outputs": []
    },
    {
      "cell_type": "markdown",
      "metadata": {
        "id": "g1OMCo5XmrYu"
      },
      "source": [
        "# TensorNetwork layer definition\n",
        "\n",
        "Here, we define the TensorNetwork layer we wish to use to replace the fully connected layer. Here, we simply use a 2 node Matrix Product Operator network to replace the normal dense weight matrix.\n",
        "\n",
        "We TensorNetwork's NCon API to keep the code short."
      ]
    },
    {
      "cell_type": "code",
      "metadata": {
        "id": "wvSMKtPufnLp"
      },
      "source": [
        "class TNLayer(tf.keras.layers.Layer):\n",
        "\n",
        "  def __init__(self):\n",
        "    super(TNLayer, self).__init__()\n",
        "    # Create the variables for the layer.\n",
        "    self.a_var = tf.Variable(tf.random.normal(shape=(32, 32, 2),\n",
        "                                              stddev=1.0/32.0),\n",
        "                             name=\"a\", trainable=True)\n",
        "    self.b_var = tf.Variable(tf.random.normal(shape=(32, 32, 2),\n",
        "                                              stddev=1.0/32.0),\n",
        "                             name=\"b\", trainable=True)\n",
        "    self.bias = tf.Variable(tf.zeros(shape=(32, 32)),\n",
        "                            name=\"bias\", trainable=True)\n",
        "\n",
        "  def call(self, inputs):\n",
        "    # Define the contraction.\n",
        "    # We break it out so we can parallelize a batch using\n",
        "    # tf.vectorized_map (see below).\n",
        "    def f(input_vec, a_var, b_var, bias_var):\n",
        "      # Reshape to a matrix instead of a vector.\n",
        "      input_vec = tf.reshape(input_vec, (32, 32))\n",
        "\n",
        "      # Now we create the network.\n",
        "      a = tn.Node(a_var)\n",
        "      b = tn.Node(b_var)\n",
        "      x_node = tn.Node(input_vec)\n",
        "      a[1] ^ x_node[0]\n",
        "      b[1] ^ x_node[1]\n",
        "      a[2] ^ b[2]\n",
        "\n",
        "      # The TN should now look like this\n",
        "      #   |     |\n",
        "      #   a --- b\n",
        "      #    \\   /\n",
        "      #      x\n",
        "\n",
        "      # Now we begin the contraction.\n",
        "      c = a @ x_node\n",
        "      result = (c @ b).tensor\n",
        "\n",
        "      # To make the code shorter, we also could've used Ncon.\n",
        "      # The above few lines of code is the same as this:\n",
        "      # result = tn.ncon([x, a_var, b_var], [[1, 2], [-1, 1, 3], [-2, 2, 3]])\n",
        "\n",
        "      # Finally, add bias.\n",
        "      return result + bias_var\n",
        "\n",
        "    # To deal with a batch of items, we can use the tf.vectorized_map\n",
        "    # function.\n",
        "    # https://www.tensorflow.org/api_docs/python/tf/vectorized_map\n",
        "    result = tf.vectorized_map(\n",
        "        lambda vec: f(vec, self.a_var, self.b_var, self.bias), inputs)\n",
        "    return tf.nn.relu(tf.reshape(result, (-1, 1024)))"
      ],
      "execution_count": 63,
      "outputs": []
    },
    {
      "cell_type": "markdown",
      "metadata": {
        "id": "V-CVqIhPnhY_"
      },
      "source": [
        "# Smaller model\n",
        "These two models are effectively the same, but notice how the TN layer has nearly 10x fewer parameters."
      ]
    },
    {
      "cell_type": "code",
      "metadata": {
        "id": "XPBvnB95jg4b",
        "outputId": "331a539f-49f2-4a7f-e85d-67a3019d9fba",
        "colab": {
          "base_uri": "https://localhost:8080/",
          "height": 0
        }
      },
      "source": [
        "Dense = tf.keras.layers.Dense\n",
        "fc_model = tf.keras.Sequential(\n",
        "    [\n",
        "     tf.keras.Input(shape=(2,)),\n",
        "     Dense(1024, activation=tf.nn.relu),\n",
        "     Dense(1024, activation=tf.nn.relu),\n",
        "     Dense(1, activation=None)])\n",
        "fc_model.summary()"
      ],
      "execution_count": 64,
      "outputs": [
        {
          "output_type": "stream",
          "name": "stdout",
          "text": [
            "Model: \"sequential_10\"\n",
            "_________________________________________________________________\n",
            " Layer (type)                Output Shape              Param #   \n",
            "=================================================================\n",
            " dense_25 (Dense)            (None, 1024)              3072      \n",
            "                                                                 \n",
            " dense_26 (Dense)            (None, 1024)              1049600   \n",
            "                                                                 \n",
            " dense_27 (Dense)            (None, 1)                 1025      \n",
            "                                                                 \n",
            "=================================================================\n",
            "Total params: 1053697 (4.02 MB)\n",
            "Trainable params: 1053697 (4.02 MB)\n",
            "Non-trainable params: 0 (0.00 Byte)\n",
            "_________________________________________________________________\n"
          ]
        }
      ]
    },
    {
      "cell_type": "code",
      "metadata": {
        "id": "bbKsmK8wIFTp",
        "outputId": "5d26ab68-443a-44e3-8251-e9cc4ab7dfe7",
        "colab": {
          "base_uri": "https://localhost:8080/",
          "height": 0
        }
      },
      "source": [
        "tn_model = tf.keras.Sequential(\n",
        "    [\n",
        "     tf.keras.Input(shape=(2,)),\n",
        "     Dense(1024, activation=tf.nn.relu),\n",
        "     # Here, we replace the dense layer with our MPS.\n",
        "     TNLayer(),\n",
        "     TNLayer(),\n",
        "     TNLayer(),\n",
        "     Dense(1, activation=None)])\n",
        "tn_model.summary()"
      ],
      "execution_count": 65,
      "outputs": [
        {
          "output_type": "stream",
          "name": "stdout",
          "text": [
            "Model: \"sequential_11\"\n",
            "_________________________________________________________________\n",
            " Layer (type)                Output Shape              Param #   \n",
            "=================================================================\n",
            " dense_28 (Dense)            (None, 1024)              3072      \n",
            "                                                                 \n",
            " tn_layer_15 (TNLayer)       (None, 1024)              5120      \n",
            "                                                                 \n",
            " tn_layer_16 (TNLayer)       (None, 1024)              5120      \n",
            "                                                                 \n",
            " tn_layer_17 (TNLayer)       (None, 1024)              5120      \n",
            "                                                                 \n",
            " dense_29 (Dense)            (None, 1)                 1025      \n",
            "                                                                 \n",
            "=================================================================\n",
            "Total params: 19457 (76.00 KB)\n",
            "Trainable params: 19457 (76.00 KB)\n",
            "Non-trainable params: 0 (0.00 Byte)\n",
            "_________________________________________________________________\n"
          ]
        }
      ]
    },
    {
      "cell_type": "markdown",
      "metadata": {
        "id": "GWwoYp0WnsLA"
      },
      "source": [
        "# Training a model\n",
        "\n",
        "You can train the TN model just as you would a normal neural network model! Here, we give an example of how to do it in Keras."
      ]
    },
    {
      "cell_type": "code",
      "metadata": {
        "id": "qDFzOC7sDBJ-"
      },
      "source": [
        "X = np.concatenate([np.random.randn(20, 2) + np.array([3, 3]),\n",
        "                    np.random.randn(20, 2) + np.array([-3, -3]),\n",
        "                    np.random.randn(20, 2) + np.array([-3, 3]),\n",
        "                    np.random.randn(20, 2) + np.array([3, -3])])\n",
        "\n",
        "Y = np.concatenate([np.ones((40)), -np.ones((40))])"
      ],
      "execution_count": 66,
      "outputs": []
    },
    {
      "cell_type": "code",
      "source": [
        "seconds = time.time()\n",
        "print(\"Time in seconds since beginning of run:\", seconds)\n",
        "local_time = time.ctime(seconds)\n",
        "print(local_time)"
      ],
      "metadata": {
        "colab": {
          "base_uri": "https://localhost:8080/",
          "height": 0
        },
        "id": "19TWP-1eKURB",
        "outputId": "1adac333-e1dd-40b0-a8ee-82380a03383e"
      },
      "execution_count": 67,
      "outputs": [
        {
          "output_type": "stream",
          "name": "stdout",
          "text": [
            "Time in seconds since beginning of run: 1710205016.8046074\n",
            "Tue Mar 12 00:56:56 2024\n"
          ]
        }
      ]
    },
    {
      "cell_type": "code",
      "metadata": {
        "id": "crc0q1vbIyTj",
        "outputId": "18ef0a02-12f2-4aa2-9464-f7ee7ae13828",
        "colab": {
          "base_uri": "https://localhost:8080/",
          "height": 0
        }
      },
      "source": [
        "tn_model.compile(optimizer=\"adam\", loss=\"mean_squared_error\")\n",
        "tn_model.fit(X, Y, epochs=100, verbose=2)"
      ],
      "execution_count": 68,
      "outputs": [
        {
          "output_type": "stream",
          "name": "stdout",
          "text": [
            "Epoch 1/100\n",
            "3/3 - 2s - loss: 1.0018 - 2s/epoch - 694ms/step\n",
            "Epoch 2/100\n",
            "3/3 - 0s - loss: 1.0018 - 19ms/epoch - 6ms/step\n",
            "Epoch 3/100\n",
            "3/3 - 0s - loss: 1.0007 - 20ms/epoch - 7ms/step\n",
            "Epoch 4/100\n",
            "3/3 - 0s - loss: 1.0001 - 19ms/epoch - 6ms/step\n",
            "Epoch 5/100\n",
            "3/3 - 0s - loss: 1.0006 - 20ms/epoch - 7ms/step\n",
            "Epoch 6/100\n",
            "3/3 - 0s - loss: 0.9997 - 19ms/epoch - 6ms/step\n",
            "Epoch 7/100\n",
            "3/3 - 0s - loss: 0.9991 - 18ms/epoch - 6ms/step\n",
            "Epoch 8/100\n",
            "3/3 - 0s - loss: 0.9978 - 18ms/epoch - 6ms/step\n",
            "Epoch 9/100\n",
            "3/3 - 0s - loss: 0.9946 - 19ms/epoch - 6ms/step\n",
            "Epoch 10/100\n",
            "3/3 - 0s - loss: 0.9873 - 19ms/epoch - 6ms/step\n",
            "Epoch 11/100\n",
            "3/3 - 0s - loss: 0.9702 - 19ms/epoch - 6ms/step\n",
            "Epoch 12/100\n",
            "3/3 - 0s - loss: 0.9332 - 19ms/epoch - 6ms/step\n",
            "Epoch 13/100\n",
            "3/3 - 0s - loss: 0.8618 - 19ms/epoch - 6ms/step\n",
            "Epoch 14/100\n",
            "3/3 - 0s - loss: 0.7187 - 20ms/epoch - 7ms/step\n",
            "Epoch 15/100\n",
            "3/3 - 0s - loss: 0.4604 - 19ms/epoch - 6ms/step\n",
            "Epoch 16/100\n",
            "3/3 - 0s - loss: 0.1368 - 20ms/epoch - 7ms/step\n",
            "Epoch 17/100\n",
            "3/3 - 0s - loss: 0.1065 - 19ms/epoch - 6ms/step\n",
            "Epoch 18/100\n",
            "3/3 - 0s - loss: 0.0901 - 20ms/epoch - 7ms/step\n",
            "Epoch 19/100\n",
            "3/3 - 0s - loss: 0.0193 - 19ms/epoch - 6ms/step\n",
            "Epoch 20/100\n",
            "3/3 - 0s - loss: 0.0450 - 21ms/epoch - 7ms/step\n",
            "Epoch 21/100\n",
            "3/3 - 0s - loss: 0.0507 - 24ms/epoch - 8ms/step\n",
            "Epoch 22/100\n",
            "3/3 - 0s - loss: 0.0290 - 21ms/epoch - 7ms/step\n",
            "Epoch 23/100\n",
            "3/3 - 0s - loss: 0.0136 - 20ms/epoch - 7ms/step\n",
            "Epoch 24/100\n",
            "3/3 - 0s - loss: 0.0176 - 19ms/epoch - 6ms/step\n",
            "Epoch 25/100\n",
            "3/3 - 0s - loss: 0.0193 - 18ms/epoch - 6ms/step\n",
            "Epoch 26/100\n",
            "3/3 - 0s - loss: 0.0116 - 18ms/epoch - 6ms/step\n",
            "Epoch 27/100\n",
            "3/3 - 0s - loss: 0.0091 - 18ms/epoch - 6ms/step\n",
            "Epoch 28/100\n",
            "3/3 - 0s - loss: 0.0110 - 19ms/epoch - 6ms/step\n",
            "Epoch 29/100\n",
            "3/3 - 0s - loss: 0.0104 - 19ms/epoch - 6ms/step\n",
            "Epoch 30/100\n",
            "3/3 - 0s - loss: 0.0078 - 18ms/epoch - 6ms/step\n",
            "Epoch 31/100\n",
            "3/3 - 0s - loss: 0.0073 - 17ms/epoch - 6ms/step\n",
            "Epoch 32/100\n",
            "3/3 - 0s - loss: 0.0076 - 18ms/epoch - 6ms/step\n",
            "Epoch 33/100\n",
            "3/3 - 0s - loss: 0.0071 - 19ms/epoch - 6ms/step\n",
            "Epoch 34/100\n",
            "3/3 - 0s - loss: 0.0062 - 18ms/epoch - 6ms/step\n",
            "Epoch 35/100\n",
            "3/3 - 0s - loss: 0.0061 - 19ms/epoch - 6ms/step\n",
            "Epoch 36/100\n",
            "3/3 - 0s - loss: 0.0061 - 19ms/epoch - 6ms/step\n",
            "Epoch 37/100\n",
            "3/3 - 0s - loss: 0.0057 - 19ms/epoch - 6ms/step\n",
            "Epoch 38/100\n",
            "3/3 - 0s - loss: 0.0053 - 18ms/epoch - 6ms/step\n",
            "Epoch 39/100\n",
            "3/3 - 0s - loss: 0.0052 - 19ms/epoch - 6ms/step\n",
            "Epoch 40/100\n",
            "3/3 - 0s - loss: 0.0051 - 18ms/epoch - 6ms/step\n",
            "Epoch 41/100\n",
            "3/3 - 0s - loss: 0.0048 - 18ms/epoch - 6ms/step\n",
            "Epoch 42/100\n",
            "3/3 - 0s - loss: 0.0046 - 19ms/epoch - 6ms/step\n",
            "Epoch 43/100\n",
            "3/3 - 0s - loss: 0.0046 - 19ms/epoch - 6ms/step\n",
            "Epoch 44/100\n",
            "3/3 - 0s - loss: 0.0044 - 19ms/epoch - 6ms/step\n",
            "Epoch 45/100\n",
            "3/3 - 0s - loss: 0.0042 - 19ms/epoch - 6ms/step\n",
            "Epoch 46/100\n",
            "3/3 - 0s - loss: 0.0040 - 19ms/epoch - 6ms/step\n",
            "Epoch 47/100\n",
            "3/3 - 0s - loss: 0.0040 - 19ms/epoch - 6ms/step\n",
            "Epoch 48/100\n",
            "3/3 - 0s - loss: 0.0039 - 19ms/epoch - 6ms/step\n",
            "Epoch 49/100\n",
            "3/3 - 0s - loss: 0.0037 - 20ms/epoch - 7ms/step\n",
            "Epoch 50/100\n",
            "3/3 - 0s - loss: 0.0036 - 19ms/epoch - 6ms/step\n",
            "Epoch 51/100\n",
            "3/3 - 0s - loss: 0.0035 - 19ms/epoch - 6ms/step\n",
            "Epoch 52/100\n",
            "3/3 - 0s - loss: 0.0034 - 17ms/epoch - 6ms/step\n",
            "Epoch 53/100\n",
            "3/3 - 0s - loss: 0.0033 - 17ms/epoch - 6ms/step\n",
            "Epoch 54/100\n",
            "3/3 - 0s - loss: 0.0032 - 17ms/epoch - 6ms/step\n",
            "Epoch 55/100\n",
            "3/3 - 0s - loss: 0.0031 - 17ms/epoch - 6ms/step\n",
            "Epoch 56/100\n",
            "3/3 - 0s - loss: 0.0031 - 18ms/epoch - 6ms/step\n",
            "Epoch 57/100\n",
            "3/3 - 0s - loss: 0.0030 - 20ms/epoch - 7ms/step\n",
            "Epoch 58/100\n",
            "3/3 - 0s - loss: 0.0029 - 20ms/epoch - 7ms/step\n",
            "Epoch 59/100\n",
            "3/3 - 0s - loss: 0.0028 - 19ms/epoch - 6ms/step\n",
            "Epoch 60/100\n",
            "3/3 - 0s - loss: 0.0027 - 22ms/epoch - 7ms/step\n",
            "Epoch 61/100\n",
            "3/3 - 0s - loss: 0.0026 - 17ms/epoch - 6ms/step\n",
            "Epoch 62/100\n",
            "3/3 - 0s - loss: 0.0025 - 19ms/epoch - 6ms/step\n",
            "Epoch 63/100\n",
            "3/3 - 0s - loss: 0.0025 - 20ms/epoch - 7ms/step\n",
            "Epoch 64/100\n",
            "3/3 - 0s - loss: 0.0024 - 19ms/epoch - 6ms/step\n",
            "Epoch 65/100\n",
            "3/3 - 0s - loss: 0.0024 - 20ms/epoch - 7ms/step\n",
            "Epoch 66/100\n",
            "3/3 - 0s - loss: 0.0023 - 18ms/epoch - 6ms/step\n",
            "Epoch 67/100\n",
            "3/3 - 0s - loss: 0.0022 - 20ms/epoch - 7ms/step\n",
            "Epoch 68/100\n",
            "3/3 - 0s - loss: 0.0022 - 20ms/epoch - 7ms/step\n",
            "Epoch 69/100\n",
            "3/3 - 0s - loss: 0.0021 - 20ms/epoch - 7ms/step\n",
            "Epoch 70/100\n",
            "3/3 - 0s - loss: 0.0020 - 20ms/epoch - 7ms/step\n",
            "Epoch 71/100\n",
            "3/3 - 0s - loss: 0.0020 - 19ms/epoch - 6ms/step\n",
            "Epoch 72/100\n",
            "3/3 - 0s - loss: 0.0019 - 19ms/epoch - 6ms/step\n",
            "Epoch 73/100\n",
            "3/3 - 0s - loss: 0.0019 - 18ms/epoch - 6ms/step\n",
            "Epoch 74/100\n",
            "3/3 - 0s - loss: 0.0018 - 20ms/epoch - 7ms/step\n",
            "Epoch 75/100\n",
            "3/3 - 0s - loss: 0.0018 - 18ms/epoch - 6ms/step\n",
            "Epoch 76/100\n",
            "3/3 - 0s - loss: 0.0017 - 18ms/epoch - 6ms/step\n",
            "Epoch 77/100\n",
            "3/3 - 0s - loss: 0.0017 - 20ms/epoch - 7ms/step\n",
            "Epoch 78/100\n",
            "3/3 - 0s - loss: 0.0016 - 18ms/epoch - 6ms/step\n",
            "Epoch 79/100\n",
            "3/3 - 0s - loss: 0.0016 - 19ms/epoch - 6ms/step\n",
            "Epoch 80/100\n",
            "3/3 - 0s - loss: 0.0016 - 21ms/epoch - 7ms/step\n",
            "Epoch 81/100\n",
            "3/3 - 0s - loss: 0.0015 - 19ms/epoch - 6ms/step\n",
            "Epoch 82/100\n",
            "3/3 - 0s - loss: 0.0015 - 20ms/epoch - 7ms/step\n",
            "Epoch 83/100\n",
            "3/3 - 0s - loss: 0.0014 - 20ms/epoch - 7ms/step\n",
            "Epoch 84/100\n",
            "3/3 - 0s - loss: 0.0014 - 19ms/epoch - 6ms/step\n",
            "Epoch 85/100\n",
            "3/3 - 0s - loss: 0.0013 - 20ms/epoch - 7ms/step\n",
            "Epoch 86/100\n",
            "3/3 - 0s - loss: 0.0013 - 19ms/epoch - 6ms/step\n",
            "Epoch 87/100\n",
            "3/3 - 0s - loss: 0.0013 - 17ms/epoch - 6ms/step\n",
            "Epoch 88/100\n",
            "3/3 - 0s - loss: 0.0012 - 17ms/epoch - 6ms/step\n",
            "Epoch 89/100\n",
            "3/3 - 0s - loss: 0.0012 - 19ms/epoch - 6ms/step\n",
            "Epoch 90/100\n",
            "3/3 - 0s - loss: 0.0012 - 18ms/epoch - 6ms/step\n",
            "Epoch 91/100\n",
            "3/3 - 0s - loss: 0.0011 - 18ms/epoch - 6ms/step\n",
            "Epoch 92/100\n",
            "3/3 - 0s - loss: 0.0011 - 18ms/epoch - 6ms/step\n",
            "Epoch 93/100\n",
            "3/3 - 0s - loss: 0.0010 - 18ms/epoch - 6ms/step\n",
            "Epoch 94/100\n",
            "3/3 - 0s - loss: 0.0010 - 18ms/epoch - 6ms/step\n",
            "Epoch 95/100\n",
            "3/3 - 0s - loss: 9.9175e-04 - 17ms/epoch - 6ms/step\n",
            "Epoch 96/100\n",
            "3/3 - 0s - loss: 9.7160e-04 - 19ms/epoch - 6ms/step\n",
            "Epoch 97/100\n",
            "3/3 - 0s - loss: 9.1934e-04 - 21ms/epoch - 7ms/step\n",
            "Epoch 98/100\n",
            "3/3 - 0s - loss: 9.1939e-04 - 17ms/epoch - 6ms/step\n",
            "Epoch 99/100\n",
            "3/3 - 0s - loss: 8.9917e-04 - 18ms/epoch - 6ms/step\n",
            "Epoch 100/100\n",
            "3/3 - 0s - loss: 8.5670e-04 - 19ms/epoch - 6ms/step\n"
          ]
        },
        {
          "output_type": "execute_result",
          "data": {
            "text/plain": [
              "<keras.src.callbacks.History at 0x7ec19b216a10>"
            ]
          },
          "metadata": {},
          "execution_count": 68
        }
      ]
    },
    {
      "cell_type": "code",
      "metadata": {
        "id": "n-aNP4n3sqG_",
        "outputId": "10a1c3c8-9c1d-403b-8735-4fc1aa9ae039",
        "colab": {
          "base_uri": "https://localhost:8080/",
          "height": 443
        }
      },
      "source": [
        "# Plotting code, feel free to ignore.\n",
        "h = 1.0\n",
        "x_min, x_max = X[:, 0].min() - 5, X[:, 0].max() + 5\n",
        "y_min, y_max = X[:, 1].min() - 5, X[:, 1].max() + 5\n",
        "xx, yy = np.meshgrid(np.arange(x_min, x_max, h),\n",
        "                     np.arange(y_min, y_max, h))\n",
        "\n",
        "# here \"model\" is your model's prediction (classification) function\n",
        "Z = tn_model.predict(np.c_[xx.ravel(), yy.ravel()])\n",
        "\n",
        "# Put the result into a color plot\n",
        "Z = Z.reshape(xx.shape)\n",
        "plt.contourf(xx, yy, Z)\n",
        "plt.axis('off')\n",
        "\n",
        "# Plot also the training points\n",
        "plt.scatter(X[:, 0], X[:, 1], c=Y, cmap=plt.cm.Paired)"
      ],
      "execution_count": 69,
      "outputs": [
        {
          "output_type": "stream",
          "name": "stdout",
          "text": [
            "14/14 [==============================] - 0s 4ms/step\n"
          ]
        },
        {
          "output_type": "execute_result",
          "data": {
            "text/plain": [
              "<matplotlib.collections.PathCollection at 0x7ec19bd2e3e0>"
            ]
          },
          "metadata": {},
          "execution_count": 69
        },
        {
          "output_type": "display_data",
          "data": {
            "text/plain": [
              "<Figure size 640x480 with 1 Axes>"
            ],
            "image/png": "[encoded data removed]"
          },
          "metadata": {}
        }
      ]
    },
    {
      "cell_type": "code",
      "source": [
        "seconds = time.time()\n",
        "print(\"Time in seconds since end of run:\", seconds)\n",
        "local_time = time.ctime(seconds)\n",
        "print(local_time)"
      ],
      "metadata": {
        "colab": {
          "base_uri": "https://localhost:8080/",
          "height": 0
        },
        "id": "wfZCzuq9KY9b",
        "outputId": "a5a7e4a5-1757-43ce-8e12-1540ab2ba9a2"
      },
      "execution_count": 70,
      "outputs": [
        {
          "output_type": "stream",
          "name": "stdout",
          "text": [
            "Time in seconds since end of run: 1710205021.785072\n",
            "Tue Mar 12 00:57:01 2024\n"
          ]
        }
      ]
    },
    {
      "cell_type": "code",
      "source": [
        "seconds = time.time()\n",
        "print(\"Time in seconds since beginning of run:\", seconds)\n",
        "local_time = time.ctime(seconds)\n",
        "print(local_time)"
      ],
      "metadata": {
        "colab": {
          "base_uri": "https://localhost:8080/",
          "height": 0
        },
        "id": "Ft6S13x6KuEQ",
        "outputId": "e5a07efd-1112-4e62-9f23-4e0606de0b5a"
      },
      "execution_count": 71,
      "outputs": [
        {
          "output_type": "stream",
          "name": "stdout",
          "text": [
            "Time in seconds since beginning of run: 1710205021.7945516\n",
            "Tue Mar 12 00:57:01 2024\n"
          ]
        }
      ]
    },
    {
      "cell_type": "markdown",
      "metadata": {
        "id": "BMxSJo5gtOmQ"
      },
      "source": [
        "# VS Fully Connected"
      ]
    },
    {
      "cell_type": "code",
      "metadata": {
        "id": "NKQx7stYswzU",
        "outputId": "9b88f093-4a6b-4f3d-e006-ab0c3ff052da",
        "colab": {
          "base_uri": "https://localhost:8080/",
          "height": 4115
        }
      },
      "source": [
        "fc_model.compile(optimizer=\"adam\", loss=\"mean_squared_error\")\n",
        "fc_model.fit(X, Y, epochs=100, verbose=2)\n",
        "# Plotting code, feel free to ignore.\n",
        "h = 1.0\n",
        "x_min, x_max = X[:, 0].min() - 5, X[:, 0].max() + 5\n",
        "y_min, y_max = X[:, 1].min() - 5, X[:, 1].max() + 5\n",
        "xx, yy = np.meshgrid(np.arange(x_min, x_max, h),\n",
        "                     np.arange(y_min, y_max, h))\n",
        "\n",
        "# here \"model\" is your model's prediction (classification) function\n",
        "Z = fc_model.predict(np.c_[xx.ravel(), yy.ravel()])\n",
        "\n",
        "# Put the result into a color plot\n",
        "Z = Z.reshape(xx.shape)\n",
        "plt.contourf(xx, yy, Z)\n",
        "plt.axis('off')\n",
        "\n",
        "# Plot also the training points\n",
        "plt.scatter(X[:, 0], X[:, 1], c=Y, cmap=plt.cm.Paired)"
      ],
      "execution_count": 72,
      "outputs": [
        {
          "output_type": "stream",
          "name": "stdout",
          "text": [
            "Epoch 1/100\n",
            "3/3 - 1s - loss: 0.5656 - 651ms/epoch - 217ms/step\n",
            "Epoch 2/100\n",
            "3/3 - 0s - loss: 0.1959 - 29ms/epoch - 10ms/step\n",
            "Epoch 3/100\n",
            "3/3 - 0s - loss: 0.1423 - 27ms/epoch - 9ms/step\n",
            "Epoch 4/100\n",
            "3/3 - 0s - loss: 0.0917 - 23ms/epoch - 8ms/step\n",
            "Epoch 5/100\n",
            "3/3 - 0s - loss: 0.0828 - 24ms/epoch - 8ms/step\n",
            "Epoch 6/100\n",
            "3/3 - 0s - loss: 0.0827 - 26ms/epoch - 9ms/step\n",
            "Epoch 7/100\n",
            "3/3 - 0s - loss: 0.0680 - 25ms/epoch - 8ms/step\n",
            "Epoch 8/100\n",
            "3/3 - 0s - loss: 0.0680 - 29ms/epoch - 10ms/step\n",
            "Epoch 9/100\n",
            "3/3 - 0s - loss: 0.0605 - 23ms/epoch - 8ms/step\n",
            "Epoch 10/100\n",
            "3/3 - 0s - loss: 0.0632 - 26ms/epoch - 9ms/step\n",
            "Epoch 11/100\n",
            "3/3 - 0s - loss: 0.0537 - 22ms/epoch - 7ms/step\n",
            "Epoch 12/100\n",
            "3/3 - 0s - loss: 0.0523 - 25ms/epoch - 8ms/step\n",
            "Epoch 13/100\n",
            "3/3 - 0s - loss: 0.0522 - 23ms/epoch - 8ms/step\n",
            "Epoch 14/100\n",
            "3/3 - 0s - loss: 0.0483 - 25ms/epoch - 8ms/step\n",
            "Epoch 15/100\n",
            "3/3 - 0s - loss: 0.0498 - 27ms/epoch - 9ms/step\n",
            "Epoch 16/100\n",
            "3/3 - 0s - loss: 0.0444 - 26ms/epoch - 9ms/step\n",
            "Epoch 17/100\n",
            "3/3 - 0s - loss: 0.0487 - 23ms/epoch - 8ms/step\n",
            "Epoch 18/100\n",
            "3/3 - 0s - loss: 0.0467 - 24ms/epoch - 8ms/step\n",
            "Epoch 19/100\n",
            "3/3 - 0s - loss: 0.0419 - 25ms/epoch - 8ms/step\n",
            "Epoch 20/100\n",
            "3/3 - 0s - loss: 0.0439 - 28ms/epoch - 9ms/step\n",
            "Epoch 21/100\n",
            "3/3 - 0s - loss: 0.0406 - 25ms/epoch - 8ms/step\n",
            "Epoch 22/100\n",
            "3/3 - 0s - loss: 0.0414 - 23ms/epoch - 8ms/step\n",
            "Epoch 23/100\n",
            "3/3 - 0s - loss: 0.0421 - 25ms/epoch - 8ms/step\n",
            "Epoch 24/100\n",
            "3/3 - 0s - loss: 0.0378 - 21ms/epoch - 7ms/step\n",
            "Epoch 25/100\n",
            "3/3 - 0s - loss: 0.0382 - 26ms/epoch - 9ms/step\n",
            "Epoch 26/100\n",
            "3/3 - 0s - loss: 0.0425 - 24ms/epoch - 8ms/step\n",
            "Epoch 27/100\n",
            "3/3 - 0s - loss: 0.0505 - 28ms/epoch - 9ms/step\n",
            "Epoch 28/100\n",
            "3/3 - 0s - loss: 0.0423 - 24ms/epoch - 8ms/step\n",
            "Epoch 29/100\n",
            "3/3 - 0s - loss: 0.0513 - 22ms/epoch - 7ms/step\n",
            "Epoch 30/100\n",
            "3/3 - 0s - loss: 0.0385 - 25ms/epoch - 8ms/step\n",
            "Epoch 31/100\n",
            "3/3 - 0s - loss: 0.0392 - 27ms/epoch - 9ms/step\n",
            "Epoch 32/100\n",
            "3/3 - 0s - loss: 0.0417 - 24ms/epoch - 8ms/step\n",
            "Epoch 33/100\n",
            "3/3 - 0s - loss: 0.0414 - 26ms/epoch - 9ms/step\n",
            "Epoch 34/100\n",
            "3/3 - 0s - loss: 0.0374 - 28ms/epoch - 9ms/step\n",
            "Epoch 35/100\n",
            "3/3 - 0s - loss: 0.0348 - 24ms/epoch - 8ms/step\n",
            "Epoch 36/100\n",
            "3/3 - 0s - loss: 0.0319 - 29ms/epoch - 10ms/step\n",
            "Epoch 37/100\n",
            "3/3 - 0s - loss: 0.0429 - 25ms/epoch - 8ms/step\n",
            "Epoch 38/100\n",
            "3/3 - 0s - loss: 0.0382 - 24ms/epoch - 8ms/step\n",
            "Epoch 39/100\n",
            "3/3 - 0s - loss: 0.0266 - 23ms/epoch - 8ms/step\n",
            "Epoch 40/100\n",
            "3/3 - 0s - loss: 0.0399 - 25ms/epoch - 8ms/step\n",
            "Epoch 41/100\n",
            "3/3 - 0s - loss: 0.0336 - 26ms/epoch - 9ms/step\n",
            "Epoch 42/100\n",
            "3/3 - 0s - loss: 0.0293 - 27ms/epoch - 9ms/step\n",
            "Epoch 43/100\n",
            "3/3 - 0s - loss: 0.0304 - 21ms/epoch - 7ms/step\n",
            "Epoch 44/100\n",
            "3/3 - 0s - loss: 0.0370 - 24ms/epoch - 8ms/step\n",
            "Epoch 45/100\n",
            "3/3 - 0s - loss: 0.0295 - 28ms/epoch - 9ms/step\n",
            "Epoch 46/100\n",
            "3/3 - 0s - loss: 0.0278 - 26ms/epoch - 9ms/step\n",
            "Epoch 47/100\n",
            "3/3 - 0s - loss: 0.0298 - 24ms/epoch - 8ms/step\n",
            "Epoch 48/100\n",
            "3/3 - 0s - loss: 0.0244 - 26ms/epoch - 9ms/step\n",
            "Epoch 49/100\n",
            "3/3 - 0s - loss: 0.0270 - 22ms/epoch - 7ms/step\n",
            "Epoch 50/100\n",
            "3/3 - 0s - loss: 0.0191 - 25ms/epoch - 8ms/step\n",
            "Epoch 51/100\n",
            "3/3 - 0s - loss: 0.0257 - 24ms/epoch - 8ms/step\n",
            "Epoch 52/100\n",
            "3/3 - 0s - loss: 0.0229 - 22ms/epoch - 7ms/step\n",
            "Epoch 53/100\n",
            "3/3 - 0s - loss: 0.0226 - 24ms/epoch - 8ms/step\n",
            "Epoch 54/100\n",
            "3/3 - 0s - loss: 0.0251 - 24ms/epoch - 8ms/step\n",
            "Epoch 55/100\n",
            "3/3 - 0s - loss: 0.0231 - 25ms/epoch - 8ms/step\n",
            "Epoch 56/100\n",
            "3/3 - 0s - loss: 0.0268 - 25ms/epoch - 8ms/step\n",
            "Epoch 57/100\n",
            "3/3 - 0s - loss: 0.0274 - 23ms/epoch - 8ms/step\n",
            "Epoch 58/100\n",
            "3/3 - 0s - loss: 0.0182 - 24ms/epoch - 8ms/step\n",
            "Epoch 59/100\n",
            "3/3 - 0s - loss: 0.0233 - 24ms/epoch - 8ms/step\n",
            "Epoch 60/100\n",
            "3/3 - 0s - loss: 0.0189 - 25ms/epoch - 8ms/step\n",
            "Epoch 61/100\n",
            "3/3 - 0s - loss: 0.0133 - 26ms/epoch - 9ms/step\n",
            "Epoch 62/100\n",
            "3/3 - 0s - loss: 0.0144 - 23ms/epoch - 8ms/step\n",
            "Epoch 63/100\n",
            "3/3 - 0s - loss: 0.0157 - 24ms/epoch - 8ms/step\n",
            "Epoch 64/100\n",
            "3/3 - 0s - loss: 0.0119 - 26ms/epoch - 9ms/step\n",
            "Epoch 65/100\n",
            "3/3 - 0s - loss: 0.0188 - 29ms/epoch - 10ms/step\n",
            "Epoch 66/100\n",
            "3/3 - 0s - loss: 0.0130 - 28ms/epoch - 9ms/step\n",
            "Epoch 67/100\n",
            "3/3 - 0s - loss: 0.0116 - 27ms/epoch - 9ms/step\n",
            "Epoch 68/100\n",
            "3/3 - 0s - loss: 0.0110 - 27ms/epoch - 9ms/step\n",
            "Epoch 69/100\n",
            "3/3 - 0s - loss: 0.0073 - 26ms/epoch - 9ms/step\n",
            "Epoch 70/100\n",
            "3/3 - 0s - loss: 0.0097 - 27ms/epoch - 9ms/step\n",
            "Epoch 71/100\n",
            "3/3 - 0s - loss: 0.0088 - 23ms/epoch - 8ms/step\n",
            "Epoch 72/100\n",
            "3/3 - 0s - loss: 0.0063 - 25ms/epoch - 8ms/step\n",
            "Epoch 73/100\n",
            "3/3 - 0s - loss: 0.0058 - 27ms/epoch - 9ms/step\n",
            "Epoch 74/100\n",
            "3/3 - 0s - loss: 0.0060 - 23ms/epoch - 8ms/step\n",
            "Epoch 75/100\n",
            "3/3 - 0s - loss: 0.0094 - 25ms/epoch - 8ms/step\n",
            "Epoch 76/100\n",
            "3/3 - 0s - loss: 0.0106 - 29ms/epoch - 10ms/step\n",
            "Epoch 77/100\n",
            "3/3 - 0s - loss: 0.0083 - 22ms/epoch - 7ms/step\n",
            "Epoch 78/100\n",
            "3/3 - 0s - loss: 0.0048 - 25ms/epoch - 8ms/step\n",
            "Epoch 79/100\n",
            "3/3 - 0s - loss: 0.0048 - 24ms/epoch - 8ms/step\n",
            "Epoch 80/100\n",
            "3/3 - 0s - loss: 0.0046 - 26ms/epoch - 9ms/step\n",
            "Epoch 81/100\n",
            "3/3 - 0s - loss: 0.0029 - 26ms/epoch - 9ms/step\n",
            "Epoch 82/100\n",
            "3/3 - 0s - loss: 0.0026 - 24ms/epoch - 8ms/step\n",
            "Epoch 83/100\n",
            "3/3 - 0s - loss: 0.0030 - 27ms/epoch - 9ms/step\n",
            "Epoch 84/100\n",
            "3/3 - 0s - loss: 0.0032 - 23ms/epoch - 8ms/step\n",
            "Epoch 85/100\n",
            "3/3 - 0s - loss: 0.0040 - 25ms/epoch - 8ms/step\n",
            "Epoch 86/100\n",
            "3/3 - 0s - loss: 0.0045 - 31ms/epoch - 10ms/step\n",
            "Epoch 87/100\n",
            "3/3 - 0s - loss: 0.0047 - 23ms/epoch - 8ms/step\n",
            "Epoch 88/100\n",
            "3/3 - 0s - loss: 0.0033 - 27ms/epoch - 9ms/step\n",
            "Epoch 89/100\n",
            "3/3 - 0s - loss: 0.0034 - 27ms/epoch - 9ms/step\n",
            "Epoch 90/100\n",
            "3/3 - 0s - loss: 0.0083 - 26ms/epoch - 9ms/step\n",
            "Epoch 91/100\n",
            "3/3 - 0s - loss: 0.0109 - 27ms/epoch - 9ms/step\n",
            "Epoch 92/100\n",
            "3/3 - 0s - loss: 0.0065 - 27ms/epoch - 9ms/step\n",
            "Epoch 93/100\n",
            "3/3 - 0s - loss: 0.0046 - 23ms/epoch - 8ms/step\n",
            "Epoch 94/100\n",
            "3/3 - 0s - loss: 0.0068 - 28ms/epoch - 9ms/step\n",
            "Epoch 95/100\n",
            "3/3 - 0s - loss: 0.0096 - 23ms/epoch - 8ms/step\n",
            "Epoch 96/100\n",
            "3/3 - 0s - loss: 0.0103 - 23ms/epoch - 8ms/step\n",
            "Epoch 97/100\n",
            "3/3 - 0s - loss: 0.0119 - 23ms/epoch - 8ms/step\n",
            "Epoch 98/100\n",
            "3/3 - 0s - loss: 0.0069 - 24ms/epoch - 8ms/step\n",
            "Epoch 99/100\n",
            "3/3 - 0s - loss: 0.0075 - 26ms/epoch - 9ms/step\n",
            "Epoch 100/100\n",
            "3/3 - 0s - loss: 0.0057 - 22ms/epoch - 7ms/step\n",
            "14/14 [==============================] - 0s 2ms/step\n"
          ]
        },
        {
          "output_type": "execute_result",
          "data": {
            "text/plain": [
              "<matplotlib.collections.PathCollection at 0x7ec19ab47940>"
            ]
          },
          "metadata": {},
          "execution_count": 72
        },
        {
          "output_type": "display_data",
          "data": {
            "text/plain": [
              "<Figure size 640x480 with 1 Axes>"
            ],
            "image/png": "[encoded data removed]"
          },
          "metadata": {}
        }
      ]
    },
    {
      "cell_type": "code",
      "source": [
        "seconds = time.time()\n",
        "print(\"Time in seconds since end of run:\", seconds)\n",
        "local_time = time.ctime(seconds)\n",
        "print(local_time)"
      ],
      "metadata": {
        "colab": {
          "base_uri": "https://localhost:8080/",
          "height": 0
        },
        "id": "YyOarWssKyjN",
        "outputId": "9c938561-deb9-49c0-e778-804d4d1a3c92"
      },
      "execution_count": 73,
      "outputs": [
        {
          "output_type": "stream",
          "name": "stdout",
          "text": [
            "Time in seconds since end of run: 1710205025.5163167\n",
            "Tue Mar 12 00:57:05 2024\n"
          ]
        }
      ]
    }
  ]
}