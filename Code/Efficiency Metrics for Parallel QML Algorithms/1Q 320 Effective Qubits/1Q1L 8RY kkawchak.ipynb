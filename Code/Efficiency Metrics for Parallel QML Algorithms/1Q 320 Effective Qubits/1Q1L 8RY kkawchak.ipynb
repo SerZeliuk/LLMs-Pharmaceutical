{
  "cells": [
    {
      "cell_type": "code",
      "execution_count": 5,
      "metadata": {
        "id": "D7avgus1L7Ea",
        "tags": []
      },
      "outputs": [],
      "source": [
        "# !pip install pennylane --quiet # run once"
      ]
    },
    {
      "cell_type": "code",
      "execution_count": 6,
      "metadata": {
        "colab": {
          "base_uri": "https://localhost:8080/",
          "height": 255
        },
        "id": "lcrQHMBnMgTz",
        "outputId": "6dfe78e2-9c22-43cd-8e05-cefcffa5bf1a"
      },
      "outputs": [
        {
          "output_type": "stream",
          "name": "stdout",
          "text": [
            "(<Figure size 1100x200 with 1 Axes>, <Axes: >)\n"
          ]
        },
        {
          "output_type": "display_data",
          "data": {
            "text/plain": [
              "<Figure size 1100x200 with 1 Axes>"
            ],
            "image/png": "[encoded data removed]"
          },
          "metadata": {}
        }
      ],
      "source": [
        "import pennylane as qml\n",
        "\n",
        "dev = qml.device(\"default.qubit\", wires=1)\n",
        "\n",
        "@qml.qnode(dev)\n",
        "def circuit(params):\n",
        "    qml.RY(params[0], wires=0)\n",
        "    qml.RY(params[0], wires=0)\n",
        "    qml.RY(params[0], wires=0)\n",
        "    qml.RY(params[0], wires=0)\n",
        "    qml.RY(params[0], wires=0)\n",
        "    qml.RY(params[0], wires=0)\n",
        "    qml.RY(params[0], wires=0)\n",
        "    qml.RY(params[0], wires=0)\n",
        "    return qml.expval(qml.PauliZ(0))\n",
        "params =[0]\n",
        "\n",
        "print(qml.draw_mpl(circuit, style='sketch')(params))"
      ]
    },
    {
      "cell_type": "code",
      "execution_count": 7,
      "metadata": {
        "colab": {
          "base_uri": "https://localhost:8080/",
          "height": 0
        },
        "id": "ovTzqCRW3ot6",
        "outputId": "269b46c9-53da-4d26-bf6a-7dd9d2877ab6",
        "tags": []
      },
      "outputs": [
        {
          "output_type": "execute_result",
          "data": {
            "text/plain": [
              "{'resources': Resources(num_wires=1, num_gates=8, gate_types=defaultdict(<class 'int'>, {'RY': 8}), gate_sizes=defaultdict(<class 'int'>, {1: 8}), depth=8, shots=Shots(total_shots=None, shot_vector=())),\n",
              " 'num_observables': 1,\n",
              " 'num_diagonalizing_gates': 0,\n",
              " 'num_trainable_params': 0,\n",
              " 'num_device_wires': 1,\n",
              " 'device_name': 'default.qubit',\n",
              " 'expansion_strategy': 'gradient',\n",
              " 'gradient_options': {},\n",
              " 'interface': 'auto',\n",
              " 'diff_method': 'best',\n",
              " 'gradient_fn': 'backprop'}"
            ]
          },
          "metadata": {},
          "execution_count": 7
        }
      ],
      "source": [
        "qml.specs(circuit)(params)"
      ]
    }
  ],
  "metadata": {
    "colab": {
      "provenance": []
    },
    "kernelspec": {
      "display_name": "Python 3 (ipykernel)",
      "language": "python",
      "name": "python3"
    },
    "language_info": {
      "codemirror_mode": {
        "name": "ipython",
        "version": 3
      },
      "file_extension": ".py",
      "mimetype": "text/x-python",
      "name": "python",
      "nbconvert_exporter": "python",
      "pygments_lexer": "ipython3",
      "version": "3.10.8"
    }
  },
  "nbformat": 4,
  "nbformat_minor": 0
}